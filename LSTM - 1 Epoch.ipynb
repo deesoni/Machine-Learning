{
  "cells": [
    {
      "metadata": {
        "_uuid": "8f2839f25d086af736a60e9eeb907d3b93b6e0e5",
        "_cell_guid": "b1076dfc-b9ad-4769-8c92-a6c4dae69d19",
        "trusted": true,
        "scrolled": true
      },
      "cell_type": "code",
      "source": "import numpy as np \nimport pandas as pd \n\nimport os\nprint(os.listdir(\"../input\"))",
      "execution_count": 20,
      "outputs": [
        {
          "output_type": "stream",
          "text": "['ner.csv', 'ner_dataset.csv']\n",
          "name": "stdout"
        }
      ]
    },
    {
      "metadata": {
        "_cell_guid": "79c7e3d0-c299-4dcb-8224-4455121ee9b0",
        "_uuid": "d629ff2d2480ee46fbb7e2d37f6b5fab8052498a",
        "trusted": true
      },
      "cell_type": "code",
      "source": "import pandas as pd\nimport numpy as np\nimport matplotlib.pyplot as plt\nplt.style.use(\"ggplot\")",
      "execution_count": 21,
      "outputs": []
    },
    {
      "metadata": {
        "trusted": true,
        "_uuid": "b5c300f20ec7259c1a3ddf7cd8e3aae3aeec415b"
      },
      "cell_type": "code",
      "source": "data = pd.read_csv(\"../input/ner_dataset.csv\", encoding=\"latin1\")\ndata = data.fillna(method=\"ffill\")\ndata.tail(10)",
      "execution_count": 22,
      "outputs": [
        {
          "output_type": "execute_result",
          "execution_count": 22,
          "data": {
            "text/plain": "              Sentence #       Word  POS    Tag\n1048565  Sentence: 47958     impact   NN      O\n1048566  Sentence: 47958          .    .      O\n1048567  Sentence: 47959     Indian   JJ  B-gpe\n1048568  Sentence: 47959     forces  NNS      O\n1048569  Sentence: 47959       said  VBD      O\n1048570  Sentence: 47959       they  PRP      O\n1048571  Sentence: 47959  responded  VBD      O\n1048572  Sentence: 47959         to   TO      O\n1048573  Sentence: 47959        the   DT      O\n1048574  Sentence: 47959     attack   NN      O",
            "text/html": "<div>\n<style scoped>\n    .dataframe tbody tr th:only-of-type {\n        vertical-align: middle;\n    }\n\n    .dataframe tbody tr th {\n        vertical-align: top;\n    }\n\n    .dataframe thead th {\n        text-align: right;\n    }\n</style>\n<table border=\"1\" class=\"dataframe\">\n  <thead>\n    <tr style=\"text-align: right;\">\n      <th></th>\n      <th>Sentence #</th>\n      <th>Word</th>\n      <th>POS</th>\n      <th>Tag</th>\n    </tr>\n  </thead>\n  <tbody>\n    <tr>\n      <th>1048565</th>\n      <td>Sentence: 47958</td>\n      <td>impact</td>\n      <td>NN</td>\n      <td>O</td>\n    </tr>\n    <tr>\n      <th>1048566</th>\n      <td>Sentence: 47958</td>\n      <td>.</td>\n      <td>.</td>\n      <td>O</td>\n    </tr>\n    <tr>\n      <th>1048567</th>\n      <td>Sentence: 47959</td>\n      <td>Indian</td>\n      <td>JJ</td>\n      <td>B-gpe</td>\n    </tr>\n    <tr>\n      <th>1048568</th>\n      <td>Sentence: 47959</td>\n      <td>forces</td>\n      <td>NNS</td>\n      <td>O</td>\n    </tr>\n    <tr>\n      <th>1048569</th>\n      <td>Sentence: 47959</td>\n      <td>said</td>\n      <td>VBD</td>\n      <td>O</td>\n    </tr>\n    <tr>\n      <th>1048570</th>\n      <td>Sentence: 47959</td>\n      <td>they</td>\n      <td>PRP</td>\n      <td>O</td>\n    </tr>\n    <tr>\n      <th>1048571</th>\n      <td>Sentence: 47959</td>\n      <td>responded</td>\n      <td>VBD</td>\n      <td>O</td>\n    </tr>\n    <tr>\n      <th>1048572</th>\n      <td>Sentence: 47959</td>\n      <td>to</td>\n      <td>TO</td>\n      <td>O</td>\n    </tr>\n    <tr>\n      <th>1048573</th>\n      <td>Sentence: 47959</td>\n      <td>the</td>\n      <td>DT</td>\n      <td>O</td>\n    </tr>\n    <tr>\n      <th>1048574</th>\n      <td>Sentence: 47959</td>\n      <td>attack</td>\n      <td>NN</td>\n      <td>O</td>\n    </tr>\n  </tbody>\n</table>\n</div>"
          },
          "metadata": {}
        }
      ]
    },
    {
      "metadata": {
        "_uuid": "05be8945aa7ffb3a018e92b631d81ab4fd68f94f"
      },
      "cell_type": "markdown",
      "source": "## Extracting the list of words in the Data"
    },
    {
      "metadata": {
        "trusted": true,
        "_uuid": "3f85c4a2c5201b39e3a50c85b9e2e38baae0e4f5"
      },
      "cell_type": "code",
      "source": "words = list(set(data['Word'].values))\nwords.append(\"ENDPAD\")\nprint(words[-10:])\nn_words = len(words)\nn_words",
      "execution_count": 23,
      "outputs": [
        {
          "output_type": "stream",
          "text": "['6,000-meter', 'popes', 'Azizi', '8-billion', 'District', 'final', 'auctioned', 'Truth', 'whiten', 'ENDPAD']\n",
          "name": "stdout"
        },
        {
          "output_type": "execute_result",
          "execution_count": 23,
          "data": {
            "text/plain": "35179"
          },
          "metadata": {}
        }
      ]
    },
    {
      "metadata": {
        "_uuid": "1be2274ff6e7842ab2fb560da5d03854e76a04d3"
      },
      "cell_type": "markdown",
      "source": "## Extracting the unique tags in the Data."
    },
    {
      "metadata": {
        "trusted": true,
        "_uuid": "650b5e65d6dcb1829488b2c8b6483be977c45a37"
      },
      "cell_type": "code",
      "source": "tags = list(set(data['Tag'].values))\nprint(tags)\nn_tags = len(tags)\nn_tags",
      "execution_count": 24,
      "outputs": [
        {
          "output_type": "stream",
          "text": "['O', 'B-tim', 'I-gpe', 'B-per', 'I-org', 'B-nat', 'I-nat', 'I-art', 'B-org', 'B-eve', 'B-geo', 'B-gpe', 'I-geo', 'I-tim', 'I-eve', 'I-per', 'B-art']\n",
          "name": "stdout"
        },
        {
          "output_type": "execute_result",
          "execution_count": 24,
          "data": {
            "text/plain": "17"
          },
          "metadata": {}
        }
      ]
    },
    {
      "metadata": {
        "_uuid": "539144e56a2efe28265dbf6c01e67cc7eecff9b8"
      },
      "cell_type": "markdown",
      "source": "## Method to format above dataset int (word, POS, tag) tuple format for every sentence."
    },
    {
      "metadata": {
        "trusted": true,
        "_uuid": "a1a252afa0b503baaba24375be9f763af6f350e5"
      },
      "cell_type": "code",
      "source": "class SentenceGetter(object):\n    \n    def __init__(self, data):\n        self.n_sent = 1\n        self.data = data\n        self.empty = False\n        agg_func = lambda s: [(w, p, t) for w, p, t in zip(s[\"Word\"].values.tolist(),\n                                                           s[\"POS\"].values.tolist(),\n                                                           s[\"Tag\"].values.tolist())]\n        self.grouped = self.data.groupby(\"Sentence #\").apply(agg_func)\n        self.sentences = [s for s in self.grouped]\n    \n    def get_next(self):\n        try:\n            s = self.grouped[\"Sentence: {}\".format(self.n_sent)]\n            self.n_sent += 1\n            return s\n        except:\n            return None",
      "execution_count": 114,
      "outputs": []
    },
    {
      "metadata": {
        "trusted": true,
        "_uuid": "d52513a6d147e3b6a3071f9e56b19f8f6823d909"
      },
      "cell_type": "code",
      "source": "getter = SentenceGetter(data)",
      "execution_count": 115,
      "outputs": []
    },
    {
      "metadata": {
        "trusted": true,
        "_uuid": "d8ec45debec773dd7a842294dce6aae5a3f1af38"
      },
      "cell_type": "code",
      "source": "sent = getter.get_next()\nsent",
      "execution_count": 116,
      "outputs": [
        {
          "output_type": "execute_result",
          "execution_count": 116,
          "data": {
            "text/plain": "[('Thousands', 'NNS', 'O'),\n ('of', 'IN', 'O'),\n ('demonstrators', 'NNS', 'O'),\n ('have', 'VBP', 'O'),\n ('marched', 'VBN', 'O'),\n ('through', 'IN', 'O'),\n ('London', 'NNP', 'B-geo'),\n ('to', 'TO', 'O'),\n ('protest', 'VB', 'O'),\n ('the', 'DT', 'O'),\n ('war', 'NN', 'O'),\n ('in', 'IN', 'O'),\n ('Iraq', 'NNP', 'B-geo'),\n ('and', 'CC', 'O'),\n ('demand', 'VB', 'O'),\n ('the', 'DT', 'O'),\n ('withdrawal', 'NN', 'O'),\n ('of', 'IN', 'O'),\n ('British', 'JJ', 'B-gpe'),\n ('troops', 'NNS', 'O'),\n ('from', 'IN', 'O'),\n ('that', 'DT', 'O'),\n ('country', 'NN', 'O'),\n ('.', '.', 'O')]"
          },
          "metadata": {}
        }
      ]
    },
    {
      "metadata": {
        "trusted": true,
        "_uuid": "f560c57180acff9531999a877e93ae182b745ef8"
      },
      "cell_type": "code",
      "source": "sentences = getter.sentences",
      "execution_count": 28,
      "outputs": []
    },
    {
      "metadata": {
        "trusted": true,
        "_uuid": "6e8bc0a65c91488a1ba0848ff544ec1eeb05b657"
      },
      "cell_type": "code",
      "source": "sentences[1]",
      "execution_count": 120,
      "outputs": [
        {
          "output_type": "execute_result",
          "execution_count": 120,
          "data": {
            "text/plain": "[('Iranian', 'JJ', 'B-gpe'),\n ('officials', 'NNS', 'O'),\n ('say', 'VBP', 'O'),\n ('they', 'PRP', 'O'),\n ('expect', 'VBP', 'O'),\n ('to', 'TO', 'O'),\n ('get', 'VB', 'O'),\n ('access', 'NN', 'O'),\n ('to', 'TO', 'O'),\n ('sealed', 'JJ', 'O'),\n ('sensitive', 'JJ', 'O'),\n ('parts', 'NNS', 'O'),\n ('of', 'IN', 'O'),\n ('the', 'DT', 'O'),\n ('plant', 'NN', 'O'),\n ('Wednesday', 'NNP', 'B-tim'),\n (',', ',', 'O'),\n ('after', 'IN', 'O'),\n ('an', 'DT', 'O'),\n ('IAEA', 'NNP', 'B-org'),\n ('surveillance', 'NN', 'O'),\n ('system', 'NN', 'O'),\n ('begins', 'VBZ', 'O'),\n ('functioning', 'VBG', 'O'),\n ('.', '.', 'O')]"
          },
          "metadata": {}
        }
      ]
    },
    {
      "metadata": {
        "_uuid": "fa29f290b0a48c95276cd49ba0989cb428bc4b59"
      },
      "cell_type": "markdown",
      "source": "## Maximum length of every sentence is 50. Truncate it, if it is big, PAD it, if it is small."
    },
    {
      "metadata": {
        "trusted": true,
        "_uuid": "2f242be078388273d062e3d112d59b94680e361c"
      },
      "cell_type": "code",
      "source": "max_len = 50\ntag2idx = {t: i for i, t in enumerate(tags)}",
      "execution_count": 30,
      "outputs": []
    },
    {
      "metadata": {
        "trusted": true,
        "_uuid": "4d0a958eed052624783f7d78bbf557fdba1ab81b"
      },
      "cell_type": "code",
      "source": "tag2idx",
      "execution_count": 31,
      "outputs": [
        {
          "output_type": "execute_result",
          "execution_count": 31,
          "data": {
            "text/plain": "{'O': 0,\n 'B-tim': 1,\n 'I-gpe': 2,\n 'B-per': 3,\n 'I-org': 4,\n 'B-nat': 5,\n 'I-nat': 6,\n 'I-art': 7,\n 'B-org': 8,\n 'B-eve': 9,\n 'B-geo': 10,\n 'B-gpe': 11,\n 'I-geo': 12,\n 'I-tim': 13,\n 'I-eve': 14,\n 'I-per': 15,\n 'B-art': 16}"
          },
          "metadata": {}
        }
      ]
    },
    {
      "metadata": {
        "trusted": true,
        "_uuid": "1bf3561db2c9057896173bbaf6d50181d29bc44b"
      },
      "cell_type": "code",
      "source": "X = [[w[0] for w in s] for s in sentences ]",
      "execution_count": 117,
      "outputs": []
    },
    {
      "metadata": {
        "trusted": true,
        "_uuid": "ec6d6b89099ff7603f1ff89e8abe44ffd600bca5"
      },
      "cell_type": "code",
      "source": "X[1]",
      "execution_count": 119,
      "outputs": [
        {
          "output_type": "execute_result",
          "execution_count": 119,
          "data": {
            "text/plain": "['Iranian',\n 'officials',\n 'say',\n 'they',\n 'expect',\n 'to',\n 'get',\n 'access',\n 'to',\n 'sealed',\n 'sensitive',\n 'parts',\n 'of',\n 'the',\n 'plant',\n 'Wednesday',\n ',',\n 'after',\n 'an',\n 'IAEA',\n 'surveillance',\n 'system',\n 'begins',\n 'functioning',\n '.']"
          },
          "metadata": {}
        }
      ]
    },
    {
      "metadata": {
        "_uuid": "edebc8b0e4d39c8221b349992686c7651b400aef"
      },
      "cell_type": "markdown",
      "source": "## Padding the sentence with \"_ _PAD_ _\" word."
    },
    {
      "metadata": {
        "trusted": true,
        "_uuid": "b269025647998c143490493ea1f30b07de574d63"
      },
      "cell_type": "code",
      "source": "new_X = []\n\nfor seq in X:\n    new_seq = []\n    for i in range(max_len):\n        try:\n            new_seq.append(seq[i])\n        except:\n            new_seq.append(\"__PAD__\")\n    new_X.append(new_seq)\n\nX = new_X",
      "execution_count": 37,
      "outputs": []
    },
    {
      "metadata": {
        "trusted": true,
        "_uuid": "be9b197f083186105440b92691e065eddb17e670"
      },
      "cell_type": "code",
      "source": "X[1]",
      "execution_count": 110,
      "outputs": [
        {
          "output_type": "execute_result",
          "execution_count": 110,
          "data": {
            "text/plain": "['Iranian',\n 'officials',\n 'say',\n 'they',\n 'expect',\n 'to',\n 'get',\n 'access',\n 'to',\n 'sealed',\n 'sensitive',\n 'parts',\n 'of',\n 'the',\n 'plant',\n 'Wednesday',\n ',',\n 'after',\n 'an',\n 'IAEA',\n 'surveillance',\n 'system',\n 'begins',\n 'functioning',\n '.',\n '__PAD__',\n '__PAD__',\n '__PAD__',\n '__PAD__',\n '__PAD__',\n '__PAD__',\n '__PAD__',\n '__PAD__',\n '__PAD__',\n '__PAD__',\n '__PAD__',\n '__PAD__',\n '__PAD__',\n '__PAD__',\n '__PAD__',\n '__PAD__',\n '__PAD__',\n '__PAD__',\n '__PAD__',\n '__PAD__',\n '__PAD__',\n '__PAD__',\n '__PAD__',\n '__PAD__',\n '__PAD__']"
          },
          "metadata": {}
        }
      ]
    },
    {
      "metadata": {
        "trusted": true,
        "_uuid": "a1aec0b919aa83b1f92e5a2be135de497d91bc7b"
      },
      "cell_type": "code",
      "source": "y = [[tag2idx[w[2]] for w in s] for s in sentences]\ny[1]",
      "execution_count": 42,
      "outputs": [
        {
          "output_type": "execute_result",
          "execution_count": 42,
          "data": {
            "text/plain": "[11, 0, 0, 0, 0, 0, 0, 0, 0, 0, 0, 0, 0, 0, 0, 1, 0, 0, 0, 8, 0, 0, 0, 0, 0]"
          },
          "metadata": {}
        }
      ]
    },
    {
      "metadata": {
        "_uuid": "e64455e391568141e7830f5096a3dabf4fa4363f"
      },
      "cell_type": "markdown",
      "source": "## Padding the tags with padded sentence with \"O\" tag."
    },
    {
      "metadata": {
        "trusted": true,
        "_uuid": "b73c625969330db95e8ab6859772f066fac6abd0"
      },
      "cell_type": "code",
      "source": "from keras.preprocessing.sequence import pad_sequences\ny = pad_sequences(maxlen=max_len, padding='post', sequences=y, value=tag2idx[\"O\"])",
      "execution_count": 44,
      "outputs": []
    },
    {
      "metadata": {
        "trusted": true,
        "_uuid": "72d3715b9cd136ac941be4a24e0fc2dae01ca312"
      },
      "cell_type": "code",
      "source": "y[1]",
      "execution_count": 45,
      "outputs": [
        {
          "output_type": "execute_result",
          "execution_count": 45,
          "data": {
            "text/plain": "array([11,  0,  0,  0,  0,  0,  0,  0,  0,  0,  0,  0,  0,  0,  0,  1,  0,\n        0,  0,  8,  0,  0,  0,  0,  0,  0,  0,  0,  0,  0,  0,  0,  0,  0,\n        0,  0,  0,  0,  0,  0,  0,  0,  0,  0,  0,  0,  0,  0,  0,  0],\n      dtype=int32)"
          },
          "metadata": {}
        }
      ]
    },
    {
      "metadata": {
        "_uuid": "720e62221ce5bb6f941a5208a7c37e47e8a7d0ed"
      },
      "cell_type": "markdown",
      "source": "## Splitting the data into train and test, training on 90% and testing on 10%."
    },
    {
      "metadata": {
        "trusted": true,
        "_uuid": "659bd5932217853e9fcd1baa713ee48c1cde2467"
      },
      "cell_type": "code",
      "source": "from sklearn.model_selection import train_test_split\nX_train, X_test, y_train, y_test = train_test_split(X, y, test_size=0.1, random_state=2018)",
      "execution_count": 47,
      "outputs": []
    },
    {
      "metadata": {
        "trusted": true,
        "_uuid": "f225a92646d41407572c122322697d8e64d94b52"
      },
      "cell_type": "code",
      "source": "batch_size = 32",
      "execution_count": 49,
      "outputs": []
    },
    {
      "metadata": {
        "trusted": true,
        "_uuid": "b7675965509f4e1bf039cc0c689341306fdeb1b4"
      },
      "cell_type": "code",
      "source": "import tensorflow as tf\nimport tensorflow_hub as hub\nfrom keras import backend as K",
      "execution_count": 50,
      "outputs": []
    },
    {
      "metadata": {
        "trusted": true,
        "_uuid": "1e00350e0d01b1e5b77402a891710e7674fbcf76"
      },
      "cell_type": "code",
      "source": "sess = tf.Session()\nK.set_session(sess)",
      "execution_count": 51,
      "outputs": []
    },
    {
      "metadata": {
        "trusted": true,
        "_uuid": "a0a11f478f464692c7538604a52ffb0d25b3b5f7"
      },
      "cell_type": "code",
      "source": "elmo_model = hub.Module(\"https://tfhub.dev/google/elmo/2\", trainable=True)\nsess.run(tf.global_variables_initializer())\nsess.run(tf.tables_initializer())",
      "execution_count": 52,
      "outputs": []
    },
    {
      "metadata": {
        "trusted": true,
        "_uuid": "3b629c8810ed259aadb0ef03bce664662356c86b"
      },
      "cell_type": "code",
      "source": "def ElmoEmbedding(x):\n    return elmo_model(inputs={\"tokens\": tf.squeeze(tf.cast(x, tf.string)),\"sequence_len\": tf.constant(batch_size*[max_len])},\n                      signature=\"tokens\", as_dict=True)[\"elmo\"]",
      "execution_count": 58,
      "outputs": []
    },
    {
      "metadata": {
        "trusted": true,
        "_uuid": "951ff3ee3a94559a44598f725dce99426fddcfa2"
      },
      "cell_type": "code",
      "source": "from keras.models import Model, Input\nfrom keras.layers.merge import add\nfrom keras.layers import LSTM, Embedding, Dense, TimeDistributed, Dropout, Bidirectional, Lambda",
      "execution_count": 59,
      "outputs": []
    },
    {
      "metadata": {
        "trusted": true,
        "_uuid": "973ff8b058f0347adf7305dc13a3dbced8677300"
      },
      "cell_type": "code",
      "source": "input_text = Input(shape=(max_len,), dtype=tf.string)\nembedding = Lambda(ElmoEmbedding, output_shape=(max_len, 1024))(input_text)\nx = Bidirectional(LSTM(units=512, return_sequences=True, recurrent_dropout=0.2, dropout=0.2))(embedding)\nx_rnn = Bidirectional(LSTM(units=512, return_sequences=True, recurrent_dropout=0.2, dropout=0.2))(x)\nx = add([x, x_rnn])\nout = TimeDistributed(Dense(n_tags, activation=\"softmax\"))(x)",
      "execution_count": 61,
      "outputs": []
    },
    {
      "metadata": {
        "trusted": true,
        "_uuid": "3a546f23ff398e3bba87bc504a5a5be156a167ea"
      },
      "cell_type": "code",
      "source": "model = Model(input_text, out)",
      "execution_count": 62,
      "outputs": []
    },
    {
      "metadata": {
        "trusted": true,
        "_uuid": "850f8ee2438f06cb27b746fbb2a6d50d45112a44"
      },
      "cell_type": "code",
      "source": "model.compile(optimizer=\"adam\", loss=\"sparse_categorical_crossentropy\", metrics=[\"accuracy\"])",
      "execution_count": 63,
      "outputs": []
    },
    {
      "metadata": {
        "trusted": true,
        "_uuid": "30598833cf1e79537bb299ffcac1d679650c54db"
      },
      "cell_type": "code",
      "source": "X_train, X_val = X_train[:1213*batch_size], X_train[-135*batch_size:]\ny_train, y_val = y_train[:1213*batch_size], y_train[-135*batch_size:]\ny_train = y_train.reshape(y_train.shape[0], y_train.shape[1], 1)\ny_val = y_val.reshape(y_val.shape[0], y_val.shape[1], 1)",
      "execution_count": 65,
      "outputs": []
    },
    {
      "metadata": {
        "trusted": true,
        "scrolled": true,
        "_uuid": "8dd2c2b5bd70f663617f888787237f10b7217db4"
      },
      "cell_type": "code",
      "source": "history = model.fit(np.array(X_train), y_train, validation_data=(np.array(X_val), y_val), batch_size=batch_size, epochs=1, verbose=1)",
      "execution_count": 68,
      "outputs": [
        {
          "output_type": "stream",
          "text": "Train on 38816 samples, validate on 4320 samples\nEpoch 1/1\n38816/38816 [==============================] - 1498s 39ms/step - loss: 0.0401 - acc: 0.9870 - val_loss: 0.0425 - val_acc: 0.9867\n",
          "name": "stdout"
        }
      ]
    },
    {
      "metadata": {
        "trusted": true,
        "_uuid": "0cbd7075af5a54d8aa72b0c96909f49d4d28a39e"
      },
      "cell_type": "code",
      "source": "hist = pd.DataFrame(history.history)",
      "execution_count": 69,
      "outputs": []
    },
    {
      "metadata": {
        "trusted": true,
        "_uuid": "4850721eb96eea459d74b390f506eb7207ae7876"
      },
      "cell_type": "code",
      "source": "i = 19\np = model.predict(np.array(X_test[i:i+batch_size]))[0]\nprint(p.shape)\np = np.argmax(p, axis=-1)\nprint(p.shape)\nprint(p)\nprint(y_test[i])\nprint(\"{:15} {:5}: {}\".format(\"Word\", \"Pred\", \"True\"))\nprint(\"=\"*30)\nfor w, true, pred in zip(X_test[i], y_test[i], p):\n    if w != \"__PAD__\":\n        print(\"{:15}:{:5} {}\".format(w, tags[pred], tags[true]))",
      "execution_count": 144,
      "outputs": [
        {
          "output_type": "stream",
          "text": "(50, 17)\n(50,)\n[ 0  0  0 10  0 10  0  0  0  8  4  0  0  0  0  0  0  0  0  0  0  3 15 15\n 15  0  0  0  0  0  0  0  0  0  0  1 13  0  0  0  0  0  0  0  0  0  0  0\n  0  0]\n[ 0  0  0 10  0 10  0  0  0  8  4  0  0  0  0  0  0  0  0  0  0  3  0  3\n 15  0  0  0  0  0  0  0  0  0  0  1 13  0  0  0  0  0  0  0  0  0  0  0\n  0  0]\nWord            Pred : True\n==============================\nMeanwhile      :O     O\n,              :O     O\nin             :O     O\nBelgrade       :B-geo B-geo\n,              :O     O\nSerbia         :B-geo B-geo\n's             :O     O\nextreme        :O     O\nnationalist    :O     O\nRadical        :B-org B-org\nParty          :I-org I-org\nhas            :O     O\nfiled          :O     O\na              :O     O\nmotion         :O     O\nof             :O     O\nno-confidence  :O     O\nin             :O     O\nthe            :O     O\ngovernment     :O     O\nof             :O     O\nPrime          :B-per B-per\nMinister       :I-per O\nVojislav       :I-per B-per\nKostunica      :I-per I-per\nto             :O     O\nprotest        :O     O\nthe            :O     O\nextradition    :O     O\nof             :O     O\n11             :O     O\nsuspects       :O     O\nto             :O     O\nthe            :O     O\ncourt          :O     O\nsince          :B-tim B-tim\nOctober        :I-tim I-tim\n.              :O     O\n",
          "name": "stdout"
        }
      ]
    },
    {
      "metadata": {
        "trusted": true,
        "scrolled": false,
        "_uuid": "c70f49f8ece6a7911cf262e10692951fc3734f34"
      },
      "cell_type": "code",
      "source": "prediction = model.predict(np.array(X_test[:4768]),batch_size=batch_size, verbose=1)",
      "execution_count": 150,
      "outputs": [
        {
          "output_type": "stream",
          "text": "4768/4768 [==============================] - 121s 25ms/step\n",
          "name": "stdout"
        }
      ]
    },
    {
      "metadata": {
        "trusted": true,
        "_uuid": "8047ca2e25bf09efc917411b6689c5f6ff484cd1"
      },
      "cell_type": "code",
      "source": "# prediction = np.argmax(prediction, axis=-1)\nprint(prediction.shape)",
      "execution_count": 152,
      "outputs": [
        {
          "output_type": "stream",
          "text": "(4768, 50)\n",
          "name": "stdout"
        }
      ]
    },
    {
      "metadata": {
        "_uuid": "d7182786d3bcd84a18f0c71d63dc7df153a9f97f"
      },
      "cell_type": "markdown",
      "source": "## Confusion Matrix and Accuracy"
    },
    {
      "metadata": {
        "trusted": true,
        "_uuid": "c2d4dd1e2e35e1a7a503b8419c726b434113807f"
      },
      "cell_type": "code",
      "source": "from sklearn.metrics import confusion_matrix\nfrom sklearn.metrics import accuracy_score\nimport seaborn as sns\nimport matplotlib.pyplot as plt\n%matplotlib inline\nimport warnings\nwarnings.filterwarnings('ignore')\n# Build a confusion matrix for 1st sentence.\n# Sample confusion Matrix for one sentence\nprint(confusion_matrix(y_test[0], prediction[0]))\nplt.figure(figsize=(8,8))\nsns.heatmap(confusion_matrix(y_test[0], prediction[0]), annot=True, fmt='g', xticklabels=tags, yticklabels=tags)",
      "execution_count": 158,
      "outputs": [
        {
          "output_type": "stream",
          "text": "[[46  0  0  0  0]\n [ 0  1  0  0  0]\n [ 0  0  1  0  0]\n [ 0  0  0  1  0]\n [ 0  0  0  0  1]]\n",
          "name": "stdout"
        },
        {
          "output_type": "execute_result",
          "execution_count": 158,
          "data": {
            "text/plain": "<matplotlib.axes._subplots.AxesSubplot at 0x7f604de48710>"
          },
          "metadata": {}
        },
        {
          "output_type": "display_data",
          "data": {
            "text/plain": "<Figure size 576x576 with 2 Axes>",
            "image/png": "[encoded data removed]"
          },
          "metadata": {}
        }
      ]
    },
    {
      "metadata": {
        "trusted": true,
        "_uuid": "4800ffed38dd01c8374c413550b0670c4576c46d"
      },
      "cell_type": "code",
      "source": "print(y_test[:2])\nprint(\"=\"*30)\nprint(prediction[:2])",
      "execution_count": 159,
      "outputs": [
        {
          "output_type": "stream",
          "text": "[[ 0  0  0  0  0  0  0  0  0  0  8  0  3 15  0  0  0  0  0 10  0  0  0  0\n   0  0  0  0  0  0  0  0  0  0  0  0  0  0  0  0  0  0  0  0  0  0  0  0\n   0  0]\n [10  0  0  0  0  0  0  0  0  0  0  0  0  0  0  0  0  0  0  0  0  0  0  0\n   0  0  0  0  0  0  0  0  0  0  0  0  0  0  0  0  0  0  0  0  0  0  0  0\n   0  0]]\n==============================\n[[ 0  0  0  0  0  0  0  0  0  0  8  0  3 15  0  0  0  0  0 10  0  0  0  0\n   0  0  0  0  0  0  0  0  0  0  0  0  0  0  0  0  0  0  0  0  0  0  0  0\n   0  0]\n [10  0  0  0  0  0  0  0  0  0  0  0  0  0  0  0  0  0  0  0  0  0  0  0\n   0  0  0  0  0  0  0  0  0  0  0  0  0  0  0  0  0  0  0  0  0  0  0  0\n   0  0]]\n",
          "name": "stdout"
        }
      ]
    },
    {
      "metadata": {
        "trusted": true,
        "_uuid": "23d4993ce2634be4f2fd0e7fb2b3666ffbf73830"
      },
      "cell_type": "code",
      "source": "# Flatten out the list of list sentences into a single list for creating confusion_matrix\nfrom itertools import chain\n# print(list(chain.from_iterable(y_test[:2])))\ny_test_flatten = list(chain.from_iterable(y_test[:4768]))\nprediction_flatten = list(chain.from_iterable(prediction))\nprint(len(y_test_flatten), len(prediction_flatten))",
      "execution_count": 160,
      "outputs": [
        {
          "output_type": "stream",
          "text": "238400 238400\n",
          "name": "stdout"
        }
      ]
    },
    {
      "metadata": {
        "trusted": true,
        "scrolled": false,
        "_uuid": "3e3520a5524fde07e3dda7214e76f5117e0bf998"
      },
      "cell_type": "code",
      "source": "conf_mat = confusion_matrix(y_test_flatten, prediction_flatten)\nplt.figure(figsize=(18,18))\nsns.heatmap(conf_mat, annot=True, fmt='g', xticklabels=tags, yticklabels=tags)",
      "execution_count": 161,
      "outputs": [
        {
          "output_type": "execute_result",
          "execution_count": 161,
          "data": {
            "text/plain": "<matplotlib.axes._subplots.AxesSubplot at 0x7f604e506710>"
          },
          "metadata": {}
        },
        {
          "output_type": "display_data",
          "data": {
            "text/plain": "<Figure size 1296x1296 with 2 Axes>",
            "image/png": "[encoded data removed]"
          },
          "metadata": {}
        }
      ]
    },
    {
      "metadata": {
        "trusted": true,
        "_uuid": "5a0f917c5a0a319a63f76c62f9275f5b1b04dd62"
      },
      "cell_type": "code",
      "source": "accuracy_score(y_test_flatten, prediction_flatten)",
      "execution_count": 143,
      "outputs": [
        {
          "output_type": "execute_result",
          "execution_count": 143,
          "data": {
            "text/plain": "0.9859731543624161"
          },
          "metadata": {}
        }
      ]
    },
    {
      "metadata": {
        "trusted": true,
        "_uuid": "48b19ff26de691995586b5335bdde0757178e860"
      },
      "cell_type": "code",
      "source": "",
      "execution_count": null,
      "outputs": []
    }
  ],
  "metadata": {
    "kernelspec": {
      "display_name": "Python 3",
      "language": "python",
      "name": "python3"
    },
    "language_info": {
      "name": "python",
      "version": "3.6.6",
      "mimetype": "text/x-python",
      "codemirror_mode": {
        "name": "ipython",
        "version": 3
      },
      "pygments_lexer": "ipython3",
      "nbconvert_exporter": "python",
      "file_extension": ".py"
    }
  },
  "nbformat": 4,
  "nbformat_minor": 1
}