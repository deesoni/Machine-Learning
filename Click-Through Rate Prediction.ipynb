{
 "cells": [
  {
   "cell_type": "markdown",
   "metadata": {},
   "source": [
    "https://www.kaggle.com/c/avazu-ctr-prediction/data\n",
    "    \n",
    "Susan Li "
   ]
  },
  {
   "cell_type": "code",
   "execution_count": 38,
   "metadata": {
    "collapsed": true
   },
   "outputs": [],
   "source": [
    "import numpy as np\n",
    "import random\n",
    "n = 40428967  #total number of records in the clickstream data \n",
    "sample_size = 100000"
   ]
  },
  {
   "cell_type": "code",
   "execution_count": 39,
   "metadata": {
    "collapsed": true
   },
   "outputs": [],
   "source": [
    "skip_values = sorted(random.sample(range(1,n), n - sample_size))"
   ]
  },
  {
   "cell_type": "code",
   "execution_count": 40,
   "metadata": {
    "collapsed": true
   },
   "outputs": [],
   "source": [
    "types_train = {\n",
    "    'id': np.dtype(int),\n",
    "    'click': np.dtype(int),\n",
    "    'hour': np.dtype(int),\n",
    "    'C1': np.dtype(int),\n",
    "    'banner_pos': np.dtype(int),\n",
    "    'site_id': np.dtype(str),\n",
    "    'site_domain': np.dtype(str), \n",
    "    'site_category': np.dtype(str),\n",
    "    'app_id': np.dtype(str),\n",
    "    'app_domain': np.dtype(str),\n",
    "    'app_category': np.dtype(str),\n",
    "    'device_id': np.dtype(str),\n",
    "    'device_ip': np.dtype(str),\n",
    "    'device_model': np.dtype(str),\n",
    "    'device_type': np.dtype(int),\n",
    "    'device_conn_type': np.dtype(int),\n",
    "    'C14': np.dtype(int),\n",
    "    'C15': np.dtype(int),\n",
    "    'C16': np.dtype(int),\n",
    "    'C17': np.dtype(int),\n",
    "    'C18': np.dtype(int),\n",
    "    'C19': np.dtype(int),\n",
    "    'C20': np.dtype(int),\n",
    "    'C21':np.dtype(int)\n",
    "}\n",
    "\n",
    "types_test = {\n",
    "    'id': np.dtype(int),\n",
    "    'hour': np.dtype(int),\n",
    "    'C1': np.dtype(int),\n",
    "    'banner_pos': np.dtype(int),\n",
    "    'site_id': np.dtype(str),\n",
    "    'site_domain': np.dtype(str), \n",
    "    'site_category': np.dtype(str),\n",
    "    'app_id': np.dtype(str),\n",
    "    'app_domain': np.dtype(str),\n",
    "    'app_category': np.dtype(str),\n",
    "    'device_id': np.dtype(str),\n",
    "    'device_ip': np.dtype(str),\n",
    "    'device_model': np.dtype(str),\n",
    "    'device_type': np.dtype(int),\n",
    "    'device_conn_type': np.dtype(int),\n",
    "    'C14': np.dtype(int),\n",
    "    'C15': np.dtype(int),\n",
    "    'C16': np.dtype(int),\n",
    "    'C17': np.dtype(int),\n",
    "    'C18': np.dtype(int),\n",
    "    'C19': np.dtype(int),\n",
    "    'C20': np.dtype(int),\n",
    "    'C21':np.dtype(int)\n",
    "}"
   ]
  },
  {
   "cell_type": "code",
   "execution_count": 41,
   "metadata": {
    "collapsed": true
   },
   "outputs": [],
   "source": [
    "import pandas as pd\n",
    "import gzip"
   ]
  },
  {
   "cell_type": "code",
   "execution_count": 42,
   "metadata": {},
   "outputs": [
    {
     "data": {
      "text/html": [
       "<div>\n",
       "<style>\n",
       "    .dataframe thead tr:only-child th {\n",
       "        text-align: right;\n",
       "    }\n",
       "\n",
       "    .dataframe thead th {\n",
       "        text-align: left;\n",
       "    }\n",
       "\n",
       "    .dataframe tbody tr th {\n",
       "        vertical-align: top;\n",
       "    }\n",
       "</style>\n",
       "<table border=\"1\" class=\"dataframe\">\n",
       "  <thead>\n",
       "    <tr style=\"text-align: right;\">\n",
       "      <th></th>\n",
       "      <th>id</th>\n",
       "      <th>click</th>\n",
       "      <th>hour</th>\n",
       "      <th>C1</th>\n",
       "      <th>banner_pos</th>\n",
       "      <th>site_id</th>\n",
       "      <th>site_domain</th>\n",
       "      <th>site_category</th>\n",
       "      <th>app_id</th>\n",
       "      <th>app_domain</th>\n",
       "      <th>...</th>\n",
       "      <th>device_type</th>\n",
       "      <th>device_conn_type</th>\n",
       "      <th>C14</th>\n",
       "      <th>C15</th>\n",
       "      <th>C16</th>\n",
       "      <th>C17</th>\n",
       "      <th>C18</th>\n",
       "      <th>C19</th>\n",
       "      <th>C20</th>\n",
       "      <th>C21</th>\n",
       "    </tr>\n",
       "  </thead>\n",
       "  <tbody>\n",
       "    <tr>\n",
       "      <th>0</th>\n",
       "      <td>681034673</td>\n",
       "      <td>0</td>\n",
       "      <td>2014-10-21</td>\n",
       "      <td>1005</td>\n",
       "      <td>0</td>\n",
       "      <td>d7f3460b</td>\n",
       "      <td>f7570339</td>\n",
       "      <td>f028772b</td>\n",
       "      <td>ecad2386</td>\n",
       "      <td>7801e8d9</td>\n",
       "      <td>...</td>\n",
       "      <td>1</td>\n",
       "      <td>0</td>\n",
       "      <td>17212</td>\n",
       "      <td>320</td>\n",
       "      <td>50</td>\n",
       "      <td>1887</td>\n",
       "      <td>3</td>\n",
       "      <td>39</td>\n",
       "      <td>-1</td>\n",
       "      <td>23</td>\n",
       "    </tr>\n",
       "    <tr>\n",
       "      <th>1</th>\n",
       "      <td>-1906492416</td>\n",
       "      <td>0</td>\n",
       "      <td>2014-10-21</td>\n",
       "      <td>1005</td>\n",
       "      <td>0</td>\n",
       "      <td>0d0207b0</td>\n",
       "      <td>274ddcab</td>\n",
       "      <td>f028772b</td>\n",
       "      <td>ecad2386</td>\n",
       "      <td>7801e8d9</td>\n",
       "      <td>...</td>\n",
       "      <td>1</td>\n",
       "      <td>0</td>\n",
       "      <td>20366</td>\n",
       "      <td>320</td>\n",
       "      <td>50</td>\n",
       "      <td>2333</td>\n",
       "      <td>0</td>\n",
       "      <td>39</td>\n",
       "      <td>-1</td>\n",
       "      <td>157</td>\n",
       "    </tr>\n",
       "    <tr>\n",
       "      <th>2</th>\n",
       "      <td>-1402616595</td>\n",
       "      <td>0</td>\n",
       "      <td>2014-10-21</td>\n",
       "      <td>1005</td>\n",
       "      <td>0</td>\n",
       "      <td>1fbe01fe</td>\n",
       "      <td>f3845767</td>\n",
       "      <td>28905ebd</td>\n",
       "      <td>ecad2386</td>\n",
       "      <td>7801e8d9</td>\n",
       "      <td>...</td>\n",
       "      <td>1</td>\n",
       "      <td>0</td>\n",
       "      <td>15704</td>\n",
       "      <td>320</td>\n",
       "      <td>50</td>\n",
       "      <td>1722</td>\n",
       "      <td>0</td>\n",
       "      <td>35</td>\n",
       "      <td>-1</td>\n",
       "      <td>79</td>\n",
       "    </tr>\n",
       "    <tr>\n",
       "      <th>3</th>\n",
       "      <td>-1958694714</td>\n",
       "      <td>0</td>\n",
       "      <td>2014-10-21</td>\n",
       "      <td>1005</td>\n",
       "      <td>0</td>\n",
       "      <td>1fbe01fe</td>\n",
       "      <td>f3845767</td>\n",
       "      <td>28905ebd</td>\n",
       "      <td>ecad2386</td>\n",
       "      <td>7801e8d9</td>\n",
       "      <td>...</td>\n",
       "      <td>1</td>\n",
       "      <td>0</td>\n",
       "      <td>15707</td>\n",
       "      <td>320</td>\n",
       "      <td>50</td>\n",
       "      <td>1722</td>\n",
       "      <td>0</td>\n",
       "      <td>35</td>\n",
       "      <td>100084</td>\n",
       "      <td>79</td>\n",
       "    </tr>\n",
       "    <tr>\n",
       "      <th>4</th>\n",
       "      <td>-483184092</td>\n",
       "      <td>0</td>\n",
       "      <td>2014-10-21</td>\n",
       "      <td>1005</td>\n",
       "      <td>1</td>\n",
       "      <td>fe8cc448</td>\n",
       "      <td>9166c161</td>\n",
       "      <td>0569f928</td>\n",
       "      <td>ecad2386</td>\n",
       "      <td>7801e8d9</td>\n",
       "      <td>...</td>\n",
       "      <td>1</td>\n",
       "      <td>0</td>\n",
       "      <td>18993</td>\n",
       "      <td>320</td>\n",
       "      <td>50</td>\n",
       "      <td>2161</td>\n",
       "      <td>0</td>\n",
       "      <td>35</td>\n",
       "      <td>-1</td>\n",
       "      <td>157</td>\n",
       "    </tr>\n",
       "  </tbody>\n",
       "</table>\n",
       "<p>5 rows × 24 columns</p>\n",
       "</div>"
      ],
      "text/plain": [
       "           id  click       hour    C1  banner_pos   site_id site_domain  \\\n",
       "0   681034673      0 2014-10-21  1005           0  d7f3460b    f7570339   \n",
       "1 -1906492416      0 2014-10-21  1005           0  0d0207b0    274ddcab   \n",
       "2 -1402616595      0 2014-10-21  1005           0  1fbe01fe    f3845767   \n",
       "3 -1958694714      0 2014-10-21  1005           0  1fbe01fe    f3845767   \n",
       "4  -483184092      0 2014-10-21  1005           1  fe8cc448    9166c161   \n",
       "\n",
       "  site_category    app_id app_domain ...  device_type device_conn_type    C14  \\\n",
       "0      f028772b  ecad2386   7801e8d9 ...            1                0  17212   \n",
       "1      f028772b  ecad2386   7801e8d9 ...            1                0  20366   \n",
       "2      28905ebd  ecad2386   7801e8d9 ...            1                0  15704   \n",
       "3      28905ebd  ecad2386   7801e8d9 ...            1                0  15707   \n",
       "4      0569f928  ecad2386   7801e8d9 ...            1                0  18993   \n",
       "\n",
       "   C15  C16   C17  C18  C19     C20  C21  \n",
       "0  320   50  1887    3   39      -1   23  \n",
       "1  320   50  2333    0   39      -1  157  \n",
       "2  320   50  1722    0   35      -1   79  \n",
       "3  320   50  1722    0   35  100084   79  \n",
       "4  320   50  2161    0   35      -1  157  \n",
       "\n",
       "[5 rows x 24 columns]"
      ]
     },
     "execution_count": 42,
     "metadata": {},
     "output_type": "execute_result"
    }
   ],
   "source": [
    "parse_date = lambda val: pd.datetime.strptime(val, '%y%m%d%H')\n",
    "\n",
    "with gzip.open('train.gz') as f:\n",
    "    train = pd.read_csv(f, parse_dates = ['hour'], date_parser = parse_date, dtype=types_train, skiprows=skip_values)\n",
    "\n",
    "train.head()"
   ]
  },
  {
   "cell_type": "code",
   "execution_count": 43,
   "metadata": {},
   "outputs": [
    {
     "data": {
      "text/plain": [
       "(100000, 24)"
      ]
     },
     "execution_count": 43,
     "metadata": {},
     "output_type": "execute_result"
    }
   ],
   "source": [
    "train.shape"
   ]
  },
  {
   "cell_type": "code",
   "execution_count": 44,
   "metadata": {},
   "outputs": [
    {
     "data": {
      "text/plain": [
       "id                           int32\n",
       "click                        int32\n",
       "hour                datetime64[ns]\n",
       "C1                           int32\n",
       "banner_pos                   int32\n",
       "site_id                     object\n",
       "site_domain                 object\n",
       "site_category               object\n",
       "app_id                      object\n",
       "app_domain                  object\n",
       "app_category                object\n",
       "device_id                   object\n",
       "device_ip                   object\n",
       "device_model                object\n",
       "device_type                  int32\n",
       "device_conn_type             int32\n",
       "C14                          int32\n",
       "C15                          int32\n",
       "C16                          int32\n",
       "C17                          int32\n",
       "C18                          int32\n",
       "C19                          int32\n",
       "C20                          int32\n",
       "C21                          int32\n",
       "dtype: object"
      ]
     },
     "execution_count": 44,
     "metadata": {},
     "output_type": "execute_result"
    }
   ],
   "source": [
    "train.dtypes"
   ]
  },
  {
   "cell_type": "code",
   "execution_count": 45,
   "metadata": {},
   "outputs": [
    {
     "data": {
      "text/plain": [
       "0    83051\n",
       "1    16949\n",
       "Name: click, dtype: int64"
      ]
     },
     "execution_count": 45,
     "metadata": {},
     "output_type": "execute_result"
    }
   ],
   "source": [
    "train['click'].value_counts()"
   ]
  },
  {
   "cell_type": "code",
   "execution_count": 46,
   "metadata": {
    "collapsed": true
   },
   "outputs": [],
   "source": [
    "import seaborn as sns\n",
    "import matplotlib.pyplot as plt\n",
    "%matplotlib inline"
   ]
  },
  {
   "cell_type": "code",
   "execution_count": 47,
   "metadata": {},
   "outputs": [
    {
     "data": {
      "image/png": "[encoded data removed]",
      "text/plain": [
       "<matplotlib.figure.Figure at 0x282d3de4a20>"
      ]
     },
     "metadata": {},
     "output_type": "display_data"
    }
   ],
   "source": [
    "sns.countplot(x='click', data=train, palette='hls')\n",
    "plt.show()"
   ]
  },
  {
   "cell_type": "code",
   "execution_count": 48,
   "metadata": {},
   "outputs": [
    {
     "data": {
      "text/plain": [
       "0    0.83051\n",
       "1    0.16949\n",
       "Name: click, dtype: float64"
      ]
     },
     "execution_count": 48,
     "metadata": {},
     "output_type": "execute_result"
    }
   ],
   "source": [
    "train['click'].value_counts()/len(train)"
   ]
  },
  {
   "cell_type": "code",
   "execution_count": 49,
   "metadata": {},
   "outputs": [
    {
     "data": {
      "text/plain": [
       "count                  100000\n",
       "unique                    240\n",
       "top       2014-10-22 09:00:00\n",
       "freq                     1170\n",
       "first     2014-10-21 00:00:00\n",
       "last      2014-10-30 23:00:00\n",
       "Name: hour, dtype: object"
      ]
     },
     "execution_count": 49,
     "metadata": {},
     "output_type": "execute_result"
    }
   ],
   "source": [
    "train.hour.describe()"
   ]
  },
  {
   "cell_type": "code",
   "execution_count": 50,
   "metadata": {},
   "outputs": [
    {
     "data": {
      "image/png": "[encoded data removed]",
      "text/plain": [
       "<matplotlib.figure.Figure at 0x282d3c3aa90>"
      ]
     },
     "metadata": {},
     "output_type": "display_data"
    }
   ],
   "source": [
    "train.groupby('hour').agg({'click':'sum'}).plot(figsize=(12,6))\n",
    "plt.ylabel('Number of clicks')\n",
    "plt.title('Number of clicks by hour')\n",
    "plt.show()"
   ]
  },
  {
   "cell_type": "code",
   "execution_count": 51,
   "metadata": {},
   "outputs": [
    {
     "name": "stdout",
     "output_type": "stream",
     "text": [
      "<class 'pandas.core.frame.DataFrame'>\n",
      "RangeIndex: 100000 entries, 0 to 99999\n",
      "Data columns (total 24 columns):\n",
      "id                  100000 non-null int32\n",
      "click               100000 non-null int32\n",
      "hour                100000 non-null datetime64[ns]\n",
      "C1                  100000 non-null int32\n",
      "banner_pos          100000 non-null int32\n",
      "site_id             100000 non-null object\n",
      "site_domain         100000 non-null object\n",
      "site_category       100000 non-null object\n",
      "app_id              100000 non-null object\n",
      "app_domain          100000 non-null object\n",
      "app_category        100000 non-null object\n",
      "device_id           100000 non-null object\n",
      "device_ip           100000 non-null object\n",
      "device_model        100000 non-null object\n",
      "device_type         100000 non-null int32\n",
      "device_conn_type    100000 non-null int32\n",
      "C14                 100000 non-null int32\n",
      "C15                 100000 non-null int32\n",
      "C16                 100000 non-null int32\n",
      "C17                 100000 non-null int32\n",
      "C18                 100000 non-null int32\n",
      "C19                 100000 non-null int32\n",
      "C20                 100000 non-null int32\n",
      "C21                 100000 non-null int32\n",
      "dtypes: datetime64[ns](1), int32(14), object(9)\n",
      "memory usage: 13.0+ MB\n"
     ]
    }
   ],
   "source": [
    "train.info()"
   ]
  },
  {
   "cell_type": "code",
   "execution_count": 52,
   "metadata": {
    "collapsed": true
   },
   "outputs": [],
   "source": [
    "train['hour_of_day'] = train.hour.apply(lambda x: x.hour)"
   ]
  },
  {
   "cell_type": "code",
   "execution_count": 53,
   "metadata": {},
   "outputs": [
    {
     "data": {
      "text/plain": [
       "array([ 0,  1,  2,  3,  4,  5,  6,  7,  8,  9, 10, 11, 12, 13, 14, 15, 16,\n",
       "       17, 18, 19, 20, 21, 22, 23], dtype=int64)"
      ]
     },
     "execution_count": 53,
     "metadata": {},
     "output_type": "execute_result"
    }
   ],
   "source": [
    "train.hour_of_day.unique()"
   ]
  },
  {
   "cell_type": "code",
   "execution_count": 54,
   "metadata": {},
   "outputs": [
    {
     "data": {
      "image/png": "[encoded data removed]",
      "text/plain": [
       "<matplotlib.figure.Figure at 0x282d42bfd30>"
      ]
     },
     "metadata": {},
     "output_type": "display_data"
    }
   ],
   "source": [
    "train.groupby('hour_of_day').agg({'click':'sum'}).plot(figsize=(12,6))\n",
    "plt.ylabel('Number of clicks')\n",
    "plt.title('click trends by hour of day');\n",
    "plt.show()"
   ]
  },
  {
   "cell_type": "code",
   "execution_count": 55,
   "metadata": {},
   "outputs": [
    {
     "data": {
      "image/png": "[encoded data removed]",
      "text/plain": [
       "<matplotlib.figure.Figure at 0x282d42f12b0>"
      ]
     },
     "metadata": {},
     "output_type": "display_data"
    }
   ],
   "source": [
    "train.groupby(['hour_of_day', 'click']).size().unstack().plot(figsize=(12,6), kind='bar')\n",
    "plt.ylabel('count')\n",
    "plt.title('Hourly impressions vs. clicks')\n",
    "plt.show()"
   ]
  },
  {
   "cell_type": "code",
   "execution_count": 56,
   "metadata": {
    "collapsed": true
   },
   "outputs": [],
   "source": [
    "df_click = train[train['click'] == 1]\n",
    "df_hour = train[['hour_of_day','click']].groupby('hour_of_day').count().reset_index()\n",
    "df_hour = df_hour.rename(columns={'click':'impressions'})\n",
    "df_hour['clicks'] = df_click[['hour_of_day','click']].groupby('hour_of_day').count().reset_index()['click']\n",
    "df_hour['CTR'] = df_hour['clicks']/df_hour['impressions'] * 100"
   ]
  },
  {
   "cell_type": "code",
   "execution_count": 57,
   "metadata": {},
   "outputs": [
    {
     "data": {
      "image/png": "[encoded data removed]",
      "text/plain": [
       "<matplotlib.figure.Figure at 0x28316b8d2b0>"
      ]
     },
     "metadata": {},
     "output_type": "display_data"
    }
   ],
   "source": [
    "plt.figure(figsize=(12,6))\n",
    "sns.barplot(y='CTR', x='hour_of_day', data=df_hour)\n",
    "plt.title('Hourly CTR')\n",
    "plt.show()"
   ]
  },
  {
   "cell_type": "markdown",
   "metadata": {},
   "source": [
    "#### Days of Week"
   ]
  },
  {
   "cell_type": "code",
   "execution_count": 58,
   "metadata": {},
   "outputs": [
    {
     "data": {
      "image/png": "[encoded data removed]",
      "text/plain": [
       "<matplotlib.figure.Figure at 0x28317135780>"
      ]
     },
     "metadata": {},
     "output_type": "display_data"
    }
   ],
   "source": [
    "train['day_of_week'] = train['hour'].apply(lambda val: val.weekday_name)\n",
    "cats = ['Monday', 'Tuesday', 'Wednesday', 'Thursday', 'Friday', 'Saturday', 'Sunday']\n",
    "train.groupby('day_of_week').agg({'click':'sum'}).reindex(cats).plot(figsize=(12,6))\n",
    "ticks = list(range(0,7,1))\n",
    "labels = 'Mon Tue Wed Thu Fri Sat Sun'.split()\n",
    "plt.xticks(ticks, labels)\n",
    "plt.title('click trends by day of week')\n",
    "plt.show()"
   ]
  },
  {
   "cell_type": "code",
   "execution_count": 59,
   "metadata": {},
   "outputs": [
    {
     "data": {
      "image/png": "[encoded data removed]",
      "text/plain": [
       "<matplotlib.figure.Figure at 0x28317705cc0>"
      ]
     },
     "metadata": {},
     "output_type": "display_data"
    }
   ],
   "source": [
    "# train.head()\n",
    "train.groupby(['day_of_week', 'click']).size().unstack().reindex(cats).plot(kind='bar', figsize=(12,6), title='Day of the Week.')\n",
    "ticks = list(range(0,7,1))\n",
    "labels = 'Mon Tue Wed Thu Fri Sat Sun'.split()\n",
    "plt.xticks(ticks, labels)\n",
    "plt.title('Impressions vs. clicks by day of week');\n",
    "plt.show()"
   ]
  },
  {
   "cell_type": "code",
   "execution_count": 60,
   "metadata": {},
   "outputs": [
    {
     "data": {
      "text/plain": [
       "Text(0.5,1,'Day of week CTR')"
      ]
     },
     "execution_count": 60,
     "metadata": {},
     "output_type": "execute_result"
    },
    {
     "data": {
      "image/png": "[encoded data removed]",
      "text/plain": [
       "<matplotlib.figure.Figure at 0x282d42c7be0>"
      ]
     },
     "metadata": {},
     "output_type": "display_data"
    }
   ],
   "source": [
    "df_click = train[train['click']==1]\n",
    "df_dayofweek = train[['day_of_week', 'click']].groupby('day_of_week').count().reset_index()\n",
    "df_dayofweek = df_dayofweek.rename(columns={'click':'impressions'})\n",
    "df_dayofweek['click'] = df_click[['day_of_week', 'click']].groupby('day_of_week').count().reset_index()['click']\n",
    "df_dayofweek['CTR'] = df_dayofweek['click']/df_dayofweek['impressions'] * 100\n",
    "\n",
    "plt.figure(figsize=(12,6))\n",
    "sns.barplot(y='CTR', x='day_of_week', data=df_dayofweek, order=['Monday', 'Tuesday', 'Wednesday', 'Thursday', 'Friday', 'Saturday', 'Sunday'])\n",
    "plt.title('Day of week CTR')\n",
    "# plt.show()"
   ]
  },
  {
   "cell_type": "code",
   "execution_count": 61,
   "metadata": {},
   "outputs": [
    {
     "name": "stdout",
     "output_type": "stream",
     "text": [
      "1005    0.91841\n",
      "1002    0.05529\n",
      "1010    0.02236\n",
      "1012    0.00254\n",
      "1007    0.00094\n",
      "1001    0.00024\n",
      "1008    0.00022\n",
      "Name: C1, dtype: float64\n"
     ]
    }
   ],
   "source": [
    "print(train.C1.value_counts()/len(train))"
   ]
  },
  {
   "cell_type": "code",
   "execution_count": 62,
   "metadata": {},
   "outputs": [
    {
     "name": "stdout",
     "output_type": "stream",
     "text": [
      "for C1 value: 1001,  click through rate: 0.0\n",
      "for C1 value: 1002,  click through rate: 0.21486706456863808\n",
      "for C1 value: 1005,  click through rate: 0.16866105551986585\n",
      "for C1 value: 1007,  click through rate: 0.05319148936170213\n",
      "for C1 value: 1008,  click through rate: 0.13636363636363635\n",
      "for C1 value: 1010,  click through rate: 0.09570661896243292\n",
      "for C1 value: 1012,  click through rate: 0.19291338582677164\n"
     ]
    }
   ],
   "source": [
    "C1_values = train.C1.unique()\n",
    "C1_values.sort()\n",
    "ctr_avg_list=[]\n",
    "for i in C1_values:\n",
    "    ctr_avg=train.loc[np.where((train.C1 == i))].click.mean()\n",
    "    ctr_avg_list.append(ctr_avg)\n",
    "    print(\"for C1 value: {},  click through rate: {}\".format(i,ctr_avg))"
   ]
  },
  {
   "cell_type": "code",
   "execution_count": 63,
   "metadata": {},
   "outputs": [
    {
     "data": {
      "text/plain": [
       "<matplotlib.axes._subplots.AxesSubplot at 0x282d3e602b0>"
      ]
     },
     "execution_count": 63,
     "metadata": {},
     "output_type": "execute_result"
    },
    {
     "data": {
      "image/png": "[encoded data removed]",
      "text/plain": [
       "<matplotlib.figure.Figure at 0x283170d98d0>"
      ]
     },
     "metadata": {},
     "output_type": "display_data"
    }
   ],
   "source": [
    "train.groupby(['C1', 'click']).size().unstack().plot(kind='bar', figsize=(12, 6), title='C1 histogram')"
   ]
  },
  {
   "cell_type": "code",
   "execution_count": 64,
   "metadata": {},
   "outputs": [
    {
     "data": {
      "text/plain": [
       "<matplotlib.axes._subplots.AxesSubplot at 0x283170d9fd0>"
      ]
     },
     "execution_count": 64,
     "metadata": {},
     "output_type": "execute_result"
    },
    {
     "data": {
      "image/png": "[encoded data removed]",
      "text/plain": [
       "<matplotlib.figure.Figure at 0x282d42d22b0>"
      ]
     },
     "metadata": {},
     "output_type": "display_data"
    }
   ],
   "source": [
    "df_C1 = train[['C1', 'click']].groupby('C1').count().reset_index()\n",
    "df_C1 = df_C1.rename(columns={'click':'impressions'})\n",
    "df_C1['click'] = df_click[['C1','click']].groupby('C1').count().reset_index()['click']\n",
    "df_C1['CTR'] = df_C1['click']/df_C1['impressions'] * 100\n",
    "\n",
    "plt.figure(figsize=(12,6))\n",
    "sns.barplot(x='C1', y='CTR', data=df_C1)"
   ]
  },
  {
   "cell_type": "markdown",
   "metadata": {},
   "source": [
    "### Banner Position"
   ]
  },
  {
   "cell_type": "code",
   "execution_count": 65,
   "metadata": {},
   "outputs": [
    {
     "name": "stdout",
     "output_type": "stream",
     "text": [
      "0    0.72280\n",
      "1    0.27522\n",
      "7    0.00117\n",
      "2    0.00031\n",
      "4    0.00023\n",
      "5    0.00022\n",
      "3    0.00005\n",
      "Name: banner_pos, dtype: float64\n"
     ]
    }
   ],
   "source": [
    "print(train.banner_pos.value_counts()/len(train))"
   ]
  },
  {
   "cell_type": "code",
   "execution_count": 66,
   "metadata": {},
   "outputs": [
    {
     "name": "stdout",
     "output_type": "stream",
     "text": [
      "for banner value: 0,  click through rate: 0.16225788599889318\n",
      "for banner value: 1,  click through rate: 0.18784972022382093\n",
      "for banner value: 2,  click through rate: 0.0967741935483871\n",
      "for banner value: 3,  click through rate: 0.0\n",
      "for banner value: 4,  click through rate: 0.34782608695652173\n",
      "for banner value: 5,  click through rate: 0.13636363636363635\n",
      "for banner value: 7,  click through rate: 0.3162393162393162\n"
     ]
    }
   ],
   "source": [
    "banner_values = train.banner_pos.unique()\n",
    "banner_values.sort()\n",
    "ctr_avg_list=[]\n",
    "for i in banner_values:\n",
    "    ctr_avg=train.loc[np.where((train.banner_pos == i))].click.mean()\n",
    "    ctr_avg_list.append(ctr_avg)\n",
    "    print(\"for banner value: {},  click through rate: {}\".format(i,ctr_avg))"
   ]
  },
  {
   "cell_type": "code",
   "execution_count": 67,
   "metadata": {},
   "outputs": [
    {
     "data": {
      "text/plain": [
       "<matplotlib.axes._subplots.AxesSubplot at 0x28316e69780>"
      ]
     },
     "execution_count": 67,
     "metadata": {},
     "output_type": "execute_result"
    },
    {
     "data": {
      "image/png": "[encoded data removed]",
      "text/plain": [
       "<matplotlib.figure.Figure at 0x282d4285860>"
      ]
     },
     "metadata": {},
     "output_type": "display_data"
    }
   ],
   "source": [
    "train.groupby(['banner_pos', 'click']).size().unstack().plot(kind='bar', figsize=(12, 6), title='banner histogram')"
   ]
  },
  {
   "cell_type": "code",
   "execution_count": 68,
   "metadata": {},
   "outputs": [
    {
     "data": {
      "text/plain": [
       "Text(0.5,1,'CTR by banner position')"
      ]
     },
     "execution_count": 68,
     "metadata": {},
     "output_type": "execute_result"
    },
    {
     "data": {
      "image/png": "[encoded data removed]",
      "text/plain": [
       "<matplotlib.figure.Figure at 0x282d3fb76a0>"
      ]
     },
     "metadata": {},
     "output_type": "display_data"
    }
   ],
   "source": [
    "df_banner = train[['banner_pos', 'click']].groupby('banner_pos').count().reset_index()\n",
    "df_banner = df_banner.rename(columns={'click':'impressions'})\n",
    "df_banner['click'] = df_click[['banner_pos','click']].groupby('banner_pos').count().reset_index()['click']\n",
    "df_banner['CTR'] = df_banner['click']/df_banner['impressions'] * 100\n",
    "sort_banners = df_banner.sort_values(by='CTR',ascending=False)['banner_pos'].tolist()\n",
    "plt.figure(figsize=(12,6))\n",
    "sns.barplot(x='banner_pos', y='CTR', data=df_banner, order=sort_banners)\n",
    "plt.title('CTR by banner position')"
   ]
  },
  {
   "cell_type": "code",
   "execution_count": 69,
   "metadata": {
    "collapsed": true
   },
   "outputs": [
    {
     "data": {
      "text/plain": [
       "count      6.000000\n",
       "mean      64.318913\n",
       "std       77.386724\n",
       "min        9.677419\n",
       "25%       13.839056\n",
       "50%       17.505380\n",
       "75%      124.696243\n",
       "max      168.181818\n",
       "Name: CTR, dtype: float64"
      ]
     },
     "execution_count": 69,
     "metadata": {},
     "output_type": "execute_result"
    }
   ],
   "source": [
    "df_banner.CTR.describe()"
   ]
  },
  {
   "cell_type": "markdown",
   "metadata": {},
   "source": [
    "#### Site Features"
   ]
  },
  {
   "cell_type": "code",
   "execution_count": 70,
   "metadata": {},
   "outputs": [
    {
     "data": {
      "text/plain": [
       "1456"
      ]
     },
     "execution_count": 70,
     "metadata": {},
     "output_type": "execute_result"
    }
   ],
   "source": [
    "train.site_id.nunique()"
   ]
  },
  {
   "cell_type": "code",
   "execution_count": 71,
   "metadata": {
    "collapsed": true
   },
   "outputs": [
    {
     "data": {
      "text/plain": [
       "85f751fd    36386\n",
       "1fbe01fe    16032\n",
       "e151e245     6634\n",
       "d9750ee7     2345\n",
       "5b08c53b     2244\n",
       "5b4d2eda     1916\n",
       "856e6d3f     1780\n",
       "a7853007     1114\n",
       "b7e9786d      950\n",
       "5bcf81a2      845\n",
       "Name: site_id, dtype: int64"
      ]
     },
     "execution_count": 71,
     "metadata": {},
     "output_type": "execute_result"
    }
   ],
   "source": [
    "train.site_id.value_counts()[:10]"
   ]
  },
  {
   "cell_type": "code",
   "execution_count": 75,
   "metadata": {
    "collapsed": true
   },
   "outputs": [
    {
     "name": "stdout",
     "output_type": "stream",
     "text": [
      "85f751fd    0.36386\n",
      "1fbe01fe    0.16032\n",
      "e151e245    0.06634\n",
      "d9750ee7    0.02345\n",
      "5b08c53b    0.02244\n",
      "5b4d2eda    0.01916\n",
      "856e6d3f    0.01780\n",
      "a7853007    0.01114\n",
      "b7e9786d    0.00950\n",
      "5bcf81a2    0.00845\n",
      "Name: site_id, dtype: float64\n"
     ]
    }
   ],
   "source": [
    "print((train.site_id.value_counts()/len(train))[:10])"
   ]
  },
  {
   "cell_type": "markdown",
   "metadata": {},
   "source": [
    "within top 10 site ids, how much is the average CTR for those ids."
   ]
  },
  {
   "cell_type": "code",
   "execution_count": 87,
   "metadata": {
    "collapsed": true
   },
   "outputs": [
    {
     "name": "stdout",
     "output_type": "stream",
     "text": [
      "0.11716044632550981\n",
      "0.20434131736526945\n",
      "0.2992161591799819\n",
      "0.270362473347548\n",
      "0.4710338680926916\n",
      "0.13100208768267224\n",
      "0.035955056179775284\n",
      "0.12118491921005387\n",
      "0.07263157894736842\n",
      "0.10887573964497041\n"
     ]
    }
   ],
   "source": [
    "top10_ids = (train.site_id.value_counts()/len(train))[:10].index\n",
    "ctr_avg_list=[]\n",
    "for i in top10_ids:\n",
    "    ctr_avg = train.loc[np.where((train.site_id == i))].click.mean()\n",
    "    ctr_avg_list.append(ctr_avg)\n",
    "    print(ctr_avg)"
   ]
  },
  {
   "cell_type": "code",
   "execution_count": 89,
   "metadata": {},
   "outputs": [
    {
     "data": {
      "text/plain": [
       "70246"
      ]
     },
     "execution_count": 89,
     "metadata": {},
     "output_type": "execute_result"
    }
   ],
   "source": [
    "top10_sites = train.loc[np.where(train.site_id.isin((train.site_id.value_counts()/len(train))[:10].index))]"
   ]
  },
  {
   "cell_type": "code",
   "execution_count": 93,
   "metadata": {},
   "outputs": [
    {
     "data": {
      "text/plain": [
       "<matplotlib.axes._subplots.AxesSubplot at 0x2828a63bcf8>"
      ]
     },
     "execution_count": 93,
     "metadata": {},
     "output_type": "execute_result"
    },
    {
     "data": {
      "image/png": "[encoded data removed]",
      "text/plain": [
       "<matplotlib.figure.Figure at 0x2829549d358>"
      ]
     },
     "metadata": {},
     "output_type": "display_data"
    }
   ],
   "source": [
    "top10_sites.groupby(['site_id', 'click']).size().unstack().plot(kind='bar', figsize=(12,6), title='Top 10 site ids histogram')"
   ]
  },
  {
   "cell_type": "code",
   "execution_count": 116,
   "metadata": {},
   "outputs": [
    {
     "data": {
      "text/plain": [
       "<matplotlib.axes._subplots.AxesSubplot at 0x282996085c0>"
      ]
     },
     "execution_count": 116,
     "metadata": {},
     "output_type": "execute_result"
    },
    {
     "data": {
      "image/png": "[encoded data removed]",
      "text/plain": [
       "<matplotlib.figure.Figure at 0x2828b2250b8>"
      ]
     },
     "metadata": {},
     "output_type": "display_data"
    }
   ],
   "source": [
    "top10_sites_click = top10_sites[top10_sites['click'] == 1]\n",
    "df_sites = top10_sites[['site_id', 'click']].groupby('site_id').count().reset_index()\n",
    "df_sites = df_sites.rename(columns={'click':'impressions'})\n",
    "df_sites['click'] = top10_sites_click.groupby('site_id').count().reset_index()['click']\n",
    "df_sites['CTR'] = df_sites['click']/df_sites['impressions'] * 100\n",
    "sort_sites = df_sites.sort_values('CTR', ascending=False)['site_id'].tolist()\n",
    "plt.figure(figsize=(12,6))\n",
    "sns.barplot(y='CTR', x='site_id', data=df_sites, order=sort_sites)"
   ]
  },
  {
   "cell_type": "markdown",
   "metadata": {},
   "source": [
    "#### Site Domain"
   ]
  },
  {
   "cell_type": "code",
   "execution_count": 120,
   "metadata": {},
   "outputs": [
    {
     "name": "stdout",
     "output_type": "stream",
     "text": [
      "1307\n"
     ]
    }
   ],
   "source": [
    "print(train.site_domain.nunique())"
   ]
  },
  {
   "cell_type": "code",
   "execution_count": 122,
   "metadata": {},
   "outputs": [
    {
     "data": {
      "text/plain": [
       "c4e18dd6    0.37766\n",
       "f3845767    0.16032\n",
       "7e091613    0.08306\n",
       "7687a86e    0.03176\n",
       "98572c79    0.02420\n",
       "16a36ef3    0.02132\n",
       "58a89a43    0.01780\n",
       "b12b9f85    0.00953\n",
       "9d54950b    0.00932\n",
       "968765cd    0.00824\n",
       "Name: site_domain, dtype: float64"
      ]
     },
     "execution_count": 122,
     "metadata": {},
     "output_type": "execute_result"
    }
   ],
   "source": [
    "train.site_domain.value_counts()[:10]/len(train)"
   ]
  },
  {
   "cell_type": "markdown",
   "metadata": {},
   "source": [
    "Within top 10 domain, how much is the average CTR"
   ]
  },
  {
   "cell_type": "code",
   "execution_count": 128,
   "metadata": {},
   "outputs": [
    {
     "name": "stdout",
     "output_type": "stream",
     "text": [
      "ctr_avg: 0.12145845469469893\n",
      "ctr_avg: 0.20434131736526945\n",
      "ctr_avg: 0.2646279797736576\n",
      "ctr_avg: 0.45717884130982367\n",
      "ctr_avg: 0.2652892561983471\n",
      "ctr_avg: 0.1477485928705441\n",
      "ctr_avg: 0.035955056179775284\n",
      "ctr_avg: 0.07240293809024134\n",
      "ctr_avg: 0.10407725321888411\n",
      "ctr_avg: 0.12257281553398058\n"
     ]
    }
   ],
   "source": [
    "top10_domains = train.site_domain.value_counts()[:10].index\n",
    "ctr_avg_list = []\n",
    "for i in top10_domains:\n",
    "    ctr_avg = train.loc[np.where(train.site_domain == i)].click.mean()\n",
    "    ctr_avg_list.append(ctr_avg)\n",
    "    print('ctr_avg:', ctr_avg)"
   ]
  },
  {
   "cell_type": "code",
   "execution_count": 133,
   "metadata": {},
   "outputs": [
    {
     "data": {
      "text/plain": [
       "<matplotlib.axes._subplots.AxesSubplot at 0x282aa098ac8>"
      ]
     },
     "execution_count": 133,
     "metadata": {},
     "output_type": "execute_result"
    },
    {
     "data": {
      "image/png": "[encoded data removed]",
      "text/plain": [
       "<matplotlib.figure.Figure at 0x2828d398128>"
      ]
     },
     "metadata": {},
     "output_type": "display_data"
    }
   ],
   "source": [
    "top10_domain = train.loc[np.where(train.site_domain.isin(top10_domains))]\n",
    "top10_domain.groupby(['site_domain','click']).size().unstack().plot(kind='bar', figsize=(12,6), title = 'learning')"
   ]
  },
  {
   "cell_type": "code",
   "execution_count": 158,
   "metadata": {},
   "outputs": [
    {
     "data": {
      "image/png": "[encoded data removed]",
      "text/plain": [
       "<matplotlib.figure.Figure at 0x2829d117a90>"
      ]
     },
     "metadata": {},
     "output_type": "display_data"
    }
   ],
   "source": [
    "# top10 domains\n",
    "# count the total impression in above domains.\n",
    "# count the total click in above domains.\n",
    "# calculate ctr (avearge value).\n",
    "# plot that in descending order\n",
    "\n",
    "top10_domain_click = top10_domain[top10_domain.click == 1]\n",
    "df_domain = top10_domain[['site_domain', 'click']].groupby('site_domain').count().reset_index()\n",
    "df_domain = df_domain.rename(columns={'click':'impressions'})\n",
    "df_domain['click'] = top10_domain_click[['site_domain', 'click']].groupby('site_domain').count().reset_index()['click']\n",
    "df_domain['CTR'] = df_domain['click']/df_domain['impressions'] * 100\n",
    "sort_domains = df_domain.sort_values('CTR', ascending=False)['site_domain'].tolist()\n",
    "plt.figure(figsize=(12, 6))\n",
    "sns.barplot(y='CTR', x='site_domain', data=df_domain, order=sort_domains)\n",
    "plt.title('CTR by top 10 site domain');\n",
    "# df_domain"
   ]
  },
  {
   "cell_type": "markdown",
   "metadata": {},
   "source": [
    "#### site category"
   ]
  },
  {
   "cell_type": "code",
   "execution_count": 159,
   "metadata": {},
   "outputs": [
    {
     "data": {
      "text/plain": [
       "Index(['id', 'click', 'hour', 'C1', 'banner_pos', 'site_id', 'site_domain',\n",
       "       'site_category', 'app_id', 'app_domain', 'app_category', 'device_id',\n",
       "       'device_ip', 'device_model', 'device_type', 'device_conn_type', 'C14',\n",
       "       'C15', 'C16', 'C17', 'C18', 'C19', 'C20', 'C21', 'hour_of_day',\n",
       "       'day_of_week'],\n",
       "      dtype='object')"
      ]
     },
     "execution_count": 159,
     "metadata": {},
     "output_type": "execute_result"
    }
   ],
   "source": [
    "train.columns"
   ]
  },
  {
   "cell_type": "code",
   "execution_count": 161,
   "metadata": {},
   "outputs": [
    {
     "name": "stdout",
     "output_type": "stream",
     "text": [
      "There are 20 category available in the dataset.\n"
     ]
    }
   ],
   "source": [
    "print('There are {} category available in the dataset.'.format(train.site_category.nunique()))"
   ]
  },
  {
   "cell_type": "code",
   "execution_count": 164,
   "metadata": {},
   "outputs": [
    {
     "data": {
      "text/plain": [
       "50e219e0    0.41217\n",
       "f028772b    0.31159\n",
       "28905ebd    0.18197\n",
       "3e814130    0.07488\n",
       "f66779e6    0.00644\n",
       "75fa27f6    0.00376\n",
       "335d28a8    0.00306\n",
       "76b2941d    0.00237\n",
       "c0dd3be3    0.00091\n",
       "72722551    0.00077\n",
       "Name: site_category, dtype: float64"
      ]
     },
     "execution_count": 164,
     "metadata": {},
     "output_type": "execute_result"
    }
   ],
   "source": [
    "train.site_category.value_counts()[:10]/len(train)"
   ]
  },
  {
   "cell_type": "code",
   "execution_count": 167,
   "metadata": {},
   "outputs": [
    {
     "name": "stdout",
     "output_type": "stream",
     "text": [
      "CTR 50e219e0 Average 0.12735036514059733 :\n",
      "CTR f028772b Average 0.1813922141275394 :\n",
      "CTR 28905ebd Average 0.20624278727262735 :\n",
      "CTR 3e814130 Average 0.28405448717948717 :\n",
      "CTR f66779e6 Average 0.034161490683229816 :\n",
      "CTR 75fa27f6 Average 0.11436170212765957 :\n",
      "CTR 335d28a8 Average 0.11437908496732026 :\n",
      "CTR 76b2941d Average 0.05485232067510549 :\n",
      "CTR c0dd3be3 Average 0.0989010989010989 :\n",
      "CTR 72722551 Average 0.06493506493506493 :\n"
     ]
    }
   ],
   "source": [
    "top10_cat = train.site_category.value_counts()[:10].index\n",
    "ctr_avg_list = []\n",
    "for i in top10_cat:\n",
    "    ctr_avg = train.loc[np.where(train.site_category == i)].click.mean()\n",
    "    ctr_avg_list.append(ctr_avg)\n",
    "    print('CTR {} Average {} :'.format(i, ctr_avg))"
   ]
  },
  {
   "cell_type": "code",
   "execution_count": 171,
   "metadata": {},
   "outputs": [
    {
     "data": {
      "text/plain": [
       "<matplotlib.axes._subplots.AxesSubplot at 0x282c2e352e8>"
      ]
     },
     "execution_count": 171,
     "metadata": {},
     "output_type": "execute_result"
    },
    {
     "data": {
      "image/png": "[encoded data removed]",
      "text/plain": [
       "<matplotlib.figure.Figure at 0x282c2e35278>"
      ]
     },
     "metadata": {},
     "output_type": "display_data"
    }
   ],
   "source": [
    "top10_category = train.loc[np.where(train.site_category.isin(top10_cat))]\n",
    "top10_category.groupby(['site_category', 'click']).size().unstack().plot(kind='bar', figsize=(12,6))"
   ]
  },
  {
   "cell_type": "code",
   "execution_count": 180,
   "metadata": {},
   "outputs": [
    {
     "data": {
      "text/plain": [
       "<matplotlib.axes._subplots.AxesSubplot at 0x2828ba8f048>"
      ]
     },
     "execution_count": 180,
     "metadata": {},
     "output_type": "execute_result"
    },
    {
     "data": {
      "image/png": "[encoded data removed]",
      "text/plain": [
       "<matplotlib.figure.Figure at 0x2829ae584e0>"
      ]
     },
     "metadata": {},
     "output_type": "display_data"
    }
   ],
   "source": [
    "# get top10 category\n",
    "# count the total impression in above category.\n",
    "# count the total click in above category.\n",
    "# calculate ctr (avearge value).\n",
    "# plot that in descending order.\n",
    "top10_category_click = top10_category[top10_category.click == 1]\n",
    "df_category = top10_category[['site_category', 'click']].groupby('site_category').count().reset_index()\n",
    "df_category = df_category.rename(columns={'click':'impressions'})\n",
    "df_category['click'] = top10_category_click[['site_category', 'click']].groupby('site_category').count().reset_index()['click']\n",
    "df_category['CTR'] = df_category['click']/df_category['impressions'] * 100\n",
    "sort_category = df_category.sort_values('CTR', ascending=False)['site_category'].tolist()\n",
    "plt.figure(figsize=(12,6))\n",
    "sns.barplot(y='CTR', x='site_category', data=df_category, order=sort_category)"
   ]
  },
  {
   "cell_type": "markdown",
   "metadata": {},
   "source": [
    "#### device id"
   ]
  },
  {
   "cell_type": "code",
   "execution_count": 181,
   "metadata": {},
   "outputs": [
    {
     "name": "stdout",
     "output_type": "stream",
     "text": [
      "There are 16980 devices in the data set\n"
     ]
    }
   ],
   "source": [
    "print(\"There are {} devices in the data set\".format(train.device_id.nunique()))"
   ]
  },
  {
   "cell_type": "code",
   "execution_count": 182,
   "metadata": {},
   "outputs": [
    {
     "name": "stdout",
     "output_type": "stream",
     "text": [
      "The top 10 devices that have the most impressions\n",
      "a99f214a    0.82369\n",
      "0f7c61dc    0.00061\n",
      "c357dbff    0.00051\n",
      "936e92fb    0.00041\n",
      "afeffc18    0.00017\n",
      "3cdb4052    0.00014\n",
      "28dc8687    0.00010\n",
      "b09da1c4    0.00010\n",
      "987552d1    0.00008\n",
      "d857ffbb    0.00008\n",
      "Name: device_id, dtype: float64\n"
     ]
    }
   ],
   "source": [
    "print('The top 10 devices that have the most impressions')\n",
    "print((train.device_id.value_counts()/len(train))[0:10])"
   ]
  },
  {
   "cell_type": "code",
   "execution_count": 183,
   "metadata": {},
   "outputs": [
    {
     "name": "stdout",
     "output_type": "stream",
     "text": [
      "for device id value: a99f214a,  click through rate: 0.17352401995896513\n",
      "for device id value: 0f7c61dc,  click through rate: 0.8032786885245902\n",
      "for device id value: c357dbff,  click through rate: 0.5098039215686274\n",
      "for device id value: 936e92fb,  click through rate: 0.024390243902439025\n",
      "for device id value: afeffc18,  click through rate: 0.23529411764705882\n",
      "for device id value: 3cdb4052,  click through rate: 0.8571428571428571\n",
      "for device id value: 28dc8687,  click through rate: 0.0\n",
      "for device id value: b09da1c4,  click through rate: 0.2\n",
      "for device id value: 987552d1,  click through rate: 0.0\n",
      "for device id value: d857ffbb,  click through rate: 0.0\n"
     ]
    }
   ],
   "source": [
    "top10_devices = (train.device_id.value_counts()/len(train))[0:10].index\n",
    "click_avg_list=[]\n",
    "\n",
    "for i in top10_devices:\n",
    "    click_avg=train.loc[np.where((train.device_id == i))].click.mean()\n",
    "    click_avg_list.append(click_avg)\n",
    "    print(\"for device id value: {},  click through rate: {}\".format(i,click_avg))"
   ]
  },
  {
   "cell_type": "code",
   "execution_count": 184,
   "metadata": {},
   "outputs": [
    {
     "data": {
      "image/png": "[encoded data removed]",
      "text/plain": [
       "<matplotlib.figure.Figure at 0x282b10c76d8>"
      ]
     },
     "metadata": {},
     "output_type": "display_data"
    }
   ],
   "source": [
    "top10_device = train[(train.device_id.isin((train.device_id.value_counts()/len(train))[0:10].index))]\n",
    "top10_device_click = top10_device[top10_device['click'] == 1]\n",
    "top10_device.groupby(['device_id', 'click']).size().unstack().plot(kind='bar', figsize=(12,6), title='Top 10 device ids histogram');"
   ]
  },
  {
   "cell_type": "code",
   "execution_count": 186,
   "metadata": {},
   "outputs": [
    {
     "data": {
      "text/plain": [
       "Index(['id', 'click', 'hour', 'C1', 'banner_pos', 'site_id', 'site_domain',\n",
       "       'site_category', 'app_id', 'app_domain', 'app_category', 'device_id',\n",
       "       'device_ip', 'device_model', 'device_type', 'device_conn_type', 'C14',\n",
       "       'C15', 'C16', 'C17', 'C18', 'C19', 'C20', 'C21', 'hour_of_day',\n",
       "       'day_of_week'],\n",
       "      dtype='object')"
      ]
     },
     "execution_count": 186,
     "metadata": {},
     "output_type": "execute_result"
    }
   ],
   "source": [
    "train.columns"
   ]
  },
  {
   "cell_type": "code",
   "execution_count": 191,
   "metadata": {},
   "outputs": [
    {
     "name": "stdout",
     "output_type": "stream",
     "text": [
      "77915\n",
      "3166\n",
      "5\n",
      "4\n"
     ]
    }
   ],
   "source": [
    "print(train.device_ip.nunique())\n",
    "print(train.device_model.nunique())\n",
    "print(train.device_type.nunique())\n",
    "print(train.device_conn_type.nunique())"
   ]
  },
  {
   "cell_type": "code",
   "execution_count": 193,
   "metadata": {},
   "outputs": [
    {
     "data": {
      "text/plain": [
       "1    0.92234\n",
       "0    0.05529\n",
       "4    0.01921\n",
       "5    0.00315\n",
       "2    0.00001\n",
       "Name: device_type, dtype: float64"
      ]
     },
     "execution_count": 193,
     "metadata": {},
     "output_type": "execute_result"
    }
   ],
   "source": [
    "train.device_type.value_counts()/len(train)"
   ]
  },
  {
   "cell_type": "code",
   "execution_count": 197,
   "metadata": {},
   "outputs": [
    {
     "data": {
      "text/plain": [
       "<matplotlib.axes._subplots.AxesSubplot at 0x2828ed91a58>"
      ]
     },
     "execution_count": 197,
     "metadata": {},
     "output_type": "execute_result"
    },
    {
     "data": {
      "image/png": "[encoded data removed]",
      "text/plain": [
       "<matplotlib.figure.Figure at 0x282a767e2e8>"
      ]
     },
     "metadata": {},
     "output_type": "display_data"
    }
   ],
   "source": [
    "train[['device_type', 'click']].groupby(['device_type','click']).size().unstack().plot(kind='bar', figsize=(12,6))"
   ]
  },
  {
   "cell_type": "code",
   "execution_count": 198,
   "metadata": {},
   "outputs": [
    {
     "data": {
      "image/png": "[encoded data removed]",
      "text/plain": [
       "<matplotlib.figure.Figure at 0x28284e96e80>"
      ]
     },
     "metadata": {},
     "output_type": "display_data"
    }
   ],
   "source": [
    "df_click[df_click['device_type']==1].groupby(['hour_of_day', 'click']).size().unstack().plot(kind='bar', title=\"Clicks from device type 1 by hour of day\", figsize=(12,6));"
   ]
  },
  {
   "cell_type": "code",
   "execution_count": 199,
   "metadata": {
    "collapsed": true
   },
   "outputs": [],
   "source": [
    "device_type_click = df_click.groupby('device_type').agg({'click':'sum'}).reset_index()\n",
    "device_type_impression = train.groupby('device_type').agg({'click':'count'}).reset_index().rename(columns={'click': 'impressions'})\n",
    "merged_device_type = pd.merge(left = device_type_click , right = device_type_impression, how = 'inner', on = 'device_type')"
   ]
  },
  {
   "cell_type": "code",
   "execution_count": 200,
   "metadata": {
    "collapsed": true
   },
   "outputs": [],
   "source": [
    "merged_device_type['CTR'] = merged_device_type['click'] / merged_device_type['impressions']*100"
   ]
  },
  {
   "cell_type": "code",
   "execution_count": 201,
   "metadata": {
    "scrolled": true
   },
   "outputs": [
    {
     "data": {
      "text/html": [
       "<div>\n",
       "<style>\n",
       "    .dataframe thead tr:only-child th {\n",
       "        text-align: right;\n",
       "    }\n",
       "\n",
       "    .dataframe thead th {\n",
       "        text-align: left;\n",
       "    }\n",
       "\n",
       "    .dataframe tbody tr th {\n",
       "        vertical-align: top;\n",
       "    }\n",
       "</style>\n",
       "<table border=\"1\" class=\"dataframe\">\n",
       "  <thead>\n",
       "    <tr style=\"text-align: right;\">\n",
       "      <th></th>\n",
       "      <th>device_type</th>\n",
       "      <th>click</th>\n",
       "      <th>impressions</th>\n",
       "      <th>CTR</th>\n",
       "    </tr>\n",
       "  </thead>\n",
       "  <tbody>\n",
       "    <tr>\n",
       "      <th>0</th>\n",
       "      <td>0</td>\n",
       "      <td>1188</td>\n",
       "      <td>5529</td>\n",
       "      <td>21.486706</td>\n",
       "    </tr>\n",
       "    <tr>\n",
       "      <th>1</th>\n",
       "      <td>1</td>\n",
       "      <td>15547</td>\n",
       "      <td>92234</td>\n",
       "      <td>16.856040</td>\n",
       "    </tr>\n",
       "    <tr>\n",
       "      <th>2</th>\n",
       "      <td>4</td>\n",
       "      <td>182</td>\n",
       "      <td>1921</td>\n",
       "      <td>9.474232</td>\n",
       "    </tr>\n",
       "    <tr>\n",
       "      <th>3</th>\n",
       "      <td>5</td>\n",
       "      <td>32</td>\n",
       "      <td>315</td>\n",
       "      <td>10.158730</td>\n",
       "    </tr>\n",
       "  </tbody>\n",
       "</table>\n",
       "</div>"
      ],
      "text/plain": [
       "   device_type  click  impressions        CTR\n",
       "0            0   1188         5529  21.486706\n",
       "1            1  15547        92234  16.856040\n",
       "2            4    182         1921   9.474232\n",
       "3            5     32          315  10.158730"
      ]
     },
     "execution_count": 201,
     "metadata": {},
     "output_type": "execute_result"
    }
   ],
   "source": [
    "merged_device_type"
   ]
  },
  {
   "cell_type": "code",
   "execution_count": 202,
   "metadata": {
    "collapsed": true
   },
   "outputs": [],
   "source": [
    "def convert_obj_to_int(self):\n",
    "    \n",
    "    object_list_columns = self.columns\n",
    "    object_list_dtypes = self.dtypes\n",
    "    new_col_suffix = '_int'\n",
    "    \n",
    "    for index in range(len(object_list_columns)):\n",
    "        if object_list_dtypes[index] == 'object':\n",
    "            self[object_list_columns[index]+new_col_suffix] = self[object_list_columns[index]].map(lambda x: hash(x))\n",
    "            self.drop(object_list_columns[index], axis=1, inplace=True)\n",
    "    return self"
   ]
  },
  {
   "cell_type": "code",
   "execution_count": 203,
   "metadata": {
    "collapsed": true
   },
   "outputs": [],
   "source": [
    "train = convert_obj_to_int(train)"
   ]
  },
  {
   "cell_type": "code",
   "execution_count": 205,
   "metadata": {},
   "outputs": [],
   "source": [
    "train.drop('hour', axis=1, inplace=True)"
   ]
  },
  {
   "cell_type": "code",
   "execution_count": 206,
   "metadata": {
    "collapsed": true
   },
   "outputs": [],
   "source": [
    "train.drop('id', axis=1, inplace=True)"
   ]
  },
  {
   "cell_type": "code",
   "execution_count": 227,
   "metadata": {},
   "outputs": [],
   "source": [
    "import lightgbm as lgb"
   ]
  },
  {
   "cell_type": "code",
   "execution_count": 214,
   "metadata": {
    "collapsed": true
   },
   "outputs": [],
   "source": [
    "X_train = train.loc[:, train.columns != 'click']\n",
    "y_target = train.click.values"
   ]
  },
  {
   "cell_type": "code",
   "execution_count": 228,
   "metadata": {},
   "outputs": [],
   "source": [
    "msk = np.random.rand(len(X_train)) < 0.8\n",
    "lgb_train = lgb.Dataset(X_train[msk], y_target[msk])\n",
    "lgb_eval = lgb.Dataset(X_train[~msk], y_target[~msk], reference=lgb_train)\n"
   ]
  },
  {
   "cell_type": "code",
   "execution_count": 231,
   "metadata": {},
   "outputs": [
    {
     "name": "stdout",
     "output_type": "stream",
     "text": [
      "Start training...\n",
      "[1]\tvalid_0's binary_logloss: 0.455131\n",
      "Training until validation scores don't improve for 500 rounds.\n",
      "[2]\tvalid_0's binary_logloss: 0.450846\n",
      "[3]\tvalid_0's binary_logloss: 0.447332\n",
      "[4]\tvalid_0's binary_logloss: 0.444211\n",
      "[5]\tvalid_0's binary_logloss: 0.441995\n",
      "[6]\tvalid_0's binary_logloss: 0.439595\n",
      "[7]\tvalid_0's binary_logloss: 0.437516\n",
      "[8]\tvalid_0's binary_logloss: 0.435957\n",
      "[9]\tvalid_0's binary_logloss: 0.434413\n",
      "[10]\tvalid_0's binary_logloss: 0.433056\n",
      "[11]\tvalid_0's binary_logloss: 0.431807\n",
      "[12]\tvalid_0's binary_logloss: 0.430632\n",
      "[13]\tvalid_0's binary_logloss: 0.429679\n",
      "[14]\tvalid_0's binary_logloss: 0.428923\n",
      "[15]\tvalid_0's binary_logloss: 0.427996\n",
      "[16]\tvalid_0's binary_logloss: 0.427084\n",
      "[17]\tvalid_0's binary_logloss: 0.426453\n",
      "[18]\tvalid_0's binary_logloss: 0.425594\n",
      "[19]\tvalid_0's binary_logloss: 0.424928\n",
      "[20]\tvalid_0's binary_logloss: 0.424564\n",
      "[21]\tvalid_0's binary_logloss: 0.424126\n",
      "[22]\tvalid_0's binary_logloss: 0.423805\n",
      "[23]\tvalid_0's binary_logloss: 0.423506\n",
      "[24]\tvalid_0's binary_logloss: 0.42313\n",
      "[25]\tvalid_0's binary_logloss: 0.422983\n",
      "[26]\tvalid_0's binary_logloss: 0.422678\n",
      "[27]\tvalid_0's binary_logloss: 0.42245\n",
      "[28]\tvalid_0's binary_logloss: 0.422252\n",
      "[29]\tvalid_0's binary_logloss: 0.422058\n",
      "[30]\tvalid_0's binary_logloss: 0.421818\n",
      "[31]\tvalid_0's binary_logloss: 0.421661\n",
      "[32]\tvalid_0's binary_logloss: 0.421495\n",
      "[33]\tvalid_0's binary_logloss: 0.421441\n",
      "[34]\tvalid_0's binary_logloss: 0.421347\n",
      "[35]\tvalid_0's binary_logloss: 0.421323\n",
      "[36]\tvalid_0's binary_logloss: 0.421186\n",
      "[37]\tvalid_0's binary_logloss: 0.421056\n",
      "[38]\tvalid_0's binary_logloss: 0.420997\n",
      "[39]\tvalid_0's binary_logloss: 0.421021\n",
      "[40]\tvalid_0's binary_logloss: 0.421035\n",
      "[41]\tvalid_0's binary_logloss: 0.420872\n",
      "[42]\tvalid_0's binary_logloss: 0.420691\n",
      "[43]\tvalid_0's binary_logloss: 0.420471\n",
      "[44]\tvalid_0's binary_logloss: 0.420457\n",
      "[45]\tvalid_0's binary_logloss: 0.420461\n",
      "[46]\tvalid_0's binary_logloss: 0.420355\n",
      "[47]\tvalid_0's binary_logloss: 0.420348\n",
      "[48]\tvalid_0's binary_logloss: 0.420254\n",
      "[49]\tvalid_0's binary_logloss: 0.420223\n",
      "[50]\tvalid_0's binary_logloss: 0.420118\n",
      "[51]\tvalid_0's binary_logloss: 0.420028\n",
      "[52]\tvalid_0's binary_logloss: 0.419896\n",
      "[53]\tvalid_0's binary_logloss: 0.419941\n",
      "[54]\tvalid_0's binary_logloss: 0.419936\n",
      "[55]\tvalid_0's binary_logloss: 0.41989\n",
      "[56]\tvalid_0's binary_logloss: 0.419807\n",
      "[57]\tvalid_0's binary_logloss: 0.419725\n",
      "[58]\tvalid_0's binary_logloss: 0.419763\n",
      "[59]\tvalid_0's binary_logloss: 0.419642\n",
      "[60]\tvalid_0's binary_logloss: 0.419659\n",
      "[61]\tvalid_0's binary_logloss: 0.419664\n",
      "[62]\tvalid_0's binary_logloss: 0.419549\n",
      "[63]\tvalid_0's binary_logloss: 0.419577\n",
      "[64]\tvalid_0's binary_logloss: 0.41952\n",
      "[65]\tvalid_0's binary_logloss: 0.419431\n",
      "[66]\tvalid_0's binary_logloss: 0.419445\n",
      "[67]\tvalid_0's binary_logloss: 0.419432\n",
      "[68]\tvalid_0's binary_logloss: 0.419374\n",
      "[69]\tvalid_0's binary_logloss: 0.419347\n",
      "[70]\tvalid_0's binary_logloss: 0.419353\n",
      "[71]\tvalid_0's binary_logloss: 0.419279\n",
      "[72]\tvalid_0's binary_logloss: 0.419234\n",
      "[73]\tvalid_0's binary_logloss: 0.419153\n",
      "[74]\tvalid_0's binary_logloss: 0.419065\n",
      "[75]\tvalid_0's binary_logloss: 0.41894\n",
      "[76]\tvalid_0's binary_logloss: 0.418864\n",
      "[77]\tvalid_0's binary_logloss: 0.41876\n",
      "[78]\tvalid_0's binary_logloss: 0.418727\n",
      "[79]\tvalid_0's binary_logloss: 0.418672\n",
      "[80]\tvalid_0's binary_logloss: 0.418748\n",
      "[81]\tvalid_0's binary_logloss: 0.418678\n",
      "[82]\tvalid_0's binary_logloss: 0.418665\n",
      "[83]\tvalid_0's binary_logloss: 0.418599\n",
      "[84]\tvalid_0's binary_logloss: 0.41856\n",
      "[85]\tvalid_0's binary_logloss: 0.41854\n",
      "[86]\tvalid_0's binary_logloss: 0.418473\n",
      "[87]\tvalid_0's binary_logloss: 0.41849\n",
      "[88]\tvalid_0's binary_logloss: 0.418501\n",
      "[89]\tvalid_0's binary_logloss: 0.418584\n",
      "[90]\tvalid_0's binary_logloss: 0.418607\n",
      "[91]\tvalid_0's binary_logloss: 0.418539\n",
      "[92]\tvalid_0's binary_logloss: 0.418519\n",
      "[93]\tvalid_0's binary_logloss: 0.418459\n",
      "[94]\tvalid_0's binary_logloss: 0.418437\n",
      "[95]\tvalid_0's binary_logloss: 0.418415\n",
      "[96]\tvalid_0's binary_logloss: 0.418399\n",
      "[97]\tvalid_0's binary_logloss: 0.418351\n",
      "[98]\tvalid_0's binary_logloss: 0.418398\n",
      "[99]\tvalid_0's binary_logloss: 0.418467\n",
      "[100]\tvalid_0's binary_logloss: 0.418493\n",
      "[101]\tvalid_0's binary_logloss: 0.418427\n",
      "[102]\tvalid_0's binary_logloss: 0.418317\n",
      "[103]\tvalid_0's binary_logloss: 0.418271\n",
      "[104]\tvalid_0's binary_logloss: 0.418302\n",
      "[105]\tvalid_0's binary_logloss: 0.418256\n",
      "[106]\tvalid_0's binary_logloss: 0.418136\n",
      "[107]\tvalid_0's binary_logloss: 0.418026\n",
      "[108]\tvalid_0's binary_logloss: 0.418025\n",
      "[109]\tvalid_0's binary_logloss: 0.418015\n",
      "[110]\tvalid_0's binary_logloss: 0.418083\n",
      "[111]\tvalid_0's binary_logloss: 0.418129\n",
      "[112]\tvalid_0's binary_logloss: 0.418205\n",
      "[113]\tvalid_0's binary_logloss: 0.41815\n",
      "[114]\tvalid_0's binary_logloss: 0.418001\n",
      "[115]\tvalid_0's binary_logloss: 0.418015\n",
      "[116]\tvalid_0's binary_logloss: 0.418033\n",
      "[117]\tvalid_0's binary_logloss: 0.418066\n",
      "[118]\tvalid_0's binary_logloss: 0.418072\n",
      "[119]\tvalid_0's binary_logloss: 0.418064\n",
      "[120]\tvalid_0's binary_logloss: 0.418126\n",
      "[121]\tvalid_0's binary_logloss: 0.418075\n",
      "[122]\tvalid_0's binary_logloss: 0.418053\n",
      "[123]\tvalid_0's binary_logloss: 0.417992\n",
      "[124]\tvalid_0's binary_logloss: 0.418062\n",
      "[125]\tvalid_0's binary_logloss: 0.418125\n",
      "[126]\tvalid_0's binary_logloss: 0.418192\n",
      "[127]\tvalid_0's binary_logloss: 0.418127\n",
      "[128]\tvalid_0's binary_logloss: 0.418038\n",
      "[129]\tvalid_0's binary_logloss: 0.418016\n",
      "[130]\tvalid_0's binary_logloss: 0.418029\n",
      "[131]\tvalid_0's binary_logloss: 0.418018\n",
      "[132]\tvalid_0's binary_logloss: 0.418086\n",
      "[133]\tvalid_0's binary_logloss: 0.41815\n",
      "[134]\tvalid_0's binary_logloss: 0.418159\n",
      "[135]\tvalid_0's binary_logloss: 0.418127\n",
      "[136]\tvalid_0's binary_logloss: 0.418089\n",
      "[137]\tvalid_0's binary_logloss: 0.418099\n",
      "[138]\tvalid_0's binary_logloss: 0.418028\n",
      "[139]\tvalid_0's binary_logloss: 0.418094\n",
      "[140]\tvalid_0's binary_logloss: 0.418195\n",
      "[141]\tvalid_0's binary_logloss: 0.418133\n",
      "[142]\tvalid_0's binary_logloss: 0.418094\n",
      "[143]\tvalid_0's binary_logloss: 0.418094\n",
      "[144]\tvalid_0's binary_logloss: 0.418059\n",
      "[145]\tvalid_0's binary_logloss: 0.418019\n",
      "[146]\tvalid_0's binary_logloss: 0.418044\n",
      "[147]\tvalid_0's binary_logloss: 0.417998\n",
      "[148]\tvalid_0's binary_logloss: 0.418015\n",
      "[149]\tvalid_0's binary_logloss: 0.418108\n",
      "[150]\tvalid_0's binary_logloss: 0.41808\n",
      "[151]\tvalid_0's binary_logloss: 0.418137\n",
      "[152]\tvalid_0's binary_logloss: 0.418179\n",
      "[153]\tvalid_0's binary_logloss: 0.418169\n",
      "[154]\tvalid_0's binary_logloss: 0.418183\n",
      "[155]\tvalid_0's binary_logloss: 0.418176\n",
      "[156]\tvalid_0's binary_logloss: 0.418194\n",
      "[157]\tvalid_0's binary_logloss: 0.418226\n",
      "[158]\tvalid_0's binary_logloss: 0.418205\n",
      "[159]\tvalid_0's binary_logloss: 0.418222\n",
      "[160]\tvalid_0's binary_logloss: 0.41819\n",
      "[161]\tvalid_0's binary_logloss: 0.418236\n",
      "[162]\tvalid_0's binary_logloss: 0.418202\n",
      "[163]\tvalid_0's binary_logloss: 0.418215\n",
      "[164]\tvalid_0's binary_logloss: 0.418246\n",
      "[165]\tvalid_0's binary_logloss: 0.418351\n",
      "[166]\tvalid_0's binary_logloss: 0.418403\n",
      "[167]\tvalid_0's binary_logloss: 0.418276\n",
      "[168]\tvalid_0's binary_logloss: 0.418329\n",
      "[169]\tvalid_0's binary_logloss: 0.418422\n",
      "[170]\tvalid_0's binary_logloss: 0.418311\n",
      "[171]\tvalid_0's binary_logloss: 0.418331\n",
      "[172]\tvalid_0's binary_logloss: 0.418278\n",
      "[173]\tvalid_0's binary_logloss: 0.418213\n",
      "[174]\tvalid_0's binary_logloss: 0.418288\n",
      "[175]\tvalid_0's binary_logloss: 0.418409\n",
      "[176]\tvalid_0's binary_logloss: 0.418425\n",
      "[177]\tvalid_0's binary_logloss: 0.418402\n",
      "[178]\tvalid_0's binary_logloss: 0.418411\n",
      "[179]\tvalid_0's binary_logloss: 0.418453\n",
      "[180]\tvalid_0's binary_logloss: 0.418497\n",
      "[181]\tvalid_0's binary_logloss: 0.418402\n",
      "[182]\tvalid_0's binary_logloss: 0.418406\n",
      "[183]\tvalid_0's binary_logloss: 0.418466\n",
      "[184]\tvalid_0's binary_logloss: 0.418447\n",
      "[185]\tvalid_0's binary_logloss: 0.41849\n",
      "[186]\tvalid_0's binary_logloss: 0.418477\n",
      "[187]\tvalid_0's binary_logloss: 0.41838\n",
      "[188]\tvalid_0's binary_logloss: 0.418343\n",
      "[189]\tvalid_0's binary_logloss: 0.41834\n",
      "[190]\tvalid_0's binary_logloss: 0.418324\n",
      "[191]\tvalid_0's binary_logloss: 0.418335\n",
      "[192]\tvalid_0's binary_logloss: 0.418344\n",
      "[193]\tvalid_0's binary_logloss: 0.418231\n",
      "[194]\tvalid_0's binary_logloss: 0.418255\n",
      "[195]\tvalid_0's binary_logloss: 0.418293\n",
      "[196]\tvalid_0's binary_logloss: 0.418255\n",
      "[197]\tvalid_0's binary_logloss: 0.418214\n",
      "[198]\tvalid_0's binary_logloss: 0.418203\n",
      "[199]\tvalid_0's binary_logloss: 0.418124\n",
      "[200]\tvalid_0's binary_logloss: 0.418111\n",
      "[201]\tvalid_0's binary_logloss: 0.418138\n",
      "[202]\tvalid_0's binary_logloss: 0.418166\n",
      "[203]\tvalid_0's binary_logloss: 0.418226\n",
      "[204]\tvalid_0's binary_logloss: 0.418293\n",
      "[205]\tvalid_0's binary_logloss: 0.418368\n",
      "[206]\tvalid_0's binary_logloss: 0.418446\n",
      "[207]\tvalid_0's binary_logloss: 0.41843\n",
      "[208]\tvalid_0's binary_logloss: 0.418475\n",
      "[209]\tvalid_0's binary_logloss: 0.418548\n",
      "[210]\tvalid_0's binary_logloss: 0.41868\n",
      "[211]\tvalid_0's binary_logloss: 0.418692\n",
      "[212]\tvalid_0's binary_logloss: 0.418707\n",
      "[213]\tvalid_0's binary_logloss: 0.418775\n"
     ]
    },
    {
     "name": "stdout",
     "output_type": "stream",
     "text": [
      "[214]\tvalid_0's binary_logloss: 0.418828\n",
      "[215]\tvalid_0's binary_logloss: 0.418825\n",
      "[216]\tvalid_0's binary_logloss: 0.418841\n",
      "[217]\tvalid_0's binary_logloss: 0.418848\n",
      "[218]\tvalid_0's binary_logloss: 0.418952\n",
      "[219]\tvalid_0's binary_logloss: 0.418963\n",
      "[220]\tvalid_0's binary_logloss: 0.418996\n",
      "[221]\tvalid_0's binary_logloss: 0.419042\n",
      "[222]\tvalid_0's binary_logloss: 0.419065\n",
      "[223]\tvalid_0's binary_logloss: 0.419019\n",
      "[224]\tvalid_0's binary_logloss: 0.41909\n",
      "[225]\tvalid_0's binary_logloss: 0.419155\n",
      "[226]\tvalid_0's binary_logloss: 0.419129\n",
      "[227]\tvalid_0's binary_logloss: 0.419135\n",
      "[228]\tvalid_0's binary_logloss: 0.419177\n",
      "[229]\tvalid_0's binary_logloss: 0.419237\n",
      "[230]\tvalid_0's binary_logloss: 0.41921\n",
      "[231]\tvalid_0's binary_logloss: 0.419146\n",
      "[232]\tvalid_0's binary_logloss: 0.419212\n",
      "[233]\tvalid_0's binary_logloss: 0.419192\n",
      "[234]\tvalid_0's binary_logloss: 0.419205\n",
      "[235]\tvalid_0's binary_logloss: 0.419197\n",
      "[236]\tvalid_0's binary_logloss: 0.419213\n",
      "[237]\tvalid_0's binary_logloss: 0.419169\n",
      "[238]\tvalid_0's binary_logloss: 0.41918\n",
      "[239]\tvalid_0's binary_logloss: 0.419149\n",
      "[240]\tvalid_0's binary_logloss: 0.419084\n",
      "[241]\tvalid_0's binary_logloss: 0.418999\n",
      "[242]\tvalid_0's binary_logloss: 0.419151\n",
      "[243]\tvalid_0's binary_logloss: 0.419135\n",
      "[244]\tvalid_0's binary_logloss: 0.419101\n",
      "[245]\tvalid_0's binary_logloss: 0.419086\n",
      "[246]\tvalid_0's binary_logloss: 0.419078\n",
      "[247]\tvalid_0's binary_logloss: 0.419139\n",
      "[248]\tvalid_0's binary_logloss: 0.419274\n",
      "[249]\tvalid_0's binary_logloss: 0.419305\n",
      "[250]\tvalid_0's binary_logloss: 0.419338\n",
      "[251]\tvalid_0's binary_logloss: 0.4194\n",
      "[252]\tvalid_0's binary_logloss: 0.419412\n",
      "[253]\tvalid_0's binary_logloss: 0.419374\n",
      "[254]\tvalid_0's binary_logloss: 0.41945\n",
      "[255]\tvalid_0's binary_logloss: 0.419527\n",
      "[256]\tvalid_0's binary_logloss: 0.419532\n",
      "[257]\tvalid_0's binary_logloss: 0.419556\n",
      "[258]\tvalid_0's binary_logloss: 0.419525\n",
      "[259]\tvalid_0's binary_logloss: 0.419493\n",
      "[260]\tvalid_0's binary_logloss: 0.419612\n",
      "[261]\tvalid_0's binary_logloss: 0.419649\n",
      "[262]\tvalid_0's binary_logloss: 0.419769\n",
      "[263]\tvalid_0's binary_logloss: 0.419889\n",
      "[264]\tvalid_0's binary_logloss: 0.420005\n",
      "[265]\tvalid_0's binary_logloss: 0.41999\n",
      "[266]\tvalid_0's binary_logloss: 0.419977\n",
      "[267]\tvalid_0's binary_logloss: 0.42008\n",
      "[268]\tvalid_0's binary_logloss: 0.420091\n",
      "[269]\tvalid_0's binary_logloss: 0.420043\n",
      "[270]\tvalid_0's binary_logloss: 0.420086\n",
      "[271]\tvalid_0's binary_logloss: 0.420076\n",
      "[272]\tvalid_0's binary_logloss: 0.420039\n",
      "[273]\tvalid_0's binary_logloss: 0.419969\n",
      "[274]\tvalid_0's binary_logloss: 0.419938\n",
      "[275]\tvalid_0's binary_logloss: 0.419958\n",
      "[276]\tvalid_0's binary_logloss: 0.419951\n",
      "[277]\tvalid_0's binary_logloss: 0.419943\n",
      "[278]\tvalid_0's binary_logloss: 0.419991\n",
      "[279]\tvalid_0's binary_logloss: 0.420032\n",
      "[280]\tvalid_0's binary_logloss: 0.419993\n",
      "[281]\tvalid_0's binary_logloss: 0.419922\n",
      "[282]\tvalid_0's binary_logloss: 0.419788\n",
      "[283]\tvalid_0's binary_logloss: 0.419778\n",
      "[284]\tvalid_0's binary_logloss: 0.419795\n",
      "[285]\tvalid_0's binary_logloss: 0.41985\n",
      "[286]\tvalid_0's binary_logloss: 0.419877\n",
      "[287]\tvalid_0's binary_logloss: 0.419861\n",
      "[288]\tvalid_0's binary_logloss: 0.4199\n",
      "[289]\tvalid_0's binary_logloss: 0.419956\n",
      "[290]\tvalid_0's binary_logloss: 0.419999\n",
      "[291]\tvalid_0's binary_logloss: 0.420032\n",
      "[292]\tvalid_0's binary_logloss: 0.420059\n",
      "[293]\tvalid_0's binary_logloss: 0.420079\n",
      "[294]\tvalid_0's binary_logloss: 0.420152\n",
      "[295]\tvalid_0's binary_logloss: 0.420139\n",
      "[296]\tvalid_0's binary_logloss: 0.420083\n",
      "[297]\tvalid_0's binary_logloss: 0.420039\n",
      "[298]\tvalid_0's binary_logloss: 0.420023\n",
      "[299]\tvalid_0's binary_logloss: 0.420034\n",
      "[300]\tvalid_0's binary_logloss: 0.420073\n",
      "[301]\tvalid_0's binary_logloss: 0.420028\n",
      "[302]\tvalid_0's binary_logloss: 0.420045\n",
      "[303]\tvalid_0's binary_logloss: 0.420114\n",
      "[304]\tvalid_0's binary_logloss: 0.420091\n",
      "[305]\tvalid_0's binary_logloss: 0.420097\n",
      "[306]\tvalid_0's binary_logloss: 0.420172\n",
      "[307]\tvalid_0's binary_logloss: 0.42018\n",
      "[308]\tvalid_0's binary_logloss: 0.420266\n",
      "[309]\tvalid_0's binary_logloss: 0.420367\n",
      "[310]\tvalid_0's binary_logloss: 0.420496\n",
      "[311]\tvalid_0's binary_logloss: 0.420438\n",
      "[312]\tvalid_0's binary_logloss: 0.420395\n",
      "[313]\tvalid_0's binary_logloss: 0.420376\n",
      "[314]\tvalid_0's binary_logloss: 0.420423\n",
      "[315]\tvalid_0's binary_logloss: 0.420457\n",
      "[316]\tvalid_0's binary_logloss: 0.42045\n",
      "[317]\tvalid_0's binary_logloss: 0.420477\n",
      "[318]\tvalid_0's binary_logloss: 0.420503\n",
      "[319]\tvalid_0's binary_logloss: 0.420513\n",
      "[320]\tvalid_0's binary_logloss: 0.420555\n",
      "[321]\tvalid_0's binary_logloss: 0.420655\n",
      "[322]\tvalid_0's binary_logloss: 0.420763\n",
      "[323]\tvalid_0's binary_logloss: 0.420788\n",
      "[324]\tvalid_0's binary_logloss: 0.420853\n",
      "[325]\tvalid_0's binary_logloss: 0.420916\n",
      "[326]\tvalid_0's binary_logloss: 0.420877\n",
      "[327]\tvalid_0's binary_logloss: 0.420895\n",
      "[328]\tvalid_0's binary_logloss: 0.420883\n",
      "[329]\tvalid_0's binary_logloss: 0.420859\n",
      "[330]\tvalid_0's binary_logloss: 0.42092\n",
      "[331]\tvalid_0's binary_logloss: 0.420953\n",
      "[332]\tvalid_0's binary_logloss: 0.420878\n",
      "[333]\tvalid_0's binary_logloss: 0.420943\n",
      "[334]\tvalid_0's binary_logloss: 0.421053\n",
      "[335]\tvalid_0's binary_logloss: 0.421053\n",
      "[336]\tvalid_0's binary_logloss: 0.420981\n",
      "[337]\tvalid_0's binary_logloss: 0.421011\n",
      "[338]\tvalid_0's binary_logloss: 0.420971\n",
      "[339]\tvalid_0's binary_logloss: 0.420974\n",
      "[340]\tvalid_0's binary_logloss: 0.420931\n",
      "[341]\tvalid_0's binary_logloss: 0.420949\n",
      "[342]\tvalid_0's binary_logloss: 0.420891\n",
      "[343]\tvalid_0's binary_logloss: 0.420926\n",
      "[344]\tvalid_0's binary_logloss: 0.420922\n",
      "[345]\tvalid_0's binary_logloss: 0.420982\n",
      "[346]\tvalid_0's binary_logloss: 0.420994\n",
      "[347]\tvalid_0's binary_logloss: 0.421046\n",
      "[348]\tvalid_0's binary_logloss: 0.421077\n",
      "[349]\tvalid_0's binary_logloss: 0.421029\n",
      "[350]\tvalid_0's binary_logloss: 0.421143\n",
      "[351]\tvalid_0's binary_logloss: 0.421198\n",
      "[352]\tvalid_0's binary_logloss: 0.421265\n",
      "[353]\tvalid_0's binary_logloss: 0.421251\n",
      "[354]\tvalid_0's binary_logloss: 0.421276\n",
      "[355]\tvalid_0's binary_logloss: 0.421376\n",
      "[356]\tvalid_0's binary_logloss: 0.421418\n",
      "[357]\tvalid_0's binary_logloss: 0.421473\n",
      "[358]\tvalid_0's binary_logloss: 0.421612\n",
      "[359]\tvalid_0's binary_logloss: 0.421677\n",
      "[360]\tvalid_0's binary_logloss: 0.421744\n",
      "[361]\tvalid_0's binary_logloss: 0.421798\n",
      "[362]\tvalid_0's binary_logloss: 0.42188\n",
      "[363]\tvalid_0's binary_logloss: 0.421968\n",
      "[364]\tvalid_0's binary_logloss: 0.421989\n",
      "[365]\tvalid_0's binary_logloss: 0.422038\n",
      "[366]\tvalid_0's binary_logloss: 0.422021\n",
      "[367]\tvalid_0's binary_logloss: 0.42201\n",
      "[368]\tvalid_0's binary_logloss: 0.422035\n",
      "[369]\tvalid_0's binary_logloss: 0.422031\n",
      "[370]\tvalid_0's binary_logloss: 0.42209\n",
      "[371]\tvalid_0's binary_logloss: 0.422222\n",
      "[372]\tvalid_0's binary_logloss: 0.422284\n",
      "[373]\tvalid_0's binary_logloss: 0.422279\n",
      "[374]\tvalid_0's binary_logloss: 0.422304\n",
      "[375]\tvalid_0's binary_logloss: 0.42228\n",
      "[376]\tvalid_0's binary_logloss: 0.422166\n",
      "[377]\tvalid_0's binary_logloss: 0.422096\n",
      "[378]\tvalid_0's binary_logloss: 0.422063\n",
      "[379]\tvalid_0's binary_logloss: 0.422046\n",
      "[380]\tvalid_0's binary_logloss: 0.422027\n",
      "[381]\tvalid_0's binary_logloss: 0.421999\n",
      "[382]\tvalid_0's binary_logloss: 0.422069\n",
      "[383]\tvalid_0's binary_logloss: 0.42217\n",
      "[384]\tvalid_0's binary_logloss: 0.422249\n",
      "[385]\tvalid_0's binary_logloss: 0.422279\n",
      "[386]\tvalid_0's binary_logloss: 0.4223\n",
      "[387]\tvalid_0's binary_logloss: 0.422368\n",
      "[388]\tvalid_0's binary_logloss: 0.422479\n",
      "[389]\tvalid_0's binary_logloss: 0.422557\n",
      "[390]\tvalid_0's binary_logloss: 0.422619\n",
      "[391]\tvalid_0's binary_logloss: 0.422653\n",
      "[392]\tvalid_0's binary_logloss: 0.422673\n",
      "[393]\tvalid_0's binary_logloss: 0.422805\n",
      "[394]\tvalid_0's binary_logloss: 0.422799\n",
      "[395]\tvalid_0's binary_logloss: 0.422895\n",
      "[396]\tvalid_0's binary_logloss: 0.422853\n",
      "[397]\tvalid_0's binary_logloss: 0.422796\n",
      "[398]\tvalid_0's binary_logloss: 0.422724\n",
      "[399]\tvalid_0's binary_logloss: 0.422788\n",
      "[400]\tvalid_0's binary_logloss: 0.422767\n",
      "[401]\tvalid_0's binary_logloss: 0.422716\n",
      "[402]\tvalid_0's binary_logloss: 0.422774\n",
      "[403]\tvalid_0's binary_logloss: 0.422808\n",
      "[404]\tvalid_0's binary_logloss: 0.422856\n",
      "[405]\tvalid_0's binary_logloss: 0.422888\n",
      "[406]\tvalid_0's binary_logloss: 0.422936\n",
      "[407]\tvalid_0's binary_logloss: 0.422946\n",
      "[408]\tvalid_0's binary_logloss: 0.422927\n",
      "[409]\tvalid_0's binary_logloss: 0.422928\n",
      "[410]\tvalid_0's binary_logloss: 0.422962\n",
      "[411]\tvalid_0's binary_logloss: 0.422892\n",
      "[412]\tvalid_0's binary_logloss: 0.422794\n",
      "[413]\tvalid_0's binary_logloss: 0.422745\n",
      "[414]\tvalid_0's binary_logloss: 0.422751\n",
      "[415]\tvalid_0's binary_logloss: 0.422707\n",
      "[416]\tvalid_0's binary_logloss: 0.422646\n"
     ]
    },
    {
     "name": "stdout",
     "output_type": "stream",
     "text": [
      "[417]\tvalid_0's binary_logloss: 0.422606\n",
      "[418]\tvalid_0's binary_logloss: 0.422594\n",
      "[419]\tvalid_0's binary_logloss: 0.422614\n",
      "[420]\tvalid_0's binary_logloss: 0.422617\n",
      "[421]\tvalid_0's binary_logloss: 0.422621\n",
      "[422]\tvalid_0's binary_logloss: 0.422717\n",
      "[423]\tvalid_0's binary_logloss: 0.422722\n",
      "[424]\tvalid_0's binary_logloss: 0.422699\n",
      "[425]\tvalid_0's binary_logloss: 0.422772\n",
      "[426]\tvalid_0's binary_logloss: 0.42275\n",
      "[427]\tvalid_0's binary_logloss: 0.422805\n",
      "[428]\tvalid_0's binary_logloss: 0.42267\n",
      "[429]\tvalid_0's binary_logloss: 0.422712\n",
      "[430]\tvalid_0's binary_logloss: 0.422714\n",
      "[431]\tvalid_0's binary_logloss: 0.422815\n",
      "[432]\tvalid_0's binary_logloss: 0.422785\n",
      "[433]\tvalid_0's binary_logloss: 0.422805\n",
      "[434]\tvalid_0's binary_logloss: 0.422785\n",
      "[435]\tvalid_0's binary_logloss: 0.422749\n",
      "[436]\tvalid_0's binary_logloss: 0.422819\n",
      "[437]\tvalid_0's binary_logloss: 0.422893\n",
      "[438]\tvalid_0's binary_logloss: 0.422886\n",
      "[439]\tvalid_0's binary_logloss: 0.422979\n",
      "[440]\tvalid_0's binary_logloss: 0.423004\n",
      "[441]\tvalid_0's binary_logloss: 0.423012\n",
      "[442]\tvalid_0's binary_logloss: 0.423029\n",
      "[443]\tvalid_0's binary_logloss: 0.423024\n",
      "[444]\tvalid_0's binary_logloss: 0.42307\n",
      "[445]\tvalid_0's binary_logloss: 0.423162\n",
      "[446]\tvalid_0's binary_logloss: 0.423209\n",
      "[447]\tvalid_0's binary_logloss: 0.423152\n",
      "[448]\tvalid_0's binary_logloss: 0.423166\n",
      "[449]\tvalid_0's binary_logloss: 0.423154\n",
      "[450]\tvalid_0's binary_logloss: 0.423083\n",
      "[451]\tvalid_0's binary_logloss: 0.423061\n",
      "[452]\tvalid_0's binary_logloss: 0.423034\n",
      "[453]\tvalid_0's binary_logloss: 0.423125\n",
      "[454]\tvalid_0's binary_logloss: 0.42307\n",
      "[455]\tvalid_0's binary_logloss: 0.423095\n",
      "[456]\tvalid_0's binary_logloss: 0.423163\n",
      "[457]\tvalid_0's binary_logloss: 0.423182\n",
      "[458]\tvalid_0's binary_logloss: 0.42323\n",
      "[459]\tvalid_0's binary_logloss: 0.423297\n",
      "[460]\tvalid_0's binary_logloss: 0.423367\n",
      "[461]\tvalid_0's binary_logloss: 0.42345\n",
      "[462]\tvalid_0's binary_logloss: 0.423473\n",
      "[463]\tvalid_0's binary_logloss: 0.423497\n",
      "[464]\tvalid_0's binary_logloss: 0.423556\n",
      "[465]\tvalid_0's binary_logloss: 0.423575\n",
      "[466]\tvalid_0's binary_logloss: 0.423569\n",
      "[467]\tvalid_0's binary_logloss: 0.423612\n",
      "[468]\tvalid_0's binary_logloss: 0.423685\n",
      "[469]\tvalid_0's binary_logloss: 0.423757\n",
      "[470]\tvalid_0's binary_logloss: 0.423823\n",
      "[471]\tvalid_0's binary_logloss: 0.423821\n",
      "[472]\tvalid_0's binary_logloss: 0.423859\n",
      "[473]\tvalid_0's binary_logloss: 0.423899\n",
      "[474]\tvalid_0's binary_logloss: 0.423956\n",
      "[475]\tvalid_0's binary_logloss: 0.423921\n",
      "[476]\tvalid_0's binary_logloss: 0.423925\n",
      "[477]\tvalid_0's binary_logloss: 0.423898\n",
      "[478]\tvalid_0's binary_logloss: 0.423957\n",
      "[479]\tvalid_0's binary_logloss: 0.423963\n",
      "[480]\tvalid_0's binary_logloss: 0.424051\n",
      "[481]\tvalid_0's binary_logloss: 0.424032\n",
      "[482]\tvalid_0's binary_logloss: 0.424079\n",
      "[483]\tvalid_0's binary_logloss: 0.424046\n",
      "[484]\tvalid_0's binary_logloss: 0.424111\n",
      "[485]\tvalid_0's binary_logloss: 0.424058\n",
      "[486]\tvalid_0's binary_logloss: 0.424053\n",
      "[487]\tvalid_0's binary_logloss: 0.42404\n",
      "[488]\tvalid_0's binary_logloss: 0.424021\n",
      "[489]\tvalid_0's binary_logloss: 0.424044\n",
      "[490]\tvalid_0's binary_logloss: 0.424098\n",
      "[491]\tvalid_0's binary_logloss: 0.424082\n",
      "[492]\tvalid_0's binary_logloss: 0.424114\n",
      "[493]\tvalid_0's binary_logloss: 0.424139\n",
      "[494]\tvalid_0's binary_logloss: 0.42413\n",
      "[495]\tvalid_0's binary_logloss: 0.424186\n",
      "[496]\tvalid_0's binary_logloss: 0.424271\n",
      "[497]\tvalid_0's binary_logloss: 0.424346\n",
      "[498]\tvalid_0's binary_logloss: 0.424367\n",
      "[499]\tvalid_0's binary_logloss: 0.424438\n",
      "[500]\tvalid_0's binary_logloss: 0.42447\n",
      "[501]\tvalid_0's binary_logloss: 0.424397\n",
      "[502]\tvalid_0's binary_logloss: 0.424427\n",
      "[503]\tvalid_0's binary_logloss: 0.424463\n",
      "[504]\tvalid_0's binary_logloss: 0.424523\n",
      "[505]\tvalid_0's binary_logloss: 0.424578\n",
      "[506]\tvalid_0's binary_logloss: 0.424627\n",
      "[507]\tvalid_0's binary_logloss: 0.42474\n",
      "[508]\tvalid_0's binary_logloss: 0.424826\n",
      "[509]\tvalid_0's binary_logloss: 0.42487\n",
      "[510]\tvalid_0's binary_logloss: 0.424931\n",
      "[511]\tvalid_0's binary_logloss: 0.424986\n",
      "[512]\tvalid_0's binary_logloss: 0.425114\n",
      "[513]\tvalid_0's binary_logloss: 0.424981\n",
      "[514]\tvalid_0's binary_logloss: 0.424982\n",
      "[515]\tvalid_0's binary_logloss: 0.425065\n",
      "[516]\tvalid_0's binary_logloss: 0.4251\n",
      "[517]\tvalid_0's binary_logloss: 0.425065\n",
      "[518]\tvalid_0's binary_logloss: 0.425094\n",
      "[519]\tvalid_0's binary_logloss: 0.425058\n",
      "[520]\tvalid_0's binary_logloss: 0.424989\n",
      "[521]\tvalid_0's binary_logloss: 0.424986\n",
      "[522]\tvalid_0's binary_logloss: 0.424977\n",
      "[523]\tvalid_0's binary_logloss: 0.424908\n",
      "[524]\tvalid_0's binary_logloss: 0.424978\n",
      "[525]\tvalid_0's binary_logloss: 0.425005\n",
      "[526]\tvalid_0's binary_logloss: 0.425089\n",
      "[527]\tvalid_0's binary_logloss: 0.42511\n",
      "[528]\tvalid_0's binary_logloss: 0.425114\n",
      "[529]\tvalid_0's binary_logloss: 0.42521\n",
      "[530]\tvalid_0's binary_logloss: 0.425215\n",
      "[531]\tvalid_0's binary_logloss: 0.425376\n",
      "[532]\tvalid_0's binary_logloss: 0.425369\n",
      "[533]\tvalid_0's binary_logloss: 0.425471\n",
      "[534]\tvalid_0's binary_logloss: 0.42551\n",
      "[535]\tvalid_0's binary_logloss: 0.425454\n",
      "[536]\tvalid_0's binary_logloss: 0.425559\n",
      "[537]\tvalid_0's binary_logloss: 0.425597\n",
      "[538]\tvalid_0's binary_logloss: 0.425681\n",
      "[539]\tvalid_0's binary_logloss: 0.425753\n",
      "[540]\tvalid_0's binary_logloss: 0.425803\n",
      "[541]\tvalid_0's binary_logloss: 0.425816\n",
      "[542]\tvalid_0's binary_logloss: 0.425835\n",
      "[543]\tvalid_0's binary_logloss: 0.425756\n",
      "[544]\tvalid_0's binary_logloss: 0.425716\n",
      "[545]\tvalid_0's binary_logloss: 0.425699\n",
      "[546]\tvalid_0's binary_logloss: 0.42574\n",
      "[547]\tvalid_0's binary_logloss: 0.425805\n",
      "[548]\tvalid_0's binary_logloss: 0.425786\n",
      "[549]\tvalid_0's binary_logloss: 0.425798\n",
      "[550]\tvalid_0's binary_logloss: 0.425791\n",
      "[551]\tvalid_0's binary_logloss: 0.425932\n",
      "[552]\tvalid_0's binary_logloss: 0.426002\n",
      "[553]\tvalid_0's binary_logloss: 0.425951\n",
      "[554]\tvalid_0's binary_logloss: 0.425948\n",
      "[555]\tvalid_0's binary_logloss: 0.426012\n",
      "[556]\tvalid_0's binary_logloss: 0.425997\n",
      "[557]\tvalid_0's binary_logloss: 0.425975\n",
      "[558]\tvalid_0's binary_logloss: 0.42595\n",
      "[559]\tvalid_0's binary_logloss: 0.425989\n",
      "[560]\tvalid_0's binary_logloss: 0.42602\n",
      "[561]\tvalid_0's binary_logloss: 0.425979\n",
      "[562]\tvalid_0's binary_logloss: 0.425998\n",
      "[563]\tvalid_0's binary_logloss: 0.426036\n",
      "[564]\tvalid_0's binary_logloss: 0.426041\n",
      "[565]\tvalid_0's binary_logloss: 0.426141\n",
      "[566]\tvalid_0's binary_logloss: 0.426199\n",
      "[567]\tvalid_0's binary_logloss: 0.426241\n",
      "[568]\tvalid_0's binary_logloss: 0.426317\n",
      "[569]\tvalid_0's binary_logloss: 0.426368\n",
      "[570]\tvalid_0's binary_logloss: 0.426325\n",
      "[571]\tvalid_0's binary_logloss: 0.42635\n",
      "[572]\tvalid_0's binary_logloss: 0.42636\n",
      "[573]\tvalid_0's binary_logloss: 0.426395\n",
      "[574]\tvalid_0's binary_logloss: 0.42646\n",
      "[575]\tvalid_0's binary_logloss: 0.426535\n",
      "[576]\tvalid_0's binary_logloss: 0.426503\n",
      "[577]\tvalid_0's binary_logloss: 0.426548\n",
      "[578]\tvalid_0's binary_logloss: 0.426563\n",
      "[579]\tvalid_0's binary_logloss: 0.426565\n",
      "[580]\tvalid_0's binary_logloss: 0.426558\n",
      "[581]\tvalid_0's binary_logloss: 0.426658\n",
      "[582]\tvalid_0's binary_logloss: 0.426724\n",
      "[583]\tvalid_0's binary_logloss: 0.426814\n",
      "[584]\tvalid_0's binary_logloss: 0.426812\n",
      "[585]\tvalid_0's binary_logloss: 0.426915\n",
      "[586]\tvalid_0's binary_logloss: 0.426963\n",
      "[587]\tvalid_0's binary_logloss: 0.426987\n",
      "[588]\tvalid_0's binary_logloss: 0.42698\n",
      "[589]\tvalid_0's binary_logloss: 0.427002\n",
      "[590]\tvalid_0's binary_logloss: 0.427022\n",
      "[591]\tvalid_0's binary_logloss: 0.427037\n",
      "[592]\tvalid_0's binary_logloss: 0.427045\n",
      "[593]\tvalid_0's binary_logloss: 0.427151\n",
      "[594]\tvalid_0's binary_logloss: 0.42723\n",
      "[595]\tvalid_0's binary_logloss: 0.42725\n",
      "[596]\tvalid_0's binary_logloss: 0.427225\n",
      "[597]\tvalid_0's binary_logloss: 0.42718\n",
      "[598]\tvalid_0's binary_logloss: 0.42719\n",
      "[599]\tvalid_0's binary_logloss: 0.427187\n",
      "[600]\tvalid_0's binary_logloss: 0.427196\n",
      "[601]\tvalid_0's binary_logloss: 0.427194\n",
      "[602]\tvalid_0's binary_logloss: 0.42725\n",
      "[603]\tvalid_0's binary_logloss: 0.427352\n",
      "[604]\tvalid_0's binary_logloss: 0.427396\n",
      "[605]\tvalid_0's binary_logloss: 0.427499\n",
      "[606]\tvalid_0's binary_logloss: 0.427506\n",
      "[607]\tvalid_0's binary_logloss: 0.427625\n",
      "[608]\tvalid_0's binary_logloss: 0.427599\n",
      "[609]\tvalid_0's binary_logloss: 0.427572\n",
      "[610]\tvalid_0's binary_logloss: 0.427575\n",
      "[611]\tvalid_0's binary_logloss: 0.427599\n",
      "[612]\tvalid_0's binary_logloss: 0.427707\n",
      "[613]\tvalid_0's binary_logloss: 0.427734\n",
      "[614]\tvalid_0's binary_logloss: 0.427793\n",
      "[615]\tvalid_0's binary_logloss: 0.427809\n",
      "[616]\tvalid_0's binary_logloss: 0.427759\n",
      "[617]\tvalid_0's binary_logloss: 0.427732\n",
      "[618]\tvalid_0's binary_logloss: 0.427631\n",
      "[619]\tvalid_0's binary_logloss: 0.427684\n",
      "[620]\tvalid_0's binary_logloss: 0.427682\n",
      "[621]\tvalid_0's binary_logloss: 0.427724\n",
      "[622]\tvalid_0's binary_logloss: 0.427777\n"
     ]
    },
    {
     "name": "stdout",
     "output_type": "stream",
     "text": [
      "[623]\tvalid_0's binary_logloss: 0.427741\n",
      "Early stopping, best iteration is:\n",
      "[123]\tvalid_0's binary_logloss: 0.417992\n"
     ]
    }
   ],
   "source": [
    "params = {\n",
    "    'task': 'train',\n",
    "    'boosting_type': 'gbdt',\n",
    "    'objective': 'binary',\n",
    "    'metric': { 'binary_logloss'},\n",
    "    'num_leaves': 31, # defauly leaves(31) amount for each tree\n",
    "    'learning_rate': 0.08,\n",
    "    'feature_fraction': 0.7, # will select 70% features before training each tree\n",
    "    'bagging_fraction': 0.3, #feature_fraction, but this will random select part of data\n",
    "    'bagging_freq': 5, #  perform bagging at every 5 iteration\n",
    "    'verbose': 0\n",
    "}\n",
    "\n",
    "print('Start training...')\n",
    "gbm = lgb.train(params=params, train_set=lgb_train, num_boost_round=4000, valid_sets=lgb_eval, early_stopping_rounds=500)"
   ]
  },
  {
   "cell_type": "code",
   "execution_count": 232,
   "metadata": {},
   "outputs": [
    {
     "name": "stdout",
     "output_type": "stream",
     "text": [
      "defaultdict(<class 'dict'>, {'valid_0': {'binary_logloss': 0.4179924527107527}})\n",
      "123\n"
     ]
    }
   ],
   "source": [
    "print(gbm.best_score)\n",
    "print(gbm.best_iteration)"
   ]
  },
  {
   "cell_type": "code",
   "execution_count": 236,
   "metadata": {},
   "outputs": [],
   "source": [
    "from operator import itemgetter\n",
    "from sklearn.model_selection import train_test_split\n",
    "from sklearn.metrics import roc_auc_score\n",
    "import xgboost as xgb"
   ]
  },
  {
   "cell_type": "code",
   "execution_count": 237,
   "metadata": {
    "collapsed": true
   },
   "outputs": [],
   "source": [
    "def run_default_test(train, test, features, target, random_state=0):\n",
    "    eta = 0.1\n",
    "    max_depth = 5\n",
    "    subsample = 0.8\n",
    "    colsample_bytree = 0.8\n",
    "    print('XGBoost params. ETA: {}, MAX_DEPTH: {}, SUBSAMPLE: {}, COLSAMPLE_BY_TREE: {}'.format(eta, max_depth, subsample, colsample_bytree))\n",
    "    params = {\n",
    "        \"objective\": \"binary:logistic\",\n",
    "        \"booster\" : \"gbtree\",\n",
    "        \"eval_metric\": \"logloss\",\n",
    "        \"eta\": eta,\n",
    "        \"max_depth\": max_depth,\n",
    "        \"subsample\": subsample,\n",
    "        \"colsample_bytree\": colsample_bytree,\n",
    "        \"silent\": 1,\n",
    "        \"seed\": random_state\n",
    "    }\n",
    "    num_boost_round = 260\n",
    "    early_stopping_rounds = 20\n",
    "    test_size = 0.2\n",
    "\n",
    "    X_train, X_valid = train_test_split(train, test_size=test_size, random_state=random_state)\n",
    "    \n",
    "    y_train = X_train[target]\n",
    "    y_valid = X_valid[target]\n",
    "    \n",
    "    dtrain = xgb.DMatrix(X_train[features], y_train)\n",
    "    dvalid = xgb.DMatrix(X_valid[features], y_valid)\n",
    "    \n",
    "    watchlist = [(dtrain, 'train'), (dvalid, 'eval')]\n",
    "    \n",
    "    gbm = xgb.train(params, dtrain, num_boost_round, evals=watchlist, early_stopping_rounds=early_stopping_rounds, verbose_eval=True)"
   ]
  },
  {
   "cell_type": "code",
   "execution_count": 238,
   "metadata": {},
   "outputs": [
    {
     "name": "stdout",
     "output_type": "stream",
     "text": [
      "XGBoost params. ETA: 0.1, MAX_DEPTH: 5, SUBSAMPLE: 0.8, COLSAMPLE_BY_TREE: 0.8\n",
      "[0]\ttrain-logloss:0.648646\teval-logloss:0.647924\n",
      "Multiple eval metrics have been passed: 'eval-logloss' will be used for early stopping.\n",
      "\n",
      "Will train until eval-logloss hasn't improved in 20 rounds.\n",
      "[1]\ttrain-logloss:0.612292\teval-logloss:0.610833\n",
      "[2]\ttrain-logloss:0.582153\teval-logloss:0.580045\n",
      "[3]\ttrain-logloss:0.557239\teval-logloss:0.554497\n",
      "[4]\ttrain-logloss:0.536202\teval-logloss:0.533035\n",
      "[5]\ttrain-logloss:0.518609\teval-logloss:0.51497\n",
      "[6]\ttrain-logloss:0.503725\teval-logloss:0.499618\n",
      "[7]\ttrain-logloss:0.491239\teval-logloss:0.486682\n",
      "[8]\ttrain-logloss:0.480697\teval-logloss:0.475754\n",
      "[9]\ttrain-logloss:0.47154\teval-logloss:0.466222\n",
      "[10]\ttrain-logloss:0.46376\teval-logloss:0.45818\n",
      "[11]\ttrain-logloss:0.457263\teval-logloss:0.451434\n",
      "[12]\ttrain-logloss:0.451565\teval-logloss:0.445486\n",
      "[13]\ttrain-logloss:0.446464\teval-logloss:0.440238\n",
      "[14]\ttrain-logloss:0.442298\teval-logloss:0.435792\n",
      "[15]\ttrain-logloss:0.43876\teval-logloss:0.431956\n",
      "[16]\ttrain-logloss:0.435519\teval-logloss:0.428497\n",
      "[17]\ttrain-logloss:0.432785\teval-logloss:0.425561\n",
      "[18]\ttrain-logloss:0.430429\teval-logloss:0.423091\n",
      "[19]\ttrain-logloss:0.428321\teval-logloss:0.420764\n",
      "[20]\ttrain-logloss:0.426601\teval-logloss:0.418996\n",
      "[21]\ttrain-logloss:0.425063\teval-logloss:0.417417\n",
      "[22]\ttrain-logloss:0.423783\teval-logloss:0.41607\n",
      "[23]\ttrain-logloss:0.422641\teval-logloss:0.414843\n",
      "[24]\ttrain-logloss:0.42121\teval-logloss:0.413296\n",
      "[25]\ttrain-logloss:0.420244\teval-logloss:0.412367\n",
      "[26]\ttrain-logloss:0.419515\teval-logloss:0.411628\n",
      "[27]\ttrain-logloss:0.418916\teval-logloss:0.411056\n",
      "[28]\ttrain-logloss:0.418213\teval-logloss:0.410418\n",
      "[29]\ttrain-logloss:0.417515\teval-logloss:0.409793\n",
      "[30]\ttrain-logloss:0.416884\teval-logloss:0.409156\n",
      "[31]\ttrain-logloss:0.41638\teval-logloss:0.408697\n",
      "[32]\ttrain-logloss:0.416021\teval-logloss:0.408421\n",
      "[33]\ttrain-logloss:0.415384\teval-logloss:0.407882\n",
      "[34]\ttrain-logloss:0.414754\teval-logloss:0.407326\n",
      "[35]\ttrain-logloss:0.414418\teval-logloss:0.40701\n",
      "[36]\ttrain-logloss:0.414019\teval-logloss:0.406713\n",
      "[37]\ttrain-logloss:0.413733\teval-logloss:0.406433\n",
      "[38]\ttrain-logloss:0.41336\teval-logloss:0.406026\n",
      "[39]\ttrain-logloss:0.412959\teval-logloss:0.405679\n",
      "[40]\ttrain-logloss:0.412632\teval-logloss:0.405423\n",
      "[41]\ttrain-logloss:0.412214\teval-logloss:0.405134\n",
      "[42]\ttrain-logloss:0.411901\teval-logloss:0.404879\n",
      "[43]\ttrain-logloss:0.411483\teval-logloss:0.404561\n",
      "[44]\ttrain-logloss:0.411112\teval-logloss:0.404354\n",
      "[45]\ttrain-logloss:0.410863\teval-logloss:0.40416\n",
      "[46]\ttrain-logloss:0.410517\teval-logloss:0.403802\n",
      "[47]\ttrain-logloss:0.410299\teval-logloss:0.403694\n",
      "[48]\ttrain-logloss:0.410076\teval-logloss:0.403556\n",
      "[49]\ttrain-logloss:0.409834\teval-logloss:0.403378\n",
      "[50]\ttrain-logloss:0.409507\teval-logloss:0.403078\n",
      "[51]\ttrain-logloss:0.409113\teval-logloss:0.402809\n",
      "[52]\ttrain-logloss:0.408843\teval-logloss:0.402664\n",
      "[53]\ttrain-logloss:0.408534\teval-logloss:0.402463\n",
      "[54]\ttrain-logloss:0.408138\teval-logloss:0.402215\n",
      "[55]\ttrain-logloss:0.40784\teval-logloss:0.401991\n",
      "[56]\ttrain-logloss:0.407544\teval-logloss:0.40178\n",
      "[57]\ttrain-logloss:0.407384\teval-logloss:0.401656\n",
      "[58]\ttrain-logloss:0.407161\teval-logloss:0.401506\n",
      "[59]\ttrain-logloss:0.407002\teval-logloss:0.401447\n",
      "[60]\ttrain-logloss:0.406761\teval-logloss:0.401373\n",
      "[61]\ttrain-logloss:0.406467\teval-logloss:0.401198\n",
      "[62]\ttrain-logloss:0.406252\teval-logloss:0.401101\n",
      "[63]\ttrain-logloss:0.406056\teval-logloss:0.40096\n",
      "[64]\ttrain-logloss:0.405878\teval-logloss:0.400899\n",
      "[65]\ttrain-logloss:0.405674\teval-logloss:0.400804\n",
      "[66]\ttrain-logloss:0.405499\teval-logloss:0.400671\n",
      "[67]\ttrain-logloss:0.405284\teval-logloss:0.400596\n",
      "[68]\ttrain-logloss:0.405054\teval-logloss:0.400539\n",
      "[69]\ttrain-logloss:0.404883\teval-logloss:0.400455\n",
      "[70]\ttrain-logloss:0.404695\teval-logloss:0.400383\n",
      "[71]\ttrain-logloss:0.404349\teval-logloss:0.400233\n",
      "[72]\ttrain-logloss:0.404259\teval-logloss:0.400171\n",
      "[73]\ttrain-logloss:0.404036\teval-logloss:0.400158\n",
      "[74]\ttrain-logloss:0.403796\teval-logloss:0.400047\n",
      "[75]\ttrain-logloss:0.403581\teval-logloss:0.400058\n",
      "[76]\ttrain-logloss:0.403436\teval-logloss:0.39993\n",
      "[77]\ttrain-logloss:0.403292\teval-logloss:0.39985\n",
      "[78]\ttrain-logloss:0.403108\teval-logloss:0.399807\n",
      "[79]\ttrain-logloss:0.402987\teval-logloss:0.3998\n",
      "[80]\ttrain-logloss:0.402766\teval-logloss:0.399682\n",
      "[81]\ttrain-logloss:0.402585\teval-logloss:0.399694\n",
      "[82]\ttrain-logloss:0.402457\teval-logloss:0.39963\n",
      "[83]\ttrain-logloss:0.402315\teval-logloss:0.39955\n",
      "[84]\ttrain-logloss:0.402102\teval-logloss:0.399531\n",
      "[85]\ttrain-logloss:0.401962\teval-logloss:0.399501\n",
      "[86]\ttrain-logloss:0.401786\teval-logloss:0.399354\n",
      "[87]\ttrain-logloss:0.401649\teval-logloss:0.399319\n",
      "[88]\ttrain-logloss:0.401416\teval-logloss:0.399138\n",
      "[89]\ttrain-logloss:0.40129\teval-logloss:0.399112\n",
      "[90]\ttrain-logloss:0.401096\teval-logloss:0.399037\n",
      "[91]\ttrain-logloss:0.400909\teval-logloss:0.398966\n",
      "[92]\ttrain-logloss:0.400705\teval-logloss:0.398888\n",
      "[93]\ttrain-logloss:0.400486\teval-logloss:0.398822\n",
      "[94]\ttrain-logloss:0.400225\teval-logloss:0.398718\n",
      "[95]\ttrain-logloss:0.400115\teval-logloss:0.398684\n",
      "[96]\ttrain-logloss:0.399992\teval-logloss:0.398707\n",
      "[97]\ttrain-logloss:0.399765\teval-logloss:0.39868\n",
      "[98]\ttrain-logloss:0.399705\teval-logloss:0.398674\n",
      "[99]\ttrain-logloss:0.399545\teval-logloss:0.398641\n",
      "[100]\ttrain-logloss:0.399489\teval-logloss:0.398616\n",
      "[101]\ttrain-logloss:0.399273\teval-logloss:0.398573\n",
      "[102]\ttrain-logloss:0.399131\teval-logloss:0.398552\n",
      "[103]\ttrain-logloss:0.398967\teval-logloss:0.398443\n",
      "[104]\ttrain-logloss:0.398766\teval-logloss:0.398426\n",
      "[105]\ttrain-logloss:0.398656\teval-logloss:0.398407\n",
      "[106]\ttrain-logloss:0.398531\teval-logloss:0.398344\n",
      "[107]\ttrain-logloss:0.398378\teval-logloss:0.398297\n",
      "[108]\ttrain-logloss:0.398209\teval-logloss:0.398238\n",
      "[109]\ttrain-logloss:0.398013\teval-logloss:0.398108\n",
      "[110]\ttrain-logloss:0.397877\teval-logloss:0.398073\n",
      "[111]\ttrain-logloss:0.397823\teval-logloss:0.398062\n",
      "[112]\ttrain-logloss:0.397687\teval-logloss:0.398063\n",
      "[113]\ttrain-logloss:0.397603\teval-logloss:0.398072\n",
      "[114]\ttrain-logloss:0.397527\teval-logloss:0.398062\n",
      "[115]\ttrain-logloss:0.397442\teval-logloss:0.398047\n",
      "[116]\ttrain-logloss:0.39741\teval-logloss:0.398034\n",
      "[117]\ttrain-logloss:0.397161\teval-logloss:0.397978\n",
      "[118]\ttrain-logloss:0.397058\teval-logloss:0.397982\n",
      "[119]\ttrain-logloss:0.396951\teval-logloss:0.397935\n",
      "[120]\ttrain-logloss:0.396831\teval-logloss:0.397913\n",
      "[121]\ttrain-logloss:0.396727\teval-logloss:0.39789\n",
      "[122]\ttrain-logloss:0.396664\teval-logloss:0.397885\n",
      "[123]\ttrain-logloss:0.396619\teval-logloss:0.397885\n",
      "[124]\ttrain-logloss:0.396488\teval-logloss:0.397842\n",
      "[125]\ttrain-logloss:0.39639\teval-logloss:0.397782\n",
      "[126]\ttrain-logloss:0.396185\teval-logloss:0.397718\n",
      "[127]\ttrain-logloss:0.395962\teval-logloss:0.39767\n",
      "[128]\ttrain-logloss:0.395789\teval-logloss:0.397607\n",
      "[129]\ttrain-logloss:0.395619\teval-logloss:0.397613\n",
      "[130]\ttrain-logloss:0.395579\teval-logloss:0.397613\n",
      "[131]\ttrain-logloss:0.395387\teval-logloss:0.397528\n",
      "[132]\ttrain-logloss:0.395257\teval-logloss:0.397526\n",
      "[133]\ttrain-logloss:0.395073\teval-logloss:0.39749\n",
      "[134]\ttrain-logloss:0.394938\teval-logloss:0.397418\n",
      "[135]\ttrain-logloss:0.394807\teval-logloss:0.397357\n",
      "[136]\ttrain-logloss:0.394608\teval-logloss:0.397317\n",
      "[137]\ttrain-logloss:0.394491\teval-logloss:0.397288\n",
      "[138]\ttrain-logloss:0.394326\teval-logloss:0.39731\n",
      "[139]\ttrain-logloss:0.394268\teval-logloss:0.397271\n",
      "[140]\ttrain-logloss:0.394104\teval-logloss:0.397191\n",
      "[141]\ttrain-logloss:0.393976\teval-logloss:0.397172\n",
      "[142]\ttrain-logloss:0.393907\teval-logloss:0.397169\n",
      "[143]\ttrain-logloss:0.393853\teval-logloss:0.397147\n",
      "[144]\ttrain-logloss:0.39372\teval-logloss:0.39714\n",
      "[145]\ttrain-logloss:0.393618\teval-logloss:0.397155\n",
      "[146]\ttrain-logloss:0.39344\teval-logloss:0.39716\n",
      "[147]\ttrain-logloss:0.393281\teval-logloss:0.39708\n",
      "[148]\ttrain-logloss:0.393144\teval-logloss:0.397116\n",
      "[149]\ttrain-logloss:0.392972\teval-logloss:0.397071\n",
      "[150]\ttrain-logloss:0.392853\teval-logloss:0.397065\n",
      "[151]\ttrain-logloss:0.392715\teval-logloss:0.397042\n",
      "[152]\ttrain-logloss:0.392642\teval-logloss:0.396998\n",
      "[153]\ttrain-logloss:0.392457\teval-logloss:0.396959\n",
      "[154]\ttrain-logloss:0.392315\teval-logloss:0.396959\n",
      "[155]\ttrain-logloss:0.392179\teval-logloss:0.396911\n",
      "[156]\ttrain-logloss:0.392097\teval-logloss:0.396883\n",
      "[157]\ttrain-logloss:0.391934\teval-logloss:0.396876\n",
      "[158]\ttrain-logloss:0.391843\teval-logloss:0.396791\n"
     ]
    },
    {
     "name": "stdout",
     "output_type": "stream",
     "text": [
      "[159]\ttrain-logloss:0.39176\teval-logloss:0.396816\n",
      "[160]\ttrain-logloss:0.391686\teval-logloss:0.396803\n",
      "[161]\ttrain-logloss:0.391522\teval-logloss:0.396795\n",
      "[162]\ttrain-logloss:0.391394\teval-logloss:0.396828\n",
      "[163]\ttrain-logloss:0.391274\teval-logloss:0.396765\n",
      "[164]\ttrain-logloss:0.391116\teval-logloss:0.396688\n",
      "[165]\ttrain-logloss:0.391032\teval-logloss:0.396722\n",
      "[166]\ttrain-logloss:0.390903\teval-logloss:0.39679\n",
      "[167]\ttrain-logloss:0.390784\teval-logloss:0.396722\n",
      "[168]\ttrain-logloss:0.390736\teval-logloss:0.396731\n",
      "[169]\ttrain-logloss:0.390573\teval-logloss:0.396713\n",
      "[170]\ttrain-logloss:0.390476\teval-logloss:0.396651\n",
      "[171]\ttrain-logloss:0.390442\teval-logloss:0.396671\n",
      "[172]\ttrain-logloss:0.390322\teval-logloss:0.396632\n",
      "[173]\ttrain-logloss:0.39021\teval-logloss:0.39662\n",
      "[174]\ttrain-logloss:0.39017\teval-logloss:0.396576\n",
      "[175]\ttrain-logloss:0.389994\teval-logloss:0.396508\n",
      "[176]\ttrain-logloss:0.389908\teval-logloss:0.396509\n",
      "[177]\ttrain-logloss:0.389771\teval-logloss:0.396461\n",
      "[178]\ttrain-logloss:0.389652\teval-logloss:0.396444\n",
      "[179]\ttrain-logloss:0.389537\teval-logloss:0.396446\n",
      "[180]\ttrain-logloss:0.389353\teval-logloss:0.396438\n",
      "[181]\ttrain-logloss:0.389237\teval-logloss:0.396416\n",
      "[182]\ttrain-logloss:0.389124\teval-logloss:0.396377\n",
      "[183]\ttrain-logloss:0.388979\teval-logloss:0.396294\n",
      "[184]\ttrain-logloss:0.388808\teval-logloss:0.396282\n",
      "[185]\ttrain-logloss:0.388682\teval-logloss:0.39629\n",
      "[186]\ttrain-logloss:0.388554\teval-logloss:0.396209\n",
      "[187]\ttrain-logloss:0.388456\teval-logloss:0.396174\n",
      "[188]\ttrain-logloss:0.388286\teval-logloss:0.396177\n",
      "[189]\ttrain-logloss:0.388146\teval-logloss:0.39616\n",
      "[190]\ttrain-logloss:0.388005\teval-logloss:0.396166\n",
      "[191]\ttrain-logloss:0.387901\teval-logloss:0.39615\n",
      "[192]\ttrain-logloss:0.387756\teval-logloss:0.396076\n",
      "[193]\ttrain-logloss:0.387644\teval-logloss:0.396012\n",
      "[194]\ttrain-logloss:0.387459\teval-logloss:0.396024\n",
      "[195]\ttrain-logloss:0.387357\teval-logloss:0.395971\n",
      "[196]\ttrain-logloss:0.387272\teval-logloss:0.395956\n",
      "[197]\ttrain-logloss:0.387174\teval-logloss:0.395971\n",
      "[198]\ttrain-logloss:0.387012\teval-logloss:0.395963\n",
      "[199]\ttrain-logloss:0.386942\teval-logloss:0.395945\n",
      "[200]\ttrain-logloss:0.386736\teval-logloss:0.395984\n",
      "[201]\ttrain-logloss:0.386617\teval-logloss:0.396034\n",
      "[202]\ttrain-logloss:0.386504\teval-logloss:0.396017\n",
      "[203]\ttrain-logloss:0.386377\teval-logloss:0.396037\n",
      "[204]\ttrain-logloss:0.386221\teval-logloss:0.396091\n",
      "[205]\ttrain-logloss:0.386185\teval-logloss:0.396102\n",
      "[206]\ttrain-logloss:0.386134\teval-logloss:0.396073\n",
      "[207]\ttrain-logloss:0.386087\teval-logloss:0.396076\n",
      "[208]\ttrain-logloss:0.386056\teval-logloss:0.39607\n",
      "[209]\ttrain-logloss:0.385907\teval-logloss:0.39613\n",
      "[210]\ttrain-logloss:0.385749\teval-logloss:0.396028\n",
      "[211]\ttrain-logloss:0.385644\teval-logloss:0.396003\n",
      "[212]\ttrain-logloss:0.385484\teval-logloss:0.395978\n",
      "[213]\ttrain-logloss:0.385332\teval-logloss:0.395961\n",
      "[214]\ttrain-logloss:0.385206\teval-logloss:0.395954\n",
      "[215]\ttrain-logloss:0.385151\teval-logloss:0.395945\n",
      "[216]\ttrain-logloss:0.385033\teval-logloss:0.395929\n",
      "[217]\ttrain-logloss:0.384928\teval-logloss:0.395933\n",
      "[218]\ttrain-logloss:0.384824\teval-logloss:0.395943\n",
      "[219]\ttrain-logloss:0.384721\teval-logloss:0.395872\n",
      "[220]\ttrain-logloss:0.384609\teval-logloss:0.395874\n",
      "[221]\ttrain-logloss:0.384575\teval-logloss:0.395871\n",
      "[222]\ttrain-logloss:0.384475\teval-logloss:0.395837\n",
      "[223]\ttrain-logloss:0.384392\teval-logloss:0.395849\n",
      "[224]\ttrain-logloss:0.38425\teval-logloss:0.395824\n",
      "[225]\ttrain-logloss:0.384154\teval-logloss:0.395794\n",
      "[226]\ttrain-logloss:0.384114\teval-logloss:0.395765\n",
      "[227]\ttrain-logloss:0.384012\teval-logloss:0.395684\n",
      "[228]\ttrain-logloss:0.3839\teval-logloss:0.395667\n",
      "[229]\ttrain-logloss:0.383742\teval-logloss:0.395611\n",
      "[230]\ttrain-logloss:0.383647\teval-logloss:0.395609\n",
      "[231]\ttrain-logloss:0.383521\teval-logloss:0.39553\n",
      "[232]\ttrain-logloss:0.383443\teval-logloss:0.395493\n",
      "[233]\ttrain-logloss:0.383378\teval-logloss:0.395502\n",
      "[234]\ttrain-logloss:0.383271\teval-logloss:0.395525\n",
      "[235]\ttrain-logloss:0.383153\teval-logloss:0.395521\n",
      "[236]\ttrain-logloss:0.383037\teval-logloss:0.395529\n",
      "[237]\ttrain-logloss:0.382952\teval-logloss:0.395507\n",
      "[238]\ttrain-logloss:0.382798\teval-logloss:0.395505\n",
      "[239]\ttrain-logloss:0.382686\teval-logloss:0.395466\n",
      "[240]\ttrain-logloss:0.382575\teval-logloss:0.395473\n",
      "[241]\ttrain-logloss:0.382411\teval-logloss:0.395523\n",
      "[242]\ttrain-logloss:0.382372\teval-logloss:0.395511\n",
      "[243]\ttrain-logloss:0.382264\teval-logloss:0.395517\n",
      "[244]\ttrain-logloss:0.382117\teval-logloss:0.395551\n",
      "[245]\ttrain-logloss:0.381963\teval-logloss:0.395595\n",
      "[246]\ttrain-logloss:0.381878\teval-logloss:0.395645\n",
      "[247]\ttrain-logloss:0.381793\teval-logloss:0.395649\n",
      "[248]\ttrain-logloss:0.381619\teval-logloss:0.395602\n",
      "[249]\ttrain-logloss:0.381513\teval-logloss:0.395677\n",
      "[250]\ttrain-logloss:0.381451\teval-logloss:0.395659\n",
      "[251]\ttrain-logloss:0.381352\teval-logloss:0.395645\n",
      "[252]\ttrain-logloss:0.38123\teval-logloss:0.395681\n",
      "[253]\ttrain-logloss:0.381114\teval-logloss:0.395661\n",
      "[254]\ttrain-logloss:0.381011\teval-logloss:0.395699\n",
      "[255]\ttrain-logloss:0.380916\teval-logloss:0.395681\n",
      "[256]\ttrain-logloss:0.380797\teval-logloss:0.395661\n",
      "[257]\ttrain-logloss:0.380674\teval-logloss:0.395658\n",
      "[258]\ttrain-logloss:0.380564\teval-logloss:0.395642\n",
      "[259]\ttrain-logloss:0.380511\teval-logloss:0.395632\n",
      "Stopping. Best iteration:\n",
      "[239]\ttrain-logloss:0.382686\teval-logloss:0.395466\n",
      "\n"
     ]
    }
   ],
   "source": [
    "features = ['C1', 'banner_pos', 'device_type', 'device_conn_type', 'C14',\n",
    "       'C15', 'C16', 'C17', 'C18', 'C19', 'C20', 'C21', 'hour_of_day',\n",
    "       'site_id_int', 'site_domain_int', 'site_category_int', 'app_id_int',\n",
    "       'app_domain_int', 'app_category_int', 'device_id_int', 'device_ip_int',\n",
    "       'device_model_int', 'day_of_week_int']\n",
    "\n",
    "run_default_test(train, y_target, features, 'click')"
   ]
  },
  {
   "cell_type": "code",
   "execution_count": null,
   "metadata": {
    "collapsed": true
   },
   "outputs": [],
   "source": []
  }
 ],
 "metadata": {
  "kernelspec": {
   "display_name": "Python 3",
   "language": "python",
   "name": "python3"
  },
  "language_info": {
   "codemirror_mode": {
    "name": "ipython",
    "version": 3
   },
   "file_extension": ".py",
   "mimetype": "text/x-python",
   "name": "python",
   "nbconvert_exporter": "python",
   "pygments_lexer": "ipython3",
   "version": "3.6.3"
  }
 },
 "nbformat": 4,
 "nbformat_minor": 2
}
