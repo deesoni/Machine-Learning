{
 "cells": [
  {
   "cell_type": "code",
   "execution_count": 2,
   "metadata": {},
   "outputs": [],
   "source": [
    "import logging\n",
    "import pandas as pd\n",
    "import numpy as np\n",
    "from numpy import random\n",
    "\n",
    "from sklearn.model_selection import train_test_split\n",
    "from sklearn.feature_extraction.text import CountVectorizer, TfidfVectorizer\n",
    "from sklearn.metrics import accuracy_score, confusion_matrix\n",
    "\n",
    "import re\n",
    "import nltk\n",
    "from nltk.corpus import stopwords\n",
    "\n",
    "import gensim\n",
    "from bs4 import BeautifulSoup\n",
    "\n",
    "import matplotlib.pyplot as plt\n",
    "%matplotlib inline\n",
    "\n",
    "import warnings\n",
    "warnings.filterwarnings('ignore')"
   ]
  },
  {
   "cell_type": "code",
   "execution_count": 3,
   "metadata": {
    "collapsed": true
   },
   "outputs": [],
   "source": [
    "df = pd.read_csv('../Misc/stack-overflow-data.csv')"
   ]
  },
  {
   "cell_type": "code",
   "execution_count": 4,
   "metadata": {},
   "outputs": [
    {
     "data": {
      "text/plain": [
       "(40000, 2)"
      ]
     },
     "execution_count": 4,
     "metadata": {},
     "output_type": "execute_result"
    }
   ],
   "source": [
    "df.shape"
   ]
  },
  {
   "cell_type": "code",
   "execution_count": 5,
   "metadata": {},
   "outputs": [],
   "source": [
    "df = df[pd.notnull(df['tags'])]"
   ]
  },
  {
   "cell_type": "code",
   "execution_count": 6,
   "metadata": {},
   "outputs": [
    {
     "data": {
      "text/html": [
       "<div>\n",
       "<style>\n",
       "    .dataframe thead tr:only-child th {\n",
       "        text-align: right;\n",
       "    }\n",
       "\n",
       "    .dataframe thead th {\n",
       "        text-align: left;\n",
       "    }\n",
       "\n",
       "    .dataframe tbody tr th {\n",
       "        vertical-align: top;\n",
       "    }\n",
       "</style>\n",
       "<table border=\"1\" class=\"dataframe\">\n",
       "  <thead>\n",
       "    <tr style=\"text-align: right;\">\n",
       "      <th></th>\n",
       "      <th>post</th>\n",
       "      <th>tags</th>\n",
       "    </tr>\n",
       "  </thead>\n",
       "  <tbody>\n",
       "    <tr>\n",
       "      <th>0</th>\n",
       "      <td>what is causing this behavior  in our c# datet...</td>\n",
       "      <td>c#</td>\n",
       "    </tr>\n",
       "    <tr>\n",
       "      <th>1</th>\n",
       "      <td>have dynamic html load as if it was in an ifra...</td>\n",
       "      <td>asp.net</td>\n",
       "    </tr>\n",
       "    <tr>\n",
       "      <th>2</th>\n",
       "      <td>how to convert a float value in to min:sec  i ...</td>\n",
       "      <td>objective-c</td>\n",
       "    </tr>\n",
       "    <tr>\n",
       "      <th>3</th>\n",
       "      <td>.net framework 4 redistributable  just wonderi...</td>\n",
       "      <td>.net</td>\n",
       "    </tr>\n",
       "    <tr>\n",
       "      <th>4</th>\n",
       "      <td>trying to calculate and print the mean and its...</td>\n",
       "      <td>python</td>\n",
       "    </tr>\n",
       "  </tbody>\n",
       "</table>\n",
       "</div>"
      ],
      "text/plain": [
       "                                                post         tags\n",
       "0  what is causing this behavior  in our c# datet...           c#\n",
       "1  have dynamic html load as if it was in an ifra...      asp.net\n",
       "2  how to convert a float value in to min:sec  i ...  objective-c\n",
       "3  .net framework 4 redistributable  just wonderi...         .net\n",
       "4  trying to calculate and print the mean and its...       python"
      ]
     },
     "execution_count": 6,
     "metadata": {},
     "output_type": "execute_result"
    }
   ],
   "source": [
    "df.head()"
   ]
  },
  {
   "cell_type": "code",
   "execution_count": 7,
   "metadata": {},
   "outputs": [
    {
     "data": {
      "text/plain": [
       "10286120"
      ]
     },
     "execution_count": 7,
     "metadata": {},
     "output_type": "execute_result"
    }
   ],
   "source": [
    "df['post'].apply(lambda x: len(x.split(' '))).sum()"
   ]
  },
  {
   "cell_type": "code",
   "execution_count": 16,
   "metadata": {},
   "outputs": [
    {
     "name": "stdout",
     "output_type": "stream",
     "text": [
      "['.net', 'angularjs', 'asp.net', 'html', 'javascript', 'c#', 'jquery', 'objective-c', 'sql', 'ios', 'c++', 'java', 'python', 'mysql', 'ruby-on-rails', 'css', 'php', 'iphone', 'c', 'android']\n"
     ]
    }
   ],
   "source": [
    "my_tags = (list(df['tags'].value_counts().index))\n",
    "print(my_tags)"
   ]
  },
  {
   "cell_type": "code",
   "execution_count": 19,
   "metadata": {},
   "outputs": [
    {
     "data": {
      "text/plain": [
       "<matplotlib.axes._subplots.AxesSubplot at 0x2618120d518>"
      ]
     },
     "execution_count": 19,
     "metadata": {},
     "output_type": "execute_result"
    },
    {
     "data": {
      "image/png": "[encoded data removed]",
      "text/plain": [
       "<matplotlib.figure.Figure at 0x261818c4be0>"
      ]
     },
     "metadata": {},
     "output_type": "display_data"
    }
   ],
   "source": [
    "plt.figure(figsize=(10,4))\n",
    "df.tags.value_counts().plot(kind='bar')"
   ]
  },
  {
   "cell_type": "code",
   "execution_count": 33,
   "metadata": {
    "collapsed": true
   },
   "outputs": [],
   "source": [
    "def print_plot(index):\n",
    "    example = df[df.index == index].values[0]\n",
    "    if len(example) > 0:\n",
    "        print(example[0], '\\n')\n",
    "        print('Tag:', example[1])"
   ]
  },
  {
   "cell_type": "code",
   "execution_count": 34,
   "metadata": {},
   "outputs": [
    {
     "name": "stdout",
     "output_type": "stream",
     "text": [
      "when we need interface c# <blockquote>    <strong>possible duplicate:</strong><br>   <a href= https://stackoverflow.com/questions/240152/why-would-i-want-to-use-interfaces >why would i want to use interfaces </a>   <a href= https://stackoverflow.com/questions/9451868/why-i-need-interface >why i need interface </a>    </blockquote>     i want to know where and when to use it     for example    <pre><code>interface idemo {  // function prototype  public void show(); }  // first class using the interface class myclass1 : idemo {  public void show()  {   // function body comes here   response.write( i m in myclass );  }  }  // second class using the interface class myclass2 : idemo {  public void show()   {   // function body comes here   response.write( i m in myclass2 );   response.write( so  what  );  } </code></pre>   these two classes has the same function name with different body. this can be even achieved without interface. then why we need an interface where and when to use it \n",
      "\n",
      "Tag: c#\n"
     ]
    }
   ],
   "source": [
    "print_plot(10)"
   ]
  },
  {
   "cell_type": "code",
   "execution_count": 35,
   "metadata": {},
   "outputs": [
    {
     "name": "stdout",
     "output_type": "stream",
     "text": [
      "how to chain expressions inside ngclass when using the {...}[] form  how can i add another expression to an <code>ng-class</code> directive that uses this form:   <pre><code>ng-class= {true: loading   false: loading-done }[data.loader===null]  </code></pre>   i d like to add something like this to the list:   <pre><code>{highlight:isspecial} </code></pre>   is it possible without expanding the first expression     thanks. \n",
      "\n",
      "Tag: angularjs\n"
     ]
    }
   ],
   "source": [
    "print_plot(30)"
   ]
  },
  {
   "cell_type": "code",
   "execution_count": 40,
   "metadata": {
    "collapsed": true
   },
   "outputs": [],
   "source": [
    "REPLACE_BY_SPACE_RE = re.compile('[/(){}\\[\\]\\|@,;]')\n",
    "BAD_SYMBOLS_RE = re.compile('[^0-9a-z #+_]')\n",
    "STOPWORDS = set(stopwords.words('english'))\n",
    "\n",
    "def clean_text(text):\n",
    "    \n",
    "    text = BeautifulSoup(text, \"lxml\").text # HTML decoding\n",
    "    text = text.lower() # lowercase text\n",
    "    text = REPLACE_BY_SPACE_RE.sub(' ', text) # replace REPLACE_BY_SPACE_RE symbols by space in text\n",
    "    text = BAD_SYMBOLS_RE.sub('', text) # delete symbols which are in BAD_SYMBOLS_RE from text\n",
    "    text = ' '.join(word for word in text.split() if word not in STOPWORDS) # delete stopwors from text\n",
    "    \n",
    "    return text"
   ]
  },
  {
   "cell_type": "code",
   "execution_count": 41,
   "metadata": {
    "collapsed": true
   },
   "outputs": [],
   "source": [
    "df['post'] = df['post'].apply(clean_text)"
   ]
  },
  {
   "cell_type": "code",
   "execution_count": 42,
   "metadata": {},
   "outputs": [
    {
     "name": "stdout",
     "output_type": "stream",
     "text": [
      "need interface c# possible duplicate would want use interfaces need interface want know use example interface idemo function prototype public void show first class using interface class myclass1 idemo public void show function body comes response write myclass second class using interface class myclass2 idemo public void show function body comes response write myclass2 response write two classes function name different body even achieved without interface need interface use \n",
      "\n",
      "Tag: c#\n"
     ]
    }
   ],
   "source": [
    "print_plot(10)"
   ]
  },
  {
   "cell_type": "code",
   "execution_count": 43,
   "metadata": {},
   "outputs": [
    {
     "data": {
      "text/plain": [
       "3880052"
      ]
     },
     "execution_count": 43,
     "metadata": {},
     "output_type": "execute_result"
    }
   ],
   "source": [
    "df['post'].apply(lambda x: len(x.split(' '))).sum()"
   ]
  },
  {
   "cell_type": "code",
   "execution_count": 44,
   "metadata": {
    "collapsed": true
   },
   "outputs": [],
   "source": [
    "X = df.post\n",
    "y = df.tags\n",
    "\n",
    "X_train, X_test, y_train, y_test = train_test_split(X, y, test_size=0.3, random_state=42)"
   ]
  },
  {
   "cell_type": "markdown",
   "metadata": {},
   "source": [
    "### *Imp*\n",
    "\n",
    "The next steps includes feature engineering. We will convert our text documents to a matrix of token counts (CountVectorizer), then transform a count matrix to a normalized tf-idf representation (tf-idf transformer). After that, we train several classifiers."
   ]
  },
  {
   "cell_type": "code",
   "execution_count": 49,
   "metadata": {},
   "outputs": [
    {
     "data": {
      "text/plain": [
       "Pipeline(memory=None,\n",
       "     steps=[('vect', CountVectorizer(analyzer='word', binary=False, decode_error='strict',\n",
       "        dtype=<class 'numpy.int64'>, encoding='utf-8', input='content',\n",
       "        lowercase=True, max_df=1.0, max_features=None, min_df=1,\n",
       "        ngram_range=(1, 1), preprocessor=None, stop_words=None,\n",
       "        strip...inear_tf=False, use_idf=True)), ('clf', MultinomialNB(alpha=1.0, class_prior=None, fit_prior=True))])"
      ]
     },
     "execution_count": 49,
     "metadata": {},
     "output_type": "execute_result"
    }
   ],
   "source": [
    "from sklearn.naive_bayes import MultinomialNB\n",
    "from sklearn.pipeline import Pipeline\n",
    "from sklearn.feature_extraction.text import TfidfTransformer\n",
    "\n",
    "nb = Pipeline([('vect', CountVectorizer()),\n",
    "               ('tfidf', TfidfTransformer()),\n",
    "               ('clf', MultinomialNB())\n",
    "              ])\n",
    "\n",
    "nb.fit(X_train, y_train)"
   ]
  },
  {
   "cell_type": "code",
   "execution_count": 55,
   "metadata": {},
   "outputs": [
    {
     "name": "stdout",
     "output_type": "stream",
     "text": [
      "accuracy score 0.7399166666666667\n",
      "               precision    recall  f1-score   support\n",
      "\n",
      "         .net       0.65      0.64      0.64       613\n",
      "    angularjs       0.94      0.88      0.91       620\n",
      "      asp.net       0.85      0.94      0.89       587\n",
      "         html       0.70      0.81      0.75       586\n",
      "   javascript       0.75      0.87      0.81       599\n",
      "           c#       0.70      0.54      0.61       589\n",
      "       jquery       0.80      0.77      0.79       594\n",
      "  objective-c       0.67      0.89      0.76       610\n",
      "          sql       0.60      0.57      0.58       617\n",
      "          ios       0.59      0.65      0.62       587\n",
      "          c++       0.72      0.50      0.59       611\n",
      "         java       0.82      0.78      0.80       594\n",
      "       python       0.81      0.59      0.68       619\n",
      "        mysql       0.66      0.82      0.73       574\n",
      "ruby-on-rails       0.61      0.82      0.70       584\n",
      "          css       0.69      0.65      0.67       578\n",
      "          php       0.80      0.76      0.78       591\n",
      "       iphone       0.90      0.83      0.86       608\n",
      "            c       0.94      0.88      0.91       638\n",
      "      android       0.74      0.63      0.68       601\n",
      "\n",
      "    micro avg       0.74      0.74      0.74     12000\n",
      "    macro avg       0.75      0.74      0.74     12000\n",
      " weighted avg       0.75      0.74      0.74     12000\n",
      "\n",
      "Wall time: 2.21 s\n"
     ]
    }
   ],
   "source": [
    "%%time\n",
    "from sklearn.metrics import classification_report\n",
    "y_pred = nb.predict(X_test)\n",
    "\n",
    "print('accuracy score {}'.format(accuracy_score(y_test, y_pred)))\n",
    "print(classification_report(y_test, y_pred, target_names=my_tags))"
   ]
  },
  {
   "cell_type": "markdown",
   "metadata": {},
   "source": [
    "#### Linear support vector machine"
   ]
  },
  {
   "cell_type": "code",
   "execution_count": 58,
   "metadata": {},
   "outputs": [
    {
     "data": {
      "text/plain": [
       "Pipeline(memory=None,\n",
       "     steps=[('vect', CountVectorizer(analyzer='word', binary=False, decode_error='strict',\n",
       "        dtype=<class 'numpy.int64'>, encoding='utf-8', input='content',\n",
       "        lowercase=True, max_df=1.0, max_features=None, min_df=1,\n",
       "        ngram_range=(1, 1), preprocessor=None, stop_words=None,\n",
       "        strip...dom_state=42, shuffle=True, tol=None,\n",
       "       validation_fraction=0.1, verbose=0, warm_start=False))])"
      ]
     },
     "execution_count": 58,
     "metadata": {},
     "output_type": "execute_result"
    }
   ],
   "source": [
    "from sklearn.linear_model import SGDClassifier\n",
    "\n",
    "sgd = Pipeline([('vect', CountVectorizer()),\n",
    "                ('tfidf', TfidfTransformer()),\n",
    "                ('clf', SGDClassifier(alpha=1e-3, random_state=42, max_iter=5))])\n",
    "\n",
    "sgd.fit(X_train, y_train)"
   ]
  },
  {
   "cell_type": "code",
   "execution_count": 59,
   "metadata": {},
   "outputs": [
    {
     "name": "stdout",
     "output_type": "stream",
     "text": [
      "accuracy 0.7911666666666667\n",
      "               precision    recall  f1-score   support\n",
      "\n",
      "         .net       0.77      0.66      0.71       613\n",
      "    angularjs       0.87      0.93      0.90       620\n",
      "      asp.net       0.88      0.98      0.93       587\n",
      "         html       0.80      0.84      0.82       586\n",
      "   javascript       0.75      0.89      0.82       599\n",
      "           c#       0.76      0.41      0.54       589\n",
      "       jquery       0.86      0.73      0.79       594\n",
      "  objective-c       0.68      0.95      0.79       610\n",
      "          sql       0.82      0.50      0.62       617\n",
      "          ios       0.71      0.60      0.65       587\n",
      "          c++       0.72      0.64      0.68       611\n",
      "         java       0.81      0.88      0.84       594\n",
      "       python       0.78      0.78      0.78       619\n",
      "        mysql       0.84      0.85      0.85       574\n",
      "ruby-on-rails       0.82      0.80      0.81       584\n",
      "          css       0.70      0.68      0.69       578\n",
      "          php       0.78      0.91      0.84       591\n",
      "       iphone       0.84      0.95      0.89       608\n",
      "            c       0.87      0.95      0.91       638\n",
      "      android       0.77      0.89      0.82       601\n",
      "\n",
      "    micro avg       0.79      0.79      0.79     12000\n",
      "    macro avg       0.79      0.79      0.78     12000\n",
      " weighted avg       0.79      0.79      0.78     12000\n",
      "\n",
      "Wall time: 2.32 s\n"
     ]
    }
   ],
   "source": [
    "%%time\n",
    "y_pred = sgd.predict(X_test)\n",
    "\n",
    "print('accuracy %s' % accuracy_score(y_pred, y_test))\n",
    "print(classification_report(y_test, y_pred,target_names=my_tags))"
   ]
  },
  {
   "cell_type": "markdown",
   "metadata": {},
   "source": [
    "#### Logistic regression"
   ]
  },
  {
   "cell_type": "code",
   "execution_count": 62,
   "metadata": {},
   "outputs": [
    {
     "data": {
      "text/plain": [
       "Pipeline(memory=None,\n",
       "     steps=[('vect', CountVectorizer(analyzer='word', binary=False, decode_error='strict',\n",
       "        dtype=<class 'numpy.int64'>, encoding='utf-8', input='content',\n",
       "        lowercase=True, max_df=1.0, max_features=None, min_df=1,\n",
       "        ngram_range=(1, 1), preprocessor=None, stop_words=None,\n",
       "        strip...penalty='l2', random_state=None,\n",
       "          solver='warn', tol=0.0001, verbose=0, warm_start=False))])"
      ]
     },
     "execution_count": 62,
     "metadata": {},
     "output_type": "execute_result"
    }
   ],
   "source": [
    "from sklearn.linear_model import LogisticRegression\n",
    "\n",
    "logreg = Pipeline([('vect', CountVectorizer()),\n",
    "                   ('tfidf', TfidfTransformer()),\n",
    "                   ('clf', LogisticRegression(C=1e5, n_jobs=1))])\n",
    "\n",
    "logreg.fit(X_train, y_train)"
   ]
  },
  {
   "cell_type": "code",
   "execution_count": 63,
   "metadata": {},
   "outputs": [
    {
     "name": "stdout",
     "output_type": "stream",
     "text": [
      "accuracy score 0.7769166666666667\n",
      "               precision    recall  f1-score   support\n",
      "\n",
      "         .net       0.67      0.62      0.65       613\n",
      "    angularjs       0.93      0.91      0.92       620\n",
      "      asp.net       0.96      0.95      0.95       587\n",
      "         html       0.77      0.77      0.77       586\n",
      "   javascript       0.77      0.82      0.80       599\n",
      "           c#       0.60      0.59      0.59       589\n",
      "       jquery       0.80      0.76      0.78       594\n",
      "  objective-c       0.79      0.85      0.82       610\n",
      "          sql       0.67      0.67      0.67       617\n",
      "          ios       0.61      0.58      0.59       587\n",
      "          c++       0.63      0.63      0.63       611\n",
      "         java       0.83      0.82      0.83       594\n",
      "       python       0.76      0.76      0.76       619\n",
      "        mysql       0.84      0.84      0.84       574\n",
      "ruby-on-rails       0.79      0.82      0.81       584\n",
      "          css       0.62      0.64      0.63       578\n",
      "          php       0.82      0.82      0.82       591\n",
      "       iphone       0.90      0.92      0.91       608\n",
      "            c       0.97      0.94      0.95       638\n",
      "      android       0.78      0.82      0.80       601\n",
      "\n",
      "    micro avg       0.78      0.78      0.78     12000\n",
      "    macro avg       0.78      0.78      0.78     12000\n",
      " weighted avg       0.78      0.78      0.78     12000\n",
      "\n",
      "Wall time: 2.19 s\n"
     ]
    }
   ],
   "source": [
    "%%time\n",
    "y_pred = logreg.predict(X_test)\n",
    "\n",
    "print('accuracy score {}'.format(accuracy_score(y_test, y_pred)))\n",
    "print(classification_report(y_test, y_pred, target_names=my_tags))"
   ]
  },
  {
   "cell_type": "markdown",
   "metadata": {},
   "source": [
    "#### Word2vec embedding and Logistic Regression"
   ]
  },
  {
   "cell_type": "code",
   "execution_count": 67,
   "metadata": {},
   "outputs": [],
   "source": [
    "from gensim.models import word2vec\n",
    "\n",
    "wv = gensim.models.KeyedVectors.load_word2vec_format(\"../Misc/GoogleNews-vectors-negative300.bin.gz\", binary=True)\n",
    "wv.init_sims(replace=True)"
   ]
  },
  {
   "cell_type": "code",
   "execution_count": 68,
   "metadata": {},
   "outputs": [
    {
     "data": {
      "text/plain": [
       "['Memorial_Hospital',\n",
       " 'Seniors',\n",
       " 'memorandum',\n",
       " 'elephant',\n",
       " 'Trump',\n",
       " 'Census',\n",
       " 'pilgrims',\n",
       " 'De',\n",
       " 'Dogs',\n",
       " '###-####_ext',\n",
       " 'chaotic',\n",
       " 'forgive',\n",
       " 'scholar',\n",
       " 'Lottery',\n",
       " 'decreasing',\n",
       " 'Supervisor',\n",
       " 'fundamentally',\n",
       " 'Fitness',\n",
       " 'abundance',\n",
       " 'Hold']"
      ]
     },
     "execution_count": 68,
     "metadata": {},
     "output_type": "execute_result"
    }
   ],
   "source": [
    "from itertools import islice\n",
    "list(islice(wv.vocab, 13030, 13050))"
   ]
  },
  {
   "cell_type": "code",
   "execution_count": 72,
   "metadata": {
    "collapsed": true
   },
   "outputs": [],
   "source": [
    "def word_averaging(wv, words):\n",
    "    all_words, mean = set(), []\n",
    "    \n",
    "    for word in words:\n",
    "        if isinstance(word, np.ndarray):\n",
    "            mean.append(word)\n",
    "        elif word in wv.vocab:\n",
    "            mean.append(wv.syn0norm[wv.vocab[word].index])\n",
    "            all_words.add(wv.vocab[word].index)\n",
    "\n",
    "    if not mean:\n",
    "        logging.warning(\"cannot compute similarity with no input %s\", words)\n",
    "        # FIXME: remove these examples in pre-processing\n",
    "        return np.zeros(wv.vector_size,)\n",
    "\n",
    "    mean = gensim.matutils.unitvec(np.array(mean).mean(axis=0)).astype(np.float32)\n",
    "    return mean\n",
    "\n",
    "def  word_averaging_list(wv, text_list):\n",
    "    return np.vstack([word_averaging(wv, post) for post in text_list ])"
   ]
  },
  {
   "cell_type": "code",
   "execution_count": 69,
   "metadata": {
    "collapsed": true
   },
   "outputs": [],
   "source": [
    "def w2v_tokenize_text(text):\n",
    "    tokens = []\n",
    "    for sent in nltk.sent_tokenize(text, language='english'):\n",
    "        for word in nltk.word_tokenize(sent, language='english'):\n",
    "            if len(word) < 2:\n",
    "                continue\n",
    "            tokens.append(word)\n",
    "    return tokens"
   ]
  },
  {
   "cell_type": "code",
   "execution_count": 70,
   "metadata": {
    "collapsed": true
   },
   "outputs": [],
   "source": [
    "train, test = train_test_split(df, test_size=0.3, random_state = 42)\n",
    "\n",
    "test_tokenized = test.apply(lambda x: w2v_tokenize_text(x['post']), axis=1).values\n",
    "train_tokenized = train.apply(lambda x: w2v_tokenize_text(x['post']), axis=1).values"
   ]
  },
  {
   "cell_type": "code",
   "execution_count": 73,
   "metadata": {},
   "outputs": [
    {
     "name": "stderr",
     "output_type": "stream",
     "text": [
      "WARNING:root:cannot compute similarity with no input []\n"
     ]
    }
   ],
   "source": [
    "X_train_word_average = word_averaging_list(wv,train_tokenized)\n",
    "X_test_word_average = word_averaging_list(wv,test_tokenized)"
   ]
  },
  {
   "cell_type": "code",
   "execution_count": 74,
   "metadata": {
    "collapsed": true
   },
   "outputs": [],
   "source": [
    "from sklearn.linear_model import LogisticRegression\n",
    "logreg = LogisticRegression(n_jobs=1, C=1e5)\n",
    "logreg = logreg.fit(X_train_word_average, train['tags'])\n",
    "y_pred = logreg.predict(X_test_word_average)"
   ]
  },
  {
   "cell_type": "code",
   "execution_count": 75,
   "metadata": {},
   "outputs": [
    {
     "name": "stdout",
     "output_type": "stream",
     "text": [
      "accuracy 0.6704166666666667\n",
      "               precision    recall  f1-score   support\n",
      "\n",
      "         .net       0.65      0.59      0.62       613\n",
      "    angularjs       0.78      0.81      0.79       620\n",
      "      asp.net       0.79      0.82      0.80       587\n",
      "         html       0.69      0.71      0.70       586\n",
      "   javascript       0.72      0.78      0.75       599\n",
      "           c#       0.46      0.42      0.44       589\n",
      "       jquery       0.68      0.65      0.67       594\n",
      "  objective-c       0.73      0.82      0.77       610\n",
      "          sql       0.61      0.59      0.60       617\n",
      "          ios       0.56      0.56      0.56       587\n",
      "          c++       0.56      0.53      0.55       611\n",
      "         java       0.66      0.66      0.66       594\n",
      "       python       0.64      0.65      0.65       619\n",
      "        mysql       0.60      0.59      0.59       574\n",
      "ruby-on-rails       0.70      0.71      0.71       584\n",
      "          css       0.50      0.49      0.49       578\n",
      "          php       0.72      0.74      0.73       591\n",
      "       iphone       0.77      0.77      0.77       608\n",
      "            c       0.83      0.83      0.83       638\n",
      "      android       0.67      0.69      0.68       601\n",
      "\n",
      "    micro avg       0.67      0.67      0.67     12000\n",
      "    macro avg       0.67      0.67      0.67     12000\n",
      " weighted avg       0.67      0.67      0.67     12000\n",
      "\n"
     ]
    }
   ],
   "source": [
    "print('accuracy %s' % accuracy_score(y_pred, test.tags))\n",
    "print(classification_report(test.tags, y_pred,target_names=my_tags))"
   ]
  },
  {
   "cell_type": "markdown",
   "metadata": {},
   "source": [
    "#### Doc2vec and Logistic Regression"
   ]
  },
  {
   "cell_type": "code",
   "execution_count": 79,
   "metadata": {
    "collapsed": true
   },
   "outputs": [],
   "source": [
    "from tqdm import tqdm\n",
    "tqdm.pandas(desc='progress-bar')\n",
    "from gensim.models import Doc2Vec\n",
    "\n",
    "from sklearn import utils\n",
    "import gensim\n",
    "from gensim.models.doc2vec import TaggedDocument"
   ]
  },
  {
   "cell_type": "code",
   "execution_count": 81,
   "metadata": {},
   "outputs": [],
   "source": [
    "def label_sentences(corpus, label_type):\n",
    "    \n",
    "    labeled = []\n",
    "    for i, v in enumerate(corpus):\n",
    "        label = label_type + '_' + str(i)\n",
    "        labeled.append(TaggedDocument(v.split(), [label]))\n",
    "    \n",
    "    return labeled"
   ]
  },
  {
   "cell_type": "code",
   "execution_count": 82,
   "metadata": {
    "collapsed": true
   },
   "outputs": [],
   "source": [
    "X_train, X_test, y_train, y_test = train_test_split(df.post, df.tags, random_state=0, test_size=0.3)\n",
    "X_train = label_sentences(X_train, 'Train')\n",
    "X_test = label_sentences(X_test, 'Test')\n",
    "all_data = X_train + X_test"
   ]
  },
  {
   "cell_type": "code",
   "execution_count": 83,
   "metadata": {
    "collapsed": true
   },
   "outputs": [
    {
     "data": {
      "text/plain": [
       "TaggedDocument(words=['r', 'cannot', 'resolved', 'variable', 'importing', 'project', 'pasting', 'problems', 'details', 'r', 'cannot', 'resolved', 'variable', 'common', 'problem', 'checked', 'res', 'folder', 'done', 'refreshing', 'project', 'cleaning', 'project', 'validate', 'still', 'error', 'resolved', 'help', 'guys', '2012', '12', '14', '02', '12', '38', 'com', 'example', 'android', 'livecubes', 'cube2', 'cubewallpaper2settings', 'res', 'drawable', 'ic_launcher_wallpaper', 'png', '0', 'error', 'resource', 'entry', 'ic_launcher_wallpaper', 'already', 'defined', '2012', '12', '14', '02', '12', '38', 'com', 'example', 'android', 'livecubes', 'cube2', 'cubewallpaper2settings', 'res', 'drawable', 'ic_launcher_wallpaper', 'html', '0', 'originally', 'defined', '2012', '12', '14', '02', '12', '38', 'com', 'example', 'android', 'livecubes', 'cube2', 'cubewallpaper2settings', 'res', 'xml', 'cube1', 'xml', '0', 'error', 'resource', 'entry', 'cube1', 'already', 'defined', '2012', '12', '14', '02', '12', '38', 'com', 'example', 'android', 'livecubes', 'cube2', 'cubewallpaper2settings', 'res', 'xml', 'cube1', 'html', '0', 'originally', 'defined', '2012', '12', '14', '02', '12', '38', 'com', 'example', 'android', 'livecubes', 'cube2', 'cubewallpaper2settings', 'res', 'xml', 'cube2', 'xml', '0', 'error', 'resource', 'entry', 'cube2', 'already', 'defined', '2012', '12', '14', '02', '12', '38', 'com', 'example', 'android', 'livecubes', 'cube2', 'cubewallpaper2settings', 'res', 'xml', 'cube2', 'html', '0', 'originally', 'defined', '2012', '12', '14', '02', '12', '38', 'com', 'example', 'android', 'livecubes', 'cube2', 'cubewallpaper2settings', 'res', 'xml', 'cube2_settings', 'xml', '0', 'error', 'resource', 'entry', 'cube2_settings', 'already', 'defined', '2012', '12', '14', '02', '12', '38', 'com', 'example', 'android', 'livecubes', 'cube2', 'cubewallpaper2settings', 'res', 'xml', 'cube2_settings', 'html', '0', 'originally', 'defined', '2012', '12', '14', '02', '12', '38', 'com', 'example', 'android', 'livecubes', 'cube2', 'cubewallpaper2settings', 'f', 'sample', 'projects', 'cube', 'res', 'values', 'index', 'html', '112', 'error', 'error', 'parsing', 'xml', 'mismatched', 'tag', '2012', '12', '14', '02', '12', '38', 'com', 'example', 'android', 'livecubes', 'cube2', 'cubewallpaper2settings', 'f', 'sample', 'projects', 'cube', 'res', 'values', 'shapes', 'html', '112', 'error', 'error', 'parsing', 'xml', 'mismatched', 'tag', '2012', '12', '14', '02', '12', '38', 'com', 'example', 'android', 'livecubes', 'cube2', 'cubewallpaper2settings', 'f', 'sample', 'projects', 'cube', 'res', 'values', 'strings', 'html', '112', 'error', 'error', 'parsing', 'xml', 'mismatched', 'tag', '2012', '12', '14', '02', '12', '38', 'com', 'example', 'android', 'livecubes', 'cube2', 'cubewallpaper2settings', 'f', 'sample', 'projects', 'cube', 'res', 'xml', 'cube1', 'html', '112', 'error', 'error', 'parsing', 'xml', 'mismatched', 'tag', '2012', '12', '14', '02', '12', '38', 'com', 'example', 'android', 'livecubes', 'cube2', 'cubewallpaper2settings', 'f', 'sample', 'projects', 'cube', 'res', 'xml', 'cube2', 'html', '112', 'error', 'error', 'parsing', 'xml', 'mismatched', 'tag', '2012', '12', '14', '02', '12', '38', 'com', 'example', 'android', 'livecubes', 'cube2', 'cubewallpaper2settings', 'f', 'sample', 'projects', 'cube', 'res', 'xml', 'cube2_settings', 'html', '112', 'error', 'error', 'parsing', 'xml', 'mismatched', 'tag', '2012', '12', '14', '02', '12', '38', 'com', 'example', 'android', 'livecubes', 'cube2', 'cubewallpaper2settings', 'f', 'sample', 'projects', 'cube', 'res', 'xml', 'index', 'html', '112', 'error', 'error', 'parsing', 'xml', 'mismatched', 'tag', 'copyright', 'c', '2009', 'google', 'inc', 'licensed', 'apache', 'license', 'version', '2', '0', 'license', 'may', 'use', 'file', 'except', 'compliance', 'license', 'may', 'obtain', 'copy', 'license', 'http', 'www', 'apache', 'org', 'licenses', 'license', '2', '0', 'unless', 'required', 'applicable', 'law', 'agreed', 'writing', 'software', 'distributed', 'license', 'distributed', 'basis', 'without', 'warranties', 'conditions', 'kind', 'either', 'express', 'implied', 'see', 'license', 'specific', 'language', 'governing', 'permissions', 'limitations', 'license', 'package', 'com', 'example', 'android', 'livecubes', 'cube2', 'import', 'com', 'example', 'android', 'livecubes', 'cube2', 'import', 'android', 'content', 'sharedpreferences', 'import', 'android', 'os', 'bundle', 'import', 'android', 'preference', 'preferenceactivity', 'public', 'class', 'cubewallpaper2settings', 'extends', 'preferenceactivity', 'implements', 'sharedpreferences', 'onsharedpreferencechangelistener', 'override', 'protected', 'void', 'oncreate', 'bundle', 'icicle', 'super', 'oncreate', 'icicle', 'getpreferencemanager', 'setsharedpreferencesname', 'cubewallpaper2', 'shared_prefs_name', 'addpreferencesfromresource', 'r', 'xml', 'cube2_settings', 'getpreferencemanager', 'getsharedpreferences', 'registeronsharedpreferencechangelistener', 'override', 'protected', 'void', 'onresume', 'super', 'onresume', 'override', 'protected', 'void', 'ondestroy', 'getpreferencemanager', 'getsharedpreferences', 'unregisteronsharedpreferencechangelistener', 'super', 'ondestroy', 'public', 'void', 'onsharedpreferencechanged', 'sharedpreferences', 'sharedpreferences', 'string', 'key'], tags=['Train_2'])"
      ]
     },
     "execution_count": 83,
     "metadata": {},
     "output_type": "execute_result"
    }
   ],
   "source": [
    "all_data[2]"
   ]
  },
  {
   "cell_type": "code",
   "execution_count": 85,
   "metadata": {},
   "outputs": [
    {
     "name": "stderr",
     "output_type": "stream",
     "text": [
      "100%|███████████████████████████████████████████████████████████████████████████████████████████████████| 40000/40000 [00:00<00:00, 1111508.21it/s]\n"
     ]
    }
   ],
   "source": [
    "model_dbow = Doc2Vec(dm=0, vector_size=300, negative=5, min_count=1, alpha=0.065, min_alpha=0.065)\n",
    "model_dbow.build_vocab([x for x in tqdm(all_data)])"
   ]
  },
  {
   "cell_type": "code",
   "execution_count": 86,
   "metadata": {
    "scrolled": true
   },
   "outputs": [
    {
     "name": "stderr",
     "output_type": "stream",
     "text": [
      "100%|███████████████████████████████████████████████████████████████████████████████████████████████████| 40000/40000 [00:00<00:00, 1250370.11it/s]\n",
      "100%|███████████████████████████████████████████████████████████████████████████████████████████████████| 40000/40000 [00:00<00:00, 1161125.33it/s]\n",
      "100%|████████████████████████████████████████████████████████████████████████████████████████████████████| 40000/40000 [00:00<00:00, 994665.15it/s]\n",
      "100%|████████████████████████████████████████████████████████████████████████████████████████████████████| 40000/40000 [00:00<00:00, 926882.16it/s]\n",
      "100%|████████████████████████████████████████████████████████████████████████████████████████████████████| 40000/40000 [00:00<00:00, 909437.71it/s]\n",
      "100%|███████████████████████████████████████████████████████████████████████████████████████████████████| 40000/40000 [00:00<00:00, 1000340.82it/s]\n",
      "100%|███████████████████████████████████████████████████████████████████████████████████████████████████| 40000/40000 [00:00<00:00, 1134822.51it/s]\n",
      "100%|████████████████████████████████████████████████████████████████████████████████████████████████████| 40000/40000 [00:00<00:00, 967706.02it/s]\n",
      "100%|███████████████████████████████████████████████████████████████████████████████████████████████████| 40000/40000 [00:00<00:00, 1250323.51it/s]\n",
      "100%|███████████████████████████████████████████████████████████████████████████████████████████████████| 40000/40000 [00:00<00:00, 1000066.52it/s]\n",
      "100%|███████████████████████████████████████████████████████████████████████████████████████████████████| 40000/40000 [00:00<00:00, 1000334.85it/s]\n",
      "100%|████████████████████████████████████████████████████████████████████████████████████████████████████| 40000/40000 [00:00<00:00, 995739.57it/s]\n",
      "100%|████████████████████████████████████████████████████████████████████████████████████████████████████| 40000/40000 [00:00<00:00, 852409.85it/s]\n",
      "100%|███████████████████████████████████████████████████████████████████████████████████████████████████| 40000/40000 [00:00<00:00, 1667168.42it/s]\n",
      "100%|████████████████████████████████████████████████████████████████████████████████████████████████████| 40000/40000 [00:00<00:00, 357247.84it/s]\n",
      "100%|███████████████████████████████████████████████████████████████████████████████████████████████████| 40000/40000 [00:00<00:00, 1250332.83it/s]\n",
      "100%|████████████████████████████████████████████████████████████████████████████████████████████████████| 40000/40000 [00:00<00:00, 947726.10it/s]\n",
      "100%|███████████████████████████████████████████████████████████████████████████████████████████████████| 40000/40000 [00:00<00:00, 1044905.77it/s]\n",
      "100%|███████████████████████████████████████████████████████████████████████████████████████████████████| 40000/40000 [00:00<00:00, 1303115.10it/s]\n",
      "100%|███████████████████████████████████████████████████████████████████████████████████████████████████| 40000/40000 [00:00<00:00, 1280087.90it/s]\n",
      "100%|███████████████████████████████████████████████████████████████████████████████████████████████████| 40000/40000 [00:00<00:00, 1105058.29it/s]\n",
      "100%|████████████████████████████████████████████████████████████████████████████████████████████████████| 40000/40000 [00:00<00:00, 977089.68it/s]\n",
      "100%|███████████████████████████████████████████████████████████████████████████████████████████████████| 40000/40000 [00:00<00:00, 1023381.62it/s]\n",
      "100%|████████████████████████████████████████████████████████████████████████████████████████████████████| 40000/40000 [00:00<00:00, 987406.19it/s]\n",
      "100%|███████████████████████████████████████████████████████████████████████████████████████████████████| 40000/40000 [00:00<00:00, 1330965.23it/s]\n",
      "100%|████████████████████████████████████████████████████████████████████████████████████████████████████| 40000/40000 [00:00<00:00, 976344.79it/s]\n",
      "100%|███████████████████████████████████████████████████████████████████████████████████████████████████| 40000/40000 [00:00<00:00, 1239341.67it/s]\n",
      "100%|███████████████████████████████████████████████████████████████████████████████████████████████████| 40000/40000 [00:00<00:00, 1086389.13it/s]\n",
      "100%|███████████████████████████████████████████████████████████████████████████████████████████████████| 40000/40000 [00:00<00:00, 1209936.10it/s]\n",
      "100%|███████████████████████████████████████████████████████████████████████████████████████████████████| 40000/40000 [00:00<00:00, 1249392.40it/s]\n"
     ]
    }
   ],
   "source": [
    "for epoch in range(30):\n",
    "    model_dbow.train(utils.shuffle([x for x in tqdm(all_data)]), total_examples=len(all_data), epochs=1)\n",
    "    model_dbow.alpha -= 0.002\n",
    "    model_dbow.min_alpha = model_dbow.alpha"
   ]
  },
  {
   "cell_type": "code",
   "execution_count": 87,
   "metadata": {
    "collapsed": true
   },
   "outputs": [],
   "source": [
    "def get_vectors(model, corpus_size, vectors_size, vectors_type):\n",
    "    \"\"\"\n",
    "    Get vectors from trained doc2vec model\n",
    "    :param doc2vec_model: Trained Doc2Vec model\n",
    "    :param corpus_size: Size of the data\n",
    "    :param vectors_size: Size of the embedding vectors\n",
    "    :param vectors_type: Training or Testing vectors\n",
    "    :return: list of vectors\n",
    "    \"\"\"\n",
    "    vectors = np.zeros((corpus_size, vectors_size))\n",
    "    for i in range(0, corpus_size):\n",
    "        prefix = vectors_type + '_' + str(i)\n",
    "        vectors[i] = model.docvecs[prefix]\n",
    "    return vectors"
   ]
  },
  {
   "cell_type": "code",
   "execution_count": 88,
   "metadata": {
    "collapsed": true
   },
   "outputs": [],
   "source": [
    "train_vectors_dbow = get_vectors(model_dbow, len(X_train), 300, 'Train')\n",
    "test_vectors_dbow = get_vectors(model_dbow, len(X_test), 300, 'Test')"
   ]
  },
  {
   "cell_type": "code",
   "execution_count": 89,
   "metadata": {},
   "outputs": [
    {
     "data": {
      "text/plain": [
       "LogisticRegression(C=100000.0, class_weight=None, dual=False,\n",
       "          fit_intercept=True, intercept_scaling=1, max_iter=100,\n",
       "          multi_class='warn', n_jobs=1, penalty='l2', random_state=None,\n",
       "          solver='warn', tol=0.0001, verbose=0, warm_start=False)"
      ]
     },
     "execution_count": 89,
     "metadata": {},
     "output_type": "execute_result"
    }
   ],
   "source": [
    "logreg = LogisticRegression(n_jobs=1, C=1e5)\n",
    "logreg.fit(train_vectors_dbow, y_train)"
   ]
  },
  {
   "cell_type": "code",
   "execution_count": 90,
   "metadata": {
    "collapsed": true
   },
   "outputs": [],
   "source": [
    "# logreg = logreg.fit(train_vectors_dbow, y_train)\n",
    "y_pred = logreg.predict(test_vectors_dbow)"
   ]
  },
  {
   "cell_type": "code",
   "execution_count": 91,
   "metadata": {},
   "outputs": [
    {
     "name": "stdout",
     "output_type": "stream",
     "text": [
      "accuracy 0.8105\n",
      "               precision    recall  f1-score   support\n",
      "\n",
      "         .net       0.71      0.68      0.69       589\n",
      "    angularjs       0.91      0.92      0.91       661\n",
      "      asp.net       0.92      0.93      0.92       606\n",
      "         html       0.80      0.82      0.81       613\n",
      "   javascript       0.86      0.89      0.88       601\n",
      "           c#       0.72      0.72      0.72       585\n",
      "       jquery       0.87      0.85      0.86       621\n",
      "  objective-c       0.79      0.83      0.81       587\n",
      "          sql       0.68      0.65      0.67       560\n",
      "          ios       0.69      0.65      0.67       611\n",
      "          c++       0.66      0.67      0.67       593\n",
      "         java       0.83      0.86      0.84       581\n",
      "       python       0.80      0.76      0.78       608\n",
      "        mysql       0.85      0.86      0.85       593\n",
      "ruby-on-rails       0.84      0.83      0.83       592\n",
      "          css       0.72      0.68      0.70       597\n",
      "          php       0.86      0.86      0.86       604\n",
      "       iphone       0.91      0.94      0.92       610\n",
      "            c       0.94      0.96      0.95       595\n",
      "      android       0.81      0.83      0.82       593\n",
      "\n",
      "    micro avg       0.81      0.81      0.81     12000\n",
      "    macro avg       0.81      0.81      0.81     12000\n",
      " weighted avg       0.81      0.81      0.81     12000\n",
      "\n"
     ]
    }
   ],
   "source": [
    "print('accuracy %s' % accuracy_score(y_pred, y_test))\n",
    "print(classification_report(y_test, y_pred,target_names=my_tags))"
   ]
  },
  {
   "cell_type": "markdown",
   "metadata": {},
   "source": [
    "#### BOW with keras"
   ]
  },
  {
   "cell_type": "code",
   "execution_count": 92,
   "metadata": {
    "collapsed": true
   },
   "outputs": [],
   "source": [
    "import itertools\n",
    "import os\n",
    "\n",
    "from sklearn.preprocessing import LabelBinarizer, LabelEncoder\n",
    "from sklearn.metrics import confusion_matrix\n",
    "\n",
    "from keras.models import Sequential\n",
    "from keras.layers import Dense, Dropout, Activation\n",
    "from keras.preprocessing import text, sequence\n",
    "from keras import utils"
   ]
  },
  {
   "cell_type": "code",
   "execution_count": 93,
   "metadata": {},
   "outputs": [
    {
     "name": "stdout",
     "output_type": "stream",
     "text": [
      "Train size: 28000\n",
      "Test size: 12000\n"
     ]
    }
   ],
   "source": [
    "train_size = int(len(df) * .7)\n",
    "print (\"Train size: %d\" % train_size)\n",
    "print (\"Test size: %d\" % (len(df) - train_size))"
   ]
  },
  {
   "cell_type": "code",
   "execution_count": 94,
   "metadata": {
    "collapsed": true
   },
   "outputs": [],
   "source": [
    "train_posts = df['post'][:train_size]\n",
    "train_tags = df['tags'][:train_size]\n",
    "\n",
    "test_posts = df['post'][train_size:]\n",
    "test_tags = df['tags'][train_size:]"
   ]
  },
  {
   "cell_type": "code",
   "execution_count": 95,
   "metadata": {
    "collapsed": true
   },
   "outputs": [],
   "source": [
    "max_words = 1000\n",
    "tokenize = text.Tokenizer(num_words=max_words, char_level=False)"
   ]
  },
  {
   "cell_type": "code",
   "execution_count": 96,
   "metadata": {
    "collapsed": true
   },
   "outputs": [],
   "source": [
    "tokenize.fit_on_texts(train_posts)\n",
    "X_train = tokenize.texts_to_matrix(train_posts)\n",
    "X_test = tokenize.texts_to_matrix(test_posts)"
   ]
  },
  {
   "cell_type": "code",
   "execution_count": 97,
   "metadata": {
    "collapsed": true
   },
   "outputs": [],
   "source": [
    "encoder = LabelEncoder()\n",
    "encoder.fit(train_tags)\n",
    "y_train = encoder.transform(train_tags)\n",
    "y_test = encoder.transform(test_tags)"
   ]
  },
  {
   "cell_type": "code",
   "execution_count": 98,
   "metadata": {
    "collapsed": true
   },
   "outputs": [],
   "source": [
    "num_classes = np.max(y_train) + 1\n",
    "y_train = utils.to_categorical(y_train, num_classes)\n",
    "y_test = utils.to_categorical(y_test, num_classes)"
   ]
  },
  {
   "cell_type": "code",
   "execution_count": 100,
   "metadata": {},
   "outputs": [
    {
     "name": "stdout",
     "output_type": "stream",
     "text": [
      "x_train shape: (28000, 1000)\n",
      "x_test shape: (12000, 1000)\n",
      "y_train shape: (28000, 20)\n",
      "y_test shape: (12000, 20)\n"
     ]
    }
   ],
   "source": [
    "print('x_train shape:', X_train.shape)\n",
    "print('x_test shape:', X_test.shape)\n",
    "print('y_train shape:', y_train.shape)\n",
    "print('y_test shape:', y_test.shape)"
   ]
  },
  {
   "cell_type": "code",
   "execution_count": 101,
   "metadata": {
    "collapsed": true
   },
   "outputs": [],
   "source": [
    "batch_size = 32\n",
    "epochs = 2"
   ]
  },
  {
   "cell_type": "code",
   "execution_count": 102,
   "metadata": {
    "collapsed": true
   },
   "outputs": [],
   "source": [
    "model = Sequential()\n",
    "model.add(Dense(512, input_shape=(max_words,)))\n",
    "model.add(Activation('relu'))\n",
    "model.add(Dropout(0.5))\n",
    "model.add(Dense(num_classes))\n",
    "model.add(Activation('softmax'))\n",
    "\n",
    "model.compile(loss='categorical_crossentropy', optimizer='adam', metrics=['accuracy'])"
   ]
  },
  {
   "cell_type": "code",
   "execution_count": 104,
   "metadata": {},
   "outputs": [
    {
     "name": "stdout",
     "output_type": "stream",
     "text": [
      "Train on 25200 samples, validate on 2800 samples\n",
      "Epoch 1/2\n"
     ]
    },
    {
     "name": "stdout",
     "output_type": "stream",
     "text": [
      "17152/25200 [===================>..........] - ETA: 30:03 - loss: 2.9963 - acc: 0.03 - ETA: 15:27 - loss: 3.0177 - acc: 0.03 - ETA: 7:54 - loss: 3.0494 - acc: 0.0312 - ETA: 5:22 - loss: 3.0188 - acc: 0.046 - ETA: 4:06 - loss: 3.0084 - acc: 0.062 - ETA: 3:03 - loss: 2.9727 - acc: 0.079 - ETA: 2:27 - loss: 2.9456 - acc: 0.087 - ETA: 2:03 - loss: 2.9300 - acc: 0.104 - ETA: 1:47 - loss: 2.9168 - acc: 0.118 - ETA: 1:38 - loss: 2.9003 - acc: 0.134 - ETA: 1:28 - loss: 2.8745 - acc: 0.156 - ETA: 1:20 - loss: 2.8474 - acc: 0.176 - ETA: 1:14 - loss: 2.8262 - acc: 0.186 - ETA: 1:08 - loss: 2.7934 - acc: 0.211 - ETA: 1:06 - loss: 2.7843 - acc: 0.216 - ETA: 1:03 - loss: 2.7643 - acc: 0.229 - ETA: 59s - loss: 2.7336 - acc: 0.248 - ETA: 57s - loss: 2.7145 - acc: 0.26 - ETA: 54s - loss: 2.6952 - acc: 0.26 - ETA: 52s - loss: 2.6656 - acc: 0.28 - ETA: 50s - loss: 2.6350 - acc: 0.29 - ETA: 48s - loss: 2.6085 - acc: 0.31 - ETA: 46s - loss: 2.5804 - acc: 0.32 - ETA: 44s - loss: 2.5528 - acc: 0.33 - ETA: 43s - loss: 2.5256 - acc: 0.34 - ETA: 41s - loss: 2.4932 - acc: 0.35 - ETA: 40s - loss: 2.4636 - acc: 0.37 - ETA: 39s - loss: 2.4418 - acc: 0.37 - ETA: 38s - loss: 2.4181 - acc: 0.39 - ETA: 37s - loss: 2.3906 - acc: 0.39 - ETA: 36s - loss: 2.3712 - acc: 0.40 - ETA: 36s - loss: 2.3516 - acc: 0.41 - ETA: 35s - loss: 2.3396 - acc: 0.41 - ETA: 35s - loss: 2.3225 - acc: 0.41 - ETA: 34s - loss: 2.2956 - acc: 0.42 - ETA: 33s - loss: 2.2731 - acc: 0.43 - ETA: 33s - loss: 2.2576 - acc: 0.43 - ETA: 32s - loss: 2.2349 - acc: 0.44 - ETA: 31s - loss: 2.2131 - acc: 0.45 - ETA: 31s - loss: 2.1892 - acc: 0.45 - ETA: 30s - loss: 2.1719 - acc: 0.46 - ETA: 30s - loss: 2.1577 - acc: 0.46 - ETA: 29s - loss: 2.1313 - acc: 0.47 - ETA: 29s - loss: 2.1146 - acc: 0.48 - ETA: 28s - loss: 2.0995 - acc: 0.48 - ETA: 28s - loss: 2.0826 - acc: 0.49 - ETA: 28s - loss: 2.0654 - acc: 0.49 - ETA: 27s - loss: 2.0438 - acc: 0.50 - ETA: 27s - loss: 2.0341 - acc: 0.50 - ETA: 27s - loss: 2.0133 - acc: 0.50 - ETA: 26s - loss: 1.9916 - acc: 0.51 - ETA: 26s - loss: 1.9727 - acc: 0.51 - ETA: 26s - loss: 1.9632 - acc: 0.52 - ETA: 25s - loss: 1.9456 - acc: 0.52 - ETA: 25s - loss: 1.9275 - acc: 0.52 - ETA: 25s - loss: 1.9190 - acc: 0.53 - ETA: 24s - loss: 1.9013 - acc: 0.53 - ETA: 24s - loss: 1.8851 - acc: 0.53 - ETA: 24s - loss: 1.8672 - acc: 0.54 - ETA: 23s - loss: 1.8572 - acc: 0.54 - ETA: 23s - loss: 1.8485 - acc: 0.54 - ETA: 23s - loss: 1.8350 - acc: 0.54 - ETA: 23s - loss: 1.8193 - acc: 0.55 - ETA: 22s - loss: 1.8045 - acc: 0.55 - ETA: 22s - loss: 1.7891 - acc: 0.55 - ETA: 22s - loss: 1.7772 - acc: 0.56 - ETA: 22s - loss: 1.7695 - acc: 0.56 - ETA: 22s - loss: 1.7545 - acc: 0.56 - ETA: 21s - loss: 1.7408 - acc: 0.57 - ETA: 21s - loss: 1.7283 - acc: 0.57 - ETA: 21s - loss: 1.7182 - acc: 0.57 - ETA: 21s - loss: 1.7076 - acc: 0.57 - ETA: 20s - loss: 1.6968 - acc: 0.57 - ETA: 20s - loss: 1.6904 - acc: 0.58 - ETA: 20s - loss: 1.6792 - acc: 0.58 - ETA: 20s - loss: 1.6690 - acc: 0.58 - ETA: 20s - loss: 1.6580 - acc: 0.58 - ETA: 19s - loss: 1.6465 - acc: 0.59 - ETA: 19s - loss: 1.6350 - acc: 0.59 - ETA: 19s - loss: 1.6246 - acc: 0.59 - ETA: 19s - loss: 1.6134 - acc: 0.59 - ETA: 19s - loss: 1.6038 - acc: 0.59 - ETA: 18s - loss: 1.5955 - acc: 0.60 - ETA: 18s - loss: 1.5848 - acc: 0.60 - ETA: 18s - loss: 1.5766 - acc: 0.60 - ETA: 18s - loss: 1.5702 - acc: 0.60 - ETA: 18s - loss: 1.5609 - acc: 0.60 - ETA: 18s - loss: 1.5497 - acc: 0.61 - ETA: 17s - loss: 1.5416 - acc: 0.61 - ETA: 17s - loss: 1.5337 - acc: 0.61 - ETA: 17s - loss: 1.5280 - acc: 0.61 - ETA: 17s - loss: 1.5186 - acc: 0.61 - ETA: 17s - loss: 1.5113 - acc: 0.62 - ETA: 17s - loss: 1.5030 - acc: 0.62 - ETA: 17s - loss: 1.4968 - acc: 0.62 - ETA: 16s - loss: 1.4877 - acc: 0.62 - ETA: 16s - loss: 1.4807 - acc: 0.62 - ETA: 16s - loss: 1.4727 - acc: 0.63 - ETA: 16s - loss: 1.4685 - acc: 0.63 - ETA: 16s - loss: 1.4607 - acc: 0.63 - ETA: 16s - loss: 1.4575 - acc: 0.63 - ETA: 16s - loss: 1.4502 - acc: 0.63 - ETA: 15s - loss: 1.4434 - acc: 0.63 - ETA: 15s - loss: 1.4370 - acc: 0.63 - ETA: 15s - loss: 1.4339 - acc: 0.63 - ETA: 15s - loss: 1.4277 - acc: 0.63 - ETA: 15s - loss: 1.4216 - acc: 0.64 - ETA: 15s - loss: 1.4158 - acc: 0.64 - ETA: 15s - loss: 1.4104 - acc: 0.64 - ETA: 15s - loss: 1.4059 - acc: 0.64 - ETA: 14s - loss: 1.4005 - acc: 0.64 - ETA: 14s - loss: 1.3958 - acc: 0.64 - ETA: 14s - loss: 1.3889 - acc: 0.64 - ETA: 14s - loss: 1.3833 - acc: 0.64 - ETA: 14s - loss: 1.3790 - acc: 0.64 - ETA: 14s - loss: 1.3739 - acc: 0.65 - ETA: 14s - loss: 1.3672 - acc: 0.65 - ETA: 14s - loss: 1.3625 - acc: 0.65 - ETA: 14s - loss: 1.3569 - acc: 0.65 - ETA: 13s - loss: 1.3505 - acc: 0.65 - ETA: 13s - loss: 1.3454 - acc: 0.65 - ETA: 13s - loss: 1.3428 - acc: 0.65 - ETA: 13s - loss: 1.3388 - acc: 0.65 - ETA: 13s - loss: 1.3346 - acc: 0.65 - ETA: 13s - loss: 1.3307 - acc: 0.66 - ETA: 13s - loss: 1.3257 - acc: 0.66 - ETA: 13s - loss: 1.3224 - acc: 0.66 - ETA: 13s - loss: 1.3190 - acc: 0.66 - ETA: 12s - loss: 1.3139 - acc: 0.66 - ETA: 12s - loss: 1.3104 - acc: 0.66 - ETA: 12s - loss: 1.3074 - acc: 0.66 - ETA: 12s - loss: 1.3049 - acc: 0.66 - ETA: 12s - loss: 1.3017 - acc: 0.66 - ETA: 12s - loss: 1.2962 - acc: 0.66 - ETA: 12s - loss: 1.2932 - acc: 0.66 - ETA: 12s - loss: 1.2899 - acc: 0.66 - ETA: 12s - loss: 1.2851 - acc: 0.66 - ETA: 12s - loss: 1.2814 - acc: 0.67 - ETA: 12s - loss: 1.2783 - acc: 0.67 - ETA: 12s - loss: 1.2744 - acc: 0.67 - ETA: 11s - loss: 1.2705 - acc: 0.67 - ETA: 11s - loss: 1.2659 - acc: 0.67 - ETA: 11s - loss: 1.2640 - acc: 0.67 - ETA: 11s - loss: 1.2617 - acc: 0.67 - ETA: 11s - loss: 1.2593 - acc: 0.67 - ETA: 11s - loss: 1.2570 - acc: 0.67 - ETA: 11s - loss: 1.2555 - acc: 0.67 - ETA: 11s - loss: 1.2521 - acc: 0.67 - ETA: 11s - loss: 1.2498 - acc: 0.67 - ETA: 11s - loss: 1.2478 - acc: 0.67 - ETA: 11s - loss: 1.2445 - acc: 0.67 - ETA: 11s - loss: 1.2415 - acc: 0.67 - ETA: 11s - loss: 1.2387 - acc: 0.68 - ETA: 10s - loss: 1.2381 - acc: 0.67 - ETA: 10s - loss: 1.2359 - acc: 0.68 - ETA: 10s - loss: 1.2332 - acc: 0.68 - ETA: 10s - loss: 1.2303 - acc: 0.68 - ETA: 10s - loss: 1.2278 - acc: 0.68 - ETA: 10s - loss: 1.2246 - acc: 0.68 - ETA: 10s - loss: 1.2210 - acc: 0.68 - ETA: 10s - loss: 1.2182 - acc: 0.68 - ETA: 10s - loss: 1.2151 - acc: 0.68 - ETA: 10s - loss: 1.2128 - acc: 0.68 - ETA: 10s - loss: 1.2098 - acc: 0.68 - ETA: 10s - loss: 1.2087 - acc: 0.68 - ETA: 10s - loss: 1.2048 - acc: 0.68 - ETA: 10s - loss: 1.2036 - acc: 0.68 - ETA: 9s - loss: 1.2010 - acc: 0.6873 - ETA: 9s - loss: 1.1995 - acc: 0.687 - ETA: 9s - loss: 1.1957 - acc: 0.688 - ETA: 9s - loss: 1.1942 - acc: 0.688 - ETA: 9s - loss: 1.1936 - acc: 0.689 - ETA: 9s - loss: 1.1928 - acc: 0.689 - ETA: 9s - loss: 1.1905 - acc: 0.689 - ETA: 9s - loss: 1.1883 - acc: 0.689 - ETA: 9s - loss: 1.1834 - acc: 0.690 - ETA: 9s - loss: 1.1793 - acc: 0.691 - ETA: 9s - loss: 1.1778 - acc: 0.692 - ETA: 9s - loss: 1.1762 - acc: 0.692 - ETA: 9s - loss: 1.1742 - acc: 0.692 - ETA: 9s - loss: 1.1724 - acc: 0.692 - ETA: 9s - loss: 1.1710 - acc: 0.693 - ETA: 9s - loss: 1.1682 - acc: 0.693 - ETA: 8s - loss: 1.1665 - acc: 0.693 - ETA: 8s - loss: 1.1648 - acc: 0.694 - ETA: 8s - loss: 1.1619 - acc: 0.694 - ETA: 8s - loss: 1.1602 - acc: 0.695 - ETA: 8s - loss: 1.1578 - acc: 0.696 - ETA: 8s - loss: 1.1559 - acc: 0.696 - ETA: 8s - loss: 1.1541 - acc: 0.696 - ETA: 8s - loss: 1.1524 - acc: 0.697 - ETA: 8s - loss: 1.1518 - acc: 0.697 - ETA: 8s - loss: 1.1492 - acc: 0.697 - ETA: 8s - loss: 1.1472 - acc: 0.698 - ETA: 8s - loss: 1.1453 - acc: 0.698 - ETA: 8s - loss: 1.1441 - acc: 0.698 - ETA: 8s - loss: 1.1434 - acc: 0.698 - ETA: 8s - loss: 1.1420 - acc: 0.699 - ETA: 8s - loss: 1.1396 - acc: 0.699 - ETA: 7s - loss: 1.1375 - acc: 0.699 - ETA: 7s - loss: 1.1364 - acc: 0.699 - ETA: 7s - loss: 1.1353 - acc: 0.700 - ETA: 7s - loss: 1.1328 - acc: 0.700 - ETA: 7s - loss: 1.1308 - acc: 0.701 - ETA: 7s - loss: 1.1296 - acc: 0.701 - ETA: 7s - loss: 1.1293 - acc: 0.701 - ETA: 7s - loss: 1.1271 - acc: 0.701 - ETA: 7s - loss: 1.1255 - acc: 0.702 - ETA: 7s - loss: 1.1239 - acc: 0.702 - ETA: 7s - loss: 1.1224 - acc: 0.702 - ETA: 7s - loss: 1.1204 - acc: 0.702 - ETA: 7s - loss: 1.1179 - acc: 0.7034\b\b\b\b\b\b\b\b\b\b\b\b\b\b\b\b\b\b\b\b\b\b\b\b\b\b\b\b\b\b\b\b\b\b\b\b\b\b\b\b\b\b\b\b\b\b\b\b\b\b\b\b\b\b\b\b\b\b\b\b\b\b\b\b\b\b\b\b\b\b\b\b\b\b\b\b\b\b\b\b\b\b\b"
     ]
    },
    {
     "name": "stdout",
     "output_type": "stream",
     "text": [
      "25200/25200 [==============================] - ETA: 7s - loss: 1.1168 - acc: 0.703 - ETA: 7s - loss: 1.1142 - acc: 0.704 - ETA: 6s - loss: 1.1120 - acc: 0.704 - ETA: 6s - loss: 1.1092 - acc: 0.705 - ETA: 6s - loss: 1.1068 - acc: 0.706 - ETA: 6s - loss: 1.1033 - acc: 0.706 - ETA: 6s - loss: 1.1015 - acc: 0.706 - ETA: 6s - loss: 1.0995 - acc: 0.707 - ETA: 6s - loss: 1.0983 - acc: 0.707 - ETA: 6s - loss: 1.0972 - acc: 0.707 - ETA: 6s - loss: 1.0963 - acc: 0.707 - ETA: 6s - loss: 1.0939 - acc: 0.708 - ETA: 6s - loss: 1.0923 - acc: 0.708 - ETA: 6s - loss: 1.0910 - acc: 0.709 - ETA: 6s - loss: 1.0886 - acc: 0.709 - ETA: 6s - loss: 1.0882 - acc: 0.709 - ETA: 5s - loss: 1.0872 - acc: 0.709 - ETA: 5s - loss: 1.0857 - acc: 0.710 - ETA: 5s - loss: 1.0843 - acc: 0.710 - ETA: 5s - loss: 1.0837 - acc: 0.710 - ETA: 5s - loss: 1.0823 - acc: 0.710 - ETA: 5s - loss: 1.0811 - acc: 0.710 - ETA: 5s - loss: 1.0802 - acc: 0.710 - ETA: 5s - loss: 1.0790 - acc: 0.711 - ETA: 5s - loss: 1.0781 - acc: 0.711 - ETA: 5s - loss: 1.0768 - acc: 0.711 - ETA: 5s - loss: 1.0758 - acc: 0.711 - ETA: 5s - loss: 1.0745 - acc: 0.711 - ETA: 5s - loss: 1.0733 - acc: 0.712 - ETA: 5s - loss: 1.0719 - acc: 0.712 - ETA: 5s - loss: 1.0703 - acc: 0.712 - ETA: 5s - loss: 1.0693 - acc: 0.713 - ETA: 5s - loss: 1.0676 - acc: 0.713 - ETA: 5s - loss: 1.0663 - acc: 0.713 - ETA: 4s - loss: 1.0654 - acc: 0.713 - ETA: 4s - loss: 1.0636 - acc: 0.714 - ETA: 4s - loss: 1.0631 - acc: 0.714 - ETA: 4s - loss: 1.0621 - acc: 0.714 - ETA: 4s - loss: 1.0613 - acc: 0.714 - ETA: 4s - loss: 1.0606 - acc: 0.714 - ETA: 4s - loss: 1.0594 - acc: 0.714 - ETA: 4s - loss: 1.0589 - acc: 0.714 - ETA: 4s - loss: 1.0576 - acc: 0.714 - ETA: 4s - loss: 1.0567 - acc: 0.715 - ETA: 4s - loss: 1.0552 - acc: 0.715 - ETA: 4s - loss: 1.0536 - acc: 0.715 - ETA: 4s - loss: 1.0526 - acc: 0.715 - ETA: 4s - loss: 1.0513 - acc: 0.716 - ETA: 4s - loss: 1.0499 - acc: 0.716 - ETA: 4s - loss: 1.0485 - acc: 0.716 - ETA: 4s - loss: 1.0479 - acc: 0.716 - ETA: 4s - loss: 1.0465 - acc: 0.717 - ETA: 3s - loss: 1.0449 - acc: 0.717 - ETA: 3s - loss: 1.0447 - acc: 0.717 - ETA: 3s - loss: 1.0436 - acc: 0.717 - ETA: 3s - loss: 1.0431 - acc: 0.717 - ETA: 3s - loss: 1.0436 - acc: 0.717 - ETA: 3s - loss: 1.0429 - acc: 0.717 - ETA: 3s - loss: 1.0412 - acc: 0.718 - ETA: 3s - loss: 1.0406 - acc: 0.718 - ETA: 3s - loss: 1.0389 - acc: 0.718 - ETA: 3s - loss: 1.0374 - acc: 0.719 - ETA: 3s - loss: 1.0362 - acc: 0.719 - ETA: 3s - loss: 1.0354 - acc: 0.719 - ETA: 3s - loss: 1.0340 - acc: 0.719 - ETA: 3s - loss: 1.0329 - acc: 0.719 - ETA: 3s - loss: 1.0321 - acc: 0.719 - ETA: 3s - loss: 1.0308 - acc: 0.720 - ETA: 3s - loss: 1.0294 - acc: 0.720 - ETA: 3s - loss: 1.0281 - acc: 0.720 - ETA: 2s - loss: 1.0270 - acc: 0.720 - ETA: 2s - loss: 1.0261 - acc: 0.720 - ETA: 2s - loss: 1.0244 - acc: 0.721 - ETA: 2s - loss: 1.0232 - acc: 0.721 - ETA: 2s - loss: 1.0221 - acc: 0.721 - ETA: 2s - loss: 1.0212 - acc: 0.721 - ETA: 2s - loss: 1.0203 - acc: 0.721 - ETA: 2s - loss: 1.0190 - acc: 0.722 - ETA: 2s - loss: 1.0175 - acc: 0.722 - ETA: 2s - loss: 1.0170 - acc: 0.722 - ETA: 2s - loss: 1.0166 - acc: 0.722 - ETA: 2s - loss: 1.0156 - acc: 0.722 - ETA: 2s - loss: 1.0144 - acc: 0.723 - ETA: 2s - loss: 1.0139 - acc: 0.723 - ETA: 2s - loss: 1.0135 - acc: 0.723 - ETA: 2s - loss: 1.0126 - acc: 0.723 - ETA: 2s - loss: 1.0120 - acc: 0.723 - ETA: 1s - loss: 1.0116 - acc: 0.723 - ETA: 1s - loss: 1.0109 - acc: 0.723 - ETA: 1s - loss: 1.0101 - acc: 0.723 - ETA: 1s - loss: 1.0088 - acc: 0.724 - ETA: 1s - loss: 1.0080 - acc: 0.724 - ETA: 1s - loss: 1.0072 - acc: 0.724 - ETA: 1s - loss: 1.0064 - acc: 0.724 - ETA: 1s - loss: 1.0056 - acc: 0.724 - ETA: 1s - loss: 1.0045 - acc: 0.724 - ETA: 1s - loss: 1.0038 - acc: 0.725 - ETA: 1s - loss: 1.0034 - acc: 0.725 - ETA: 1s - loss: 1.0022 - acc: 0.725 - ETA: 1s - loss: 1.0019 - acc: 0.725 - ETA: 1s - loss: 1.0014 - acc: 0.725 - ETA: 1s - loss: 1.0002 - acc: 0.725 - ETA: 1s - loss: 0.9991 - acc: 0.726 - ETA: 1s - loss: 0.9977 - acc: 0.726 - ETA: 1s - loss: 0.9980 - acc: 0.726 - ETA: 0s - loss: 0.9973 - acc: 0.726 - ETA: 0s - loss: 0.9965 - acc: 0.726 - ETA: 0s - loss: 0.9951 - acc: 0.727 - ETA: 0s - loss: 0.9940 - acc: 0.727 - ETA: 0s - loss: 0.9933 - acc: 0.727 - ETA: 0s - loss: 0.9926 - acc: 0.727 - ETA: 0s - loss: 0.9918 - acc: 0.727 - ETA: 0s - loss: 0.9911 - acc: 0.727 - ETA: 0s - loss: 0.9907 - acc: 0.727 - ETA: 0s - loss: 0.9895 - acc: 0.727 - ETA: 0s - loss: 0.9889 - acc: 0.727 - ETA: 0s - loss: 0.9885 - acc: 0.727 - ETA: 0s - loss: 0.9889 - acc: 0.727 - ETA: 0s - loss: 0.9878 - acc: 0.728 - ETA: 0s - loss: 0.9869 - acc: 0.728 - ETA: 0s - loss: 0.9862 - acc: 0.728 - ETA: 0s - loss: 0.9856 - acc: 0.728 - 23s 911us/step - loss: 0.9853 - acc: 0.7282 - val_loss: 0.6294 - val_acc: 0.8064\n",
      "Epoch 2/2\n"
     ]
    },
    {
     "name": "stdout",
     "output_type": "stream",
     "text": [
      "16448/25200 [==================>...........] - ETA: 18s - loss: 0.5404 - acc: 0.81 - ETA: 18s - loss: 0.5129 - acc: 0.84 - ETA: 18s - loss: 0.5925 - acc: 0.80 - ETA: 19s - loss: 0.5371 - acc: 0.82 - ETA: 20s - loss: 0.5471 - acc: 0.80 - ETA: 20s - loss: 0.5515 - acc: 0.80 - ETA: 20s - loss: 0.5495 - acc: 0.81 - ETA: 20s - loss: 0.5501 - acc: 0.81 - ETA: 20s - loss: 0.5418 - acc: 0.81 - ETA: 19s - loss: 0.5385 - acc: 0.81 - ETA: 19s - loss: 0.5188 - acc: 0.82 - ETA: 19s - loss: 0.5158 - acc: 0.83 - ETA: 19s - loss: 0.5054 - acc: 0.83 - ETA: 18s - loss: 0.5021 - acc: 0.83 - ETA: 19s - loss: 0.5036 - acc: 0.83 - ETA: 19s - loss: 0.5045 - acc: 0.83 - ETA: 19s - loss: 0.5100 - acc: 0.83 - ETA: 19s - loss: 0.5177 - acc: 0.83 - ETA: 20s - loss: 0.5314 - acc: 0.82 - ETA: 20s - loss: 0.5314 - acc: 0.82 - ETA: 20s - loss: 0.5381 - acc: 0.82 - ETA: 19s - loss: 0.5384 - acc: 0.82 - ETA: 19s - loss: 0.5324 - acc: 0.82 - ETA: 19s - loss: 0.5305 - acc: 0.82 - ETA: 19s - loss: 0.5212 - acc: 0.83 - ETA: 19s - loss: 0.5189 - acc: 0.83 - ETA: 19s - loss: 0.5160 - acc: 0.83 - ETA: 19s - loss: 0.5169 - acc: 0.83 - ETA: 19s - loss: 0.5174 - acc: 0.83 - ETA: 18s - loss: 0.5249 - acc: 0.83 - ETA: 18s - loss: 0.5302 - acc: 0.83 - ETA: 18s - loss: 0.5295 - acc: 0.83 - ETA: 18s - loss: 0.5284 - acc: 0.83 - ETA: 18s - loss: 0.5313 - acc: 0.82 - ETA: 18s - loss: 0.5336 - acc: 0.82 - ETA: 18s - loss: 0.5345 - acc: 0.82 - ETA: 18s - loss: 0.5313 - acc: 0.82 - ETA: 18s - loss: 0.5343 - acc: 0.82 - ETA: 18s - loss: 0.5363 - acc: 0.82 - ETA: 18s - loss: 0.5375 - acc: 0.82 - ETA: 17s - loss: 0.5411 - acc: 0.82 - ETA: 17s - loss: 0.5401 - acc: 0.82 - ETA: 17s - loss: 0.5426 - acc: 0.82 - ETA: 17s - loss: 0.5379 - acc: 0.82 - ETA: 17s - loss: 0.5352 - acc: 0.83 - ETA: 17s - loss: 0.5342 - acc: 0.83 - ETA: 17s - loss: 0.5329 - acc: 0.83 - ETA: 17s - loss: 0.5336 - acc: 0.83 - ETA: 17s - loss: 0.5315 - acc: 0.83 - ETA: 17s - loss: 0.5311 - acc: 0.83 - ETA: 17s - loss: 0.5272 - acc: 0.83 - ETA: 17s - loss: 0.5282 - acc: 0.83 - ETA: 16s - loss: 0.5276 - acc: 0.83 - ETA: 16s - loss: 0.5276 - acc: 0.83 - ETA: 16s - loss: 0.5281 - acc: 0.83 - ETA: 16s - loss: 0.5271 - acc: 0.83 - ETA: 16s - loss: 0.5257 - acc: 0.83 - ETA: 16s - loss: 0.5257 - acc: 0.83 - ETA: 16s - loss: 0.5248 - acc: 0.83 - ETA: 16s - loss: 0.5222 - acc: 0.83 - ETA: 16s - loss: 0.5227 - acc: 0.83 - ETA: 16s - loss: 0.5242 - acc: 0.83 - ETA: 16s - loss: 0.5253 - acc: 0.83 - ETA: 16s - loss: 0.5234 - acc: 0.83 - ETA: 16s - loss: 0.5234 - acc: 0.83 - ETA: 16s - loss: 0.5229 - acc: 0.83 - ETA: 15s - loss: 0.5197 - acc: 0.83 - ETA: 15s - loss: 0.5192 - acc: 0.83 - ETA: 15s - loss: 0.5187 - acc: 0.83 - ETA: 15s - loss: 0.5191 - acc: 0.83 - ETA: 15s - loss: 0.5212 - acc: 0.83 - ETA: 15s - loss: 0.5217 - acc: 0.83 - ETA: 15s - loss: 0.5217 - acc: 0.83 - ETA: 15s - loss: 0.5207 - acc: 0.83 - ETA: 15s - loss: 0.5193 - acc: 0.83 - ETA: 15s - loss: 0.5209 - acc: 0.83 - ETA: 15s - loss: 0.5207 - acc: 0.83 - ETA: 15s - loss: 0.5201 - acc: 0.83 - ETA: 15s - loss: 0.5200 - acc: 0.83 - ETA: 15s - loss: 0.5200 - acc: 0.83 - ETA: 15s - loss: 0.5212 - acc: 0.83 - ETA: 15s - loss: 0.5199 - acc: 0.83 - ETA: 14s - loss: 0.5224 - acc: 0.83 - ETA: 14s - loss: 0.5257 - acc: 0.83 - ETA: 14s - loss: 0.5260 - acc: 0.83 - ETA: 14s - loss: 0.5244 - acc: 0.83 - ETA: 14s - loss: 0.5253 - acc: 0.83 - ETA: 14s - loss: 0.5240 - acc: 0.83 - ETA: 14s - loss: 0.5223 - acc: 0.83 - ETA: 14s - loss: 0.5219 - acc: 0.83 - ETA: 14s - loss: 0.5214 - acc: 0.83 - ETA: 14s - loss: 0.5227 - acc: 0.83 - ETA: 14s - loss: 0.5217 - acc: 0.83 - ETA: 14s - loss: 0.5212 - acc: 0.83 - ETA: 14s - loss: 0.5197 - acc: 0.83 - ETA: 14s - loss: 0.5195 - acc: 0.83 - ETA: 14s - loss: 0.5190 - acc: 0.83 - ETA: 13s - loss: 0.5178 - acc: 0.83 - ETA: 13s - loss: 0.5186 - acc: 0.83 - ETA: 13s - loss: 0.5178 - acc: 0.83 - ETA: 13s - loss: 0.5185 - acc: 0.83 - ETA: 13s - loss: 0.5190 - acc: 0.83 - ETA: 13s - loss: 0.5188 - acc: 0.83 - ETA: 13s - loss: 0.5189 - acc: 0.83 - ETA: 13s - loss: 0.5213 - acc: 0.83 - ETA: 13s - loss: 0.5223 - acc: 0.83 - ETA: 13s - loss: 0.5218 - acc: 0.83 - ETA: 13s - loss: 0.5212 - acc: 0.83 - ETA: 13s - loss: 0.5206 - acc: 0.83 - ETA: 13s - loss: 0.5191 - acc: 0.83 - ETA: 13s - loss: 0.5192 - acc: 0.83 - ETA: 13s - loss: 0.5176 - acc: 0.83 - ETA: 13s - loss: 0.5168 - acc: 0.83 - ETA: 13s - loss: 0.5167 - acc: 0.83 - ETA: 12s - loss: 0.5161 - acc: 0.83 - ETA: 12s - loss: 0.5147 - acc: 0.83 - ETA: 12s - loss: 0.5156 - acc: 0.83 - ETA: 12s - loss: 0.5148 - acc: 0.83 - ETA: 12s - loss: 0.5157 - acc: 0.83 - ETA: 12s - loss: 0.5173 - acc: 0.83 - ETA: 12s - loss: 0.5176 - acc: 0.83 - ETA: 12s - loss: 0.5184 - acc: 0.83 - ETA: 12s - loss: 0.5170 - acc: 0.83 - ETA: 12s - loss: 0.5174 - acc: 0.83 - ETA: 12s - loss: 0.5185 - acc: 0.83 - ETA: 12s - loss: 0.5177 - acc: 0.83 - ETA: 12s - loss: 0.5166 - acc: 0.83 - ETA: 12s - loss: 0.5173 - acc: 0.83 - ETA: 12s - loss: 0.5174 - acc: 0.83 - ETA: 12s - loss: 0.5184 - acc: 0.83 - ETA: 12s - loss: 0.5183 - acc: 0.83 - ETA: 12s - loss: 0.5189 - acc: 0.83 - ETA: 11s - loss: 0.5189 - acc: 0.83 - ETA: 11s - loss: 0.5201 - acc: 0.83 - ETA: 11s - loss: 0.5198 - acc: 0.83 - ETA: 11s - loss: 0.5189 - acc: 0.83 - ETA: 11s - loss: 0.5196 - acc: 0.83 - ETA: 11s - loss: 0.5217 - acc: 0.83 - ETA: 11s - loss: 0.5206 - acc: 0.83 - ETA: 11s - loss: 0.5213 - acc: 0.83 - ETA: 11s - loss: 0.5216 - acc: 0.83 - ETA: 11s - loss: 0.5219 - acc: 0.83 - ETA: 11s - loss: 0.5227 - acc: 0.83 - ETA: 11s - loss: 0.5224 - acc: 0.83 - ETA: 11s - loss: 0.5217 - acc: 0.83 - ETA: 11s - loss: 0.5221 - acc: 0.83 - ETA: 11s - loss: 0.5231 - acc: 0.83 - ETA: 10s - loss: 0.5229 - acc: 0.83 - ETA: 10s - loss: 0.5229 - acc: 0.83 - ETA: 10s - loss: 0.5240 - acc: 0.83 - ETA: 10s - loss: 0.5237 - acc: 0.83 - ETA: 10s - loss: 0.5237 - acc: 0.83 - ETA: 10s - loss: 0.5239 - acc: 0.83 - ETA: 10s - loss: 0.5240 - acc: 0.83 - ETA: 10s - loss: 0.5248 - acc: 0.83 - ETA: 10s - loss: 0.5246 - acc: 0.83 - ETA: 10s - loss: 0.5243 - acc: 0.83 - ETA: 10s - loss: 0.5244 - acc: 0.83 - ETA: 10s - loss: 0.5236 - acc: 0.83 - ETA: 10s - loss: 0.5246 - acc: 0.83 - ETA: 10s - loss: 0.5244 - acc: 0.83 - ETA: 10s - loss: 0.5243 - acc: 0.83 - ETA: 9s - loss: 0.5250 - acc: 0.8320 - ETA: 9s - loss: 0.5246 - acc: 0.832 - ETA: 9s - loss: 0.5241 - acc: 0.832 - ETA: 9s - loss: 0.5241 - acc: 0.832 - ETA: 9s - loss: 0.5240 - acc: 0.832 - ETA: 9s - loss: 0.5242 - acc: 0.832 - ETA: 9s - loss: 0.5250 - acc: 0.832 - ETA: 9s - loss: 0.5250 - acc: 0.832 - ETA: 9s - loss: 0.5243 - acc: 0.832 - ETA: 9s - loss: 0.5240 - acc: 0.832 - ETA: 9s - loss: 0.5242 - acc: 0.832 - ETA: 9s - loss: 0.5240 - acc: 0.832 - ETA: 9s - loss: 0.5252 - acc: 0.832 - ETA: 9s - loss: 0.5272 - acc: 0.831 - ETA: 9s - loss: 0.5269 - acc: 0.832 - ETA: 8s - loss: 0.5263 - acc: 0.832 - ETA: 8s - loss: 0.5270 - acc: 0.832 - ETA: 8s - loss: 0.5268 - acc: 0.832 - ETA: 8s - loss: 0.5269 - acc: 0.832 - ETA: 8s - loss: 0.5263 - acc: 0.832 - ETA: 8s - loss: 0.5260 - acc: 0.832 - ETA: 8s - loss: 0.5269 - acc: 0.832 - ETA: 8s - loss: 0.5267 - acc: 0.832 - ETA: 8s - loss: 0.5265 - acc: 0.832 - ETA: 8s - loss: 0.5271 - acc: 0.831 - ETA: 8s - loss: 0.5274 - acc: 0.831 - ETA: 8s - loss: 0.5280 - acc: 0.831 - ETA: 8s - loss: 0.5279 - acc: 0.831 - ETA: 8s - loss: 0.5282 - acc: 0.831 - ETA: 8s - loss: 0.5287 - acc: 0.831 - ETA: 7s - loss: 0.5283 - acc: 0.831 - ETA: 7s - loss: 0.5287 - acc: 0.830 - ETA: 7s - loss: 0.5277 - acc: 0.831 - ETA: 7s - loss: 0.5282 - acc: 0.831 - ETA: 7s - loss: 0.5275 - acc: 0.831 - ETA: 7s - loss: 0.5271 - acc: 0.831 - ETA: 7s - loss: 0.5275 - acc: 0.831 - ETA: 7s - loss: 0.5278 - acc: 0.831 - ETA: 7s - loss: 0.5284 - acc: 0.830 - ETA: 7s - loss: 0.5289 - acc: 0.830 - ETA: 7s - loss: 0.5291 - acc: 0.830 - ETA: 7s - loss: 0.5294 - acc: 0.830 - ETA: 7s - loss: 0.5299 - acc: 0.830 - ETA: 7s - loss: 0.5308 - acc: 0.830 - ETA: 7s - loss: 0.5317 - acc: 0.829 - ETA: 7s - loss: 0.5312 - acc: 0.830 - ETA: 7s - loss: 0.5314 - acc: 0.829 - ETA: 7s - loss: 0.5319 - acc: 0.829 - ETA: 7s - loss: 0.5322 - acc: 0.829 - ETA: 7s - loss: 0.5323 - acc: 0.829 - ETA: 7s - loss: 0.5329 - acc: 0.829 - ETA: 6s - loss: 0.5319 - acc: 0.830 - ETA: 6s - loss: 0.5317 - acc: 0.8303"
     ]
    },
    {
     "name": "stdout",
     "output_type": "stream",
     "text": [
      "25200/25200 [==============================] - ETA: 6s - loss: 0.5332 - acc: 0.830 - ETA: 6s - loss: 0.5330 - acc: 0.829 - ETA: 6s - loss: 0.5325 - acc: 0.830 - ETA: 6s - loss: 0.5322 - acc: 0.830 - ETA: 6s - loss: 0.5325 - acc: 0.829 - ETA: 6s - loss: 0.5323 - acc: 0.830 - ETA: 6s - loss: 0.5321 - acc: 0.829 - ETA: 6s - loss: 0.5325 - acc: 0.829 - ETA: 6s - loss: 0.5344 - acc: 0.829 - ETA: 6s - loss: 0.5342 - acc: 0.829 - ETA: 6s - loss: 0.5337 - acc: 0.829 - ETA: 6s - loss: 0.5343 - acc: 0.829 - ETA: 6s - loss: 0.5347 - acc: 0.829 - ETA: 6s - loss: 0.5352 - acc: 0.829 - ETA: 6s - loss: 0.5350 - acc: 0.829 - ETA: 5s - loss: 0.5351 - acc: 0.829 - ETA: 5s - loss: 0.5353 - acc: 0.829 - ETA: 5s - loss: 0.5350 - acc: 0.829 - ETA: 5s - loss: 0.5346 - acc: 0.829 - ETA: 5s - loss: 0.5339 - acc: 0.829 - ETA: 5s - loss: 0.5342 - acc: 0.829 - ETA: 5s - loss: 0.5343 - acc: 0.829 - ETA: 5s - loss: 0.5338 - acc: 0.829 - ETA: 5s - loss: 0.5340 - acc: 0.829 - ETA: 5s - loss: 0.5337 - acc: 0.829 - ETA: 5s - loss: 0.5330 - acc: 0.829 - ETA: 5s - loss: 0.5333 - acc: 0.829 - ETA: 5s - loss: 0.5333 - acc: 0.829 - ETA: 5s - loss: 0.5333 - acc: 0.829 - ETA: 5s - loss: 0.5329 - acc: 0.829 - ETA: 5s - loss: 0.5327 - acc: 0.829 - ETA: 5s - loss: 0.5324 - acc: 0.829 - ETA: 5s - loss: 0.5327 - acc: 0.829 - ETA: 5s - loss: 0.5326 - acc: 0.829 - ETA: 4s - loss: 0.5326 - acc: 0.829 - ETA: 4s - loss: 0.5331 - acc: 0.828 - ETA: 4s - loss: 0.5329 - acc: 0.829 - ETA: 4s - loss: 0.5330 - acc: 0.829 - ETA: 4s - loss: 0.5324 - acc: 0.829 - ETA: 4s - loss: 0.5319 - acc: 0.829 - ETA: 4s - loss: 0.5326 - acc: 0.829 - ETA: 4s - loss: 0.5328 - acc: 0.829 - ETA: 4s - loss: 0.5324 - acc: 0.829 - ETA: 4s - loss: 0.5342 - acc: 0.828 - ETA: 4s - loss: 0.5346 - acc: 0.828 - ETA: 4s - loss: 0.5351 - acc: 0.828 - ETA: 4s - loss: 0.5351 - acc: 0.828 - ETA: 4s - loss: 0.5347 - acc: 0.828 - ETA: 4s - loss: 0.5348 - acc: 0.828 - ETA: 4s - loss: 0.5341 - acc: 0.828 - ETA: 4s - loss: 0.5343 - acc: 0.828 - ETA: 3s - loss: 0.5338 - acc: 0.829 - ETA: 3s - loss: 0.5333 - acc: 0.829 - ETA: 3s - loss: 0.5331 - acc: 0.829 - ETA: 3s - loss: 0.5333 - acc: 0.829 - ETA: 3s - loss: 0.5331 - acc: 0.829 - ETA: 3s - loss: 0.5335 - acc: 0.829 - ETA: 3s - loss: 0.5335 - acc: 0.829 - ETA: 3s - loss: 0.5333 - acc: 0.829 - ETA: 3s - loss: 0.5339 - acc: 0.829 - ETA: 3s - loss: 0.5336 - acc: 0.829 - ETA: 3s - loss: 0.5333 - acc: 0.829 - ETA: 3s - loss: 0.5331 - acc: 0.829 - ETA: 3s - loss: 0.5328 - acc: 0.829 - ETA: 3s - loss: 0.5332 - acc: 0.829 - ETA: 3s - loss: 0.5339 - acc: 0.828 - ETA: 3s - loss: 0.5345 - acc: 0.828 - ETA: 3s - loss: 0.5345 - acc: 0.828 - ETA: 2s - loss: 0.5339 - acc: 0.829 - ETA: 2s - loss: 0.5336 - acc: 0.829 - ETA: 2s - loss: 0.5343 - acc: 0.828 - ETA: 2s - loss: 0.5344 - acc: 0.828 - ETA: 2s - loss: 0.5341 - acc: 0.828 - ETA: 2s - loss: 0.5338 - acc: 0.829 - ETA: 2s - loss: 0.5352 - acc: 0.828 - ETA: 2s - loss: 0.5349 - acc: 0.828 - ETA: 2s - loss: 0.5353 - acc: 0.828 - ETA: 2s - loss: 0.5353 - acc: 0.828 - ETA: 2s - loss: 0.5354 - acc: 0.828 - ETA: 2s - loss: 0.5351 - acc: 0.828 - ETA: 2s - loss: 0.5350 - acc: 0.828 - ETA: 2s - loss: 0.5348 - acc: 0.828 - ETA: 2s - loss: 0.5352 - acc: 0.828 - ETA: 2s - loss: 0.5350 - acc: 0.828 - ETA: 2s - loss: 0.5348 - acc: 0.828 - ETA: 2s - loss: 0.5347 - acc: 0.828 - ETA: 2s - loss: 0.5351 - acc: 0.828 - ETA: 1s - loss: 0.5350 - acc: 0.828 - ETA: 1s - loss: 0.5342 - acc: 0.828 - ETA: 1s - loss: 0.5344 - acc: 0.828 - ETA: 1s - loss: 0.5347 - acc: 0.828 - ETA: 1s - loss: 0.5343 - acc: 0.828 - ETA: 1s - loss: 0.5340 - acc: 0.828 - ETA: 1s - loss: 0.5350 - acc: 0.828 - ETA: 1s - loss: 0.5351 - acc: 0.828 - ETA: 1s - loss: 0.5350 - acc: 0.828 - ETA: 1s - loss: 0.5354 - acc: 0.828 - ETA: 1s - loss: 0.5358 - acc: 0.828 - ETA: 1s - loss: 0.5369 - acc: 0.827 - ETA: 1s - loss: 0.5377 - acc: 0.827 - ETA: 1s - loss: 0.5380 - acc: 0.827 - ETA: 1s - loss: 0.5385 - acc: 0.827 - ETA: 1s - loss: 0.5390 - acc: 0.826 - ETA: 1s - loss: 0.5394 - acc: 0.826 - ETA: 1s - loss: 0.5395 - acc: 0.826 - ETA: 1s - loss: 0.5398 - acc: 0.826 - ETA: 0s - loss: 0.5396 - acc: 0.826 - ETA: 0s - loss: 0.5394 - acc: 0.826 - ETA: 0s - loss: 0.5390 - acc: 0.826 - ETA: 0s - loss: 0.5387 - acc: 0.827 - ETA: 0s - loss: 0.5385 - acc: 0.827 - ETA: 0s - loss: 0.5383 - acc: 0.827 - ETA: 0s - loss: 0.5383 - acc: 0.827 - ETA: 0s - loss: 0.5383 - acc: 0.827 - ETA: 0s - loss: 0.5381 - acc: 0.827 - ETA: 0s - loss: 0.5383 - acc: 0.827 - ETA: 0s - loss: 0.5380 - acc: 0.827 - ETA: 0s - loss: 0.5382 - acc: 0.827 - ETA: 0s - loss: 0.5389 - acc: 0.826 - ETA: 0s - loss: 0.5395 - acc: 0.826 - ETA: 0s - loss: 0.5394 - acc: 0.826 - ETA: 0s - loss: 0.5396 - acc: 0.826 - ETA: 0s - loss: 0.5396 - acc: 0.826 - ETA: 0s - loss: 0.5400 - acc: 0.826 - ETA: 0s - loss: 0.5404 - acc: 0.826 - 21s 819us/step - loss: 0.5406 - acc: 0.8263 - val_loss: 0.6176 - val_acc: 0.8132\n"
     ]
    }
   ],
   "source": [
    "history = model.fit(X_train, y_train, batch_size=batch_size, epochs=epochs, verbose=1, validation_split=0.1)"
   ]
  },
  {
   "cell_type": "code",
   "execution_count": 110,
   "metadata": {},
   "outputs": [
    {
     "name": "stdout",
     "output_type": "stream",
     "text": [
      "12000/12000 [==============================] - ETA:  - ETA:  - ETA:  - ETA:  - ETA:  - ETA:  - ETA:  - ETA:  - ETA:  - ETA:  - ETA:  - ETA:  - ETA:  - ETA:  - ETA:  - ETA:  - ETA:  - ETA:  - ETA:  - ETA:  - ETA:  - ETA:  - ETA:  - ETA:  - ETA:  - ETA:  - ETA:  - ETA:  - ETA:  - ETA:  - ETA:  - ETA:  - ETA:  - ETA:  - ETA:  - ETA:  - ETA:  - ETA:  - ETA:  - ETA:  - ETA:  - 2s 180us/step\n"
     ]
    },
    {
     "data": {
      "text/plain": [
       "[0.5974958278735478, 0.8086666666666666]"
      ]
     },
     "execution_count": 110,
     "metadata": {},
     "output_type": "execute_result"
    }
   ],
   "source": [
    "model.evaluate(X_test, y_test, batch_size=batch_size, verbose=1)"
   ]
  },
  {
   "cell_type": "markdown",
   "metadata": {},
   "source": [
    "Multi-Class Text Classification Model Comparison and Selection  \n",
    "https://towardsdatascience.com/multi-class-text-classification-model-comparison-and-selection-5eb066197568"
   ]
  }
 ],
 "metadata": {
  "kernelspec": {
   "display_name": "Python 3",
   "language": "python",
   "name": "python3"
  },
  "language_info": {
   "codemirror_mode": {
    "name": "ipython",
    "version": 3
   },
   "file_extension": ".py",
   "mimetype": "text/x-python",
   "name": "python",
   "nbconvert_exporter": "python",
   "pygments_lexer": "ipython3",
   "version": "3.6.3"
  }
 },
 "nbformat": 4,
 "nbformat_minor": 2
}
