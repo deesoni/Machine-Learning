{
  "cells": [
    {
      "metadata": {
        "trusted": true,
        "_uuid": "7bdeb6cce373314e2209270e28dbe244ae6aac55"
      },
      "cell_type": "code",
      "source": "import keras\nfrom keras.datasets import imdb\nimport numpy as np",
      "execution_count": 1,
      "outputs": [
        {
          "output_type": "stream",
          "text": "Using TensorFlow backend.\n",
          "name": "stderr"
        }
      ]
    },
    {
      "metadata": {
        "trusted": true,
        "_uuid": "9e2c1b7d4505ffe2d144245b16e12a3a85537450"
      },
      "cell_type": "code",
      "source": "from keras import backend as K\nK.tensorflow_backend._get_available_gpus()",
      "execution_count": 13,
      "outputs": [
        {
          "output_type": "execute_result",
          "execution_count": 13,
          "data": {
            "text/plain": "['/job:localhost/replica:0/task:0/device:GPU:0']"
          },
          "metadata": {}
        }
      ]
    },
    {
      "metadata": {
        "trusted": true,
        "_uuid": "db6aa59535d30bfc8d4cc12b5c5db419f3bbb21a"
      },
      "cell_type": "code",
      "source": "vocabulary_size = 5000\n(X_train, y_train), (X_test, y_test) = imdb.load_data(num_words=vocabulary_size)",
      "execution_count": 2,
      "outputs": [
        {
          "output_type": "stream",
          "text": "Downloading data from https://s3.amazonaws.com/text-datasets/imdb.npz\n17465344/17464789 [==============================] - 0s 0us/step\n",
          "name": "stdout"
        }
      ]
    },
    {
      "metadata": {
        "trusted": true,
        "_uuid": "11c6520527407a7cf11be08dd68ee4737fc9463f"
      },
      "cell_type": "code",
      "source": "print(len(X_train), len(X_test))",
      "execution_count": 3,
      "outputs": [
        {
          "output_type": "stream",
          "text": "25000 25000\n",
          "name": "stdout"
        }
      ]
    },
    {
      "metadata": {
        "trusted": true,
        "_uuid": "4695b955af58c6013f3f45b8a9a4239227e60368"
      },
      "cell_type": "code",
      "source": "print(X_train[6])\nprint(y_train[6])",
      "execution_count": 4,
      "outputs": [
        {
          "output_type": "stream",
          "text": "[1, 2, 365, 1234, 5, 1156, 354, 11, 14, 2, 2, 7, 1016, 2, 2, 356, 44, 4, 1349, 500, 746, 5, 200, 4, 4132, 11, 2, 2, 1117, 1831, 2, 5, 4831, 26, 6, 2, 4183, 17, 369, 37, 215, 1345, 143, 2, 5, 1838, 8, 1974, 15, 36, 119, 257, 85, 52, 486, 9, 6, 2, 2, 63, 271, 6, 196, 96, 949, 4121, 4, 2, 7, 4, 2212, 2436, 819, 63, 47, 77, 2, 180, 6, 227, 11, 94, 2494, 2, 13, 423, 4, 168, 7, 4, 22, 5, 89, 665, 71, 270, 56, 5, 13, 197, 12, 161, 2, 99, 76, 23, 2, 7, 419, 665, 40, 91, 85, 108, 7, 4, 2084, 5, 4773, 81, 55, 52, 1901]\n1\n",
          "name": "stdout"
        }
      ]
    },
    {
      "metadata": {
        "trusted": true,
        "_uuid": "b794295bba4b196b8401e49ef3a2338d902d2f19"
      },
      "cell_type": "code",
      "source": "word2id = imdb.get_word_index()\nid2word = { idx:word for word, idx in word2id.items()}\nprint([id2word.get(i, \" \") for i in X_train[6]])",
      "execution_count": 5,
      "outputs": [
        {
          "output_type": "stream",
          "text": "Downloading data from https://s3.amazonaws.com/text-datasets/imdb_word_index.json\n1646592/1641221 [==============================] - 0s 0us/step\n['the', 'and', 'full', 'involving', 'to', 'impressive', 'boring', 'this', 'as', 'and', 'and', 'br', 'villain', 'and', 'and', 'need', 'has', 'of', 'costumes', 'b', 'message', 'to', 'may', 'of', 'props', 'this', 'and', 'and', 'concept', 'issue', 'and', 'to', \"god's\", 'he', 'is', 'and', 'unfolds', 'movie', 'women', 'like', \"isn't\", 'surely', \"i'm\", 'and', 'to', 'toward', 'in', \"here's\", 'for', 'from', 'did', 'having', 'because', 'very', 'quality', 'it', 'is', 'and', 'and', 'really', 'book', 'is', 'both', 'too', 'worked', 'carl', 'of', 'and', 'br', 'of', 'reviewer', 'closer', 'figure', 'really', 'there', 'will', 'and', 'things', 'is', 'far', 'this', 'make', 'mistakes', 'and', 'was', \"couldn't\", 'of', 'few', 'br', 'of', 'you', 'to', \"don't\", 'female', 'than', 'place', 'she', 'to', 'was', 'between', 'that', 'nothing', 'and', 'movies', 'get', 'are', 'and', 'br', 'yes', 'female', 'just', 'its', 'because', 'many', 'br', 'of', 'overly', 'to', 'descent', 'people', 'time', 'very', 'bland']\n",
          "name": "stdout"
        }
      ]
    },
    {
      "metadata": {
        "trusted": true,
        "_uuid": "b4887d3d19f2aa9cde1e77e283f48ebdbc8b1fb5"
      },
      "cell_type": "code",
      "source": "print(max([len(max((X_train), key=len)), len(max((X_test), key=len))]))",
      "execution_count": 6,
      "outputs": [
        {
          "output_type": "stream",
          "text": "2494\n",
          "name": "stdout"
        }
      ]
    },
    {
      "metadata": {
        "trusted": true,
        "_uuid": "f30170c30fe874664356968408e78e79de4d2af7"
      },
      "cell_type": "code",
      "source": "print(min([len(min((X_train), key=len)), len(min((X_test), key=len))]))",
      "execution_count": 7,
      "outputs": [
        {
          "output_type": "stream",
          "text": "7\n",
          "name": "stdout"
        }
      ]
    },
    {
      "metadata": {
        "trusted": true,
        "_uuid": "60d47e1d6cf5a364016b8e947b6569bcf838c120"
      },
      "cell_type": "code",
      "source": "from keras.preprocessing import sequence\n\nmax_words = 500\nX_train = sequence.pad_sequences(X_train, maxlen=max_words)\nX_test = sequence.pad_sequences(X_test, maxlen=max_words)",
      "execution_count": 14,
      "outputs": []
    },
    {
      "metadata": {
        "trusted": true,
        "_uuid": "cee17241cdc046c61b81c632a8c6e0d6915a27c2"
      },
      "cell_type": "code",
      "source": "from keras import Sequential\nfrom keras.layers import Dense, Dropout, Activation, LSTM, Embedding\n\nembedding_size = 32\nmodel = Sequential()\nmodel.add(Embedding(vocabulary_size, embedding_size, input_length=max_words))\nmodel.add(LSTM(100))\nmodel.add(Dense(1, activation='sigmoid'))\n\nprint(model.summary())\n\nmodel.compile(loss='binary_crossentropy', optimizer='adam', metrics=['accuracy'])",
      "execution_count": 15,
      "outputs": [
        {
          "output_type": "stream",
          "text": "_________________________________________________________________\nLayer (type)                 Output Shape              Param #   \n=================================================================\nembedding_2 (Embedding)      (None, 500, 32)           160000    \n_________________________________________________________________\nlstm_2 (LSTM)                (None, 100)               53200     \n_________________________________________________________________\ndense_2 (Dense)              (None, 1)                 101       \n=================================================================\nTotal params: 213,301\nTrainable params: 213,301\nNon-trainable params: 0\n_________________________________________________________________\nNone\n",
          "name": "stdout"
        }
      ]
    },
    {
      "metadata": {
        "trusted": true,
        "_uuid": "0863ac45f473fb754d006a444eedafabce5f76d2"
      },
      "cell_type": "code",
      "source": "batch_size = 64\nnum_epochs = 3\n\nX_valid, y_valid = X_train[:batch_size], y_train[:batch_size]\nX_train2, y_train2 = X_train[batch_size:], y_train[batch_size:]",
      "execution_count": 16,
      "outputs": []
    },
    {
      "metadata": {
        "scrolled": true,
        "trusted": true,
        "_uuid": "a61cd08f5b88d1af4da00e8248171659d3c42a22"
      },
      "cell_type": "code",
      "source": "model.fit(X_train2, y_train2, batch_size=batch_size, epochs=num_epochs, validation_data=(X_valid, y_valid))",
      "execution_count": 17,
      "outputs": [
        {
          "output_type": "stream",
          "text": "Train on 24936 samples, validate on 64 samples\nEpoch 1/3\n24936/24936 [==============================] - 436s 18ms/step - loss: 0.6932 - acc: 0.5036 - val_loss: 0.6888 - val_acc: 0.6094\nEpoch 2/3\n24936/24936 [==============================] - 435s 17ms/step - loss: 0.6909 - acc: 0.5101 - val_loss: 0.6803 - val_acc: 0.6094\nEpoch 3/3\n24936/24936 [==============================] - 436s 17ms/step - loss: 0.6743 - acc: 0.5263 - val_loss: 0.7024 - val_acc: 0.5938\n",
          "name": "stdout"
        },
        {
          "output_type": "execute_result",
          "execution_count": 17,
          "data": {
            "text/plain": "<keras.callbacks.History at 0x7f2dc7626a20>"
          },
          "metadata": {}
        }
      ]
    },
    {
      "metadata": {
        "trusted": true,
        "_uuid": "456a91d5ee4bb47d7860fa056b5d74397c35f7d0"
      },
      "cell_type": "code",
      "source": "scores = model.evaluate(X_test, y_test, verbose=0)\nprint(scores)",
      "execution_count": 18,
      "outputs": [
        {
          "output_type": "stream",
          "text": "[0.6973408460998535, 0.50892]\n",
          "name": "stdout"
        }
      ]
    },
    {
      "metadata": {
        "_uuid": "903f17a147aafa83cf5f401e9520135481bc3e8e"
      },
      "cell_type": "markdown",
      "source": "https://towardsdatascience.com/a-beginners-guide-on-sentiment-analysis-with-rnn-9e100627c02e"
    },
    {
      "metadata": {
        "collapsed": true,
        "trusted": false,
        "_uuid": "1e26d220c0c345c38cf68d2fe5700336651c9c43"
      },
      "cell_type": "code",
      "source": "",
      "execution_count": null,
      "outputs": []
    }
  ],
  "metadata": {
    "kernelspec": {
      "display_name": "Python 3",
      "language": "python",
      "name": "python3"
    },
    "language_info": {
      "name": "python",
      "version": "3.6.6",
      "mimetype": "text/x-python",
      "codemirror_mode": {
        "name": "ipython",
        "version": 3
      },
      "pygments_lexer": "ipython3",
      "nbconvert_exporter": "python",
      "file_extension": ".py"
    }
  },
  "nbformat": 4,
  "nbformat_minor": 1
}
