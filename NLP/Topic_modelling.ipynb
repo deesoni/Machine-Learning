{
 "cells": [
  {
   "cell_type": "code",
   "execution_count": 3,
   "metadata": {
    "collapsed": true
   },
   "outputs": [],
   "source": [
    "import pandas as pd\n",
    "data = pd.read_csv('abcnews-date-text.csv', error_bad_lines=False);\n",
    "data_text = data[['headline_text']]\n",
    "data_text['index'] = data_text.index\n",
    "documents = data_text"
   ]
  },
  {
   "cell_type": "code",
   "execution_count": 4,
   "metadata": {},
   "outputs": [
    {
     "data": {
      "text/plain": [
       "1103663"
      ]
     },
     "execution_count": 4,
     "metadata": {},
     "output_type": "execute_result"
    }
   ],
   "source": [
    "len(documents)"
   ]
  },
  {
   "cell_type": "code",
   "execution_count": 5,
   "metadata": {},
   "outputs": [
    {
     "data": {
      "text/html": [
       "<div>\n",
       "<style>\n",
       "    .dataframe thead tr:only-child th {\n",
       "        text-align: right;\n",
       "    }\n",
       "\n",
       "    .dataframe thead th {\n",
       "        text-align: left;\n",
       "    }\n",
       "\n",
       "    .dataframe tbody tr th {\n",
       "        vertical-align: top;\n",
       "    }\n",
       "</style>\n",
       "<table border=\"1\" class=\"dataframe\">\n",
       "  <thead>\n",
       "    <tr style=\"text-align: right;\">\n",
       "      <th></th>\n",
       "      <th>headline_text</th>\n",
       "      <th>index</th>\n",
       "    </tr>\n",
       "  </thead>\n",
       "  <tbody>\n",
       "    <tr>\n",
       "      <th>0</th>\n",
       "      <td>aba decides against community broadcasting lic...</td>\n",
       "      <td>0</td>\n",
       "    </tr>\n",
       "    <tr>\n",
       "      <th>1</th>\n",
       "      <td>act fire witnesses must be aware of defamation</td>\n",
       "      <td>1</td>\n",
       "    </tr>\n",
       "    <tr>\n",
       "      <th>2</th>\n",
       "      <td>a g calls for infrastructure protection summit</td>\n",
       "      <td>2</td>\n",
       "    </tr>\n",
       "    <tr>\n",
       "      <th>3</th>\n",
       "      <td>air nz staff in aust strike for pay rise</td>\n",
       "      <td>3</td>\n",
       "    </tr>\n",
       "    <tr>\n",
       "      <th>4</th>\n",
       "      <td>air nz strike to affect australian travellers</td>\n",
       "      <td>4</td>\n",
       "    </tr>\n",
       "  </tbody>\n",
       "</table>\n",
       "</div>"
      ],
      "text/plain": [
       "                                       headline_text  index\n",
       "0  aba decides against community broadcasting lic...      0\n",
       "1     act fire witnesses must be aware of defamation      1\n",
       "2     a g calls for infrastructure protection summit      2\n",
       "3           air nz staff in aust strike for pay rise      3\n",
       "4      air nz strike to affect australian travellers      4"
      ]
     },
     "execution_count": 5,
     "metadata": {},
     "output_type": "execute_result"
    }
   ],
   "source": [
    "documents.head()"
   ]
  },
  {
   "cell_type": "code",
   "execution_count": 6,
   "metadata": {},
   "outputs": [
    {
     "data": {
      "text/html": [
       "<div>\n",
       "<style>\n",
       "    .dataframe thead tr:only-child th {\n",
       "        text-align: right;\n",
       "    }\n",
       "\n",
       "    .dataframe thead th {\n",
       "        text-align: left;\n",
       "    }\n",
       "\n",
       "    .dataframe tbody tr th {\n",
       "        vertical-align: top;\n",
       "    }\n",
       "</style>\n",
       "<table border=\"1\" class=\"dataframe\">\n",
       "  <thead>\n",
       "    <tr style=\"text-align: right;\">\n",
       "      <th></th>\n",
       "      <th>publish_date</th>\n",
       "      <th>headline_text</th>\n",
       "    </tr>\n",
       "  </thead>\n",
       "  <tbody>\n",
       "    <tr>\n",
       "      <th>0</th>\n",
       "      <td>20030219</td>\n",
       "      <td>aba decides against community broadcasting lic...</td>\n",
       "    </tr>\n",
       "    <tr>\n",
       "      <th>1</th>\n",
       "      <td>20030219</td>\n",
       "      <td>act fire witnesses must be aware of defamation</td>\n",
       "    </tr>\n",
       "    <tr>\n",
       "      <th>2</th>\n",
       "      <td>20030219</td>\n",
       "      <td>a g calls for infrastructure protection summit</td>\n",
       "    </tr>\n",
       "    <tr>\n",
       "      <th>3</th>\n",
       "      <td>20030219</td>\n",
       "      <td>air nz staff in aust strike for pay rise</td>\n",
       "    </tr>\n",
       "    <tr>\n",
       "      <th>4</th>\n",
       "      <td>20030219</td>\n",
       "      <td>air nz strike to affect australian travellers</td>\n",
       "    </tr>\n",
       "  </tbody>\n",
       "</table>\n",
       "</div>"
      ],
      "text/plain": [
       "   publish_date                                      headline_text\n",
       "0      20030219  aba decides against community broadcasting lic...\n",
       "1      20030219     act fire witnesses must be aware of defamation\n",
       "2      20030219     a g calls for infrastructure protection summit\n",
       "3      20030219           air nz staff in aust strike for pay rise\n",
       "4      20030219      air nz strike to affect australian travellers"
      ]
     },
     "execution_count": 6,
     "metadata": {},
     "output_type": "execute_result"
    }
   ],
   "source": [
    "data.head()"
   ]
  },
  {
   "cell_type": "code",
   "execution_count": 13,
   "metadata": {},
   "outputs": [],
   "source": [
    "import gensim\n",
    "from gensim.utils import simple_preprocess\n",
    "from gensim.parsing.preprocessing import STOPWORDS\n",
    "from nltk.stem import WordNetLemmatizer, SnowballStemmer\n",
    "from nltk.stem.porter import *\n",
    "import numpy as np\n",
    "np.random.seed(42)"
   ]
  },
  {
   "cell_type": "code",
   "execution_count": 15,
   "metadata": {},
   "outputs": [
    {
     "data": {
      "text/plain": [
       "'go'"
      ]
     },
     "execution_count": 15,
     "metadata": {},
     "output_type": "execute_result"
    }
   ],
   "source": [
    "test = WordNetLemmatizer()\n",
    "test.lemmatize('went', pos='v')"
   ]
  },
  {
   "cell_type": "code",
   "execution_count": 18,
   "metadata": {},
   "outputs": [
    {
     "data": {
      "text/html": [
       "<div>\n",
       "<style>\n",
       "    .dataframe thead tr:only-child th {\n",
       "        text-align: right;\n",
       "    }\n",
       "\n",
       "    .dataframe thead th {\n",
       "        text-align: left;\n",
       "    }\n",
       "\n",
       "    .dataframe tbody tr th {\n",
       "        vertical-align: top;\n",
       "    }\n",
       "</style>\n",
       "<table border=\"1\" class=\"dataframe\">\n",
       "  <thead>\n",
       "    <tr style=\"text-align: right;\">\n",
       "      <th></th>\n",
       "      <th>Orig_words</th>\n",
       "      <th>Single</th>\n",
       "    </tr>\n",
       "  </thead>\n",
       "  <tbody>\n",
       "    <tr>\n",
       "      <th>0</th>\n",
       "      <td>caresses</td>\n",
       "      <td>caress</td>\n",
       "    </tr>\n",
       "    <tr>\n",
       "      <th>1</th>\n",
       "      <td>flies</td>\n",
       "      <td>fli</td>\n",
       "    </tr>\n",
       "    <tr>\n",
       "      <th>2</th>\n",
       "      <td>dies</td>\n",
       "      <td>die</td>\n",
       "    </tr>\n",
       "    <tr>\n",
       "      <th>3</th>\n",
       "      <td>mules</td>\n",
       "      <td>mule</td>\n",
       "    </tr>\n",
       "    <tr>\n",
       "      <th>4</th>\n",
       "      <td>denied</td>\n",
       "      <td>deni</td>\n",
       "    </tr>\n",
       "    <tr>\n",
       "      <th>5</th>\n",
       "      <td>died</td>\n",
       "      <td>die</td>\n",
       "    </tr>\n",
       "    <tr>\n",
       "      <th>6</th>\n",
       "      <td>agreed</td>\n",
       "      <td>agre</td>\n",
       "    </tr>\n",
       "    <tr>\n",
       "      <th>7</th>\n",
       "      <td>owned</td>\n",
       "      <td>own</td>\n",
       "    </tr>\n",
       "    <tr>\n",
       "      <th>8</th>\n",
       "      <td>humbled</td>\n",
       "      <td>humbl</td>\n",
       "    </tr>\n",
       "    <tr>\n",
       "      <th>9</th>\n",
       "      <td>sized</td>\n",
       "      <td>size</td>\n",
       "    </tr>\n",
       "    <tr>\n",
       "      <th>10</th>\n",
       "      <td>meeting</td>\n",
       "      <td>meet</td>\n",
       "    </tr>\n",
       "    <tr>\n",
       "      <th>11</th>\n",
       "      <td>stating</td>\n",
       "      <td>state</td>\n",
       "    </tr>\n",
       "    <tr>\n",
       "      <th>12</th>\n",
       "      <td>siezing</td>\n",
       "      <td>siez</td>\n",
       "    </tr>\n",
       "    <tr>\n",
       "      <th>13</th>\n",
       "      <td>itemization</td>\n",
       "      <td>item</td>\n",
       "    </tr>\n",
       "    <tr>\n",
       "      <th>14</th>\n",
       "      <td>sensational</td>\n",
       "      <td>sensat</td>\n",
       "    </tr>\n",
       "    <tr>\n",
       "      <th>15</th>\n",
       "      <td>traditional</td>\n",
       "      <td>tradit</td>\n",
       "    </tr>\n",
       "    <tr>\n",
       "      <th>16</th>\n",
       "      <td>reference</td>\n",
       "      <td>refer</td>\n",
       "    </tr>\n",
       "    <tr>\n",
       "      <th>17</th>\n",
       "      <td>colonizer</td>\n",
       "      <td>colon</td>\n",
       "    </tr>\n",
       "    <tr>\n",
       "      <th>18</th>\n",
       "      <td>plotted</td>\n",
       "      <td>plot</td>\n",
       "    </tr>\n",
       "  </tbody>\n",
       "</table>\n",
       "</div>"
      ],
      "text/plain": [
       "     Orig_words  Single\n",
       "0      caresses  caress\n",
       "1         flies     fli\n",
       "2          dies     die\n",
       "3         mules    mule\n",
       "4        denied    deni\n",
       "5          died     die\n",
       "6        agreed    agre\n",
       "7         owned     own\n",
       "8       humbled   humbl\n",
       "9         sized    size\n",
       "10      meeting    meet\n",
       "11      stating   state\n",
       "12      siezing    siez\n",
       "13  itemization    item\n",
       "14  sensational  sensat\n",
       "15  traditional  tradit\n",
       "16    reference   refer\n",
       "17    colonizer   colon\n",
       "18      plotted    plot"
      ]
     },
     "execution_count": 18,
     "metadata": {},
     "output_type": "execute_result"
    }
   ],
   "source": [
    "stemmer = SnowballStemmer('english')\n",
    "original_words = ['caresses', 'flies', 'dies', 'mules', 'denied','died', 'agreed', 'owned', \n",
    "           'humbled', 'sized','meeting', 'stating', 'siezing', 'itemization','sensational', \n",
    "           'traditional', 'reference', 'colonizer','plotted']\n",
    "singles = [stemmer.stem(word) for word in original_words]\n",
    "pd.DataFrame({'Orig_words': original_words, 'Single': singles})"
   ]
  },
  {
   "cell_type": "code",
   "execution_count": 44,
   "metadata": {
    "collapsed": true
   },
   "outputs": [],
   "source": [
    "def lemmatize_stemming(text):\n",
    "    return stemmer.stem(WordNetLemmatizer().lemmatize(text, pos='v'))\n",
    "\n",
    "def preprocess(text):\n",
    "    result = []\n",
    "    for token in simple_preprocess(text):\n",
    "        if token not in STOPWORDS and len(token) > 3:\n",
    "            result.append(lemmatize_stemming(token))\n",
    "    \n",
    "    return result"
   ]
  },
  {
   "cell_type": "code",
   "execution_count": 45,
   "metadata": {},
   "outputs": [
    {
     "name": "stdout",
     "output_type": "stream",
     "text": [
      "Original Documents\n",
      "['rain', 'helps', 'dampen', 'bushfires']\n",
      "['rain', 'help', 'dampen', 'bushfir']\n"
     ]
    }
   ],
   "source": [
    "doc_sample = documents[documents['index'] == 4310].values[0][0]\n",
    "print('Original Documents')\n",
    "words = []\n",
    "for word in doc_sample.split(' '):\n",
    "    words.append(word)\n",
    "print(words)\n",
    "print(preprocess(doc_sample))"
   ]
  },
  {
   "cell_type": "code",
   "execution_count": 46,
   "metadata": {
    "collapsed": true
   },
   "outputs": [],
   "source": [
    "processed_docs = documents['headline_text'].map(preprocess)"
   ]
  },
  {
   "cell_type": "code",
   "execution_count": 47,
   "metadata": {},
   "outputs": [
    {
     "data": {
      "text/plain": [
       "0            [decid, communiti, broadcast, licenc]\n",
       "1                               [wit, awar, defam]\n",
       "2           [call, infrastructur, protect, summit]\n",
       "3                      [staff, aust, strike, rise]\n",
       "4             [strike, affect, australian, travel]\n",
       "5               [ambiti, olsson, win, tripl, jump]\n",
       "6           [antic, delight, record, break, barca]\n",
       "7    [aussi, qualifi, stosur, wast, memphi, match]\n",
       "8            [aust, address, secur, council, iraq]\n",
       "9                         [australia, lock, timet]\n",
       "Name: headline_text, dtype: object"
      ]
     },
     "execution_count": 47,
     "metadata": {},
     "output_type": "execute_result"
    }
   ],
   "source": [
    "processed_docs[:10]"
   ]
  },
  {
   "cell_type": "markdown",
   "metadata": {},
   "source": [
    "#### This will give the BOW"
   ]
  },
  {
   "cell_type": "code",
   "execution_count": 48,
   "metadata": {
    "collapsed": true
   },
   "outputs": [],
   "source": [
    "dictionary = gensim.corpora.Dictionary(processed_docs)"
   ]
  },
  {
   "cell_type": "code",
   "execution_count": 51,
   "metadata": {},
   "outputs": [
    {
     "name": "stdout",
     "output_type": "stream",
     "text": [
      "0 broadcast\n",
      "1 communiti\n",
      "2 decid\n",
      "3 licenc\n",
      "4 awar\n",
      "5 defam\n",
      "6 wit\n",
      "7 call\n",
      "8 infrastructur\n",
      "9 protect\n",
      "10 summit\n"
     ]
    }
   ],
   "source": [
    "count = 0\n",
    "for k, v in dictionary.iteritems():\n",
    "    print(k,v)\n",
    "    count +=1\n",
    "    if count > 10:\n",
    "        break"
   ]
  },
  {
   "cell_type": "code",
   "execution_count": 54,
   "metadata": {},
   "outputs": [
    {
     "name": "stdout",
     "output_type": "stream",
     "text": [
      "Dictionary(62240 unique tokens: ['broadcast', 'communiti', 'decid', 'licenc', 'awar']...)\n"
     ]
    }
   ],
   "source": [
    "print(dictionary)"
   ]
  },
  {
   "cell_type": "code",
   "execution_count": 55,
   "metadata": {
    "collapsed": true
   },
   "outputs": [],
   "source": [
    "dictionary.filter_extremes(no_below=15, no_above=0.5, keep_n=100000)"
   ]
  },
  {
   "cell_type": "code",
   "execution_count": 56,
   "metadata": {
    "collapsed": true
   },
   "outputs": [],
   "source": [
    "bow_corpus = [dictionary.doc2bow(doc) for doc in processed_docs]"
   ]
  },
  {
   "cell_type": "code",
   "execution_count": 57,
   "metadata": {},
   "outputs": [
    {
     "data": {
      "text/plain": [
       "[(76, 1), (112, 1), (483, 1), (4014, 1)]"
      ]
     },
     "execution_count": 57,
     "metadata": {},
     "output_type": "execute_result"
    }
   ],
   "source": [
    "bow_corpus[4310]"
   ]
  },
  {
   "cell_type": "code",
   "execution_count": 64,
   "metadata": {},
   "outputs": [
    {
     "name": "stdout",
     "output_type": "stream",
     "text": [
      "Word 76 (\"bushfir\") appears 1 time.\n",
      "Word 112 (\"help\") appears 1 time.\n",
      "Word 483 (\"rain\") appears 1 time.\n",
      "Word 4014 (\"dampen\") appears 1 time.\n"
     ]
    }
   ],
   "source": [
    "bow_doc_4310 = bow_corpus[4310]\n",
    "\n",
    "for i in range(len(bow_doc_4310)):\n",
    "    print(\"Word {} (\\\"{}\\\") appears {} time.\".format(bow_doc_4310[i][0], \n",
    "                                                     dictionary[bow_doc_4310[i][0]], \n",
    "                                                     bow_doc_4310[i][1]))"
   ]
  },
  {
   "cell_type": "code",
   "execution_count": 68,
   "metadata": {
    "collapsed": true
   },
   "outputs": [],
   "source": [
    "from gensim import corpora, models\n",
    "tfidf = models.TfidfModel(bow_corpus)\n",
    "corpus_tfidf = tfidf[bow_corpus]"
   ]
  },
  {
   "cell_type": "code",
   "execution_count": 71,
   "metadata": {},
   "outputs": [
    {
     "name": "stdout",
     "output_type": "stream",
     "text": [
      "[(0, 0.5892908867507543),\n",
      " (1, 0.38929654337861147),\n",
      " (2, 0.4964985175717023),\n",
      " (3, 0.5046520327464028)]\n"
     ]
    }
   ],
   "source": [
    "from pprint import pprint\n",
    "\n",
    "for doc in corpus_tfidf:\n",
    "    pprint(doc)\n",
    "    break"
   ]
  },
  {
   "cell_type": "code",
   "execution_count": 72,
   "metadata": {
    "collapsed": true
   },
   "outputs": [],
   "source": [
    "lda_model = gensim.models.LdaMulticore(bow_corpus, num_topics=10, id2word=dictionary, passes=2, workers=2)"
   ]
  },
  {
   "cell_type": "code",
   "execution_count": 73,
   "metadata": {},
   "outputs": [
    {
     "name": "stdout",
     "output_type": "stream",
     "text": [
      "Topic: 0 \n",
      "Words: 0.025*\"govern\" + 0.018*\"live\" + 0.016*\"council\" + 0.014*\"water\" + 0.013*\"deal\" + 0.012*\"busi\" + 0.012*\"plan\" + 0.011*\"budget\" + 0.011*\"want\" + 0.011*\"royal\"\n",
      "Topic: 1 \n",
      "Words: 0.020*\"help\" + 0.018*\"hospit\" + 0.014*\"work\" + 0.013*\"worker\" + 0.012*\"power\" + 0.011*\"urg\" + 0.011*\"farm\" + 0.010*\"health\" + 0.010*\"fund\" + 0.008*\"union\"\n",
      "Topic: 2 \n",
      "Words: 0.023*\"adelaid\" + 0.020*\"perth\" + 0.020*\"open\" + 0.017*\"final\" + 0.015*\"tasmanian\" + 0.010*\"centr\" + 0.010*\"peopl\" + 0.009*\"announc\" + 0.009*\"research\" + 0.009*\"drum\"\n",
      "Topic: 3 \n",
      "Words: 0.022*\"market\" + 0.019*\"south\" + 0.016*\"west\" + 0.015*\"share\" + 0.013*\"train\" + 0.013*\"bank\" + 0.011*\"victorian\" + 0.010*\"build\" + 0.010*\"life\" + 0.010*\"take\"\n",
      "Topic: 4 \n",
      "Words: 0.033*\"charg\" + 0.031*\"court\" + 0.024*\"murder\" + 0.020*\"face\" + 0.018*\"alleg\" + 0.017*\"jail\" + 0.016*\"accus\" + 0.016*\"woman\" + 0.014*\"child\" + 0.014*\"death\"\n",
      "Topic: 5 \n",
      "Words: 0.017*\"countri\" + 0.016*\"nation\" + 0.016*\"rural\" + 0.014*\"hour\" + 0.013*\"servic\" + 0.013*\"minist\" + 0.012*\"chang\" + 0.012*\"concern\" + 0.011*\"victoria\" + 0.010*\"park\"\n",
      "Topic: 6 \n",
      "Words: 0.051*\"polic\" + 0.024*\"attack\" + 0.021*\"sydney\" + 0.021*\"kill\" + 0.015*\"crash\" + 0.015*\"shoot\" + 0.014*\"dead\" + 0.013*\"arrest\" + 0.012*\"investig\" + 0.011*\"protest\"\n",
      "Topic: 7 \n",
      "Words: 0.043*\"australian\" + 0.034*\"trump\" + 0.019*\"school\" + 0.019*\"coast\" + 0.017*\"die\" + 0.016*\"interview\" + 0.015*\"miss\" + 0.014*\"win\" + 0.012*\"gold\" + 0.011*\"record\"\n",
      "Topic: 8 \n",
      "Words: 0.022*\"elect\" + 0.020*\"canberra\" + 0.017*\"north\" + 0.015*\"tasmania\" + 0.014*\"labor\" + 0.014*\"turnbul\" + 0.014*\"say\" + 0.013*\"price\" + 0.011*\"driver\" + 0.011*\"hous\"\n",
      "Topic: 9 \n",
      "Words: 0.049*\"australia\" + 0.025*\"queensland\" + 0.017*\"world\" + 0.016*\"test\" + 0.016*\"women\" + 0.014*\"donald\" + 0.011*\"china\" + 0.009*\"say\" + 0.009*\"year\" + 0.008*\"liber\"\n"
     ]
    }
   ],
   "source": [
    "for idx, topic in lda_model.print_topics(-1):\n",
    "    print('Topic: {} \\nWords: {}'.format(idx, topic))"
   ]
  },
  {
   "cell_type": "code",
   "execution_count": 74,
   "metadata": {
    "collapsed": true
   },
   "outputs": [],
   "source": [
    "lda_model_tfidf = gensim.models.LdaMulticore(corpus_tfidf, num_topics=10, id2word=dictionary, passes=2, workers=4)"
   ]
  },
  {
   "cell_type": "code",
   "execution_count": 75,
   "metadata": {},
   "outputs": [
    {
     "name": "stdout",
     "output_type": "stream",
     "text": [
      "Topic: 0 \n",
      "Word: 0.012*\"market\" + 0.008*\"share\" + 0.006*\"australian\" + 0.006*\"climat\" + 0.005*\"rise\" + 0.005*\"tasmania\" + 0.005*\"ash\" + 0.005*\"murray\" + 0.005*\"price\" + 0.005*\"decemb\"\n",
      "Topic: 1 \n",
      "Word: 0.018*\"charg\" + 0.016*\"polic\" + 0.016*\"murder\" + 0.015*\"trump\" + 0.012*\"court\" + 0.012*\"woman\" + 0.011*\"alleg\" + 0.010*\"jail\" + 0.010*\"death\" + 0.009*\"assault\"\n",
      "Topic: 2 \n",
      "Word: 0.010*\"final\" + 0.009*\"world\" + 0.008*\"leagu\" + 0.006*\"australia\" + 0.006*\"open\" + 0.006*\"win\" + 0.005*\"juli\" + 0.005*\"beat\" + 0.005*\"rugbi\" + 0.005*\"star\"\n",
      "Topic: 3 \n",
      "Word: 0.014*\"live\" + 0.011*\"drum\" + 0.010*\"weather\" + 0.007*\"violenc\" + 0.007*\"east\" + 0.007*\"septemb\" + 0.007*\"monday\" + 0.006*\"malcolm\" + 0.006*\"domest\" + 0.006*\"australia\"\n",
      "Topic: 4 \n",
      "Word: 0.023*\"countri\" + 0.021*\"hour\" + 0.014*\"rural\" + 0.010*\"turnbul\" + 0.007*\"farm\" + 0.006*\"wednesday\" + 0.006*\"farmer\" + 0.006*\"dairi\" + 0.006*\"nation\" + 0.005*\"bushfir\"\n",
      "Topic: 5 \n",
      "Word: 0.017*\"interview\" + 0.010*\"royal\" + 0.009*\"grandstand\" + 0.007*\"marriag\" + 0.007*\"friday\" + 0.007*\"commiss\" + 0.006*\"stori\" + 0.006*\"educ\" + 0.006*\"april\" + 0.005*\"social\"\n",
      "Topic: 6 \n",
      "Word: 0.008*\"abbott\" + 0.007*\"christma\" + 0.007*\"sexual\" + 0.007*\"peter\" + 0.006*\"wall\" + 0.006*\"thursday\" + 0.006*\"toni\" + 0.005*\"refuge\" + 0.005*\"street\" + 0.005*\"australia\"\n",
      "Topic: 7 \n",
      "Word: 0.008*\"octob\" + 0.008*\"mother\" + 0.006*\"quiz\" + 0.005*\"drink\" + 0.005*\"light\" + 0.005*\"onlin\" + 0.005*\"grain\" + 0.005*\"driver\" + 0.005*\"port\" + 0.005*\"safe\"\n",
      "Topic: 8 \n",
      "Word: 0.016*\"crash\" + 0.013*\"news\" + 0.012*\"kill\" + 0.010*\"donald\" + 0.007*\"dead\" + 0.007*\"michael\" + 0.006*\"injur\" + 0.006*\"die\" + 0.006*\"fatal\" + 0.006*\"truck\"\n",
      "Topic: 9 \n",
      "Word: 0.013*\"govern\" + 0.008*\"health\" + 0.008*\"podcast\" + 0.007*\"elect\" + 0.006*\"sport\" + 0.006*\"fund\" + 0.006*\"say\" + 0.006*\"labor\" + 0.005*\"minist\" + 0.005*\"energi\"\n"
     ]
    }
   ],
   "source": [
    "for idx, topic in lda_model_tfidf.print_topics(-1):\n",
    "    print('Topic: {} \\nWord: {}'.format(idx, topic))"
   ]
  },
  {
   "cell_type": "code",
   "execution_count": 76,
   "metadata": {},
   "outputs": [
    {
     "data": {
      "text/plain": [
       "['rain', 'help', 'dampen', 'bushfir']"
      ]
     },
     "execution_count": 76,
     "metadata": {},
     "output_type": "execute_result"
    }
   ],
   "source": [
    "processed_docs[4310]"
   ]
  },
  {
   "cell_type": "code",
   "execution_count": 77,
   "metadata": {},
   "outputs": [
    {
     "name": "stdout",
     "output_type": "stream",
     "text": [
      "\n",
      "Score: 0.6199999451637268\t \n",
      "Topic: 0.020*\"help\" + 0.018*\"hospit\" + 0.014*\"work\" + 0.013*\"worker\" + 0.012*\"power\" + 0.011*\"urg\" + 0.011*\"farm\" + 0.010*\"health\" + 0.010*\"fund\" + 0.008*\"union\"\n",
      "\n",
      "Score: 0.2200000286102295\t \n",
      "Topic: 0.022*\"market\" + 0.019*\"south\" + 0.016*\"west\" + 0.015*\"share\" + 0.013*\"train\" + 0.013*\"bank\" + 0.011*\"victorian\" + 0.010*\"build\" + 0.010*\"life\" + 0.010*\"take\"\n",
      "\n",
      "Score: 0.019999999552965164\t \n",
      "Topic: 0.025*\"govern\" + 0.018*\"live\" + 0.016*\"council\" + 0.014*\"water\" + 0.013*\"deal\" + 0.012*\"busi\" + 0.012*\"plan\" + 0.011*\"budget\" + 0.011*\"want\" + 0.011*\"royal\"\n",
      "\n",
      "Score: 0.019999999552965164\t \n",
      "Topic: 0.023*\"adelaid\" + 0.020*\"perth\" + 0.020*\"open\" + 0.017*\"final\" + 0.015*\"tasmanian\" + 0.010*\"centr\" + 0.010*\"peopl\" + 0.009*\"announc\" + 0.009*\"research\" + 0.009*\"drum\"\n",
      "\n",
      "Score: 0.019999999552965164\t \n",
      "Topic: 0.033*\"charg\" + 0.031*\"court\" + 0.024*\"murder\" + 0.020*\"face\" + 0.018*\"alleg\" + 0.017*\"jail\" + 0.016*\"accus\" + 0.016*\"woman\" + 0.014*\"child\" + 0.014*\"death\"\n",
      "\n",
      "Score: 0.019999999552965164\t \n",
      "Topic: 0.017*\"countri\" + 0.016*\"nation\" + 0.016*\"rural\" + 0.014*\"hour\" + 0.013*\"servic\" + 0.013*\"minist\" + 0.012*\"chang\" + 0.012*\"concern\" + 0.011*\"victoria\" + 0.010*\"park\"\n",
      "\n",
      "Score: 0.019999999552965164\t \n",
      "Topic: 0.051*\"polic\" + 0.024*\"attack\" + 0.021*\"sydney\" + 0.021*\"kill\" + 0.015*\"crash\" + 0.015*\"shoot\" + 0.014*\"dead\" + 0.013*\"arrest\" + 0.012*\"investig\" + 0.011*\"protest\"\n",
      "\n",
      "Score: 0.019999999552965164\t \n",
      "Topic: 0.043*\"australian\" + 0.034*\"trump\" + 0.019*\"school\" + 0.019*\"coast\" + 0.017*\"die\" + 0.016*\"interview\" + 0.015*\"miss\" + 0.014*\"win\" + 0.012*\"gold\" + 0.011*\"record\"\n",
      "\n",
      "Score: 0.019999999552965164\t \n",
      "Topic: 0.022*\"elect\" + 0.020*\"canberra\" + 0.017*\"north\" + 0.015*\"tasmania\" + 0.014*\"labor\" + 0.014*\"turnbul\" + 0.014*\"say\" + 0.013*\"price\" + 0.011*\"driver\" + 0.011*\"hous\"\n",
      "\n",
      "Score: 0.019999999552965164\t \n",
      "Topic: 0.049*\"australia\" + 0.025*\"queensland\" + 0.017*\"world\" + 0.016*\"test\" + 0.016*\"women\" + 0.014*\"donald\" + 0.011*\"china\" + 0.009*\"say\" + 0.009*\"year\" + 0.008*\"liber\"\n"
     ]
    }
   ],
   "source": [
    "for index, score in sorted(lda_model[bow_corpus[4310]], key=lambda tup: -1*tup[1]):\n",
    "    print(\"\\nScore: {}\\t \\nTopic: {}\".format(score, lda_model.print_topic(index, 10)))"
   ]
  },
  {
   "cell_type": "code",
   "execution_count": 78,
   "metadata": {},
   "outputs": [
    {
     "name": "stdout",
     "output_type": "stream",
     "text": [
      "\n",
      "Score: 0.5066022872924805\t \n",
      "Topic: 0.023*\"countri\" + 0.021*\"hour\" + 0.014*\"rural\" + 0.010*\"turnbul\" + 0.007*\"farm\" + 0.006*\"wednesday\" + 0.006*\"farmer\" + 0.006*\"dairi\" + 0.006*\"nation\" + 0.005*\"bushfir\"\n",
      "\n",
      "Score: 0.3333844542503357\t \n",
      "Topic: 0.012*\"market\" + 0.008*\"share\" + 0.006*\"australian\" + 0.006*\"climat\" + 0.005*\"rise\" + 0.005*\"tasmania\" + 0.005*\"ash\" + 0.005*\"murray\" + 0.005*\"price\" + 0.005*\"decemb\"\n",
      "\n",
      "Score: 0.020003976300358772\t \n",
      "Topic: 0.014*\"live\" + 0.011*\"drum\" + 0.010*\"weather\" + 0.007*\"violenc\" + 0.007*\"east\" + 0.007*\"septemb\" + 0.007*\"monday\" + 0.006*\"malcolm\" + 0.006*\"domest\" + 0.006*\"australia\"\n",
      "\n",
      "Score: 0.020002350211143494\t \n",
      "Topic: 0.008*\"octob\" + 0.008*\"mother\" + 0.006*\"quiz\" + 0.005*\"drink\" + 0.005*\"light\" + 0.005*\"onlin\" + 0.005*\"grain\" + 0.005*\"driver\" + 0.005*\"port\" + 0.005*\"safe\"\n",
      "\n",
      "Score: 0.020001620054244995\t \n",
      "Topic: 0.013*\"govern\" + 0.008*\"health\" + 0.008*\"podcast\" + 0.007*\"elect\" + 0.006*\"sport\" + 0.006*\"fund\" + 0.006*\"say\" + 0.006*\"labor\" + 0.005*\"minist\" + 0.005*\"energi\"\n",
      "\n",
      "Score: 0.020001480355858803\t \n",
      "Topic: 0.016*\"crash\" + 0.013*\"news\" + 0.012*\"kill\" + 0.010*\"donald\" + 0.007*\"dead\" + 0.007*\"michael\" + 0.006*\"injur\" + 0.006*\"die\" + 0.006*\"fatal\" + 0.006*\"truck\"\n",
      "\n",
      "Score: 0.020001275464892387\t \n",
      "Topic: 0.018*\"charg\" + 0.016*\"polic\" + 0.016*\"murder\" + 0.015*\"trump\" + 0.012*\"court\" + 0.012*\"woman\" + 0.011*\"alleg\" + 0.010*\"jail\" + 0.010*\"death\" + 0.009*\"assault\"\n",
      "\n",
      "Score: 0.020001137629151344\t \n",
      "Topic: 0.017*\"interview\" + 0.010*\"royal\" + 0.009*\"grandstand\" + 0.007*\"marriag\" + 0.007*\"friday\" + 0.007*\"commiss\" + 0.006*\"stori\" + 0.006*\"educ\" + 0.006*\"april\" + 0.005*\"social\"\n",
      "\n",
      "Score: 0.020000852644443512\t \n",
      "Topic: 0.008*\"abbott\" + 0.007*\"christma\" + 0.007*\"sexual\" + 0.007*\"peter\" + 0.006*\"wall\" + 0.006*\"thursday\" + 0.006*\"toni\" + 0.005*\"refuge\" + 0.005*\"street\" + 0.005*\"australia\"\n",
      "\n",
      "Score: 0.02000059001147747\t \n",
      "Topic: 0.010*\"final\" + 0.009*\"world\" + 0.008*\"leagu\" + 0.006*\"australia\" + 0.006*\"open\" + 0.006*\"win\" + 0.005*\"juli\" + 0.005*\"beat\" + 0.005*\"rugbi\" + 0.005*\"star\"\n"
     ]
    }
   ],
   "source": [
    "for index, score in sorted(lda_model_tfidf[bow_corpus[4310]], key=lambda tup: -1*tup[1]):\n",
    "    print(\"\\nScore: {}\\t \\nTopic: {}\".format(score, lda_model_tfidf.print_topic(index, 10)))"
   ]
  },
  {
   "cell_type": "code",
   "execution_count": 79,
   "metadata": {},
   "outputs": [
    {
     "name": "stdout",
     "output_type": "stream",
     "text": [
      "Score: 0.3500001132488251\t Topic: 0.025*\"govern\" + 0.018*\"live\" + 0.016*\"council\" + 0.014*\"water\" + 0.013*\"deal\"\n",
      "Score: 0.1833333522081375\t Topic: 0.022*\"market\" + 0.019*\"south\" + 0.016*\"west\" + 0.015*\"share\" + 0.013*\"train\"\n",
      "Score: 0.18333317339420319\t Topic: 0.051*\"polic\" + 0.024*\"attack\" + 0.021*\"sydney\" + 0.021*\"kill\" + 0.015*\"crash\"\n",
      "Score: 0.18332935869693756\t Topic: 0.023*\"adelaid\" + 0.020*\"perth\" + 0.020*\"open\" + 0.017*\"final\" + 0.015*\"tasmanian\"\n",
      "Score: 0.016670677810907364\t Topic: 0.017*\"countri\" + 0.016*\"nation\" + 0.016*\"rural\" + 0.014*\"hour\" + 0.013*\"servic\"\n",
      "Score: 0.01666666753590107\t Topic: 0.020*\"help\" + 0.018*\"hospit\" + 0.014*\"work\" + 0.013*\"worker\" + 0.012*\"power\"\n",
      "Score: 0.01666666753590107\t Topic: 0.033*\"charg\" + 0.031*\"court\" + 0.024*\"murder\" + 0.020*\"face\" + 0.018*\"alleg\"\n",
      "Score: 0.01666666753590107\t Topic: 0.043*\"australian\" + 0.034*\"trump\" + 0.019*\"school\" + 0.019*\"coast\" + 0.017*\"die\"\n",
      "Score: 0.01666666753590107\t Topic: 0.022*\"elect\" + 0.020*\"canberra\" + 0.017*\"north\" + 0.015*\"tasmania\" + 0.014*\"labor\"\n",
      "Score: 0.01666666753590107\t Topic: 0.049*\"australia\" + 0.025*\"queensland\" + 0.017*\"world\" + 0.016*\"test\" + 0.016*\"women\"\n"
     ]
    }
   ],
   "source": [
    "unseen_document = 'How a Pentagon deal became an identity crisis for Google'\n",
    "bow_vector = dictionary.doc2bow(preprocess(unseen_document))\n",
    "\n",
    "for index, score in sorted(lda_model[bow_vector], key=lambda tup: -1*tup[1]):\n",
    "    print(\"Score: {}\\t Topic: {}\".format(score, lda_model.print_topic(index, 5)))"
   ]
  },
  {
   "cell_type": "markdown",
   "metadata": {},
   "source": [
    "https://towardsdatascience.com/topic-modeling-and-latent-dirichlet-allocation-in-python-9bf156893c24\n",
    "\n"
   ]
  },
  {
   "cell_type": "code",
   "execution_count": null,
   "metadata": {
    "collapsed": true
   },
   "outputs": [],
   "source": []
  }
 ],
 "metadata": {
  "kernelspec": {
   "display_name": "Python 3",
   "language": "python",
   "name": "python3"
  },
  "language_info": {
   "codemirror_mode": {
    "name": "ipython",
    "version": 3
   },
   "file_extension": ".py",
   "mimetype": "text/x-python",
   "name": "python",
   "nbconvert_exporter": "python",
   "pygments_lexer": "ipython3",
   "version": "3.6.3"
  }
 },
 "nbformat": 4,
 "nbformat_minor": 2
}
