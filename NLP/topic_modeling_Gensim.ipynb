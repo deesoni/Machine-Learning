{
 "cells": [
  {
   "cell_type": "code",
   "execution_count": 37,
   "metadata": {},
   "outputs": [],
   "source": [
    "import warnings\n",
    "warnings.filterwarnings('ignore')"
   ]
  },
  {
   "cell_type": "code",
   "execution_count": 6,
   "metadata": {},
   "outputs": [],
   "source": [
    "import spacy\n",
    "spacy.load('en')\n",
    "from spacy.lang.en import English\n",
    "parser = English()\n",
    "\n",
    "def tokenize(text):\n",
    "    lda_tokens = []\n",
    "    tokens = parser(text)\n",
    "    for token in tokens:\n",
    "        if token.orth_.isspace():\n",
    "            continue\n",
    "        elif token.like_url:\n",
    "            lda_tokens.append('URL')\n",
    "        elif token.orth_.startswith('@'):\n",
    "            lda_tokens.append('SCREEN_NAME')\n",
    "        else:\n",
    "            lda_tokens.append(token.lower_)\n",
    "    return lda_tokens"
   ]
  },
  {
   "cell_type": "code",
   "execution_count": 8,
   "metadata": {},
   "outputs": [
    {
     "name": "stdout",
     "output_type": "stream",
     "text": [
      "[nltk_data] Downloading package wordnet to\n",
      "[nltk_data]     C:\\Users\\Sony\\AppData\\Roaming\\nltk_data...\n",
      "[nltk_data]   Package wordnet is already up-to-date!\n"
     ]
    },
    {
     "data": {
      "text/plain": [
       "True"
      ]
     },
     "execution_count": 8,
     "metadata": {},
     "output_type": "execute_result"
    }
   ],
   "source": [
    "import nltk\n",
    "nltk.download('wordnet')"
   ]
  },
  {
   "cell_type": "code",
   "execution_count": 10,
   "metadata": {
    "collapsed": true
   },
   "outputs": [],
   "source": [
    "from nltk.corpus import wordnet as wn\n",
    "from nltk.stem.wordnet import WordNetLemmatizer\n",
    "\n",
    "def get_lemma(word):\n",
    "    lemma = wn.morphy(word)\n",
    "    if lemma is None:\n",
    "        return word\n",
    "    else:\n",
    "        return lemma\n",
    "    \n",
    "def get_lemma2(word):\n",
    "    return WordNetLemmatizer().lemmatize(word)"
   ]
  },
  {
   "cell_type": "code",
   "execution_count": 11,
   "metadata": {},
   "outputs": [
    {
     "name": "stdout",
     "output_type": "stream",
     "text": [
      "dogs dog dog\n",
      "ran run ran\n",
      "discouraged discourage discouraged\n"
     ]
    }
   ],
   "source": [
    "for w in ['dogs', 'ran', 'discouraged']:\n",
    "    print(w, get_lemma(w), get_lemma2(w))"
   ]
  },
  {
   "cell_type": "code",
   "execution_count": 14,
   "metadata": {
    "collapsed": true
   },
   "outputs": [],
   "source": [
    "from nltk.corpus import stopwords\n",
    "en_stop = set(stopwords.words('english'))"
   ]
  },
  {
   "cell_type": "code",
   "execution_count": 15,
   "metadata": {
    "collapsed": true
   },
   "outputs": [],
   "source": [
    "def prepare_text_for_lda(text):\n",
    "    tokens = tokenize(text)\n",
    "    tokens = [token for token in tokens if len(token) > 4]\n",
    "    tokens = [token for token in tokens if token not in en_stop]\n",
    "    tokens = [get_lemma(token) for token in tokens]\n",
    "    return tokens"
   ]
  },
  {
   "cell_type": "code",
   "execution_count": 20,
   "metadata": {},
   "outputs": [
    {
     "name": "stdout",
     "output_type": "stream",
     "text": [
      "['record', 'subtype', 'facility', 'database', 'system']\n",
      "['reducing', 'spurious', 'tone', 'spectrum', 'sensing', 'architecture']\n",
      "['cooperative', 'multihoming', 'user', 'access', 'point', '802.11', 'wlan']\n",
      "['uncovering', 'locally', 'characterize', 'region', 'within', 'geotagged']\n",
      "['shading', 'bicubic', 'patch']\n",
      "['challenge', 'issue', 'result']\n",
      "['efficient', 'decision', 'feedforward', 'equalizer', 'parallelizable', 'architecture']\n",
      "['scalable', 'secret', 'generation', 'exploit', 'channel', 'phase', 'randomness', 'wireless', 'network']\n",
      "['dynamic', 'cross', 'layer', 'association', '802.11-based', 'network']\n",
      "['2-pin', 'input', 'multi', 'frequency', 'power', 'scavenge', 'wireless', 'sensor', 'node']\n",
      "['class', 'reliable', 'base', 'transport', 'protocol', 'base', 'stochastic', 'approximation']\n",
      "['bonding', 'triangular', 'spiral', 'inductor', 'switching', 'power', 'converter']\n",
      "['bandwidth', 'allocation', 'virtual', 'path', 'investigation', 'performance', 'classical', 'constrain', 'genetic', 'algorithm', 'base', 'optimisation', 'technique']\n",
      "['extend', 'counting', '32-channel', 'neural', 'recording', 'headstage', 'small', 'animal']\n",
      "['base', 'interactive', 'sharing', 'system', 'distance', 'learning']\n",
      "['behavioral', 'macromodeling', 'analog', 'implementation', 'automobile', 'intake', 'system']\n",
      "['depth', 'expansion', 'adaptive', 'filter']\n",
      "['localize', 'minimum', 'energy', 'broadcasting', 'network']\n",
      "['double', 'sample', 'cascade', 'sigma', 'delta', 'modulator', 'topology', 'oversampling', 'ratio']\n",
      "['leboned', 'metadata', 'architecture']\n",
      "['integrate', 'heterogenous', 'modelling', 'power', 'estimation', 'single', 'processor', 'base', 'reconfigurable', 'platform']\n",
      "['hybrid', 'image', 'interpolation', 'decision', 'kernel', 'regression']\n"
     ]
    }
   ],
   "source": [
    "import random\n",
    "text_data = []\n",
    "\n",
    "with open('../Misc/dataset.csv') as f:\n",
    "    for line in f:\n",
    "        tokens = prepare_text_for_lda(line)\n",
    "        if random.random() > .99:\n",
    "            print(tokens)\n",
    "            text_data.append(tokens)"
   ]
  },
  {
   "cell_type": "code",
   "execution_count": 41,
   "metadata": {},
   "outputs": [],
   "source": [
    "from gensim import corpora\n",
    "dictionary = corpora.Dictionary(text_data)"
   ]
  },
  {
   "cell_type": "code",
   "execution_count": 42,
   "metadata": {
    "collapsed": true
   },
   "outputs": [],
   "source": [
    "corpus = [dictionary.doc2bow(text) for text in text_data]"
   ]
  },
  {
   "cell_type": "code",
   "execution_count": 43,
   "metadata": {
    "collapsed": true
   },
   "outputs": [],
   "source": [
    "import pickle\n",
    "pickle.dump(corpus, open('corpus.pkl', 'wb'))\n",
    "dictionary.save('dictionary.gensim')"
   ]
  },
  {
   "cell_type": "code",
   "execution_count": 45,
   "metadata": {
    "collapsed": true
   },
   "outputs": [],
   "source": [
    "import gensim\n",
    "NUM_TOPICS = 5\n",
    "ldamodel = gensim.models.ldamodel.LdaModel(corpus=corpus, num_topics=NUM_TOPICS, id2word=dictionary, passes=15)\n",
    "ldamodel.save('model5.gensim')"
   ]
  },
  {
   "cell_type": "code",
   "execution_count": 50,
   "metadata": {},
   "outputs": [
    {
     "name": "stdout",
     "output_type": "stream",
     "text": [
      "(0, '0.023*\"network\" + 0.023*\"system\" + 0.023*\"region\" + 0.023*\"characterize\"')\n",
      "(1, '0.020*\"decision\" + 0.020*\"investigation\" + 0.020*\"technique\" + 0.020*\"algorithm\"')\n",
      "(2, '0.035*\"base\" + 0.019*\"architecture\" + 0.019*\"network\" + 0.019*\"transport\"')\n",
      "(3, '0.024*\"architecture\" + 0.024*\"ratio\" + 0.024*\"oversampling\" + 0.024*\"double\"')\n",
      "(4, '0.042*\"power\" + 0.023*\"system\" + 0.023*\"base\" + 0.023*\"modelling\"')\n"
     ]
    }
   ],
   "source": [
    "topics = ldamodel.print_topics(num_words=4)\n",
    "for topic in topics:\n",
    "    print(topic)"
   ]
  },
  {
   "cell_type": "code",
   "execution_count": 51,
   "metadata": {},
   "outputs": [
    {
     "name": "stdout",
     "output_type": "stream",
     "text": [
      "[(70, 1), (92, 1)]\n",
      "[(0, 0.40078756), (1, 0.3991186), (2, 0.06669347), (3, 0.06670118), (4, 0.06669918)]\n"
     ]
    }
   ],
   "source": [
    "new_doc = 'Practical Bayesian Optimization of Machine Learning Algorithms'\n",
    "new_doc = prepare_text_for_lda(new_doc)\n",
    "new_doc_bow = dictionary.doc2bow(new_doc)\n",
    "print(new_doc_bow)\n",
    "print(ldamodel.get_document_topics(new_doc_bow))"
   ]
  },
  {
   "cell_type": "code",
   "execution_count": 52,
   "metadata": {},
   "outputs": [
    {
     "name": "stdout",
     "output_type": "stream",
     "text": [
      "(0, '0.029*\"system\" + 0.017*\"decision\" + 0.016*\"behavioral\" + 0.016*\"implementation\"')\n",
      "(1, '0.026*\"network\" + 0.026*\"base\" + 0.015*\"wireless\" + 0.015*\"platform\"')\n",
      "(2, '0.022*\"architecture\" + 0.022*\"power\" + 0.022*\"base\" + 0.012*\"sensor\"')\n"
     ]
    }
   ],
   "source": [
    "ldamodel = gensim.models.ldamodel.LdaModel(corpus, num_topics = 3, id2word=dictionary, passes=15)\n",
    "ldamodel.save('model3.gensim')\n",
    "topics = ldamodel.print_topics(num_words=4)\n",
    "for topic in topics:\n",
    "    print(topic)"
   ]
  },
  {
   "cell_type": "code",
   "execution_count": 53,
   "metadata": {},
   "outputs": [
    {
     "name": "stdout",
     "output_type": "stream",
     "text": [
      "(0, '0.064*\"filter\" + 0.064*\"expansion\" + 0.064*\"depth\" + 0.064*\"adaptive\"')\n",
      "(1, '0.039*\"base\" + 0.039*\"power\" + 0.039*\"wireless\" + 0.039*\"multi\"')\n",
      "(2, '0.057*\"spurious\" + 0.057*\"tone\" + 0.057*\"spectrum\" + 0.057*\"sensing\"')\n",
      "(3, '0.061*\"network\" + 0.032*\"secret\" + 0.032*\"scalable\" + 0.032*\"generation\"')\n",
      "(4, '0.060*\"system\" + 0.060*\"subtype\" + 0.060*\"database\" + 0.060*\"facility\"')\n",
      "(5, '0.023*\"algorithm\" + 0.023*\"oversampling\" + 0.023*\"allocation\" + 0.023*\"classical\"')\n",
      "(6, '0.045*\"headstage\" + 0.045*\"small\" + 0.045*\"animal\" + 0.045*\"issue\"')\n",
      "(7, '0.067*\"base\" + 0.035*\"bonding\" + 0.035*\"spiral\" + 0.035*\"switching\"')\n",
      "(8, '0.031*\"intake\" + 0.031*\"localize\" + 0.031*\"minimum\" + 0.031*\"macromodeling\"')\n",
      "(9, '0.095*\"architecture\" + 0.050*\"decision\" + 0.050*\"feedforward\" + 0.050*\"metadata\"')\n"
     ]
    }
   ],
   "source": [
    "ldamodel = gensim.models.ldamodel.LdaModel(corpus, num_topics = 10, id2word=dictionary, passes=15)\n",
    "ldamodel.save('model10.gensim')\n",
    "topics = ldamodel.print_topics(num_words=4)\n",
    "for topic in topics:\n",
    "    print(topic)"
   ]
  },
  {
   "cell_type": "code",
   "execution_count": 54,
   "metadata": {
    "collapsed": true
   },
   "outputs": [],
   "source": [
    "dictionary = gensim.corpora.Dictionary.load('dictionary.gensim')\n",
    "corpus = pickle.load(open('corpus.pkl', 'rb'))\n",
    "lda = gensim.models.ldamodel.LdaModel.load('model5.gensim')"
   ]
  },
  {
   "cell_type": "code",
   "execution_count": 57,
   "metadata": {},
   "outputs": [
    {
     "data": {
      "text/html": [
       "\n",
       "<link rel=\"stylesheet\" type=\"text/css\" href=\"https://cdn.rawgit.com/bmabey/pyLDAvis/files/ldavis.v1.0.0.css\">\n",
       "\n",
       "\n",
       "<div id=\"ldavis_el1118416323902962248257680774\"></div>\n",
       "<script type=\"text/javascript\">\n",
       "\n",
       "var ldavis_el1118416323902962248257680774_data = {\"mdsDat\": {\"Freq\": [17.360330574428506, 23.153115895129766, 24.421820968274318, 16.51780386608764, 18.546928696079775], \"cluster\": [1, 1, 1, 1, 1], \"topics\": [1, 2, 3, 4, 5], \"x\": [-0.01738996978934482, -0.07588453683442688, 0.11412280931994069, -0.03520001387421836, 0.014351711178049278], \"y\": [0.04739280300430089, -0.08400732802714858, -0.05666432320356422, 0.008530825146403019, 0.08474802308000871]}, \"tinfo\": {\"Category\": [\"Default\", \"Default\", \"Default\", \"Default\", \"Default\", \"Default\", \"Default\", \"Default\", \"Default\", \"Default\", \"Default\", \"Default\", \"Default\", \"Default\", \"Default\", \"Default\", \"Default\", \"Default\", \"Default\", \"Default\", \"Default\", \"Default\", \"Default\", \"Default\", \"Default\", \"Default\", \"Default\", \"Default\", \"Default\", \"Default\", \"Topic1\", \"Topic1\", \"Topic1\", \"Topic1\", \"Topic1\", \"Topic1\", \"Topic1\", \"Topic1\", \"Topic1\", \"Topic1\", \"Topic1\", \"Topic1\", \"Topic1\", \"Topic1\", \"Topic1\", \"Topic1\", \"Topic1\", \"Topic1\", \"Topic1\", \"Topic1\", \"Topic1\", \"Topic1\", \"Topic1\", \"Topic1\", \"Topic1\", \"Topic1\", \"Topic1\", \"Topic1\", \"Topic1\", \"Topic1\", \"Topic1\", \"Topic1\", \"Topic1\", \"Topic1\", \"Topic1\", \"Topic2\", \"Topic2\", \"Topic2\", \"Topic2\", \"Topic2\", \"Topic2\", \"Topic2\", \"Topic2\", \"Topic2\", \"Topic2\", \"Topic2\", \"Topic2\", \"Topic2\", \"Topic2\", \"Topic2\", \"Topic2\", \"Topic2\", \"Topic2\", \"Topic2\", \"Topic2\", \"Topic2\", \"Topic2\", \"Topic2\", \"Topic2\", \"Topic2\", \"Topic2\", \"Topic2\", \"Topic2\", \"Topic2\", \"Topic2\", \"Topic2\", \"Topic2\", \"Topic3\", \"Topic3\", \"Topic3\", \"Topic3\", \"Topic3\", \"Topic3\", \"Topic3\", \"Topic3\", \"Topic3\", \"Topic3\", \"Topic3\", \"Topic3\", \"Topic3\", \"Topic3\", \"Topic3\", \"Topic3\", \"Topic3\", \"Topic3\", \"Topic3\", \"Topic3\", \"Topic3\", \"Topic3\", \"Topic3\", \"Topic3\", \"Topic3\", \"Topic3\", \"Topic3\", \"Topic3\", \"Topic3\", \"Topic3\", \"Topic3\", \"Topic3\", \"Topic3\", \"Topic4\", \"Topic4\", \"Topic4\", \"Topic4\", \"Topic4\", \"Topic4\", \"Topic4\", \"Topic4\", \"Topic4\", \"Topic4\", \"Topic4\", \"Topic4\", \"Topic4\", \"Topic4\", \"Topic4\", \"Topic4\", \"Topic4\", \"Topic4\", \"Topic4\", \"Topic4\", \"Topic4\", \"Topic4\", \"Topic4\", \"Topic4\", \"Topic4\", \"Topic4\", \"Topic4\", \"Topic4\", \"Topic4\", \"Topic4\", \"Topic4\", \"Topic4\", \"Topic4\", \"Topic4\", \"Topic4\", \"Topic4\", \"Topic4\", \"Topic5\", \"Topic5\", \"Topic5\", \"Topic5\", \"Topic5\", \"Topic5\", \"Topic5\", \"Topic5\", \"Topic5\", \"Topic5\", \"Topic5\", \"Topic5\", \"Topic5\", \"Topic5\", \"Topic5\", \"Topic5\", \"Topic5\", \"Topic5\", \"Topic5\", \"Topic5\", \"Topic5\", \"Topic5\", \"Topic5\", \"Topic5\", \"Topic5\", \"Topic5\", \"Topic5\", \"Topic5\", \"Topic5\", \"Topic5\", \"Topic5\", \"Topic5\", \"Topic5\", \"Topic5\", \"Topic5\"], \"Freq\": [2.0, 1.0, 1.0, 1.0, 1.0, 1.0, 1.0, 1.0, 1.0, 1.0, 1.0, 1.0, 1.0, 1.0, 1.0, 1.0, 1.0, 1.0, 1.0, 1.0, 1.0, 1.0, 1.0, 1.0, 2.0, 1.0, 1.0, 1.0, 1.0, 1.0, 0.5918093600040469, 0.5918091239502614, 0.5918090295287471, 0.5918089823179901, 0.5918087934749615, 0.591808557421176, 0.5918080381028477, 0.5918078020490621, 0.5918074715737622, 0.5918072355199767, 0.591801759072151, 0.5918001539064089, 0.5918000122741376, 0.5917991624805096, 0.5914395581435424, 0.5914266223960921, 0.5914182188813252, 0.5914003732151346, 0.5913955105071514, 0.5913473555348912, 0.5912841403311103, 0.5913531152472595, 0.592029975872059, 0.5921016418013639, 0.59099846803979, 0.09864146546482162, 0.09864088713304692, 0.09864082811960052, 0.09864066878329525, 0.09864063927657206, 0.09865482020774134, 0.09864734910542744, 0.09864708944626328, 0.09864683568844378, 0.09864655832524571, 0.6607054715340407, 0.6607052826419928, 0.6607052826419928, 0.6607052196779769, 0.6607052196779769, 0.6607052196779769, 0.6607052196779769, 0.6607052196779769, 0.660705093749945, 0.6607049048578972, 0.6607047159658493, 0.6607046530018335, 0.66069539729149, 0.6606950824714102, 0.6606948935793624, 0.6606943898672348, 0.6606940120831393, 0.6606912416664378, 0.6606908638823421, 0.6606906749902943, 0.6606905490622624, 0.6606904231342305, 0.6606902972061987, 0.660689982386119, 0.6606894786739914, 0.660675815482532, 0.6606744302741813, 0.6606739895260696, 0.6606730450658305, 0.6606727302457508, 0.660747468532674, 0.6606892897819435, 0.6747857180506409, 0.6747857180506409, 0.6747852531511638, 0.6747851867369528, 0.6747846554232646, 0.6747845890090536, 0.6747838584527324, 0.6747837920385213, 0.6747834599674662, 0.6747833935532552, 0.6747832607248332, 0.6747831943106223, 0.6747831278964113, 0.6747829950679892, 0.6747829950679892, 0.6747828622395672, 0.6747824637543011, 0.6747819988548239, 0.6747813347127137, 0.6747809362274476, 0.6747808033990256, 0.6747807369848146, 0.6747802056711264, 0.6747796743574382, 0.6747796079432272, 0.6747794087005942, 0.6747794087005942, 0.6747788773869061, 0.674759882922555, 0.6747582225672795, 1.2380420515389716, 0.6750500466104921, 0.6750145150075975, 0.585772784225022, 0.585772784225022, 0.5857726045468705, 0.5857725596273328, 0.5857724248687192, 0.5857723350296434, 0.5857720655124163, 0.5857717959951891, 0.5857717510756513, 0.5857716163170377, 0.5857714366388863, 0.5857713467998106, 0.5857711671216591, 0.5857709874435078, 0.5857708077653563, 0.5857708077653563, 0.5857708077653563, 0.5857682922712363, 0.5857682473516985, 0.5857679329149335, 0.5857673489609413, 0.5857657318575785, 0.5868661706959921, 0.09763653476123282, 0.09763645615204157, 0.09763636631296585, 0.09763578235897372, 0.09763430001422445, 0.09763427755445551, 0.0976342550946866, 0.09764304809422204, 0.09764253151953668, 0.09764183526669991, 0.0976408021173292, 0.0976401170943769, 0.09763988126680315, 0.09763983634726528, 0.6200731440703818, 0.62007294231972, 0.620072841444389, 0.6200726396937272, 0.6200725892560617, 0.6200724883807308, 0.6200724883807308, 0.6200724883807308, 0.620072084879407, 0.620071984004076, 0.6200717822534142, 0.6200717822534142, 0.6200717318157487, 0.6200711265637631, 0.6200709752507667, 0.6200689577441479, 0.620068755993486, 0.620068755993486, 0.6200686046804896, 0.6200686046804896, 0.620068100303835, 1.137756919359617, 0.6200686046804896, 0.6204769984577965, 0.6201212616032398, 0.10335108266277894, 0.10335086830270068, 0.10335083677915977, 0.10335061611437334, 0.10335057828612423, 0.10336562762455871, 0.1033607225615918, 0.1033575134651263, 0.10335679472839336, 0.10335663711068876], \"Term\": [\"power\", \"wireless\", \"oversampling\", \"ratio\", \"double\", \"topology\", \"modulator\", \"sample\", \"delta\", \"cascade\", \"counting\", \"small\", \"sigma\", \"animal\", \"headstage\", \"extend\", \"32-channel\", \"neural\", \"recording\", \"sensing\", \"spurious\", \"tone\", \"spectrum\", \"reducing\", \"system\", \"region\", \"characterize\", \"uncovering\", \"interactive\", \"locally\", \"region\", \"characterize\", \"interactive\", \"uncovering\", \"locally\", \"distance\", \"geotagged\", \"within\", \"learning\", \"sharing\", \"adaptive\", \"filter\", \"expansion\", \"depth\", \"phase\", \"channel\", \"generation\", \"randomness\", \"scalable\", \"secret\", \"exploit\", \"wireless\", \"system\", \"network\", \"base\", \"reducing\", \"spectrum\", \"sensing\", \"tone\", \"spurious\", \"architecture\", \"shading\", \"leboned\", \"issue\", \"challenge\", \"investigation\", \"algorithm\", \"technique\", \"genetic\", \"classical\", \"bandwidth\", \"performance\", \"allocation\", \"path\", \"optimisation\", \"constrain\", \"virtual\", \"interpolation\", \"regression\", \"kernel\", \"image\", \"hybrid\", \"localize\", \"energy\", \"facility\", \"database\", \"minimum\", \"record\", \"subtype\", \"broadcasting\", \"result\", \"challenge\", \"metadata\", \"issue\", \"leboned\", \"decision\", \"base\", \"transport\", \"approximation\", \"protocol\", \"reliable\", \"stochastic\", \"class\", \"bonding\", \"access\", \"wlan\", \"switching\", \"point\", \"802.11\", \"spiral\", \"inductor\", \"user\", \"cooperative\", \"triangular\", \"multihoming\", \"converter\", \"efficient\", \"association\", \"cross\", \"feedforward\", \"equalizer\", \"layer\", \"dynamic\", \"802.11-based\", \"parallelizable\", \"patch\", \"bicubic\", \"base\", \"architecture\", \"network\", \"oversampling\", \"ratio\", \"double\", \"topology\", \"modulator\", \"sample\", \"delta\", \"cascade\", \"counting\", \"small\", \"sigma\", \"animal\", \"headstage\", \"extend\", \"neural\", \"32-channel\", \"recording\", \"sensing\", \"spurious\", \"tone\", \"spectrum\", \"reducing\", \"architecture\", \"depth\", \"filter\", \"expansion\", \"adaptive\", \"within\", \"learning\", \"sharing\", \"network\", \"system\", \"base\", \"shading\", \"leboned\", \"bicubic\", \"issue\", \"modelling\", \"processor\", \"reconfigurable\", \"estimation\", \"platform\", \"heterogenous\", \"single\", \"integrate\", \"scavenge\", \"input\", \"multi\", \"node\", \"2-pin\", \"sensor\", \"frequency\", \"implementation\", \"behavioral\", \"macromodeling\", \"analog\", \"intake\", \"automobile\", \"power\", \"wireless\", \"system\", \"base\", \"reducing\", \"tone\", \"spurious\", \"sensing\", \"spectrum\", \"architecture\", \"network\", \"shading\", \"bicubic\", \"issue\"], \"Total\": [2.0, 1.0, 1.0, 1.0, 1.0, 1.0, 1.0, 1.0, 1.0, 1.0, 1.0, 1.0, 1.0, 1.0, 1.0, 1.0, 1.0, 1.0, 1.0, 1.0, 1.0, 1.0, 1.0, 1.0, 2.0, 1.0, 1.0, 1.0, 1.0, 1.0, 1.0153865115101082, 1.0153864681652267, 1.0153864939445352, 1.015386487537198, 1.0153865372894944, 1.015386590643035, 1.015386582601018, 1.0153865276830756, 1.015386627642935, 1.0153866537732072, 1.0153870055282423, 1.0153870604096824, 1.0153871476569203, 1.0153871505887588, 1.01543863604489, 1.015440433703792, 1.015441673947301, 1.0154441210348564, 1.0154448084373127, 1.0154516022677806, 1.0154603974842324, 1.5321864134371666, 2.082663700926055, 2.1282832158575387, 3.207492906230645, 1.0103522105863698, 1.0103521339924832, 1.0103519564026517, 1.0103520040720502, 1.010351986107577, 2.1231423338130853, 1.0845292238900885, 1.0727919026037187, 1.0727919088318045, 1.0727920185859432, 1.0727941170768878, 1.0727941097413622, 1.0727941557168743, 1.0727940956898296, 1.0727941122750484, 1.0727941278826696, 1.0727941439434456, 1.0727941763327515, 1.0727941531830203, 1.072794083877514, 1.0727940562425167, 1.0727940500909985, 1.0727934187868329, 1.0727934270598745, 1.0727934113695612, 1.0727933634684117, 1.0727933494374535, 1.0727931687266907, 1.072793071389688, 1.072793045814, 1.0727931035600546, 1.072793074392494, 1.072793083765031, 1.072793010457512, 1.072792948665913, 1.0727921085177146, 1.0727920185859432, 1.072792034113231, 1.0727919088318045, 1.0727919026037187, 1.635123953923416, 3.207492906230645, 1.0845320804644838, 1.084532138192987, 1.084532053050837, 1.0845320647159717, 1.0845319607653106, 1.0845319923763928, 1.0845318605807488, 1.0845319037850052, 1.0845318488936204, 1.0845318311443646, 1.0845318096082872, 1.0845318566767164, 1.0845317779290684, 1.0845317741670226, 1.08453182120357, 1.0845318314272492, 1.0845317194947035, 1.0845317008623023, 1.0845316355583325, 1.0845317071423384, 1.0845315715981498, 1.0845317051019538, 1.084531643968985, 1.0845315405882128, 1.0845315205681847, 1.0845315267350872, 1.0845316217613974, 1.0845314788679414, 1.0845296878525283, 1.084529668678106, 3.207492906230645, 2.1231423338130853, 2.1282832158575387, 1.0103516164269535, 1.0103516359329894, 1.010351625763389, 1.0103516612116754, 1.0103516383788091, 1.0103516410332798, 1.0103516593095139, 1.0103516593176323, 1.0103517278695764, 1.0103517289202077, 1.0103516795710277, 1.0103517883639093, 1.0103517792682168, 1.0103518049562814, 1.0103518072194815, 1.0103518476186848, 1.0103518758002388, 1.0103519564026517, 1.010351986107577, 1.0103520040720502, 1.0103521339924832, 1.0103522105863698, 2.1231423338130853, 1.0153871505887588, 1.0153870604096824, 1.0153871476569203, 1.0153870055282423, 1.0153865276830756, 1.015386627642935, 1.0153866537732072, 2.1282832158575387, 2.082663700926055, 3.207492906230645, 1.0845292238900885, 1.0727919026037187, 1.084529668678106, 1.0727919088318045, 1.0389347448608686, 1.038934725349237, 1.038934743342173, 1.0389347062307075, 1.0389347279213617, 1.038934747866202, 1.0389347572924312, 1.0389348021105334, 1.0389346554879588, 1.0389347477521926, 1.0389346736697425, 1.0389347019082598, 1.038934765179678, 1.0389347277828962, 1.0389347099430681, 1.038934688541778, 1.0389347239085378, 1.038934742065595, 1.0389347585974413, 1.0389348320267915, 1.0389347082170073, 2.117917860365926, 1.5321864134371666, 2.082663700926055, 3.207492906230645, 1.0103522105863698, 1.0103520040720502, 1.010351986107577, 1.0103519564026517, 1.0103521339924832, 2.1231423338130853, 2.1282832158575387, 1.0845292238900885, 1.084529668678106, 1.0727919088318045], \"loglift\": [30.0, 29.0, 28.0, 27.0, 26.0, 25.0, 24.0, 23.0, 22.0, 21.0, 20.0, 19.0, 18.0, 17.0, 16.0, 15.0, 14.0, 13.0, 12.0, 11.0, 10.0, 9.0, 8.0, 7.0, 6.0, 5.0, 4.0, 3.0, 2.0, 1.0, 1.2111, 1.2111, 1.2111, 1.2111, 1.2111, 1.2111, 1.2111, 1.2111, 1.2111, 1.2111, 1.2111, 1.2111, 1.2111, 1.2111, 1.2105, 1.2104, 1.2104, 1.2104, 1.2104, 1.2103, 1.2102, 0.7989, 0.4931, 0.4716, 0.0596, -0.5756, -0.5756, -0.5756, -0.5756, -0.5756, -1.318, -0.6464, -0.6355, -0.6355, -0.6355, 0.9783, 0.9783, 0.9783, 0.9783, 0.9783, 0.9783, 0.9783, 0.9783, 0.9783, 0.9783, 0.9783, 0.9783, 0.9783, 0.9783, 0.9783, 0.9783, 0.9783, 0.9783, 0.9783, 0.9783, 0.9783, 0.9783, 0.9783, 0.9783, 0.9783, 0.9783, 0.9783, 0.9783, 0.9783, 0.9783, 0.5569, -0.1169, 0.9352, 0.9352, 0.9352, 0.9352, 0.9352, 0.9352, 0.9352, 0.9352, 0.9352, 0.9352, 0.9352, 0.9352, 0.9352, 0.9352, 0.9352, 0.9352, 0.9352, 0.9352, 0.9352, 0.9352, 0.9352, 0.9352, 0.9352, 0.9352, 0.9352, 0.9352, 0.9352, 0.9352, 0.9351, 0.9351, 0.4577, 0.2638, 0.2614, 1.2556, 1.2556, 1.2556, 1.2556, 1.2556, 1.2556, 1.2556, 1.2556, 1.2556, 1.2556, 1.2556, 1.2556, 1.2556, 1.2556, 1.2556, 1.2556, 1.2556, 1.2556, 1.2556, 1.2556, 1.2556, 1.2556, 0.5149, -0.541, -0.541, -0.541, -0.541, -0.5411, -0.5411, -0.5411, -1.281, -1.2594, -1.6912, -0.6069, -0.596, -0.6069, -0.596, 1.1688, 1.1688, 1.1688, 1.1688, 1.1688, 1.1688, 1.1688, 1.1688, 1.1688, 1.1688, 1.1688, 1.1688, 1.1687, 1.1687, 1.1687, 1.1687, 1.1687, 1.1687, 1.1687, 1.1687, 1.1687, 1.0635, 0.7802, 0.474, 0.0415, -0.5951, -0.5951, -0.5951, -0.5951, -0.5951, -1.3375, -1.34, -0.6658, -0.6658, -0.655], \"logprob\": [30.0, 29.0, 28.0, 27.0, 26.0, 25.0, 24.0, 23.0, 22.0, 21.0, 20.0, 19.0, 18.0, 17.0, 16.0, 15.0, 14.0, 13.0, 12.0, 11.0, 10.0, 9.0, 8.0, 7.0, 6.0, 5.0, 4.0, 3.0, 2.0, 1.0, -3.757200002670288, -3.757200002670288, -3.757200002670288, -3.757200002670288, -3.757200002670288, -3.757200002670288, -3.757200002670288, -3.757200002670288, -3.757200002670288, -3.757200002670288, -3.757200002670288, -3.757200002670288, -3.757200002670288, -3.757200002670288, -3.7578001022338867, -3.7578001022338867, -3.7578999996185303, -3.7578999996185303, -3.7578999996185303, -3.757999897003174, -3.7581000328063965, -3.757999897003174, -3.7567999362945557, -3.756700038909912, -3.7585999965667725, -5.548900127410889, -5.548900127410889, -5.548900127410889, -5.548900127410889, -5.548900127410889, -5.548799991607666, -5.548799991607666, -5.548799991607666, -5.548799991607666, -5.548799991607666, -3.934999942779541, -3.934999942779541, -3.934999942779541, -3.934999942779541, -3.934999942779541, -3.934999942779541, -3.934999942779541, -3.934999942779541, -3.934999942779541, -3.934999942779541, -3.934999942779541, -3.934999942779541, -3.934999942779541, -3.934999942779541, -3.934999942779541, -3.934999942779541, -3.934999942779541, -3.934999942779541, -3.934999942779541, -3.934999942779541, -3.934999942779541, -3.934999942779541, -3.934999942779541, -3.934999942779541, -3.934999942779541, -3.9351000785827637, -3.9351000785827637, -3.9351000785827637, -3.9351000785827637, -3.9351000785827637, -3.9349000453948975, -3.934999942779541, -3.9672999382019043, -3.9672999382019043, -3.9672999382019043, -3.9672999382019043, -3.9672999382019043, -3.9672999382019043, -3.9672999382019043, -3.9672999382019043, -3.9672999382019043, -3.9672999382019043, -3.9672999382019043, -3.9672999382019043, -3.9672999382019043, -3.9672999382019043, -3.9672999382019043, -3.9672999382019043, -3.9672999382019043, -3.9672999382019043, -3.9672999382019043, -3.9672999382019043, -3.9672999382019043, -3.9672999382019043, -3.9672999382019043, -3.9672999382019043, -3.9672999382019043, -3.9672999382019043, -3.9672999382019043, -3.9672999382019043, -3.9672999382019043, -3.9672999382019043, -3.3603999614715576, -3.966900110244751, -3.966900110244751, -3.7177000045776367, -3.7177000045776367, -3.7177000045776367, -3.7177000045776367, -3.7177000045776367, -3.7177000045776367, -3.7177000045776367, -3.7177000045776367, -3.7177000045776367, -3.7177000045776367, -3.7177000045776367, -3.7177000045776367, -3.7177000045776367, -3.7177000045776367, -3.7177000045776367, -3.7177000045776367, -3.7177000045776367, -3.7177000045776367, -3.7177000045776367, -3.7177000045776367, -3.7177000045776367, -3.7177000045776367, -3.7158000469207764, -5.509399890899658, -5.509399890899658, -5.509399890899658, -5.509399890899658, -5.509399890899658, -5.509399890899658, -5.509399890899658, -5.509300231933594, -5.509300231933594, -5.509300231933594, -5.509300231933594, -5.509300231933594, -5.509300231933594, -5.509300231933594, -3.776700019836426, -3.776700019836426, -3.776700019836426, -3.776700019836426, -3.776700019836426, -3.776700019836426, -3.776700019836426, -3.776700019836426, -3.776700019836426, -3.776700019836426, -3.776700019836426, -3.776700019836426, -3.776700019836426, -3.776700019836426, -3.776700019836426, -3.776700019836426, -3.776700019836426, -3.776700019836426, -3.776700019836426, -3.776700019836426, -3.776700019836426, -3.1696999073028564, -3.776700019836426, -3.7760000228881836, -3.776599884033203, -5.568399906158447, -5.568399906158447, -5.568399906158447, -5.568399906158447, -5.568399906158447, -5.56820011138916, -5.568299770355225, -5.568299770355225, -5.568299770355225, -5.568299770355225]}, \"token.table\": {\"Topic\": [5, 4, 3, 3, 3, 1, 2, 2, 5, 4, 3, 2, 3, 4, 3, 5, 2, 1, 2, 3, 5, 5, 3, 3, 2, 4, 2, 1, 1, 3, 2, 2, 3, 3, 4, 3, 2, 2, 3, 4, 1, 1, 4, 3, 3, 2, 3, 5, 1, 1, 4, 2, 3, 1, 5, 1, 2, 1, 4, 5, 2, 2, 5, 3, 5, 5, 5, 1, 2, 2, 2, 2, 3, 1, 2, 2, 1, 5, 2, 2, 5, 4, 5, 3, 1, 2, 3, 4, 5, 2, 4, 3, 3, 2, 2, 1, 5, 3, 3, 5, 5, 3, 1, 4, 5, 2, 4, 4, 1, 2, 3, 2, 4, 1, 5, 1, 4, 5, 3, 1, 4, 5, 4, 4, 3, 4, 3, 2, 3, 1, 2, 5, 2, 4, 4, 3, 3, 1, 3, 2, 1, 5, 1, 3], \"Freq\": [0.9625243408108068, 0.9897542151844595, 0.922056824650828, 0.9220570243732416, 0.9220567845998908, 0.9848461665902082, 0.9321453118726463, 0.9321452540117324, 0.9625243469089405, 0.9897542732312354, 0.9220565853089131, 0.47099998152457206, 0.47099998152457206, 0.47099998152457206, 0.9220570670214927, 0.9625243935840531, 0.9321452961097574, 0.31176998024141284, 0.31176998024141284, 0.31176998024141284, 0.31176998024141284, 0.9625243790465845, 0.9220586848664672, 0.9220568213316634, 0.9321463207262541, 0.9897543996467294, 0.93214712887043, 0.984794348155437, 0.9848466877906797, 0.9220567092804991, 0.9321453096711393, 0.9321453583575217, 0.922057012643237, 0.9220568461176424, 0.9897543324923054, 0.9220569535180096, 0.9321461861392553, 0.6115744299388063, 0.6115744299388063, 0.9897543996546823, 0.9848460258928461, 0.9848465689966509, 0.9897544325169292, 0.9220571051635871, 0.9220569517832972, 0.9321462140919754, 0.9220570933858081, 0.9625243954242668, 0.9848460287365, 0.984774987264363, 0.9897542569771236, 0.9321462363146034, 0.9220570054925918, 0.9848461133594965, 0.9625243919849384, 0.9847931453440602, 0.9321453240819512, 0.9848465767967864, 0.9897542821414987, 0.9625243568509306, 0.9321459724972898, 0.932145960305845, 0.9625244118122326, 0.9220568947996499, 0.9625243569565551, 0.962524278880095, 0.9625243065961024, 0.9848466627867362, 0.9321459122398875, 0.9321453054988457, 0.932147224235621, 0.9321459186847253, 0.9220571104066217, 0.9848465331096069, 0.9321472296471952, 0.9321461295161958, 0.9848466207454674, 0.9625243622249213, 0.9321471153787967, 0.9321462114828476, 0.9625243596352314, 0.9897544201586893, 0.9625244255904785, 0.9220569571225149, 0.46986227798496966, 0.46986227798496966, 0.46986227798496966, 0.9897542547600623, 0.9625243994288124, 0.9321453343456121, 0.9897544416630308, 0.9220571458597243, 0.922058668564523, 0.9321452741264135, 0.932145282154632, 0.9847960915639147, 0.962524375328891, 0.9220568646678805, 0.47216184287110347, 0.47216184287110347, 0.9625243777118442, 0.9220566576957826, 0.9847907721213482, 0.9897544225546482, 0.9625243610422317, 0.9321462033390825, 0.9897541875774322, 0.9897538596165769, 0.9848466457494841, 0.9321459050514748, 0.9220566477782196, 0.932147050728876, 0.9897544175583333, 0.9847901054700541, 0.9625244424350516, 0.9847835167788667, 0.9897541086182385, 0.9625243754571728, 0.9220590630219337, 0.9848465077652636, 0.9897543798062247, 0.9625243481179712, 0.9897543314630927, 0.9897539346489268, 0.9220568916012002, 0.9897540795189027, 0.9220567361558808, 0.9321462670357368, 0.9220568463581478, 0.48015433291287046, 0.48015433291287046, 0.48015433291287046, 0.9321452719247608, 0.9897540619206691, 0.9897543977912987, 0.9220566343890165, 0.922056941281452, 0.9848466690013595, 0.9220568548097003, 0.932145363702545, 0.6526620985736923, 0.6526620985736923, 0.9848466300629527, 0.9220568312679289], \"Term\": [\"2-pin\", \"32-channel\", \"802.11\", \"802.11-based\", \"access\", \"adaptive\", \"algorithm\", \"allocation\", \"analog\", \"animal\", \"approximation\", \"architecture\", \"architecture\", \"architecture\", \"association\", \"automobile\", \"bandwidth\", \"base\", \"base\", \"base\", \"base\", \"behavioral\", \"bicubic\", \"bonding\", \"broadcasting\", \"cascade\", \"challenge\", \"channel\", \"characterize\", \"class\", \"classical\", \"constrain\", \"converter\", \"cooperative\", \"counting\", \"cross\", \"database\", \"decision\", \"decision\", \"delta\", \"depth\", \"distance\", \"double\", \"dynamic\", \"efficient\", \"energy\", \"equalizer\", \"estimation\", \"expansion\", \"exploit\", \"extend\", \"facility\", \"feedforward\", \"filter\", \"frequency\", \"generation\", \"genetic\", \"geotagged\", \"headstage\", \"heterogenous\", \"hybrid\", \"image\", \"implementation\", \"inductor\", \"input\", \"intake\", \"integrate\", \"interactive\", \"interpolation\", \"investigation\", \"issue\", \"kernel\", \"layer\", \"learning\", \"leboned\", \"localize\", \"locally\", \"macromodeling\", \"metadata\", \"minimum\", \"modelling\", \"modulator\", \"multi\", \"multihoming\", \"network\", \"network\", \"network\", \"neural\", \"node\", \"optimisation\", \"oversampling\", \"parallelizable\", \"patch\", \"path\", \"performance\", \"phase\", \"platform\", \"point\", \"power\", \"power\", \"processor\", \"protocol\", \"randomness\", \"ratio\", \"reconfigurable\", \"record\", \"recording\", \"reducing\", \"region\", \"regression\", \"reliable\", \"result\", \"sample\", \"scalable\", \"scavenge\", \"secret\", \"sensing\", \"sensor\", \"shading\", \"sharing\", \"sigma\", \"single\", \"small\", \"spectrum\", \"spiral\", \"spurious\", \"stochastic\", \"subtype\", \"switching\", \"system\", \"system\", \"system\", \"technique\", \"tone\", \"topology\", \"transport\", \"triangular\", \"uncovering\", \"user\", \"virtual\", \"wireless\", \"wireless\", \"within\", \"wlan\"]}, \"R\": 30, \"lambda.step\": 0.01, \"plot.opts\": {\"xlab\": \"PC1\", \"ylab\": \"PC2\"}, \"topic.order\": [1, 2, 3, 4, 5]};\n",
       "\n",
       "function LDAvis_load_lib(url, callback){\n",
       "  var s = document.createElement('script');\n",
       "  s.src = url;\n",
       "  s.async = true;\n",
       "  s.onreadystatechange = s.onload = callback;\n",
       "  s.onerror = function(){console.warn(\"failed to load library \" + url);};\n",
       "  document.getElementsByTagName(\"head\")[0].appendChild(s);\n",
       "}\n",
       "\n",
       "if(typeof(LDAvis) !== \"undefined\"){\n",
       "   // already loaded: just create the visualization\n",
       "   !function(LDAvis){\n",
       "       new LDAvis(\"#\" + \"ldavis_el1118416323902962248257680774\", ldavis_el1118416323902962248257680774_data);\n",
       "   }(LDAvis);\n",
       "}else if(typeof define === \"function\" && define.amd){\n",
       "   // require.js is available: use it to load d3/LDAvis\n",
       "   require.config({paths: {d3: \"https://cdnjs.cloudflare.com/ajax/libs/d3/3.5.5/d3.min\"}});\n",
       "   require([\"d3\"], function(d3){\n",
       "      window.d3 = d3;\n",
       "      LDAvis_load_lib(\"https://cdn.rawgit.com/bmabey/pyLDAvis/files/ldavis.v1.0.0.js\", function(){\n",
       "        new LDAvis(\"#\" + \"ldavis_el1118416323902962248257680774\", ldavis_el1118416323902962248257680774_data);\n",
       "      });\n",
       "    });\n",
       "}else{\n",
       "    // require.js not available: dynamically load d3 & LDAvis\n",
       "    LDAvis_load_lib(\"https://cdnjs.cloudflare.com/ajax/libs/d3/3.5.5/d3.min.js\", function(){\n",
       "         LDAvis_load_lib(\"https://cdn.rawgit.com/bmabey/pyLDAvis/files/ldavis.v1.0.0.js\", function(){\n",
       "                 new LDAvis(\"#\" + \"ldavis_el1118416323902962248257680774\", ldavis_el1118416323902962248257680774_data);\n",
       "            })\n",
       "         });\n",
       "}\n",
       "</script>"
      ],
      "text/plain": [
       "<IPython.core.display.HTML object>"
      ]
     },
     "execution_count": 57,
     "metadata": {},
     "output_type": "execute_result"
    }
   ],
   "source": [
    "import pyLDAvis.gensim\n",
    "lda_display = pyLDAvis.gensim.prepare(lda, corpus, dictionary, sort_topics=False)\n",
    "pyLDAvis.display(lda_display)"
   ]
  },
  {
   "cell_type": "code",
   "execution_count": 58,
   "metadata": {},
   "outputs": [
    {
     "data": {
      "text/html": [
       "\n",
       "<link rel=\"stylesheet\" type=\"text/css\" href=\"https://cdn.rawgit.com/bmabey/pyLDAvis/files/ldavis.v1.0.0.css\">\n",
       "\n",
       "\n",
       "<div id=\"ldavis_el1118416324148455922106506401\"></div>\n",
       "<script type=\"text/javascript\">\n",
       "\n",
       "var ldavis_el1118416324148455922106506401_data = {\"mdsDat\": {\"Freq\": [26.679050043032902, 31.243517975462943, 42.077431981504155], \"cluster\": [1, 1, 1], \"topics\": [1, 2, 3], \"x\": [-0.04883118104842482, -0.045199930003489895, 0.09403111105191476], \"y\": [0.06896512837345828, -0.07076379117574635, 0.0017986628022880228]}, \"tinfo\": {\"Category\": [\"Default\", \"Default\", \"Default\", \"Default\", \"Default\", \"Default\", \"Default\", \"Default\", \"Default\", \"Default\", \"Default\", \"Default\", \"Default\", \"Default\", \"Default\", \"Default\", \"Default\", \"Default\", \"Default\", \"Default\", \"Default\", \"Default\", \"Default\", \"Default\", \"Default\", \"Default\", \"Default\", \"Default\", \"Default\", \"Default\", \"Topic1\", \"Topic1\", \"Topic1\", \"Topic1\", \"Topic1\", \"Topic1\", \"Topic1\", \"Topic1\", \"Topic1\", \"Topic1\", \"Topic1\", \"Topic1\", \"Topic1\", \"Topic1\", \"Topic1\", \"Topic1\", \"Topic1\", \"Topic1\", \"Topic1\", \"Topic1\", \"Topic1\", \"Topic1\", \"Topic1\", \"Topic1\", \"Topic1\", \"Topic1\", \"Topic1\", \"Topic1\", \"Topic1\", \"Topic1\", \"Topic1\", \"Topic1\", \"Topic1\", \"Topic2\", \"Topic2\", \"Topic2\", \"Topic2\", \"Topic2\", \"Topic2\", \"Topic2\", \"Topic2\", \"Topic2\", \"Topic2\", \"Topic2\", \"Topic2\", \"Topic2\", \"Topic2\", \"Topic2\", \"Topic2\", \"Topic2\", \"Topic2\", \"Topic2\", \"Topic2\", \"Topic2\", \"Topic2\", \"Topic2\", \"Topic2\", \"Topic2\", \"Topic2\", \"Topic2\", \"Topic2\", \"Topic2\", \"Topic2\", \"Topic2\", \"Topic2\", \"Topic2\", \"Topic3\", \"Topic3\", \"Topic3\", \"Topic3\", \"Topic3\", \"Topic3\", \"Topic3\", \"Topic3\", \"Topic3\", \"Topic3\", \"Topic3\", \"Topic3\", \"Topic3\", \"Topic3\", \"Topic3\", \"Topic3\", \"Topic3\", \"Topic3\", \"Topic3\", \"Topic3\", \"Topic3\", \"Topic3\", \"Topic3\", \"Topic3\", \"Topic3\", \"Topic3\", \"Topic3\", \"Topic3\", \"Topic3\", \"Topic3\", \"Topic3\", \"Topic3\", \"Topic3\"], \"Freq\": [1.0, 2.0, 1.0, 1.0, 1.0, 1.0, 1.0, 1.0, 1.0, 1.0, 1.0, 1.0, 1.0, 1.0, 1.0, 1.0, 1.0, 1.0, 1.0, 1.0, 1.0, 1.0, 1.0, 1.0, 1.0, 1.0, 1.0, 1.0, 1.0, 1.0, 0.640731187639318, 0.6407286482962136, 0.6407284306382331, 0.6407269070323705, 0.6407160241333509, 0.640714935843449, 0.6406794575926456, 0.6406788046187044, 0.6406758299596391, 0.6406716944580116, 0.6406685021409659, 0.6406492031333715, 0.6406455755003649, 0.6406441244471623, 0.6406436165785414, 0.640636651523169, 0.6406169897522739, 0.6406116208554242, 0.6406100972495615, 0.6406074853537969, 0.6401456151194109, 0.6401381421954176, 0.6400801000673139, 0.6400549968469089, 0.6400272091780792, 0.6400146575678768, 0.6400134241726546, 0.6399912956113151, 0.6399802676069754, 0.6399799048436747, 1.129880424154711, 0.64342789746368, 0.64041347954061, 0.6755935137345238, 0.6755933438034103, 0.675592196768394, 0.6755918144233886, 0.6755882458700043, 0.6755879484905556, 0.675585442006631, 0.6755819159360251, 0.6755767330370623, 0.6755766480715055, 0.6755738866909106, 0.6755695534475155, 0.6755694684819586, 0.6755692985508451, 0.6755674293085963, 0.6755076560394104, 0.6755070612805131, 0.6755060841766103, 0.6755009437604258, 0.675498522242058, 0.6754978850003822, 0.6754935092742087, 0.6753657210768306, 0.6753590087978459, 0.6753555252100184, 0.6753513194149584, 0.6753279538868474, 0.6753271467140581, 0.6753262120929338, 0.6753147842255485, 1.187264763074444, 1.1867061995042554, 0.6768148511302765, 0.7652167021847827, 0.7652139559134273, 0.7652137842714676, 0.7652125255637631, 0.76521241113579, 0.765211209642072, 0.7652108663581526, 0.765182259364868, 0.7651804857312843, 0.7651792842375663, 0.7651769384641169, 0.7651752220445199, 0.7651743066207348, 0.765173620052896, 0.7651734484109363, 0.765119953333494, 0.7651121722313206, 0.765108396108207, 0.7651077667543548, 0.7651059359067846, 0.765105878692798, 0.7651044483431337, 0.7651027891375232, 0.7651023886396172, 0.7651019309277247, 0.7650963811710274, 0.7650878562870287, 0.7650384806166194, 0.7650343612095863, 0.7650319582221504, 1.3586952107363424, 1.3408700787927128, 1.3360333227961199], \"Term\": [\"system\", \"network\", \"behavioral\", \"implementation\", \"automobile\", \"macromodeling\", \"analog\", \"intake\", \"kernel\", \"interpolation\", \"hybrid\", \"regression\", \"image\", \"dynamic\", \"802.11-based\", \"association\", \"cross\", \"layer\", \"record\", \"facility\", \"database\", \"subtype\", \"bandwidth\", \"virtual\", \"classical\", \"allocation\", \"investigation\", \"performance\", \"constrain\", \"optimisation\", \"behavioral\", \"implementation\", \"automobile\", \"macromodeling\", \"analog\", \"intake\", \"kernel\", \"interpolation\", \"hybrid\", \"regression\", \"image\", \"dynamic\", \"802.11-based\", \"association\", \"cross\", \"layer\", \"record\", \"facility\", \"database\", \"subtype\", \"bandwidth\", \"virtual\", \"classical\", \"allocation\", \"investigation\", \"performance\", \"constrain\", \"optimisation\", \"algorithm\", \"path\", \"system\", \"decision\", \"base\", \"platform\", \"single\", \"processor\", \"estimation\", \"reconfigurable\", \"modelling\", \"heterogenous\", \"integrate\", \"exploit\", \"phase\", \"generation\", \"channel\", \"randomness\", \"scalable\", \"secret\", \"point\", \"802.11\", \"access\", \"user\", \"multihoming\", \"wlan\", \"cooperative\", \"interactive\", \"learning\", \"sharing\", \"distance\", \"energy\", \"localize\", \"minimum\", \"broadcasting\", \"network\", \"base\", \"wireless\", \"sensor\", \"input\", \"scavenge\", \"node\", \"frequency\", \"2-pin\", \"multi\", \"animal\", \"recording\", \"extend\", \"counting\", \"small\", \"32-channel\", \"neural\", \"headstage\", \"protocol\", \"bonding\", \"reliable\", \"transport\", \"stochastic\", \"inductor\", \"triangular\", \"spiral\", \"converter\", \"approximation\", \"switching\", \"class\", \"uncovering\", \"geotagged\", \"characterize\", \"architecture\", \"power\", \"base\"], \"Total\": [1.0, 2.0, 1.0, 1.0, 1.0, 1.0, 1.0, 1.0, 1.0, 1.0, 1.0, 1.0, 1.0, 1.0, 1.0, 1.0, 1.0, 1.0, 1.0, 1.0, 1.0, 1.0, 1.0, 1.0, 1.0, 1.0, 1.0, 1.0, 1.0, 1.0, 1.0014045770138909, 1.0014047861031135, 1.0014047441255123, 1.001405095727446, 1.0014060438096672, 1.0014060302763832, 1.001411821741468, 1.0014116881819508, 1.0014122994955215, 1.001412646260217, 1.0014132966178315, 1.0014130027055776, 1.0014134687224034, 1.0014136917005274, 1.0014140744756885, 1.0014148687316144, 1.0014178122298278, 1.0014185414442964, 1.0014190440411141, 1.0014185545461562, 1.0014292627408234, 1.0014296605348547, 1.0014325180862913, 1.0014343108859065, 1.0014354266156174, 1.0014363272925406, 1.001436352460835, 1.001437585222585, 1.0014383668139086, 1.0014379821652253, 1.988617749538124, 1.5750537144978396, 3.1631530018409855, 1.0275120033114415, 1.0275122392882365, 1.0275124472507329, 1.027512310018465, 1.0275121958088722, 1.0275128625248784, 1.0275123570989917, 1.0275121740497348, 1.0275115983166114, 1.0275116917442333, 1.0275115708663962, 1.0275119781743922, 1.0275120481709052, 1.0275123916354745, 1.0275127227553154, 1.0275130183909948, 1.0275132166525334, 1.0275133286847293, 1.0275134665197072, 1.0275144462902064, 1.0275136094384394, 1.027513885949225, 1.0275131940814943, 1.027513532652079, 1.027513594215927, 1.0275140380924528, 1.0275162325165264, 1.027515747527803, 1.0275162515828962, 1.027515692734132, 2.0154390305736154, 3.1631530018409855, 1.6015235350375714, 1.0947716097083948, 1.09477124614066, 1.09477127519702, 1.0947710509784199, 1.0947710195912839, 1.0947709673223374, 1.094770800608269, 1.0947663540972512, 1.0947661237001258, 1.0947659027133065, 1.094765556817292, 1.0947653534317539, 1.0947652482839823, 1.0947650392009567, 1.0947651202800666, 1.0947574587914852, 1.0947565983654952, 1.094755903143129, 1.0947558338479015, 1.0947556740826778, 1.0947557489963078, 1.0947555322440166, 1.0947553783388497, 1.0947553156459335, 1.0947547127515211, 1.0947543546528067, 1.0947528751104556, 1.0947459667640547, 1.094745476663867, 1.0947450672149002, 2.178096575203373, 2.176028644953077, 3.1631530018409855], \"loglift\": [30.0, 29.0, 28.0, 27.0, 26.0, 25.0, 24.0, 23.0, 22.0, 21.0, 20.0, 19.0, 18.0, 17.0, 16.0, 15.0, 14.0, 13.0, 12.0, 11.0, 10.0, 9.0, 8.0, 7.0, 6.0, 5.0, 4.0, 3.0, 2.0, 1.0, 0.8747, 0.8747, 0.8747, 0.8747, 0.8747, 0.8747, 0.8747, 0.8747, 0.8746, 0.8746, 0.8746, 0.8746, 0.8746, 0.8746, 0.8746, 0.8746, 0.8746, 0.8745, 0.8745, 0.8745, 0.8738, 0.8738, 0.8737, 0.8737, 0.8736, 0.8736, 0.8736, 0.8736, 0.8735, 0.8735, 0.756, 0.4261, -0.2759, 0.7441, 0.7441, 0.7441, 0.7441, 0.744, 0.744, 0.744, 0.744, 0.744, 0.744, 0.744, 0.744, 0.744, 0.744, 0.744, 0.7439, 0.7439, 0.7439, 0.7439, 0.7439, 0.7439, 0.7439, 0.7437, 0.7437, 0.7437, 0.7437, 0.7437, 0.7437, 0.7437, 0.7436, 0.6342, 0.183, 0.302, 0.5075, 0.5075, 0.5075, 0.5075, 0.5075, 0.5075, 0.5075, 0.5075, 0.5075, 0.5075, 0.5075, 0.5075, 0.5075, 0.5075, 0.5075, 0.5074, 0.5074, 0.5074, 0.5074, 0.5074, 0.5074, 0.5074, 0.5074, 0.5074, 0.5074, 0.5074, 0.5074, 0.5073, 0.5073, 0.5073, 0.3937, 0.3815, 0.0038], \"logprob\": [30.0, 29.0, 28.0, 27.0, 26.0, 25.0, 24.0, 23.0, 22.0, 21.0, 20.0, 19.0, 18.0, 17.0, 16.0, 15.0, 14.0, 13.0, 12.0, 11.0, 10.0, 9.0, 8.0, 7.0, 6.0, 5.0, 4.0, 3.0, 2.0, 1.0, -4.107500076293945, -4.107500076293945, -4.107500076293945, -4.107500076293945, -4.107500076293945, -4.107500076293945, -4.107500076293945, -4.107500076293945, -4.107500076293945, -4.107600212097168, -4.107600212097168, -4.107600212097168, -4.107600212097168, -4.107600212097168, -4.107600212097168, -4.107600212097168, -4.107600212097168, -4.107600212097168, -4.107600212097168, -4.107699871063232, -4.108399868011475, -4.108399868011475, -4.108500003814697, -4.108500003814697, -4.10860013961792, -4.10860013961792, -4.10860013961792, -4.10860013961792, -4.10860013961792, -4.10860013961792, -3.5401999950408936, -4.103300094604492, -4.107999801635742, -4.212399959564209, -4.212399959564209, -4.212399959564209, -4.212399959564209, -4.212399959564209, -4.212399959564209, -4.212399959564209, -4.212399959564209, -4.212399959564209, -4.212399959564209, -4.212399959564209, -4.212399959564209, -4.212399959564209, -4.212399959564209, -4.212500095367432, -4.212500095367432, -4.212500095367432, -4.212500095367432, -4.212500095367432, -4.212600231170654, -4.212600231170654, -4.212600231170654, -4.212699890136719, -4.212800025939941, -4.212800025939941, -4.212800025939941, -4.212800025939941, -4.212800025939941, -4.212800025939941, -4.212800025939941, -3.6486001014709473, -3.6491000652313232, -4.210599899291992, -4.385499954223633, -4.385499954223633, -4.385499954223633, -4.385499954223633, -4.3856000900268555, -4.3856000900268555, -4.3856000900268555, -4.3856000900268555, -4.3856000900268555, -4.3856000900268555, -4.3856000900268555, -4.3856000900268555, -4.3856000900268555, -4.3856000900268555, -4.3856000900268555, -4.385700225830078, -4.385700225830078, -4.385700225830078, -4.385700225830078, -4.385700225830078, -4.385700225830078, -4.385700225830078, -4.385700225830078, -4.385700225830078, -4.385700225830078, -4.385700225830078, -4.385700225830078, -4.385799884796143, -4.385799884796143, -4.385799884796143, -3.8113999366760254, -3.8245999813079834, -3.828200101852417]}, \"token.table\": {\"Topic\": [3, 3, 2, 1, 2, 1, 1, 1, 3, 3, 2, 3, 1, 1, 1, 1, 2, 3, 1, 3, 2, 2, 3, 3, 1, 1, 3, 2, 3, 1, 1, 1, 3, 2, 1, 2, 2, 2, 3, 1, 3, 2, 3, 3, 2, 1, 1, 1, 3, 3, 1, 2, 2, 1, 1, 1, 1, 2, 2, 1, 2, 2, 3, 2, 1, 2, 3, 3, 1, 1, 1, 2, 2, 2, 2, 3, 2, 3, 2, 2, 1, 3, 1, 3, 2, 3, 2, 3, 2, 2, 3, 3, 3, 1, 3, 1, 2, 3, 3, 3, 2, 1, 2, 3, 2], \"Freq\": [0.9134330648590961, 0.9134378366206596, 0.9732234912343348, 0.9985885263514512, 0.9732233851214875, 0.9985636991136211, 0.9985677434153043, 0.9985959303737391, 0.9134369139656325, 0.9134466272235835, 0.45911646498348135, 0.45911646498348135, 0.9985883040023881, 0.9985972264124443, 0.9985727771356394, 0.31614025607297225, 0.31614025607297225, 0.31614025607297225, 0.9985973930555828, 0.9134450538987665, 0.9732211459847245, 0.9732246642776141, 0.9134546753830666, 0.9134481605258215, 0.9985695310862994, 0.9985657076884563, 0.9134461241779626, 0.9732228573010403, 0.9134375791902013, 0.9985879223073344, 0.9985829667914166, 0.6348989820444448, 0.6348989820444448, 0.9732227131966666, 0.9985889910538808, 0.9732206347250248, 0.9732243499662104, 0.9732250240662158, 0.9134372905856536, 0.9985834679651022, 0.9134330212479819, 0.973225050066153, 0.9134543337392041, 0.9134379434231304, 0.9732243053731556, 0.9985896922813581, 0.9985886979705534, 0.9985971845525324, 0.9134457625975643, 0.9134328322243097, 0.9985959438690467, 0.9732244787511363, 0.9732235126128101, 0.9985903018722363, 0.9985666308805667, 0.9985901686890286, 0.9985871302935551, 0.9732231919310447, 0.9732210940863868, 0.9985968757963776, 0.9732206166661528, 0.9732238266514038, 0.9134332039586613, 0.9732223265672361, 0.4961698095701706, 0.4961698095701706, 0.9134380110730212, 0.9134329950598155, 0.9985644784619648, 0.9985640826583028, 0.9985657327846057, 0.9732249355746684, 0.97322464046865, 0.9732236790205557, 0.45955277395788313, 0.45955277395788313, 0.9732242199845397, 0.9134443359754871, 0.9732245979792841, 0.9732244581416241, 0.9985841951156522, 0.9134371062014303, 0.9985893464941824, 0.9134456339800703, 0.97322427266139, 0.9134328079808592, 0.9732239590362065, 0.9134325288782029, 0.9732231336200257, 0.9732244169594569, 0.9134377488886605, 0.9134460718680105, 0.9134458251042399, 0.9985834549003347, 0.9134469260157843, 0.5028618497608501, 0.5028618497608501, 0.9134456917988287, 0.913445943452062, 0.9134539248003689, 0.9732232545692096, 0.9985723804764369, 0.6244054352760668, 0.6244054352760668, 0.9732231192018214], \"Term\": [\"2-pin\", \"32-channel\", \"802.11\", \"802.11-based\", \"access\", \"algorithm\", \"allocation\", \"analog\", \"animal\", \"approximation\", \"architecture\", \"architecture\", \"association\", \"automobile\", \"bandwidth\", \"base\", \"base\", \"base\", \"behavioral\", \"bonding\", \"broadcasting\", \"channel\", \"characterize\", \"class\", \"classical\", \"constrain\", \"converter\", \"cooperative\", \"counting\", \"cross\", \"database\", \"decision\", \"decision\", \"distance\", \"dynamic\", \"energy\", \"estimation\", \"exploit\", \"extend\", \"facility\", \"frequency\", \"generation\", \"geotagged\", \"headstage\", \"heterogenous\", \"hybrid\", \"image\", \"implementation\", \"inductor\", \"input\", \"intake\", \"integrate\", \"interactive\", \"interpolation\", \"investigation\", \"kernel\", \"layer\", \"learning\", \"localize\", \"macromodeling\", \"minimum\", \"modelling\", \"multi\", \"multihoming\", \"network\", \"network\", \"neural\", \"node\", \"optimisation\", \"path\", \"performance\", \"phase\", \"platform\", \"point\", \"power\", \"power\", \"processor\", \"protocol\", \"randomness\", \"reconfigurable\", \"record\", \"recording\", \"regression\", \"reliable\", \"scalable\", \"scavenge\", \"secret\", \"sensor\", \"sharing\", \"single\", \"small\", \"spiral\", \"stochastic\", \"subtype\", \"switching\", \"system\", \"system\", \"transport\", \"triangular\", \"uncovering\", \"user\", \"virtual\", \"wireless\", \"wireless\", \"wlan\"]}, \"R\": 30, \"lambda.step\": 0.01, \"plot.opts\": {\"xlab\": \"PC1\", \"ylab\": \"PC2\"}, \"topic.order\": [1, 2, 3]};\n",
       "\n",
       "function LDAvis_load_lib(url, callback){\n",
       "  var s = document.createElement('script');\n",
       "  s.src = url;\n",
       "  s.async = true;\n",
       "  s.onreadystatechange = s.onload = callback;\n",
       "  s.onerror = function(){console.warn(\"failed to load library \" + url);};\n",
       "  document.getElementsByTagName(\"head\")[0].appendChild(s);\n",
       "}\n",
       "\n",
       "if(typeof(LDAvis) !== \"undefined\"){\n",
       "   // already loaded: just create the visualization\n",
       "   !function(LDAvis){\n",
       "       new LDAvis(\"#\" + \"ldavis_el1118416324148455922106506401\", ldavis_el1118416324148455922106506401_data);\n",
       "   }(LDAvis);\n",
       "}else if(typeof define === \"function\" && define.amd){\n",
       "   // require.js is available: use it to load d3/LDAvis\n",
       "   require.config({paths: {d3: \"https://cdnjs.cloudflare.com/ajax/libs/d3/3.5.5/d3.min\"}});\n",
       "   require([\"d3\"], function(d3){\n",
       "      window.d3 = d3;\n",
       "      LDAvis_load_lib(\"https://cdn.rawgit.com/bmabey/pyLDAvis/files/ldavis.v1.0.0.js\", function(){\n",
       "        new LDAvis(\"#\" + \"ldavis_el1118416324148455922106506401\", ldavis_el1118416324148455922106506401_data);\n",
       "      });\n",
       "    });\n",
       "}else{\n",
       "    // require.js not available: dynamically load d3 & LDAvis\n",
       "    LDAvis_load_lib(\"https://cdnjs.cloudflare.com/ajax/libs/d3/3.5.5/d3.min.js\", function(){\n",
       "         LDAvis_load_lib(\"https://cdn.rawgit.com/bmabey/pyLDAvis/files/ldavis.v1.0.0.js\", function(){\n",
       "                 new LDAvis(\"#\" + \"ldavis_el1118416324148455922106506401\", ldavis_el1118416324148455922106506401_data);\n",
       "            })\n",
       "         });\n",
       "}\n",
       "</script>"
      ],
      "text/plain": [
       "<IPython.core.display.HTML object>"
      ]
     },
     "execution_count": 58,
     "metadata": {},
     "output_type": "execute_result"
    }
   ],
   "source": [
    "lda3 = gensim.models.ldamodel.LdaModel.load('model3.gensim')\n",
    "lda_display3 = pyLDAvis.gensim.prepare(lda3, corpus, dictionary, sort_topics=False)\n",
    "pyLDAvis.display(lda_display3)"
   ]
  },
  {
   "cell_type": "code",
   "execution_count": 59,
   "metadata": {},
   "outputs": [
    {
     "data": {
      "text/html": [
       "\n",
       "<link rel=\"stylesheet\" type=\"text/css\" href=\"https://cdn.rawgit.com/bmabey/pyLDAvis/files/ldavis.v1.0.0.css\">\n",
       "\n",
       "\n",
       "<div id=\"ldavis_el1118416324153540963967490062\"></div>\n",
       "<script type=\"text/javascript\">\n",
       "\n",
       "var ldavis_el1118416324153540963967490062_data = {\"mdsDat\": {\"Freq\": [3.4794497952803676, 10.358114013204132, 4.810171449571526, 13.88062983564669, 4.141556622946001, 22.821410557585224, 7.699388734813012, 11.89460746741364, 14.563390434539746, 6.351281088999658], \"cluster\": [1, 1, 1, 1, 1, 1, 1, 1, 1, 1], \"topics\": [1, 2, 3, 4, 5, 6, 7, 8, 9, 10], \"x\": [-0.009292095660301985, 0.04286022942493656, -0.012610675776021223, 0.09124628001262713, 0.0015435540709974728, -0.19076514463310656, -0.006108731207768454, 0.024529312891079146, 0.08840387140945336, -0.029806600531895346], \"y\": [0.011217376365079, -0.05497001823797303, 0.018875473267768006, 0.15348799706211494, -0.0008975422630622441, 0.0038317883185594974, 0.028078047401684375, -0.10810076794932379, -0.07856415734704626, 0.027041803382199414]}, \"tinfo\": {\"Category\": [\"Default\", \"Default\", \"Default\", \"Default\", \"Default\", \"Default\", \"Default\", \"Default\", \"Default\", \"Default\", \"Default\", \"Default\", \"Default\", \"Default\", \"Default\", \"Default\", \"Default\", \"Default\", \"Default\", \"Default\", \"Default\", \"Default\", \"Default\", \"Default\", \"Default\", \"Default\", \"Default\", \"Default\", \"Default\", \"Default\", \"Topic1\", \"Topic1\", \"Topic1\", \"Topic1\", \"Topic1\", \"Topic1\", \"Topic1\", \"Topic1\", \"Topic1\", \"Topic1\", \"Topic1\", \"Topic1\", \"Topic1\", \"Topic1\", \"Topic1\", \"Topic1\", \"Topic1\", \"Topic1\", \"Topic1\", \"Topic1\", \"Topic1\", \"Topic1\", \"Topic1\", \"Topic1\", \"Topic1\", \"Topic1\", \"Topic1\", \"Topic1\", \"Topic1\", \"Topic1\", \"Topic1\", \"Topic1\", \"Topic1\", \"Topic1\", \"Topic1\", \"Topic1\", \"Topic1\", \"Topic1\", \"Topic1\", \"Topic1\", \"Topic1\", \"Topic1\", \"Topic1\", \"Topic1\", \"Topic1\", \"Topic1\", \"Topic1\", \"Topic1\", \"Topic1\", \"Topic1\", \"Topic1\", \"Topic1\", \"Topic1\", \"Topic1\", \"Topic2\", \"Topic2\", \"Topic2\", \"Topic2\", \"Topic2\", \"Topic2\", \"Topic2\", \"Topic2\", \"Topic2\", \"Topic2\", \"Topic2\", \"Topic2\", \"Topic2\", \"Topic2\", \"Topic2\", \"Topic2\", \"Topic2\", \"Topic2\", \"Topic2\", \"Topic2\", \"Topic2\", \"Topic2\", \"Topic2\", \"Topic2\", \"Topic2\", \"Topic2\", \"Topic2\", \"Topic2\", \"Topic2\", \"Topic2\", \"Topic2\", \"Topic2\", \"Topic2\", \"Topic2\", \"Topic2\", \"Topic2\", \"Topic2\", \"Topic2\", \"Topic2\", \"Topic2\", \"Topic2\", \"Topic2\", \"Topic2\", \"Topic2\", \"Topic2\", \"Topic3\", \"Topic3\", \"Topic3\", \"Topic3\", \"Topic3\", \"Topic3\", \"Topic3\", \"Topic3\", \"Topic3\", \"Topic3\", \"Topic3\", \"Topic3\", \"Topic3\", \"Topic3\", \"Topic3\", \"Topic3\", \"Topic3\", \"Topic3\", \"Topic3\", \"Topic3\", \"Topic3\", \"Topic3\", \"Topic3\", \"Topic3\", \"Topic3\", \"Topic3\", \"Topic3\", \"Topic3\", \"Topic3\", \"Topic3\", \"Topic3\", \"Topic3\", \"Topic3\", \"Topic3\", \"Topic3\", \"Topic3\", \"Topic3\", \"Topic3\", \"Topic3\", \"Topic3\", \"Topic3\", \"Topic3\", \"Topic3\", \"Topic3\", \"Topic3\", \"Topic3\", \"Topic3\", \"Topic3\", \"Topic3\", \"Topic3\", \"Topic3\", \"Topic3\", \"Topic3\", \"Topic3\", \"Topic4\", \"Topic4\", \"Topic4\", \"Topic4\", \"Topic4\", \"Topic4\", \"Topic4\", \"Topic4\", \"Topic4\", \"Topic4\", \"Topic4\", \"Topic4\", \"Topic4\", \"Topic4\", \"Topic4\", \"Topic4\", \"Topic4\", \"Topic4\", \"Topic4\", \"Topic4\", \"Topic4\", \"Topic4\", \"Topic4\", \"Topic4\", \"Topic4\", \"Topic4\", \"Topic4\", \"Topic4\", \"Topic4\", \"Topic4\", \"Topic4\", \"Topic4\", \"Topic4\", \"Topic4\", \"Topic4\", \"Topic4\", \"Topic4\", \"Topic4\", \"Topic4\", \"Topic4\", \"Topic5\", \"Topic5\", \"Topic5\", \"Topic5\", \"Topic5\", \"Topic5\", \"Topic5\", \"Topic5\", \"Topic5\", \"Topic5\", \"Topic5\", \"Topic5\", \"Topic5\", \"Topic5\", \"Topic5\", \"Topic5\", \"Topic5\", \"Topic5\", \"Topic5\", \"Topic5\", \"Topic5\", \"Topic5\", \"Topic5\", \"Topic5\", \"Topic5\", \"Topic5\", \"Topic5\", \"Topic5\", \"Topic5\", \"Topic5\", \"Topic5\", \"Topic5\", \"Topic5\", \"Topic5\", \"Topic5\", \"Topic5\", \"Topic5\", \"Topic5\", \"Topic5\", \"Topic5\", \"Topic5\", \"Topic5\", \"Topic5\", \"Topic5\", \"Topic5\", \"Topic5\", \"Topic5\", \"Topic5\", \"Topic5\", \"Topic5\", \"Topic5\", \"Topic5\", \"Topic5\", \"Topic5\", \"Topic5\", \"Topic6\", \"Topic6\", \"Topic6\", \"Topic6\", \"Topic6\", \"Topic6\", \"Topic6\", \"Topic6\", \"Topic6\", \"Topic6\", \"Topic6\", \"Topic6\", \"Topic6\", \"Topic6\", \"Topic6\", \"Topic6\", \"Topic6\", \"Topic6\", \"Topic6\", \"Topic6\", \"Topic6\", \"Topic6\", \"Topic6\", \"Topic6\", \"Topic6\", \"Topic6\", \"Topic6\", \"Topic6\", \"Topic6\", \"Topic6\", \"Topic6\", \"Topic6\", \"Topic6\", \"Topic7\", \"Topic7\", \"Topic7\", \"Topic7\", \"Topic7\", \"Topic7\", \"Topic7\", \"Topic7\", \"Topic7\", \"Topic7\", \"Topic7\", \"Topic7\", \"Topic7\", \"Topic7\", \"Topic7\", \"Topic7\", \"Topic7\", \"Topic7\", \"Topic7\", \"Topic7\", \"Topic7\", \"Topic7\", \"Topic7\", \"Topic7\", \"Topic7\", \"Topic7\", \"Topic7\", \"Topic7\", \"Topic7\", \"Topic7\", \"Topic7\", \"Topic7\", \"Topic7\", \"Topic7\", \"Topic7\", \"Topic7\", \"Topic7\", \"Topic7\", \"Topic7\", \"Topic7\", \"Topic7\", \"Topic7\", \"Topic8\", \"Topic8\", \"Topic8\", \"Topic8\", \"Topic8\", \"Topic8\", \"Topic8\", \"Topic8\", \"Topic8\", \"Topic8\", \"Topic8\", \"Topic8\", \"Topic8\", \"Topic8\", \"Topic8\", \"Topic8\", \"Topic8\", \"Topic8\", \"Topic8\", \"Topic8\", \"Topic8\", \"Topic8\", \"Topic8\", \"Topic8\", \"Topic8\", \"Topic8\", \"Topic8\", \"Topic8\", \"Topic8\", \"Topic8\", \"Topic8\", \"Topic8\", \"Topic8\", \"Topic8\", \"Topic8\", \"Topic8\", \"Topic8\", \"Topic8\", \"Topic8\", \"Topic8\", \"Topic8\", \"Topic8\", \"Topic9\", \"Topic9\", \"Topic9\", \"Topic9\", \"Topic9\", \"Topic9\", \"Topic9\", \"Topic9\", \"Topic9\", \"Topic9\", \"Topic9\", \"Topic9\", \"Topic9\", \"Topic9\", \"Topic9\", \"Topic9\", \"Topic9\", \"Topic9\", \"Topic9\", \"Topic9\", \"Topic9\", \"Topic9\", \"Topic9\", \"Topic9\", \"Topic9\", \"Topic9\", \"Topic9\", \"Topic9\", \"Topic9\", \"Topic9\", \"Topic9\", \"Topic9\", \"Topic9\", \"Topic9\", \"Topic9\", \"Topic9\", \"Topic9\", \"Topic9\", \"Topic10\", \"Topic10\", \"Topic10\", \"Topic10\", \"Topic10\", \"Topic10\", \"Topic10\", \"Topic10\", \"Topic10\", \"Topic10\", \"Topic10\", \"Topic10\", \"Topic10\", \"Topic10\", \"Topic10\", \"Topic10\", \"Topic10\", \"Topic10\", \"Topic10\", \"Topic10\", \"Topic10\", \"Topic10\", \"Topic10\", \"Topic10\", \"Topic10\", \"Topic10\", \"Topic10\", \"Topic10\", \"Topic10\", \"Topic10\", \"Topic10\", \"Topic10\", \"Topic10\", \"Topic10\", \"Topic10\", \"Topic10\", \"Topic10\", \"Topic10\", \"Topic10\", \"Topic10\", \"Topic10\", \"Topic10\", \"Topic10\"], \"Freq\": [1.0, 1.0, 2.0, 0.0, 0.0, 0.0, 0.0, 3.0, 0.0, 0.0, 0.0, 0.0, 1.0, 0.0, 0.0, 0.0, 0.0, 0.0, 2.0, 0.0, 0.0, 0.0, 0.0, 0.0, 0.0, 1.0, 0.0, 0.0, 0.0, 0.0, 0.3248833972625725, 0.3248833972625725, 0.3248833972625725, 0.32488335941364793, 0.029534861823372265, 0.029534861823372265, 0.02953485945781448, 0.02953485945781448, 0.029534861823372265, 0.029534861823372265, 0.02953485945781448, 0.02953485945781448, 0.02953485945781448, 0.029534861823372265, 0.029534861823372265, 0.029534861823372265, 0.02953485945781448, 0.02953485945781448, 0.02953485945781448, 0.02953486418893005, 0.029534861823372265, 0.02953486418893005, 0.02953485945781448, 0.02953485945781448, 0.02953485945781448, 0.029534861823372265, 0.02953485945781448, 0.02953485945781448, 0.02953485945781448, 0.02953485945781448, 0.02953486418893005, 0.02953486418893005, 0.02953486418893005, 0.029534868920045615, 0.029534866554487834, 0.029534866554487834, 0.02953486418893005, 0.02953486418893005, 0.02953485945781448, 0.02953485945781448, 0.02953485945781448, 0.029534861823372265, 0.02953485945781448, 0.02953485945781448, 0.02953485945781448, 0.029534861823372265, 0.029534861823372265, 0.02953485945781448, 0.029534861823372265, 0.02953485945781448, 0.02953485945781448, 0.02953485945781448, 0.02953485945781448, 0.02953485945781448, 0.5896113605706839, 0.5896113605706839, 0.5896113605706839, 0.5896113605706839, 0.5896113605706839, 0.5896113605706839, 0.5896113605706839, 0.5896113605706839, 0.5896113605706839, 0.5896113605706839, 0.5896113042336911, 0.5896120929515895, 0.58960983947188, 0.5906494823358587, 0.5906973687796856, 0.053601053585428805, 0.05360104654330471, 0.05360104654330471, 0.05360104654330471, 0.05360104654330471, 0.05360104302224267, 0.05360104302224267, 0.05360104302224267, 0.05360104654330471, 0.05360104302224267, 0.05360104302224267, 0.05360104302224267, 0.05360104302224267, 0.053601053585428805, 0.05360104654330471, 0.05445093585255724, 0.05434281812136979, 0.05430652653486067, 0.054221580912998585, 0.054221112611746454, 0.0542125458677883, 0.054170729734928855, 0.05411146321856895, 0.053601053585428805, 0.05360104654330471, 0.05360104654330471, 0.053601053585428805, 0.053601053585428805, 0.05360104654330471, 0.05360104654330471, 0.40235077863229607, 0.40235077863229607, 0.40235077863229607, 0.40235077863229607, 0.40235077863229607, 0.40234952284881115, 0.036577359268779926, 0.03657735599851043, 0.03657735272824094, 0.03657735272824094, 0.03657735599851043, 0.03657735272824094, 0.03657735272824094, 0.03657735272824094, 0.036577359268779926, 0.03657735599851043, 0.03657735599851043, 0.03657735599851043, 0.03657735272824094, 0.03657735272824094, 0.03657736253904942, 0.03657735599851043, 0.03657735272824094, 0.03657735272824094, 0.03657735272824094, 0.03657735599851043, 0.03657735272824094, 0.03657735272824094, 0.03657735272824094, 0.03657735272824094, 0.03657735272824094, 0.03657735272824094, 0.03657735272824094, 0.03657735272824094, 0.03657735272824094, 0.03657735272824094, 0.03657735599851043, 0.03657735272824094, 0.03657735272824094, 0.03657735272824094, 0.03657735272824094, 0.03657735272824094, 0.03657736253904942, 0.03657735272824094, 0.03657735272824094, 0.03657735272824094, 0.03657735272824094, 0.03657735272824094, 0.03657735272824094, 0.036577359268779926, 0.03657735272824094, 0.03657735272824094, 0.03657735272824094, 0.03657736253904942, 0.651821162378369, 0.651821162378369, 0.651821162378369, 0.651821162378369, 0.6518210868826811, 0.6518210868826811, 0.6518210868826811, 0.6518210868826811, 0.6518210868826811, 0.6518210868826811, 0.6518210868826811, 0.6518210868826811, 0.6518210868826811, 0.6518210868826811, 0.6518210868826811, 0.6518210868826811, 0.6518210868826811, 0.6518210868826811, 1.244393535420041, 0.6518204074214905, 0.0592564898968575, 0.059256485178377005, 0.059256485178377005, 0.05925648045989652, 0.059256485178377005, 0.059256485178377005, 0.05925648045989652, 0.05925648045989652, 0.059256485178377005, 0.05925648045989652, 0.05925648045989652, 0.05925648045989652, 0.05925648045989652, 0.059256485178377005, 0.05925648045989652, 0.05925648045989652, 0.05925649461533799, 0.05925648045989652, 0.05925648045989652, 0.05925648045989652, 0.3654579657026993, 0.3654579657026993, 0.3654579657026993, 0.3654579657026993, 0.3654612093906615, 0.033223465506024896, 0.033223462690323544, 0.03322345987462219, 0.03322345987462219, 0.033223462690323544, 0.03322345987462219, 0.03322345987462219, 0.03322345987462219, 0.03322345987462219, 0.033223465506024896, 0.033223462690323544, 0.03322345987462219, 0.03322345987462219, 0.03322345987462219, 0.03322345987462219, 0.033223468321726256, 0.033223462690323544, 0.033223462690323544, 0.03322345987462219, 0.03322345987462219, 0.03322345987462219, 0.033223462690323544, 0.03322345987462219, 0.03322345987462219, 0.03322345987462219, 0.033223471137427615, 0.033223462690323544, 0.03322345987462219, 0.03322345987462219, 0.03322345987462219, 0.03322345987462219, 0.033223462690323544, 0.03322345987462219, 0.03322345987462219, 0.03322345987462219, 0.03322345987462219, 0.03322345987462219, 0.033223468321726256, 0.03322345987462219, 0.03322345987462219, 0.03322345987462219, 0.03322345987462219, 0.03322345987462219, 0.03322345987462219, 0.033223462690323544, 0.03322345987462219, 0.03322345987462219, 0.03322345987462219, 0.033223465506024896, 0.03322345987462219, 0.7603982951671199, 0.7603982951671199, 0.7603982951671199, 0.7603982951671199, 0.7603982951671199, 0.7603982951671199, 0.7603982951671199, 0.7603982951671199, 0.7603982951671199, 0.7603982951671199, 0.7603982951671199, 0.7603982951671199, 0.7603982951671199, 0.7603982951671199, 0.7603982951671199, 0.7603982331051634, 0.7603982331051634, 0.7603982331051634, 0.7603982331051634, 0.7603982331051634, 0.7603982331051634, 0.7603982331051634, 0.7603982331051634, 0.7603982331051634, 0.7603982331051634, 0.7603982331051634, 0.7603982331051634, 0.7603982331051634, 0.7603982331051634, 0.7603982331051634, 0.7603982331051634, 0.7603982331051634, 0.7603982331051634, 0.5109593615012297, 0.5109593615012297, 0.5109593615012297, 0.5109593615012297, 0.5109593196248411, 0.5109593196248411, 0.5109593196248411, 0.5109593615012297, 0.5109593615012297, 0.5109593196248411, 0.5109592777484525, 0.04645086579747594, 0.04645086579747594, 0.04645086579747594, 0.04645086579747594, 0.04645086579747594, 0.04645086056292737, 0.04645086056292737, 0.04645086056292737, 0.04645086056292737, 0.04645086056292737, 0.04645086056292737, 0.04645086056292737, 0.04645086056292737, 0.04645086579747594, 0.04645086579747594, 0.04645086579747594, 0.04645086056292737, 0.04645086056292737, 0.04645086056292737, 0.04645087103202451, 0.04645086579747594, 0.04645086579747594, 0.04645086579747594, 0.04645086579747594, 0.04645086579747594, 0.04645086579747594, 0.04645086579747594, 0.04645086579747594, 0.04645086579747594, 0.04645087103202451, 0.04645086579747594, 0.612266864955024, 0.6122668002611605, 0.6122668002611605, 0.6122668002611605, 0.6122668002611605, 0.6122668002611605, 0.6122668002611605, 0.6122668002611605, 0.6122668002611605, 0.6122668002611605, 0.6122668002611605, 0.6122668002611605, 0.6122668002611605, 0.6122668002611605, 0.6122668002611605, 1.16888484481883, 0.6122655710777533, 0.05566064320091641, 0.05566063915754994, 0.05566063915754994, 0.05566063915754994, 0.05566063915754994, 0.05566063915754994, 0.05566063511418347, 0.05566063511418347, 0.05566063915754994, 0.05566063511418347, 0.05566063511418347, 0.05566063511418347, 0.05566063511418347, 0.05566064320091641, 0.055660647244282886, 0.055660651287649354, 0.055660647244282886, 0.05566064320091641, 0.05566063511418347, 0.05566063915754994, 0.05566063511418347, 0.05566063915754994, 0.05566063511418347, 0.05566063511418347, 0.05566063511418347, 0.664714251575469, 0.664714251575469, 0.664714251575469, 0.664714251575469, 0.664714251575469, 0.664714251575469, 0.664714251575469, 0.664714251575469, 0.664714251575469, 0.664714251575469, 0.6641387969502335, 0.6640720236193217, 0.664024894162747, 0.664015349457676, 0.6640147553888956, 0.6639189518969173, 0.6638781195694143, 0.6637561374465151, 0.6647102119077627, 0.6635454410524164, 0.6647064098675685, 0.6634825489708697, 0.06042859217780428, 0.06042858722723111, 0.06042858722723111, 0.06042858227665794, 0.06042858722723111, 0.06042858227665794, 0.06042858227665794, 0.06042858227665794, 0.06042858227665794, 0.06042858227665794, 0.06042858227665794, 0.06042858227665794, 0.06042858227665794, 0.06042858722723111, 0.06042858227665794, 0.06042858227665794, 0.8771642670013402, 0.4594662041305829, 0.4594662041305829, 0.4594662041305829, 0.4594662041305829, 0.4594662041305829, 0.4594662041305829, 0.45947003852943685, 0.04176967415576387, 0.041769669837747145, 0.041769669837747145, 0.041769669837747145, 0.041769669837747145, 0.041769669837747145, 0.041769665519730416, 0.041769665519730416, 0.041769669837747145, 0.041769665519730416, 0.041769665519730416, 0.041769665519730416, 0.041769665519730416, 0.04176967415576387, 0.041769669837747145, 0.041769669837747145, 0.041769669837747145, 0.041769665519730416, 0.041769665519730416, 0.041769665519730416, 0.041769665519730416, 0.041769665519730416, 0.041769669837747145, 0.041769669837747145, 0.041769669837747145, 0.041769678473780596, 0.041769669837747145, 0.041769669837747145, 0.041769669837747145, 0.041769669837747145, 0.041769669837747145, 0.041769669837747145, 0.04176967415576387, 0.041769669837747145, 0.041769669837747145], \"Term\": [\"architecture\", \"system\", \"network\", \"depth\", \"filter\", \"expansion\", \"adaptive\", \"base\", \"database\", \"record\", \"facility\", \"subtype\", \"decision\", \"spectrum\", \"spurious\", \"reducing\", \"sensing\", \"tone\", \"power\", \"leboned\", \"metadata\", \"parallelizable\", \"equalizer\", \"efficient\", \"feedforward\", \"wireless\", \"issue\", \"challenge\", \"extend\", \"animal\", \"expansion\", \"depth\", \"filter\", \"adaptive\", \"record\", \"database\", \"subtype\", \"facility\", \"tone\", \"spectrum\", \"spurious\", \"sensing\", \"reducing\", \"parallelizable\", \"metadata\", \"leboned\", \"feedforward\", \"efficient\", \"equalizer\", \"result\", \"extend\", \"issue\", \"neural\", \"recording\", \"32-channel\", \"challenge\", \"counting\", \"headstage\", \"small\", \"animal\", \"shading\", \"decision\", \"system\", \"architecture\", \"base\", \"network\", \"patch\", \"power\", \"scalable\", \"randomness\", \"phase\", \"wireless\", \"generation\", \"exploit\", \"secret\", \"cross\", \"802.11-based\", \"node\", \"reliable\", \"protocol\", \"class\", \"approximation\", \"sensor\", \"scavenge\", \"scavenge\", \"sensor\", \"frequency\", \"input\", \"multi\", \"node\", \"2-pin\", \"learning\", \"interactive\", \"distance\", \"sharing\", \"wireless\", \"system\", \"power\", \"base\", \"adaptive\", \"expansion\", \"depth\", \"filter\", \"database\", \"subtype\", \"facility\", \"record\", \"tone\", \"reducing\", \"sensing\", \"spurious\", \"spectrum\", \"leboned\", \"equalizer\", \"integrate\", \"estimation\", \"modelling\", \"single\", \"reconfigurable\", \"heterogenous\", \"processor\", \"platform\", \"result\", \"characterize\", \"within\", \"patch\", \"shading\", \"challenge\", \"issue\", \"reducing\", \"sensing\", \"spurious\", \"tone\", \"spectrum\", \"architecture\", \"adaptive\", \"depth\", \"expansion\", \"filter\", \"record\", \"subtype\", \"facility\", \"database\", \"leboned\", \"efficient\", \"parallelizable\", \"metadata\", \"feedforward\", \"equalizer\", \"result\", \"challenge\", \"neural\", \"32-channel\", \"recording\", \"issue\", \"extend\", \"headstage\", \"small\", \"counting\", \"secret\", \"layer\", \"dynamic\", \"cross\", \"association\", \"802.11-based\", \"wireless\", \"regression\", \"scalable\", \"frequency\", \"randomness\", \"phase\", \"network\", \"generation\", \"2-pin\", \"node\", \"input\", \"multi\", \"channel\", \"power\", \"scavenge\", \"sensor\", \"approximation\", \"base\", \"generation\", \"secret\", \"scalable\", \"channel\", \"exploit\", \"dynamic\", \"association\", \"randomness\", \"locally\", \"region\", \"characterize\", \"uncovering\", \"phase\", \"802.11-based\", \"within\", \"layer\", \"cross\", \"geotagged\", \"network\", \"wireless\", \"adaptive\", \"expansion\", \"filter\", \"depth\", \"facility\", \"record\", \"subtype\", \"database\", \"spectrum\", \"spurious\", \"2-pin\", \"transport\", \"stochastic\", \"reliable\", \"protocol\", \"class\", \"base\", \"approximation\", \"sensor\", \"scavenge\", \"subtype\", \"facility\", \"record\", \"database\", \"system\", \"adaptive\", \"depth\", \"expansion\", \"filter\", \"spectrum\", \"reducing\", \"sensing\", \"spurious\", \"tone\", \"leboned\", \"metadata\", \"feedforward\", \"efficient\", \"parallelizable\", \"equalizer\", \"result\", \"extend\", \"challenge\", \"recording\", \"32-channel\", \"neural\", \"issue\", \"small\", \"headstage\", \"counting\", \"architecture\", \"wireless\", \"layer\", \"dynamic\", \"cross\", \"association\", \"802.11-based\", \"randomness\", \"secret\", \"scalable\", \"frequency\", \"phase\", \"network\", \"generation\", \"2-pin\", \"node\", \"input\", \"multi\", \"channel\", \"power\", \"scavenge\", \"sensor\", \"approximation\", \"base\", \"class\", \"performance\", \"genetic\", \"bandwidth\", \"classical\", \"technique\", \"investigation\", \"algorithm\", \"constrain\", \"virtual\", \"oversampling\", \"optimisation\", \"path\", \"allocation\", \"sigma\", \"ratio\", \"kernel\", \"cascade\", \"delta\", \"modulator\", \"regression\", \"sample\", \"multihoming\", \"interpolation\", \"image\", \"802.11\", \"access\", \"topology\", \"double\", \"point\", \"user\", \"cooperative\", \"wlan\", \"hybrid\", \"small\", \"headstage\", \"animal\", \"counting\", \"recording\", \"neural\", \"32-channel\", \"challenge\", \"issue\", \"extend\", \"result\", \"expansion\", \"depth\", \"filter\", \"adaptive\", \"database\", \"subtype\", \"facility\", \"record\", \"sensing\", \"spurious\", \"reducing\", \"tone\", \"spectrum\", \"equalizer\", \"metadata\", \"leboned\", \"feedforward\", \"efficient\", \"parallelizable\", \"network\", \"phase\", \"wireless\", \"cross\", \"decision\", \"layer\", \"power\", \"shading\", \"patch\", \"bicubic\", \"base\", \"energy\", \"bonding\", \"converter\", \"stochastic\", \"triangular\", \"inductor\", \"approximation\", \"transport\", \"class\", \"protocol\", \"spiral\", \"switching\", \"reliable\", \"bicubic\", \"patch\", \"shading\", \"base\", \"power\", \"adaptive\", \"expansion\", \"depth\", \"filter\", \"record\", \"database\", \"subtype\", \"facility\", \"tone\", \"reducing\", \"sensing\", \"spurious\", \"spectrum\", \"result\", \"system\", \"architecture\", \"network\", \"issue\", \"association\", \"cross\", \"dynamic\", \"layer\", \"2-pin\", \"frequency\", \"input\", \"behavioral\", \"implementation\", \"macromodeling\", \"intake\", \"analog\", \"automobile\", \"broadcasting\", \"localize\", \"energy\", \"minimum\", \"platform\", \"processor\", \"heterogenous\", \"reconfigurable\", \"single\", \"modelling\", \"estimation\", \"integrate\", \"system\", \"power\", \"network\", \"base\", \"adaptive\", \"expansion\", \"filter\", \"depth\", \"database\", \"subtype\", \"facility\", \"record\", \"access\", \"secret\", \"efficient\", \"equalizer\", \"feedforward\", \"parallelizable\", \"channel\", \"exploit\", \"architecture\", \"feedforward\", \"efficient\", \"parallelizable\", \"equalizer\", \"metadata\", \"leboned\", \"decision\", \"adaptive\", \"expansion\", \"depth\", \"filter\", \"record\", \"database\", \"subtype\", \"facility\", \"spectrum\", \"spurious\", \"sensing\", \"reducing\", \"tone\", \"result\", \"extend\", \"challenge\", \"issue\", \"neural\", \"recording\", \"32-channel\", \"headstage\", \"counting\", \"uncovering\", \"bicubic\", \"patch\", \"network\", \"wireless\", \"cross\", \"switching\", \"power\", \"reliable\", \"shading\", \"base\", \"localize\", \"energy\"], \"Total\": [1.0, 1.0, 2.0, 0.0, 0.0, 0.0, 0.0, 3.0, 0.0, 0.0, 0.0, 0.0, 1.0, 0.0, 0.0, 0.0, 0.0, 0.0, 2.0, 0.0, 0.0, 0.0, 0.0, 0.0, 0.0, 1.0, 0.0, 0.0, 0.0, 0.0, 0.7809786319283294, 0.7809786361029911, 0.780978639686074, 0.7809786468393967, 0.817864591881292, 0.8178645975987258, 0.8178645731656011, 0.8178645778840816, 0.8514035031715653, 0.8514035074593355, 0.8514034932415792, 0.8514034932415792, 0.8514034932415792, 0.9033266165347769, 0.9033266620524787, 0.9033266624722558, 0.9033266059483764, 0.903326609218646, 0.9033266187473535, 0.9501385696516262, 0.950138540617194, 0.9501386173960957, 0.9501385263994377, 0.9501385263994377, 0.9501385263994377, 0.9501386060365983, 0.9501385682758263, 0.9501385682758263, 0.9501385682758263, 0.9501385682758263, 1.0422362965991616, 1.594595267623628, 1.9581583236169384, 1.6867969691853015, 3.4302696480055093, 2.275045040396149, 1.0422362965906318, 2.1824003499828395, 1.0781947492559965, 1.0781946737603088, 1.0781946825159192, 1.6142050789842433, 1.0781947492559965, 1.0781946737603088, 1.0781947492559965, 1.0781946932428603, 1.078194683892141, 1.0216403848859652, 1.042236255628461, 1.0422362324845011, 1.0422362324845011, 1.0422362324845011, 1.0216403848859652, 1.0216403848859652, 1.0216403848859652, 1.0216403848859652, 1.0216403848859652, 1.0216403848859652, 1.0216403848859652, 1.0216403848859652, 1.0216403848859652, 1.0216403848859652, 1.0216403848859652, 1.0216403848859652, 1.0216403356330108, 1.6142050789842433, 1.9581583236169384, 2.1824003499828395, 3.4302696480055093, 0.7809786468393967, 0.7809786319283294, 0.7809786361029911, 0.780978639686074, 0.8178645975987258, 0.8178645731656011, 0.8178645778840816, 0.817864591881292, 0.8514035031715653, 0.8514034932415792, 0.8514034932415792, 0.8514034932415792, 0.8514035074593355, 0.9033266624722558, 0.9033266187473535, 1.0898075153376956, 1.0898213797294074, 1.0898259204704013, 1.0898367783405176, 1.0898369041080458, 1.0898378820691585, 1.089843195392874, 1.0898507022074257, 0.9501385696516262, 1.0781946772813706, 1.0781946862753102, 1.0422362965906318, 1.0422362965991616, 0.9501386060365983, 0.9501386173960957, 0.8514034932415792, 0.8514034932415792, 0.8514034932415792, 0.8514035031715653, 0.8514035074593355, 1.6867969691853015, 0.7809786468393967, 0.7809786361029911, 0.7809786319283294, 0.780978639686074, 0.817864591881292, 0.8178645731656011, 0.8178645778840816, 0.8178645975987258, 0.9033266624722558, 0.903326609218646, 0.9033266165347769, 0.9033266620524787, 0.9033266059483764, 0.9033266187473535, 0.9501385696516262, 0.9501386060365983, 0.9501385263994377, 0.9501385263994377, 0.9501385263994377, 0.9501386173960957, 0.950138540617194, 0.9501385682758263, 0.9501385682758263, 0.9501385682758263, 1.0781947492559965, 1.0781946889248435, 1.0781946737603088, 1.0781946932428603, 1.0781946737603088, 1.078194683892141, 1.6142050789842433, 1.1769011721214795, 1.0781947492559965, 1.0216403848859652, 1.0781946737603088, 1.0781946825159192, 2.275045040396149, 1.0781947492559965, 1.0216403848859652, 1.0216403848859652, 1.0216403848859652, 1.0216403848859652, 1.0781947492559965, 2.1824003499828395, 1.0216403848859652, 1.0216403848859652, 1.0422362324845011, 3.4302696480055093, 1.0781947492559965, 1.0781947492559965, 1.0781947492559965, 1.0781947492559965, 1.0781946737603088, 1.0781946737603088, 1.0781946737603088, 1.0781946737603088, 1.0781946737603088, 1.0781946737603088, 1.0781946772813706, 1.078194681348595, 1.0781946825159192, 1.078194683892141, 1.0781946862753102, 1.0781946889248435, 1.0781946932428603, 1.078194699016811, 2.275045040396149, 1.6142050789842433, 0.7809786468393967, 0.7809786319283294, 0.780978639686074, 0.7809786361029911, 0.8178645778840816, 0.817864591881292, 0.8178645731656011, 0.8178645975987258, 0.8514035074593355, 0.8514034932415792, 1.0216403848859652, 1.0422362324845011, 1.0422362324845011, 1.042236255628461, 1.0422362324845011, 1.0422362324845011, 3.4302696480055093, 1.0422362324845011, 1.0216403848859652, 1.0216403848859652, 0.8178645731656011, 0.8178645778840816, 0.817864591881292, 0.8178645975987258, 1.9581583236169384, 0.7809786468393967, 0.7809786361029911, 0.7809786319283294, 0.780978639686074, 0.8514035074593355, 0.8514034932415792, 0.8514034932415792, 0.8514034932415792, 0.8514035031715653, 0.9033266624722558, 0.9033266620524787, 0.9033266059483764, 0.903326609218646, 0.9033266165347769, 0.9033266187473535, 0.9501385696516262, 0.950138540617194, 0.9501386060365983, 0.9501385263994377, 0.9501385263994377, 0.9501385263994377, 0.9501386173960957, 0.9501385682758263, 0.9501385682758263, 0.9501385682758263, 1.6867969691853015, 1.6142050789842433, 1.0781946889248435, 1.0781946737603088, 1.0781946932428603, 1.0781946737603088, 1.078194683892141, 1.0781946737603088, 1.0781947492559965, 1.0781947492559965, 1.0216403848859652, 1.0781946825159192, 2.275045040396149, 1.0781947492559965, 1.0216403848859652, 1.0216403848859652, 1.0216403848859652, 1.0216403848859652, 1.0781947492559965, 2.1824003499828395, 1.0216403848859652, 1.0216403848859652, 1.0422362324845011, 3.4302696480055093, 1.0422362324845011, 1.176901211484719, 1.1769012143004205, 1.1769012171392463, 1.176901219018901, 1.176901223346243, 1.1769012270993977, 1.1769012277745117, 1.1769012292328629, 1.1769012294649555, 1.1769012318178782, 1.176901234183436, 1.176901234183436, 1.176901234183436, 1.176901234183436, 1.176901234183436, 1.1769011721214795, 1.1769011721214795, 1.1769011721214795, 1.1769011721214795, 1.1769011721214795, 1.1769011721214795, 1.1769011721214795, 1.1769011721214795, 1.1769011721214795, 1.1769011721214795, 1.1769011721214795, 1.1769011721214795, 1.1769011721214795, 1.1769011721214795, 1.1769011721214795, 1.1769011749371807, 1.1769011721214795, 1.1769011948743007, 0.9501385682758263, 0.9501385682758263, 0.9501385682758263, 0.9501385682758263, 0.9501385263994377, 0.9501385263994377, 0.9501385263994377, 0.9501386060365983, 0.9501386173960957, 0.950138540617194, 0.9501385696516262, 0.7809786319283294, 0.7809786361029911, 0.780978639686074, 0.7809786468393967, 0.8178645975987258, 0.8178645731656011, 0.8178645778840816, 0.817864591881292, 0.8514034932415792, 0.8514034932415792, 0.8514034932415792, 0.8514035031715653, 0.8514035074593355, 0.9033266187473535, 0.9033266620524787, 0.9033266624722558, 0.9033266059483764, 0.903326609218646, 0.9033266165347769, 2.275045040396149, 1.0781946825159192, 1.6142050789842433, 1.0781946932428603, 1.594595267623628, 1.0781946889248435, 2.1824003499828395, 1.0422362965991616, 1.0422362965906318, 1.0422362770596476, 3.4302696480055093, 1.08991575608864, 1.0422362971783645, 1.0422362324845011, 1.0422362324845011, 1.0422362324845011, 1.0422362324845011, 1.0422362324845011, 1.0422362324845011, 1.0422362324845011, 1.0422362324845011, 1.0422362353002024, 1.0422362443366997, 1.042236255628461, 1.0422362770596476, 1.0422362965906318, 1.0422362965991616, 3.4302696480055093, 2.1824003499828395, 0.7809786468393967, 0.7809786319283294, 0.7809786361029911, 0.780978639686074, 0.817864591881292, 0.8178645975987258, 0.8178645731656011, 0.8178645778840816, 0.8514035031715653, 0.8514034932415792, 0.8514034932415792, 0.8514034932415792, 0.8514035074593355, 0.9501385696516262, 1.9581583236169384, 1.6867969691853015, 2.275045040396149, 0.9501386173960957, 1.0781946737603088, 1.0781946932428603, 1.0781946737603088, 1.0781946889248435, 1.0216403848859652, 1.0216403848859652, 1.0216403848859652, 1.089915736636335, 1.089915736636335, 1.089915736636335, 1.089915736636335, 1.0899157394520365, 1.0899157401573971, 1.0899157517349454, 1.0899157541546076, 1.08991575608864, 1.0899157582694494, 1.0898507022074257, 1.089843195392874, 1.0898378820691585, 1.0898369041080458, 1.0898367783405176, 1.0898259204704013, 1.0898213797294074, 1.0898075153376956, 1.9581583236169384, 2.1824003499828395, 2.275045040396149, 3.4302696480055093, 0.7809786468393967, 0.7809786319283294, 0.780978639686074, 0.7809786361029911, 0.8178645975987258, 0.8178645731656011, 0.8178645778840816, 0.817864591881292, 1.1769011721214795, 1.0781947492559965, 0.903326609218646, 0.9033266187473535, 0.9033266059483764, 0.9033266165347769, 1.0781947492559965, 1.0781946737603088, 1.6867969691853015, 0.9033266059483764, 0.903326609218646, 0.9033266165347769, 0.9033266187473535, 0.9033266620524787, 0.9033266624722558, 1.594595267623628, 0.7809786468393967, 0.7809786319283294, 0.7809786361029911, 0.780978639686074, 0.817864591881292, 0.8178645975987258, 0.8178645731656011, 0.8178645778840816, 0.8514035074593355, 0.8514034932415792, 0.8514034932415792, 0.8514034932415792, 0.8514035031715653, 0.9501385696516262, 0.950138540617194, 0.9501386060365983, 0.9501386173960957, 0.9501385263994377, 0.9501385263994377, 0.9501385263994377, 0.9501385682758263, 0.9501385682758263, 1.078194681348595, 1.0422362770596476, 1.0422362965906318, 2.275045040396149, 1.6142050789842433, 1.0781946932428603, 1.0422362443366997, 2.1824003499828395, 1.042236255628461, 1.0422362965991616, 3.4302696480055093, 1.0899157541546076, 1.08991575608864], \"loglift\": [30.0, 29.0, 28.0, 27.0, 26.0, 25.0, 24.0, 23.0, 22.0, 21.0, 20.0, 19.0, 18.0, 17.0, 16.0, 15.0, 14.0, 13.0, 12.0, 11.0, 10.0, 9.0, 8.0, 7.0, 6.0, 5.0, 4.0, 3.0, 2.0, 1.0, 2.4812, 2.4812, 2.4812, 2.4812, 0.0372, 0.0372, 0.0372, 0.0372, -0.003, -0.003, -0.003, -0.003, -0.003, -0.0622, -0.0622, -0.0622, -0.0622, -0.0622, -0.0622, -0.1127, -0.1127, -0.1127, -0.1127, -0.1127, -0.1127, -0.1127, -0.1127, -0.1127, -0.1127, -0.1127, -0.2053, -0.6305, -0.8359, -0.6867, -1.3965, -0.9859, -0.2053, -0.9443, -0.2392, -0.2392, -0.2392, -0.6427, -0.2392, -0.2392, -0.2392, -0.2392, -0.2392, -0.1853, -0.2053, -0.2053, -0.2053, -0.2053, -0.1853, -0.1853, 1.7177, 1.7177, 1.7177, 1.7177, 1.7177, 1.7177, 1.7177, 1.7177, 1.7177, 1.7177, 1.7177, 1.2603, 1.0671, 0.9604, 0.5083, -0.4116, -0.4116, -0.4116, -0.4116, -0.4577, -0.4577, -0.4577, -0.4577, -0.4979, -0.4979, -0.4979, -0.4979, -0.4979, -0.5571, -0.5571, -0.7291, -0.7311, -0.7317, -0.7333, -0.7333, -0.7335, -0.7342, -0.7353, -0.6076, -0.7341, -0.7341, -0.7002, -0.7002, -0.6076, -0.6076, 2.2849, 2.2849, 2.2849, 2.2849, 2.2849, 1.6012, -0.0267, -0.0267, -0.0267, -0.0267, -0.0728, -0.0728, -0.0728, -0.0728, -0.1722, -0.1722, -0.1722, -0.1722, -0.1722, -0.1722, -0.2227, -0.2227, -0.2227, -0.2227, -0.2227, -0.2227, -0.2227, -0.2227, -0.2227, -0.2227, -0.3492, -0.3492, -0.3492, -0.3492, -0.3492, -0.3492, -0.7527, -0.4368, -0.3492, -0.2953, -0.3492, -0.3492, -1.0959, -0.3492, -0.2953, -0.2953, -0.2953, -0.2953, -0.3492, -1.0543, -0.2953, -0.2953, -0.3153, -1.5065, 1.4714, 1.4714, 1.4714, 1.4714, 1.4714, 1.4714, 1.4714, 1.4714, 1.4714, 1.4714, 1.4714, 1.4714, 1.4714, 1.4714, 1.4714, 1.4714, 1.4714, 1.4714, 1.3713, 1.0678, -0.604, -0.604, -0.604, -0.604, -0.6501, -0.6501, -0.6501, -0.6501, -0.6903, -0.6903, -0.8726, -0.8926, -0.8926, -0.8926, -0.8926, -0.8926, -2.0838, -0.8926, -0.8726, -0.8726, 2.3786, 2.3786, 2.3786, 2.3786, 1.5055, 0.0268, 0.0268, 0.0268, 0.0268, -0.0595, -0.0595, -0.0595, -0.0595, -0.0595, -0.1187, -0.1187, -0.1187, -0.1187, -0.1187, -0.1187, -0.1693, -0.1693, -0.1693, -0.1693, -0.1693, -0.1693, -0.1693, -0.1693, -0.1693, -0.1693, -0.7432, -0.6992, -0.2957, -0.2957, -0.2957, -0.2957, -0.2957, -0.2957, -0.2957, -0.2957, -0.2418, -0.2957, -1.0424, -0.2957, -0.2418, -0.2418, -0.2418, -0.2418, -0.2957, -1.0008, -0.2418, -0.2418, -0.2618, -1.453, -0.2618, 1.0407, 1.0407, 1.0407, 1.0407, 1.0407, 1.0407, 1.0407, 1.0407, 1.0407, 1.0407, 1.0407, 1.0407, 1.0407, 1.0407, 1.0407, 1.0407, 1.0407, 1.0407, 1.0407, 1.0407, 1.0407, 1.0407, 1.0407, 1.0407, 1.0407, 1.0407, 1.0407, 1.0407, 1.0407, 1.0407, 1.0407, 1.0407, 1.0407, 1.9437, 1.9437, 1.9437, 1.9437, 1.9437, 1.9437, 1.9437, 1.9437, 1.9437, 1.9437, 1.9437, -0.2581, -0.2581, -0.2581, -0.2581, -0.3043, -0.3043, -0.3043, -0.3043, -0.3445, -0.3445, -0.3445, -0.3445, -0.3445, -0.4037, -0.4037, -0.4037, -0.4037, -0.4037, -0.4037, -1.3273, -0.5806, -0.9842, -0.5806, -0.972, -0.5806, -1.2858, -0.5467, -0.5467, -0.5467, -1.738, -0.5914, 1.5971, 1.5971, 1.5971, 1.5971, 1.5971, 1.5971, 1.5971, 1.5971, 1.5971, 1.5971, 1.5971, 1.5971, 1.5971, 1.5971, 1.5971, 1.0525, 0.8581, -0.5122, -0.5122, -0.5122, -0.5122, -0.5583, -0.5583, -0.5583, -0.5583, -0.5985, -0.5985, -0.5985, -0.5985, -0.5985, -0.7082, -1.4314, -1.2822, -1.5814, -0.7082, -0.8347, -0.8347, -0.8347, -0.8347, -0.7808, -0.7808, -0.7808, 1.4322, 1.4322, 1.4322, 1.4322, 1.4322, 1.4322, 1.4322, 1.4322, 1.4322, 1.4322, 1.4314, 1.4313, 1.4312, 1.4312, 1.4312, 1.431, 1.431, 1.4308, 0.8463, 0.7361, 0.6962, 0.2838, -0.6324, -0.6324, -0.6324, -0.6324, -0.6786, -0.6786, -0.6786, -0.6786, -1.0425, -0.9549, -0.778, -0.778, -0.778, -0.778, -0.9549, -0.9549, 2.1026, 2.0805, 2.0805, 2.0805, 2.0805, 2.0805, 2.0805, 1.5122, -0.1719, -0.1719, -0.1719, -0.1719, -0.218, -0.218, -0.218, -0.218, -0.2582, -0.2582, -0.2582, -0.2582, -0.2582, -0.3679, -0.3679, -0.3679, -0.3679, -0.3679, -0.3679, -0.3679, -0.3679, -0.3679, -0.4944, -0.4604, -0.4604, -1.2411, -0.8979, -0.4944, -0.4604, -1.1995, -0.4604, -0.4604, -1.6517, -0.5052, -0.5052], \"logprob\": [30.0, 29.0, 28.0, 27.0, 26.0, 25.0, 24.0, 23.0, 22.0, 21.0, 20.0, 19.0, 18.0, 17.0, 16.0, 15.0, 14.0, 13.0, 12.0, 11.0, 10.0, 9.0, 8.0, 7.0, 6.0, 5.0, 4.0, 3.0, 2.0, 1.0, -2.7495999336242676, -2.7495999336242676, -2.7495999336242676, -2.7495999336242676, -5.147500038146973, -5.147500038146973, -5.147500038146973, -5.147500038146973, -5.147500038146973, -5.147500038146973, -5.147500038146973, -5.147500038146973, -5.147500038146973, -5.147500038146973, -5.147500038146973, -5.147500038146973, -5.147500038146973, -5.147500038146973, -5.147500038146973, -5.147500038146973, -5.147500038146973, -5.147500038146973, -5.147500038146973, -5.147500038146973, -5.147500038146973, -5.147500038146973, -5.147500038146973, -5.147500038146973, -5.147500038146973, -5.147500038146973, -5.147500038146973, -5.147500038146973, -5.147500038146973, -5.147500038146973, -5.147500038146973, -5.147500038146973, -5.147500038146973, -5.147500038146973, -5.147500038146973, -5.147500038146973, -5.147500038146973, -5.147500038146973, -5.147500038146973, -5.147500038146973, -5.147500038146973, -5.147500038146973, -5.147500038146973, -5.147500038146973, -5.147500038146973, -5.147500038146973, -5.147500038146973, -5.147500038146973, -5.147500038146973, -5.147500038146973, -3.244499921798706, -3.244499921798706, -3.244499921798706, -3.244499921798706, -3.244499921798706, -3.244499921798706, -3.244499921798706, -3.244499921798706, -3.244499921798706, -3.244499921798706, -3.244499921798706, -3.244499921798706, -3.244499921798706, -3.2427000999450684, -3.2427000999450684, -5.642399787902832, -5.642399787902832, -5.642399787902832, -5.642399787902832, -5.642399787902832, -5.642399787902832, -5.642399787902832, -5.642399787902832, -5.642399787902832, -5.642399787902832, -5.642399787902832, -5.642399787902832, -5.642399787902832, -5.642399787902832, -5.642399787902832, -5.626699924468994, -5.628600120544434, -5.629300117492676, -5.630899906158447, -5.630899906158447, -5.63100004196167, -5.631800174713135, -5.632900238037109, -5.642399787902832, -5.642399787902832, -5.642399787902832, -5.642399787902832, -5.642399787902832, -5.642399787902832, -5.642399787902832, -2.859600067138672, -2.859600067138672, -2.859600067138672, -2.859600067138672, -2.859600067138672, -2.859600067138672, -5.257500171661377, -5.257500171661377, -5.257500171661377, -5.257500171661377, -5.257500171661377, -5.257500171661377, -5.257500171661377, -5.257500171661377, -5.257500171661377, -5.257500171661377, -5.257500171661377, -5.257500171661377, -5.257500171661377, -5.257500171661377, -5.257500171661377, -5.257500171661377, -5.257500171661377, -5.257500171661377, -5.257500171661377, -5.257500171661377, -5.257500171661377, -5.257500171661377, -5.257500171661377, -5.257500171661377, -5.257500171661377, -5.257500171661377, -5.257500171661377, -5.257500171661377, -5.257500171661377, -5.257500171661377, -5.257500171661377, -5.257500171661377, -5.257500171661377, -5.257500171661377, -5.257500171661377, -5.257500171661377, -5.257500171661377, -5.257500171661377, -5.257500171661377, -5.257500171661377, -5.257500171661377, -5.257500171661377, -5.257500171661377, -5.257500171661377, -5.257500171661377, -5.257500171661377, -5.257500171661377, -5.257500171661377, -3.4368999004364014, -3.4368999004364014, -3.4368999004364014, -3.4368999004364014, -3.4368999004364014, -3.4368999004364014, -3.4368999004364014, -3.4368999004364014, -3.4368999004364014, -3.4368999004364014, -3.4368999004364014, -3.4368999004364014, -3.4368999004364014, -3.4368999004364014, -3.4368999004364014, -3.4368999004364014, -3.4368999004364014, -3.4368999004364014, -2.790299892425537, -3.4368999004364014, -5.834799766540527, -5.834799766540527, -5.834799766540527, -5.834799766540527, -5.834799766540527, -5.834799766540527, -5.834799766540527, -5.834799766540527, -5.834799766540527, -5.834799766540527, -5.834799766540527, -5.834799766540527, -5.834799766540527, -5.834799766540527, -5.834799766540527, -5.834799766540527, -5.834799766540527, -5.834799766540527, -5.834799766540527, -5.834799766540527, -2.8060998916625977, -2.8060998916625977, -2.8060998916625977, -2.8060998916625977, -2.8060998916625977, -5.203999996185303, -5.203999996185303, -5.203999996185303, -5.203999996185303, -5.203999996185303, -5.203999996185303, -5.203999996185303, -5.203999996185303, -5.203999996185303, -5.203999996185303, -5.203999996185303, -5.203999996185303, -5.203999996185303, -5.203999996185303, -5.203999996185303, -5.203999996185303, -5.203999996185303, -5.203999996185303, -5.203999996185303, -5.203999996185303, -5.203999996185303, -5.203999996185303, -5.203999996185303, -5.203999996185303, -5.203999996185303, -5.203999996185303, -5.203999996185303, -5.203999996185303, -5.203999996185303, -5.203999996185303, -5.203999996185303, -5.203999996185303, -5.203999996185303, -5.203999996185303, -5.203999996185303, -5.203999996185303, -5.203999996185303, -5.203999996185303, -5.203999996185303, -5.203999996185303, -5.203999996185303, -5.203999996185303, -5.203999996185303, -5.203999996185303, -5.203999996185303, -5.203999996185303, -5.203999996185303, -5.203999996185303, -5.203999996185303, -5.203999996185303, -3.7799999713897705, -3.7799999713897705, -3.7799999713897705, -3.7799999713897705, -3.7799999713897705, -3.7799999713897705, -3.7799999713897705, -3.7799999713897705, -3.7799999713897705, -3.7799999713897705, -3.7799999713897705, -3.7799999713897705, -3.7799999713897705, -3.7799999713897705, -3.7799999713897705, -3.7799999713897705, -3.7799999713897705, -3.7799999713897705, -3.7799999713897705, -3.7799999713897705, -3.7799999713897705, -3.7799999713897705, -3.7799999713897705, -3.7799999713897705, -3.7799999713897705, -3.7799999713897705, -3.7799999713897705, -3.7799999713897705, -3.7799999713897705, -3.7799999713897705, -3.7799999713897705, -3.7799999713897705, -3.7799999713897705, -3.0910000801086426, -3.0910000801086426, -3.0910000801086426, -3.0910000801086426, -3.0910000801086426, -3.0910000801086426, -3.0910000801086426, -3.0910000801086426, -3.0910000801086426, -3.0910000801086426, -3.0910000801086426, -5.488900184631348, -5.488900184631348, -5.488900184631348, -5.488900184631348, -5.488900184631348, -5.488900184631348, -5.488900184631348, -5.488900184631348, -5.488900184631348, -5.488900184631348, -5.488900184631348, -5.488900184631348, -5.488900184631348, -5.488900184631348, -5.488900184631348, -5.488900184631348, -5.488900184631348, -5.488900184631348, -5.488900184631348, -5.488900184631348, -5.488900184631348, -5.488900184631348, -5.488900184631348, -5.488900184631348, -5.488900184631348, -5.488900184631348, -5.488900184631348, -5.488900184631348, -5.488900184631348, -5.488900184631348, -5.488900184631348, -3.345099925994873, -3.345099925994873, -3.345099925994873, -3.345099925994873, -3.345099925994873, -3.345099925994873, -3.345099925994873, -3.345099925994873, -3.345099925994873, -3.345099925994873, -3.345099925994873, -3.345099925994873, -3.345099925994873, -3.345099925994873, -3.345099925994873, -2.698499917984009, -3.345099925994873, -5.743000030517578, -5.743000030517578, -5.743000030517578, -5.743000030517578, -5.743000030517578, -5.743000030517578, -5.743000030517578, -5.743000030517578, -5.743000030517578, -5.743000030517578, -5.743000030517578, -5.743000030517578, -5.743000030517578, -5.743000030517578, -5.743000030517578, -5.743000030517578, -5.743000030517578, -5.743000030517578, -5.743000030517578, -5.743000030517578, -5.743000030517578, -5.743000030517578, -5.743000030517578, -5.743000030517578, -5.743000030517578, -3.4653000831604004, -3.4653000831604004, -3.4653000831604004, -3.4653000831604004, -3.4653000831604004, -3.4653000831604004, -3.4653000831604004, -3.4653000831604004, -3.4653000831604004, -3.4653000831604004, -3.466200113296509, -3.4663000106811523, -3.466399908065796, -3.466399908065796, -3.466399908065796, -3.4665000438690186, -3.466599941253662, -3.4667999744415283, -3.465399980545044, -3.467099905014038, -3.465399980545044, -3.4672000408172607, -5.8632001876831055, -5.8632001876831055, -5.8632001876831055, -5.8632001876831055, -5.8632001876831055, -5.8632001876831055, -5.8632001876831055, -5.8632001876831055, -5.8632001876831055, -5.8632001876831055, -5.8632001876831055, -5.8632001876831055, -5.8632001876831055, -5.8632001876831055, -5.8632001876831055, -5.8632001876831055, -2.3582000732421875, -3.0048000812530518, -3.0048000812530518, -3.0048000812530518, -3.0048000812530518, -3.0048000812530518, -3.0048000812530518, -3.0048000812530518, -5.402699947357178, -5.402699947357178, -5.402699947357178, -5.402699947357178, -5.402699947357178, -5.402699947357178, -5.402699947357178, -5.402699947357178, -5.402699947357178, -5.402699947357178, -5.402699947357178, -5.402699947357178, -5.402699947357178, -5.402699947357178, -5.402699947357178, -5.402699947357178, -5.402699947357178, -5.402699947357178, -5.402699947357178, -5.402699947357178, -5.402699947357178, -5.402699947357178, -5.402699947357178, -5.402699947357178, -5.402699947357178, -5.402699947357178, -5.402699947357178, -5.402699947357178, -5.402699947357178, -5.402699947357178, -5.402699947357178, -5.402699947357178, -5.402699947357178, -5.402699947357178, -5.402699947357178]}, \"token.table\": {\"Topic\": [2, 7, 6, 4, 6, 6, 6, 9, 7, 8, 10, 4, 9, 6, 2, 6, 8, 9, 9, 8, 8, 9, 6, 7, 4, 4, 8, 6, 6, 8, 6, 7, 4, 6, 6, 2, 6, 4, 9, 9, 4, 7, 2, 4, 6, 4, 7, 9, 6, 6, 9, 8, 2, 9, 9, 2, 6, 6, 7, 6, 4, 2, 9, 4, 9, 9, 9, 6, 2, 6, 4, 9, 7, 2, 6, 6, 8, 6, 6, 4, 9, 6, 2, 8, 9, 9, 8, 4, 6, 9, 7, 4, 6, 8, 7, 6, 4, 2, 4, 2, 8, 2, 6, 9, 7, 8, 8, 8, 2, 9, 6, 6, 8, 8, 4, 6, 6, 2, 4, 4, 6], \"Freq\": [0.9788180017096909, 1.0524781094705347, 0.8496890169608737, 0.9274762850713857, 0.8496890169608737, 0.8496889767809767, 0.8496889721539169, 0.917502118560796, 1.0524780630836352, 0.9594753749984131, 0.5928395759941314, 0.9274762937869121, 0.9175021179670162, 0.8496889844593337, 0.2915222716037611, 0.2915222716037611, 0.2915222716037611, 0.2915222716037611, 0.9175021209310821, 0.9594753339628472, 0.9594753154416994, 0.9175021082209189, 0.8496890169608737, 1.0524780212556495, 0.9274762288445993, 0.9274762907580515, 0.9594753749984131, 0.8496889831022768, 0.8496889757280889, 0.9594753749984131, 0.849689014928018, 1.0524780630836352, 0.9274762770277825, 0.6271183793805349, 0.8496890169608737, 0.9788180017096909, 0.8496890169608737, 0.9274762937869121, 0.9175021045559346, 0.9175815584094072, 0.9274762937869121, 1.0524780937213818, 0.9788180017096909, 0.9274762288445993, 0.8496889865088847, 0.9274762720609594, 1.0524780630836352, 0.9175676643772072, 0.8496890005339873, 0.8496890169608737, 0.9175021209310821, 0.9594753749984131, 0.9788180017096909, 0.9175021209310821, 0.9175932317645403, 0.9788180017096909, 0.8496890169608737, 0.8496889772683897, 1.0524780086726209, 0.8496890169608737, 0.9274762807421933, 0.9788180017096909, 0.9175021061840227, 0.9274762937869121, 0.9175021209310821, 0.9175021027201072, 0.9175777353215918, 0.8496890169608737, 0.9788180017096909, 0.8496890169608737, 0.4395517373255485, 0.4395517373255485, 1.0524781094705347, 0.9788180017096909, 0.8496889721539169, 0.8496889738617819, 0.9594753159827619, 0.8496889721539169, 0.8496889885417406, 0.9274762862552286, 0.9175568708397961, 0.8496890169608737, 0.45821107021352114, 0.45821107021352114, 0.45821107021352114, 0.9175631909501561, 0.9594753749984131, 0.9274762937869121, 0.8496889721539169, 0.9175684877531552, 1.0524781094705347, 0.9274762937869121, 0.8496890169608737, 0.9594753536922462, 1.0524780615596478, 0.8496890169608737, 0.9274762288445993, 0.9788180017096909, 0.9274762288445993, 0.9788180017096909, 0.9594753159749094, 0.9788180488981942, 0.8496889721539169, 0.9175685936408651, 1.0524780630836352, 0.9594753724062983, 0.9594753749984131, 0.9594753640873622, 0.5106839359919007, 0.5106839359919007, 0.8496889799780598, 0.8496890169608737, 0.9594753749984131, 0.9594753749984131, 0.9274762872593753, 0.8496890169608737, 0.8496889755605247, 0.6194999712361587, 0.6194999712361587, 0.9274762830213543, 0.8496890169608737], \"Term\": [\"2-pin\", \"32-channel\", \"802.11\", \"802.11-based\", \"access\", \"algorithm\", \"allocation\", \"analog\", \"animal\", \"approximation\", \"architecture\", \"association\", \"automobile\", \"bandwidth\", \"base\", \"base\", \"base\", \"base\", \"behavioral\", \"bicubic\", \"bonding\", \"broadcasting\", \"cascade\", \"challenge\", \"channel\", \"characterize\", \"class\", \"classical\", \"constrain\", \"converter\", \"cooperative\", \"counting\", \"cross\", \"decision\", \"delta\", \"distance\", \"double\", \"dynamic\", \"energy\", \"estimation\", \"exploit\", \"extend\", \"frequency\", \"generation\", \"genetic\", \"geotagged\", \"headstage\", \"heterogenous\", \"hybrid\", \"image\", \"implementation\", \"inductor\", \"input\", \"intake\", \"integrate\", \"interactive\", \"interpolation\", \"investigation\", \"issue\", \"kernel\", \"layer\", \"learning\", \"localize\", \"locally\", \"macromodeling\", \"minimum\", \"modelling\", \"modulator\", \"multi\", \"multihoming\", \"network\", \"network\", \"neural\", \"node\", \"optimisation\", \"oversampling\", \"patch\", \"path\", \"performance\", \"phase\", \"platform\", \"point\", \"power\", \"power\", \"power\", \"processor\", \"protocol\", \"randomness\", \"ratio\", \"reconfigurable\", \"recording\", \"region\", \"regression\", \"reliable\", \"result\", \"sample\", \"scalable\", \"scavenge\", \"secret\", \"sensor\", \"shading\", \"sharing\", \"sigma\", \"single\", \"small\", \"spiral\", \"stochastic\", \"switching\", \"system\", \"system\", \"technique\", \"topology\", \"transport\", \"triangular\", \"uncovering\", \"user\", \"virtual\", \"wireless\", \"wireless\", \"within\", \"wlan\"]}, \"R\": 30, \"lambda.step\": 0.01, \"plot.opts\": {\"xlab\": \"PC1\", \"ylab\": \"PC2\"}, \"topic.order\": [1, 2, 3, 4, 5, 6, 7, 8, 9, 10]};\n",
       "\n",
       "function LDAvis_load_lib(url, callback){\n",
       "  var s = document.createElement('script');\n",
       "  s.src = url;\n",
       "  s.async = true;\n",
       "  s.onreadystatechange = s.onload = callback;\n",
       "  s.onerror = function(){console.warn(\"failed to load library \" + url);};\n",
       "  document.getElementsByTagName(\"head\")[0].appendChild(s);\n",
       "}\n",
       "\n",
       "if(typeof(LDAvis) !== \"undefined\"){\n",
       "   // already loaded: just create the visualization\n",
       "   !function(LDAvis){\n",
       "       new LDAvis(\"#\" + \"ldavis_el1118416324153540963967490062\", ldavis_el1118416324153540963967490062_data);\n",
       "   }(LDAvis);\n",
       "}else if(typeof define === \"function\" && define.amd){\n",
       "   // require.js is available: use it to load d3/LDAvis\n",
       "   require.config({paths: {d3: \"https://cdnjs.cloudflare.com/ajax/libs/d3/3.5.5/d3.min\"}});\n",
       "   require([\"d3\"], function(d3){\n",
       "      window.d3 = d3;\n",
       "      LDAvis_load_lib(\"https://cdn.rawgit.com/bmabey/pyLDAvis/files/ldavis.v1.0.0.js\", function(){\n",
       "        new LDAvis(\"#\" + \"ldavis_el1118416324153540963967490062\", ldavis_el1118416324153540963967490062_data);\n",
       "      });\n",
       "    });\n",
       "}else{\n",
       "    // require.js not available: dynamically load d3 & LDAvis\n",
       "    LDAvis_load_lib(\"https://cdnjs.cloudflare.com/ajax/libs/d3/3.5.5/d3.min.js\", function(){\n",
       "         LDAvis_load_lib(\"https://cdn.rawgit.com/bmabey/pyLDAvis/files/ldavis.v1.0.0.js\", function(){\n",
       "                 new LDAvis(\"#\" + \"ldavis_el1118416324153540963967490062\", ldavis_el1118416324153540963967490062_data);\n",
       "            })\n",
       "         });\n",
       "}\n",
       "</script>"
      ],
      "text/plain": [
       "<IPython.core.display.HTML object>"
      ]
     },
     "execution_count": 59,
     "metadata": {},
     "output_type": "execute_result"
    }
   ],
   "source": [
    "lda10 = gensim.models.ldamodel.LdaModel.load('model10.gensim')\n",
    "lda_display10 = pyLDAvis.gensim.prepare(lda10, corpus, dictionary, sort_topics=False)\n",
    "pyLDAvis.display(lda_display10)"
   ]
  },
  {
   "cell_type": "markdown",
   "metadata": {},
   "source": [
    "Topic Modelling in Python with NLTK and Gensim    \n",
    "https://towardsdatascience.com/topic-modelling-in-python-with-nltk-and-gensim-4ef03213cd21"
   ]
  },
  {
   "cell_type": "code",
   "execution_count": null,
   "metadata": {
    "collapsed": true
   },
   "outputs": [],
   "source": []
  }
 ],
 "metadata": {
  "kernelspec": {
   "display_name": "Python 3",
   "language": "python",
   "name": "python3"
  },
  "language_info": {
   "codemirror_mode": {
    "name": "ipython",
    "version": 3
   },
   "file_extension": ".py",
   "mimetype": "text/x-python",
   "name": "python",
   "nbconvert_exporter": "python",
   "pygments_lexer": "ipython3",
   "version": "3.6.3"
  }
 },
 "nbformat": 4,
 "nbformat_minor": 2
}
